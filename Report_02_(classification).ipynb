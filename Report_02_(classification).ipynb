{
  "nbformat": 4,
  "nbformat_minor": 0,
  "metadata": {
    "colab": {
      "name": "Report-02_(classification).ipynb",
      "provenance": [],
      "collapsed_sections": [],
      "authorship_tag": "ABX9TyPXJrcmgTlDujZFwqbeSPFD",
      "include_colab_link": true
    },
    "kernelspec": {
      "name": "python3",
      "display_name": "Python 3"
    },
    "language_info": {
      "name": "python"
    }
  },
  "cells": [
    {
      "cell_type": "markdown",
      "metadata": {
        "id": "view-in-github",
        "colab_type": "text"
      },
      "source": [
        "<a href=\"https://colab.research.google.com/github/sanjida-tasnim/MACHINE-LEARNING/blob/main/Report_02_(classification).ipynb\" target=\"_parent\"><img src=\"https://colab.research.google.com/assets/colab-badge.svg\" alt=\"Open In Colab\"/></a>"
      ]
    },
    {
      "cell_type": "markdown",
      "source": [
        "**Course no:** ETE 456\n",
        "\n",
        "**course name:** Neural and Fuzzy systems in communications sessional\n",
        "\n",
        "**Submitted to:** Eftekhar Hossain\n",
        "\n",
        "**Submitted by:**\n",
        "\n",
        "**name:** Mahabub-e-sanjida tasnim\n",
        "\n",
        "**ID:** 1608009\n",
        "\n",
        "**Level:** 4\n",
        "\n",
        "**Term:** 2\n"
      ],
      "metadata": {
        "id": "epgxMEMxPOFR"
      }
    },
    {
      "cell_type": "markdown",
      "source": [
        "# **Stroke Prediction Dataset**\n",
        "\n",
        "Context According to the World Health Organization (WHO) stroke is the 2nd leading cause of death globally, responsible for approximately 11% of total deaths. This dataset is used to predict whether a patient is likely to get stroke based on the input parameters like gender, age, various diseases, and smoking status. Each row in the data provides relavant information about the patient.\n",
        "\n",
        "**Attribute Information**\n",
        "\n",
        "id: unique identifier\n",
        "\n",
        "gender: \"Male\", \"Female\" or \"Other\"\n",
        "\n",
        "age: age of the patient\n",
        "\n",
        "hypertension: 0 if the patient doesn't have hypertension, 1 if the patient has hypertension\n",
        "\n",
        "heart_disease: 0 if the patient doesn't have any heart diseases, 1 if the patient has a heart disease\n",
        "\n",
        "ever_married: \"No\" or \"Yes\"\n",
        "\n",
        "work_type: \"children\", \"Govt_jov\", \"Never_worked\", \"Private\" or \"Self-employed\"\n",
        "\n",
        "Residence_type: \"Rural\" or \"Urban\"\n",
        "\n",
        "avg_glucose_level: average glucose level in blood\n",
        "\n",
        "bmi: body mass index\n",
        "\n",
        "smoking_status: \"formerly smoked\", \"never smoked\", \"smokes\" or \"Unknown\"*\n",
        "\n",
        "stroke: 1 if the patient had a stroke or 0 if not\n",
        "\n",
        "*Note: \"Unknown\" in smoking_status means that the information is unavailable for this patient"
      ],
      "metadata": {
        "id": "AaaVsC-lMO1n"
      }
    },
    {
      "cell_type": "markdown",
      "source": [
        "# **Task**\n",
        "\n",
        "To accurately predict whether a patient is likely to get stroke or not."
      ],
      "metadata": {
        "id": "vK_oL17FM12M"
      }
    },
    {
      "cell_type": "markdown",
      "source": [
        "**Objectives:**\n",
        "\n",
        "1. To apply various classification algorithms on Stroke Prediction dataset.\n",
        "2. To observe the accuracy of each algorithms."
      ],
      "metadata": {
        "id": "6H9jQfIT3Zqb"
      }
    },
    {
      "cell_type": "code",
      "source": [
        "import warnings\n",
        "warnings.filterwarnings(\"ignore\")"
      ],
      "metadata": {
        "id": "P8P4GR7qQ4OE"
      },
      "execution_count": null,
      "outputs": []
    },
    {
      "cell_type": "markdown",
      "source": [
        "**To Import Libraries:**"
      ],
      "metadata": {
        "id": "yY-C3OUjRKKY"
      }
    },
    {
      "cell_type": "code",
      "source": [
        "import numpy as np        \n",
        "import pandas as pd     \n",
        "import matplotlib.pyplot as plt"
      ],
      "metadata": {
        "id": "zjiRUMiwQ5Qa"
      },
      "execution_count": null,
      "outputs": []
    },
    {
      "cell_type": "markdown",
      "source": [
        "**To Download The Data**"
      ],
      "metadata": {
        "id": "3dX9XLnNRVZp"
      }
    },
    {
      "cell_type": "code",
      "source": [
        "# Download the data\n",
        "!wget -O stroke-data.csv https://www.dropbox.com/s/zgburk3yces5tee/healthcare-dataset-stroke-data.csv?dl=0"
      ],
      "metadata": {
        "colab": {
          "base_uri": "https://localhost:8080/"
        },
        "id": "dPXubXPwNMTi",
        "outputId": "5c9124d9-2402-4bb1-c216-3020e8ecec0a"
      },
      "execution_count": null,
      "outputs": [
        {
          "output_type": "stream",
          "name": "stdout",
          "text": [
            "--2021-12-20 03:57:30--  https://www.dropbox.com/s/zgburk3yces5tee/healthcare-dataset-stroke-data.csv?dl=0\n",
            "Resolving www.dropbox.com (www.dropbox.com)... 162.125.65.18, 2620:100:6027:18::a27d:4812\n",
            "Connecting to www.dropbox.com (www.dropbox.com)|162.125.65.18|:443... connected.\n",
            "HTTP request sent, awaiting response... 301 Moved Permanently\n",
            "Location: /s/raw/zgburk3yces5tee/healthcare-dataset-stroke-data.csv [following]\n",
            "--2021-12-20 03:57:31--  https://www.dropbox.com/s/raw/zgburk3yces5tee/healthcare-dataset-stroke-data.csv\n",
            "Reusing existing connection to www.dropbox.com:443.\n",
            "HTTP request sent, awaiting response... 302 Found\n",
            "Location: https://ucb7ea100f192e9b09c511d28c02.dl.dropboxusercontent.com/cd/0/inline/BcJr_Ac4ASU8JEcWMrP3ytePtI07vjMlOs1yt32VS_r0m9cMiMARaMR1ZMPJ2uzhU3jCQQiS_tSgAsgn4JOAF00ZO2CnFckLtLMAKT7NH3A3_gcvliIQmXd9TfzBxQ5CJKh5ovUGuJ4-fFZ7IvYcY8j4/file# [following]\n",
            "--2021-12-20 03:57:31--  https://ucb7ea100f192e9b09c511d28c02.dl.dropboxusercontent.com/cd/0/inline/BcJr_Ac4ASU8JEcWMrP3ytePtI07vjMlOs1yt32VS_r0m9cMiMARaMR1ZMPJ2uzhU3jCQQiS_tSgAsgn4JOAF00ZO2CnFckLtLMAKT7NH3A3_gcvliIQmXd9TfzBxQ5CJKh5ovUGuJ4-fFZ7IvYcY8j4/file\n",
            "Resolving ucb7ea100f192e9b09c511d28c02.dl.dropboxusercontent.com (ucb7ea100f192e9b09c511d28c02.dl.dropboxusercontent.com)... 162.125.65.15, 2620:100:6027:15::a27d:480f\n",
            "Connecting to ucb7ea100f192e9b09c511d28c02.dl.dropboxusercontent.com (ucb7ea100f192e9b09c511d28c02.dl.dropboxusercontent.com)|162.125.65.15|:443... connected.\n",
            "HTTP request sent, awaiting response... 200 OK\n",
            "Length: 316971 (310K) [text/plain]\n",
            "Saving to: ‘stroke-data.csv’\n",
            "\n",
            "stroke-data.csv     100%[===================>] 309.54K   660KB/s    in 0.5s    \n",
            "\n",
            "2021-12-20 03:57:32 (660 KB/s) - ‘stroke-data.csv’ saved [316971/316971]\n",
            "\n"
          ]
        }
      ]
    },
    {
      "cell_type": "markdown",
      "source": [
        "**To Import the Data**"
      ],
      "metadata": {
        "id": "QUwv32c5Ra6A"
      }
    },
    {
      "cell_type": "code",
      "source": [
        "#importing the dataset\n",
        "\n",
        "dataset_stroke_pred = pd.read_csv('stroke-data.csv')\n",
        "dataset_stroke_pred"
      ],
      "metadata": {
        "colab": {
          "base_uri": "https://localhost:8080/"
        },
        "id": "-irYSwZUQnaH",
        "outputId": "66904ac3-5fde-4738-a76b-06e2ff8eed03"
      },
      "execution_count": null,
      "outputs": [
        {
          "output_type": "execute_result",
          "data": {
            "text/html": [
              "\n",
              "  <div id=\"df-6c47d230-bae5-42c9-bf08-f34771f7b355\">\n",
              "    <div class=\"colab-df-container\">\n",
              "      <div>\n",
              "<style scoped>\n",
              "    .dataframe tbody tr th:only-of-type {\n",
              "        vertical-align: middle;\n",
              "    }\n",
              "\n",
              "    .dataframe tbody tr th {\n",
              "        vertical-align: top;\n",
              "    }\n",
              "\n",
              "    .dataframe thead th {\n",
              "        text-align: right;\n",
              "    }\n",
              "</style>\n",
              "<table border=\"1\" class=\"dataframe\">\n",
              "  <thead>\n",
              "    <tr style=\"text-align: right;\">\n",
              "      <th></th>\n",
              "      <th>id</th>\n",
              "      <th>gender</th>\n",
              "      <th>age</th>\n",
              "      <th>hypertension</th>\n",
              "      <th>heart_disease</th>\n",
              "      <th>ever_married</th>\n",
              "      <th>work_type</th>\n",
              "      <th>Residence_type</th>\n",
              "      <th>avg_glucose_level</th>\n",
              "      <th>bmi</th>\n",
              "      <th>smoking_status</th>\n",
              "      <th>stroke</th>\n",
              "    </tr>\n",
              "  </thead>\n",
              "  <tbody>\n",
              "    <tr>\n",
              "      <th>0</th>\n",
              "      <td>9046</td>\n",
              "      <td>Male</td>\n",
              "      <td>67.0</td>\n",
              "      <td>0</td>\n",
              "      <td>1</td>\n",
              "      <td>Yes</td>\n",
              "      <td>Private</td>\n",
              "      <td>Urban</td>\n",
              "      <td>228.69</td>\n",
              "      <td>36.6</td>\n",
              "      <td>formerly smoked</td>\n",
              "      <td>1</td>\n",
              "    </tr>\n",
              "    <tr>\n",
              "      <th>1</th>\n",
              "      <td>51676</td>\n",
              "      <td>Female</td>\n",
              "      <td>61.0</td>\n",
              "      <td>0</td>\n",
              "      <td>0</td>\n",
              "      <td>Yes</td>\n",
              "      <td>Self-employed</td>\n",
              "      <td>Rural</td>\n",
              "      <td>202.21</td>\n",
              "      <td>NaN</td>\n",
              "      <td>never smoked</td>\n",
              "      <td>1</td>\n",
              "    </tr>\n",
              "    <tr>\n",
              "      <th>2</th>\n",
              "      <td>31112</td>\n",
              "      <td>Male</td>\n",
              "      <td>80.0</td>\n",
              "      <td>0</td>\n",
              "      <td>1</td>\n",
              "      <td>Yes</td>\n",
              "      <td>Private</td>\n",
              "      <td>Rural</td>\n",
              "      <td>105.92</td>\n",
              "      <td>32.5</td>\n",
              "      <td>never smoked</td>\n",
              "      <td>1</td>\n",
              "    </tr>\n",
              "    <tr>\n",
              "      <th>3</th>\n",
              "      <td>60182</td>\n",
              "      <td>Female</td>\n",
              "      <td>49.0</td>\n",
              "      <td>0</td>\n",
              "      <td>0</td>\n",
              "      <td>Yes</td>\n",
              "      <td>Private</td>\n",
              "      <td>Urban</td>\n",
              "      <td>171.23</td>\n",
              "      <td>34.4</td>\n",
              "      <td>smokes</td>\n",
              "      <td>1</td>\n",
              "    </tr>\n",
              "    <tr>\n",
              "      <th>4</th>\n",
              "      <td>1665</td>\n",
              "      <td>Female</td>\n",
              "      <td>79.0</td>\n",
              "      <td>1</td>\n",
              "      <td>0</td>\n",
              "      <td>Yes</td>\n",
              "      <td>Self-employed</td>\n",
              "      <td>Rural</td>\n",
              "      <td>174.12</td>\n",
              "      <td>24.0</td>\n",
              "      <td>never smoked</td>\n",
              "      <td>1</td>\n",
              "    </tr>\n",
              "    <tr>\n",
              "      <th>...</th>\n",
              "      <td>...</td>\n",
              "      <td>...</td>\n",
              "      <td>...</td>\n",
              "      <td>...</td>\n",
              "      <td>...</td>\n",
              "      <td>...</td>\n",
              "      <td>...</td>\n",
              "      <td>...</td>\n",
              "      <td>...</td>\n",
              "      <td>...</td>\n",
              "      <td>...</td>\n",
              "      <td>...</td>\n",
              "    </tr>\n",
              "    <tr>\n",
              "      <th>5105</th>\n",
              "      <td>18234</td>\n",
              "      <td>Female</td>\n",
              "      <td>80.0</td>\n",
              "      <td>1</td>\n",
              "      <td>0</td>\n",
              "      <td>Yes</td>\n",
              "      <td>Private</td>\n",
              "      <td>Urban</td>\n",
              "      <td>83.75</td>\n",
              "      <td>NaN</td>\n",
              "      <td>never smoked</td>\n",
              "      <td>0</td>\n",
              "    </tr>\n",
              "    <tr>\n",
              "      <th>5106</th>\n",
              "      <td>44873</td>\n",
              "      <td>Female</td>\n",
              "      <td>81.0</td>\n",
              "      <td>0</td>\n",
              "      <td>0</td>\n",
              "      <td>Yes</td>\n",
              "      <td>Self-employed</td>\n",
              "      <td>Urban</td>\n",
              "      <td>125.20</td>\n",
              "      <td>40.0</td>\n",
              "      <td>never smoked</td>\n",
              "      <td>0</td>\n",
              "    </tr>\n",
              "    <tr>\n",
              "      <th>5107</th>\n",
              "      <td>19723</td>\n",
              "      <td>Female</td>\n",
              "      <td>35.0</td>\n",
              "      <td>0</td>\n",
              "      <td>0</td>\n",
              "      <td>Yes</td>\n",
              "      <td>Self-employed</td>\n",
              "      <td>Rural</td>\n",
              "      <td>82.99</td>\n",
              "      <td>30.6</td>\n",
              "      <td>never smoked</td>\n",
              "      <td>0</td>\n",
              "    </tr>\n",
              "    <tr>\n",
              "      <th>5108</th>\n",
              "      <td>37544</td>\n",
              "      <td>Male</td>\n",
              "      <td>51.0</td>\n",
              "      <td>0</td>\n",
              "      <td>0</td>\n",
              "      <td>Yes</td>\n",
              "      <td>Private</td>\n",
              "      <td>Rural</td>\n",
              "      <td>166.29</td>\n",
              "      <td>25.6</td>\n",
              "      <td>formerly smoked</td>\n",
              "      <td>0</td>\n",
              "    </tr>\n",
              "    <tr>\n",
              "      <th>5109</th>\n",
              "      <td>44679</td>\n",
              "      <td>Female</td>\n",
              "      <td>44.0</td>\n",
              "      <td>0</td>\n",
              "      <td>0</td>\n",
              "      <td>Yes</td>\n",
              "      <td>Govt_job</td>\n",
              "      <td>Urban</td>\n",
              "      <td>85.28</td>\n",
              "      <td>26.2</td>\n",
              "      <td>Unknown</td>\n",
              "      <td>0</td>\n",
              "    </tr>\n",
              "  </tbody>\n",
              "</table>\n",
              "<p>5110 rows × 12 columns</p>\n",
              "</div>\n",
              "      <button class=\"colab-df-convert\" onclick=\"convertToInteractive('df-6c47d230-bae5-42c9-bf08-f34771f7b355')\"\n",
              "              title=\"Convert this dataframe to an interactive table.\"\n",
              "              style=\"display:none;\">\n",
              "        \n",
              "  <svg xmlns=\"http://www.w3.org/2000/svg\" height=\"24px\"viewBox=\"0 0 24 24\"\n",
              "       width=\"24px\">\n",
              "    <path d=\"M0 0h24v24H0V0z\" fill=\"none\"/>\n",
              "    <path d=\"M18.56 5.44l.94 2.06.94-2.06 2.06-.94-2.06-.94-.94-2.06-.94 2.06-2.06.94zm-11 1L8.5 8.5l.94-2.06 2.06-.94-2.06-.94L8.5 2.5l-.94 2.06-2.06.94zm10 10l.94 2.06.94-2.06 2.06-.94-2.06-.94-.94-2.06-.94 2.06-2.06.94z\"/><path d=\"M17.41 7.96l-1.37-1.37c-.4-.4-.92-.59-1.43-.59-.52 0-1.04.2-1.43.59L10.3 9.45l-7.72 7.72c-.78.78-.78 2.05 0 2.83L4 21.41c.39.39.9.59 1.41.59.51 0 1.02-.2 1.41-.59l7.78-7.78 2.81-2.81c.8-.78.8-2.07 0-2.86zM5.41 20L4 18.59l7.72-7.72 1.47 1.35L5.41 20z\"/>\n",
              "  </svg>\n",
              "      </button>\n",
              "      \n",
              "  <style>\n",
              "    .colab-df-container {\n",
              "      display:flex;\n",
              "      flex-wrap:wrap;\n",
              "      gap: 12px;\n",
              "    }\n",
              "\n",
              "    .colab-df-convert {\n",
              "      background-color: #E8F0FE;\n",
              "      border: none;\n",
              "      border-radius: 50%;\n",
              "      cursor: pointer;\n",
              "      display: none;\n",
              "      fill: #1967D2;\n",
              "      height: 32px;\n",
              "      padding: 0 0 0 0;\n",
              "      width: 32px;\n",
              "    }\n",
              "\n",
              "    .colab-df-convert:hover {\n",
              "      background-color: #E2EBFA;\n",
              "      box-shadow: 0px 1px 2px rgba(60, 64, 67, 0.3), 0px 1px 3px 1px rgba(60, 64, 67, 0.15);\n",
              "      fill: #174EA6;\n",
              "    }\n",
              "\n",
              "    [theme=dark] .colab-df-convert {\n",
              "      background-color: #3B4455;\n",
              "      fill: #D2E3FC;\n",
              "    }\n",
              "\n",
              "    [theme=dark] .colab-df-convert:hover {\n",
              "      background-color: #434B5C;\n",
              "      box-shadow: 0px 1px 3px 1px rgba(0, 0, 0, 0.15);\n",
              "      filter: drop-shadow(0px 1px 2px rgba(0, 0, 0, 0.3));\n",
              "      fill: #FFFFFF;\n",
              "    }\n",
              "  </style>\n",
              "\n",
              "      <script>\n",
              "        const buttonEl =\n",
              "          document.querySelector('#df-6c47d230-bae5-42c9-bf08-f34771f7b355 button.colab-df-convert');\n",
              "        buttonEl.style.display =\n",
              "          google.colab.kernel.accessAllowed ? 'block' : 'none';\n",
              "\n",
              "        async function convertToInteractive(key) {\n",
              "          const element = document.querySelector('#df-6c47d230-bae5-42c9-bf08-f34771f7b355');\n",
              "          const dataTable =\n",
              "            await google.colab.kernel.invokeFunction('convertToInteractive',\n",
              "                                                     [key], {});\n",
              "          if (!dataTable) return;\n",
              "\n",
              "          const docLinkHtml = 'Like what you see? Visit the ' +\n",
              "            '<a target=\"_blank\" href=https://colab.research.google.com/notebooks/data_table.ipynb>data table notebook</a>'\n",
              "            + ' to learn more about interactive tables.';\n",
              "          element.innerHTML = '';\n",
              "          dataTable['output_type'] = 'display_data';\n",
              "          await google.colab.output.renderOutput(dataTable, element);\n",
              "          const docLink = document.createElement('div');\n",
              "          docLink.innerHTML = docLinkHtml;\n",
              "          element.appendChild(docLink);\n",
              "        }\n",
              "      </script>\n",
              "    </div>\n",
              "  </div>\n",
              "  "
            ],
            "text/plain": [
              "         id  gender   age  ...   bmi   smoking_status stroke\n",
              "0      9046    Male  67.0  ...  36.6  formerly smoked      1\n",
              "1     51676  Female  61.0  ...   NaN     never smoked      1\n",
              "2     31112    Male  80.0  ...  32.5     never smoked      1\n",
              "3     60182  Female  49.0  ...  34.4           smokes      1\n",
              "4      1665  Female  79.0  ...  24.0     never smoked      1\n",
              "...     ...     ...   ...  ...   ...              ...    ...\n",
              "5105  18234  Female  80.0  ...   NaN     never smoked      0\n",
              "5106  44873  Female  81.0  ...  40.0     never smoked      0\n",
              "5107  19723  Female  35.0  ...  30.6     never smoked      0\n",
              "5108  37544    Male  51.0  ...  25.6  formerly smoked      0\n",
              "5109  44679  Female  44.0  ...  26.2          Unknown      0\n",
              "\n",
              "[5110 rows x 12 columns]"
            ]
          },
          "metadata": {},
          "execution_count": 4
        }
      ]
    },
    {
      "cell_type": "code",
      "source": [
        "#To check the total numbers of rows and columns\n",
        "dataset_stroke_pred.shape \n",
        "#The function \"shape\" returns the shape of an array."
      ],
      "metadata": {
        "colab": {
          "base_uri": "https://localhost:8080/"
        },
        "id": "hX-GInBkTdxc",
        "outputId": "2fc39f50-1145-4fd1-fa74-069e53a85e61"
      },
      "execution_count": null,
      "outputs": [
        {
          "output_type": "execute_result",
          "data": {
            "text/plain": [
              "(5110, 12)"
            ]
          },
          "metadata": {},
          "execution_count": 5
        }
      ]
    },
    {
      "cell_type": "code",
      "source": [
        "#To check the columns in dataset\n",
        "dataset_stroke_pred.columns\n",
        "#The function \"columns\" returns all the columns in the dataset "
      ],
      "metadata": {
        "colab": {
          "base_uri": "https://localhost:8080/"
        },
        "id": "WyQFRXt_TtQq",
        "outputId": "54dece8d-0a97-4049-ff00-7b9c88eb08c8"
      },
      "execution_count": null,
      "outputs": [
        {
          "output_type": "execute_result",
          "data": {
            "text/plain": [
              "Index(['id', 'gender', 'age', 'hypertension', 'heart_disease', 'ever_married',\n",
              "       'work_type', 'Residence_type', 'avg_glucose_level', 'bmi',\n",
              "       'smoking_status', 'stroke'],\n",
              "      dtype='object')"
            ]
          },
          "metadata": {},
          "execution_count": 6
        }
      ]
    },
    {
      "cell_type": "code",
      "source": [
        "#To split data into features and target\n",
        "features = dataset_stroke_pred[['age'\t,'hypertension',\t'heart_disease', 'work_type', 'avg_glucose_level', 'bmi', 'smoking_status']]  # for independent\n",
        "target = dataset_stroke_pred[['stroke']]   # for dependent\n",
        "#Feature are those variable which are used for prediction and Target is the variable that we need to predict."
      ],
      "metadata": {
        "id": "rKncqMfEUHxj"
      },
      "execution_count": null,
      "outputs": []
    },
    {
      "cell_type": "code",
      "source": [
        "#To show feature datas\n",
        "features"
      ],
      "metadata": {
        "colab": {
          "base_uri": "https://localhost:8080/"
        },
        "id": "IZIIhFgAWlAK",
        "outputId": "5f70aedf-020f-478b-d281-60e00038907f"
      },
      "execution_count": null,
      "outputs": [
        {
          "output_type": "execute_result",
          "data": {
            "text/html": [
              "\n",
              "  <div id=\"df-03b7f708-82fa-4641-9323-282f1cf7d098\">\n",
              "    <div class=\"colab-df-container\">\n",
              "      <div>\n",
              "<style scoped>\n",
              "    .dataframe tbody tr th:only-of-type {\n",
              "        vertical-align: middle;\n",
              "    }\n",
              "\n",
              "    .dataframe tbody tr th {\n",
              "        vertical-align: top;\n",
              "    }\n",
              "\n",
              "    .dataframe thead th {\n",
              "        text-align: right;\n",
              "    }\n",
              "</style>\n",
              "<table border=\"1\" class=\"dataframe\">\n",
              "  <thead>\n",
              "    <tr style=\"text-align: right;\">\n",
              "      <th></th>\n",
              "      <th>age</th>\n",
              "      <th>hypertension</th>\n",
              "      <th>heart_disease</th>\n",
              "      <th>work_type</th>\n",
              "      <th>avg_glucose_level</th>\n",
              "      <th>bmi</th>\n",
              "      <th>smoking_status</th>\n",
              "    </tr>\n",
              "  </thead>\n",
              "  <tbody>\n",
              "    <tr>\n",
              "      <th>0</th>\n",
              "      <td>67.0</td>\n",
              "      <td>0</td>\n",
              "      <td>1</td>\n",
              "      <td>Private</td>\n",
              "      <td>228.69</td>\n",
              "      <td>36.6</td>\n",
              "      <td>formerly smoked</td>\n",
              "    </tr>\n",
              "    <tr>\n",
              "      <th>1</th>\n",
              "      <td>61.0</td>\n",
              "      <td>0</td>\n",
              "      <td>0</td>\n",
              "      <td>Self-employed</td>\n",
              "      <td>202.21</td>\n",
              "      <td>NaN</td>\n",
              "      <td>never smoked</td>\n",
              "    </tr>\n",
              "    <tr>\n",
              "      <th>2</th>\n",
              "      <td>80.0</td>\n",
              "      <td>0</td>\n",
              "      <td>1</td>\n",
              "      <td>Private</td>\n",
              "      <td>105.92</td>\n",
              "      <td>32.5</td>\n",
              "      <td>never smoked</td>\n",
              "    </tr>\n",
              "    <tr>\n",
              "      <th>3</th>\n",
              "      <td>49.0</td>\n",
              "      <td>0</td>\n",
              "      <td>0</td>\n",
              "      <td>Private</td>\n",
              "      <td>171.23</td>\n",
              "      <td>34.4</td>\n",
              "      <td>smokes</td>\n",
              "    </tr>\n",
              "    <tr>\n",
              "      <th>4</th>\n",
              "      <td>79.0</td>\n",
              "      <td>1</td>\n",
              "      <td>0</td>\n",
              "      <td>Self-employed</td>\n",
              "      <td>174.12</td>\n",
              "      <td>24.0</td>\n",
              "      <td>never smoked</td>\n",
              "    </tr>\n",
              "    <tr>\n",
              "      <th>...</th>\n",
              "      <td>...</td>\n",
              "      <td>...</td>\n",
              "      <td>...</td>\n",
              "      <td>...</td>\n",
              "      <td>...</td>\n",
              "      <td>...</td>\n",
              "      <td>...</td>\n",
              "    </tr>\n",
              "    <tr>\n",
              "      <th>5105</th>\n",
              "      <td>80.0</td>\n",
              "      <td>1</td>\n",
              "      <td>0</td>\n",
              "      <td>Private</td>\n",
              "      <td>83.75</td>\n",
              "      <td>NaN</td>\n",
              "      <td>never smoked</td>\n",
              "    </tr>\n",
              "    <tr>\n",
              "      <th>5106</th>\n",
              "      <td>81.0</td>\n",
              "      <td>0</td>\n",
              "      <td>0</td>\n",
              "      <td>Self-employed</td>\n",
              "      <td>125.20</td>\n",
              "      <td>40.0</td>\n",
              "      <td>never smoked</td>\n",
              "    </tr>\n",
              "    <tr>\n",
              "      <th>5107</th>\n",
              "      <td>35.0</td>\n",
              "      <td>0</td>\n",
              "      <td>0</td>\n",
              "      <td>Self-employed</td>\n",
              "      <td>82.99</td>\n",
              "      <td>30.6</td>\n",
              "      <td>never smoked</td>\n",
              "    </tr>\n",
              "    <tr>\n",
              "      <th>5108</th>\n",
              "      <td>51.0</td>\n",
              "      <td>0</td>\n",
              "      <td>0</td>\n",
              "      <td>Private</td>\n",
              "      <td>166.29</td>\n",
              "      <td>25.6</td>\n",
              "      <td>formerly smoked</td>\n",
              "    </tr>\n",
              "    <tr>\n",
              "      <th>5109</th>\n",
              "      <td>44.0</td>\n",
              "      <td>0</td>\n",
              "      <td>0</td>\n",
              "      <td>Govt_job</td>\n",
              "      <td>85.28</td>\n",
              "      <td>26.2</td>\n",
              "      <td>Unknown</td>\n",
              "    </tr>\n",
              "  </tbody>\n",
              "</table>\n",
              "<p>5110 rows × 7 columns</p>\n",
              "</div>\n",
              "      <button class=\"colab-df-convert\" onclick=\"convertToInteractive('df-03b7f708-82fa-4641-9323-282f1cf7d098')\"\n",
              "              title=\"Convert this dataframe to an interactive table.\"\n",
              "              style=\"display:none;\">\n",
              "        \n",
              "  <svg xmlns=\"http://www.w3.org/2000/svg\" height=\"24px\"viewBox=\"0 0 24 24\"\n",
              "       width=\"24px\">\n",
              "    <path d=\"M0 0h24v24H0V0z\" fill=\"none\"/>\n",
              "    <path d=\"M18.56 5.44l.94 2.06.94-2.06 2.06-.94-2.06-.94-.94-2.06-.94 2.06-2.06.94zm-11 1L8.5 8.5l.94-2.06 2.06-.94-2.06-.94L8.5 2.5l-.94 2.06-2.06.94zm10 10l.94 2.06.94-2.06 2.06-.94-2.06-.94-.94-2.06-.94 2.06-2.06.94z\"/><path d=\"M17.41 7.96l-1.37-1.37c-.4-.4-.92-.59-1.43-.59-.52 0-1.04.2-1.43.59L10.3 9.45l-7.72 7.72c-.78.78-.78 2.05 0 2.83L4 21.41c.39.39.9.59 1.41.59.51 0 1.02-.2 1.41-.59l7.78-7.78 2.81-2.81c.8-.78.8-2.07 0-2.86zM5.41 20L4 18.59l7.72-7.72 1.47 1.35L5.41 20z\"/>\n",
              "  </svg>\n",
              "      </button>\n",
              "      \n",
              "  <style>\n",
              "    .colab-df-container {\n",
              "      display:flex;\n",
              "      flex-wrap:wrap;\n",
              "      gap: 12px;\n",
              "    }\n",
              "\n",
              "    .colab-df-convert {\n",
              "      background-color: #E8F0FE;\n",
              "      border: none;\n",
              "      border-radius: 50%;\n",
              "      cursor: pointer;\n",
              "      display: none;\n",
              "      fill: #1967D2;\n",
              "      height: 32px;\n",
              "      padding: 0 0 0 0;\n",
              "      width: 32px;\n",
              "    }\n",
              "\n",
              "    .colab-df-convert:hover {\n",
              "      background-color: #E2EBFA;\n",
              "      box-shadow: 0px 1px 2px rgba(60, 64, 67, 0.3), 0px 1px 3px 1px rgba(60, 64, 67, 0.15);\n",
              "      fill: #174EA6;\n",
              "    }\n",
              "\n",
              "    [theme=dark] .colab-df-convert {\n",
              "      background-color: #3B4455;\n",
              "      fill: #D2E3FC;\n",
              "    }\n",
              "\n",
              "    [theme=dark] .colab-df-convert:hover {\n",
              "      background-color: #434B5C;\n",
              "      box-shadow: 0px 1px 3px 1px rgba(0, 0, 0, 0.15);\n",
              "      filter: drop-shadow(0px 1px 2px rgba(0, 0, 0, 0.3));\n",
              "      fill: #FFFFFF;\n",
              "    }\n",
              "  </style>\n",
              "\n",
              "      <script>\n",
              "        const buttonEl =\n",
              "          document.querySelector('#df-03b7f708-82fa-4641-9323-282f1cf7d098 button.colab-df-convert');\n",
              "        buttonEl.style.display =\n",
              "          google.colab.kernel.accessAllowed ? 'block' : 'none';\n",
              "\n",
              "        async function convertToInteractive(key) {\n",
              "          const element = document.querySelector('#df-03b7f708-82fa-4641-9323-282f1cf7d098');\n",
              "          const dataTable =\n",
              "            await google.colab.kernel.invokeFunction('convertToInteractive',\n",
              "                                                     [key], {});\n",
              "          if (!dataTable) return;\n",
              "\n",
              "          const docLinkHtml = 'Like what you see? Visit the ' +\n",
              "            '<a target=\"_blank\" href=https://colab.research.google.com/notebooks/data_table.ipynb>data table notebook</a>'\n",
              "            + ' to learn more about interactive tables.';\n",
              "          element.innerHTML = '';\n",
              "          dataTable['output_type'] = 'display_data';\n",
              "          await google.colab.output.renderOutput(dataTable, element);\n",
              "          const docLink = document.createElement('div');\n",
              "          docLink.innerHTML = docLinkHtml;\n",
              "          element.appendChild(docLink);\n",
              "        }\n",
              "      </script>\n",
              "    </div>\n",
              "  </div>\n",
              "  "
            ],
            "text/plain": [
              "       age  hypertension  ...   bmi   smoking_status\n",
              "0     67.0             0  ...  36.6  formerly smoked\n",
              "1     61.0             0  ...   NaN     never smoked\n",
              "2     80.0             0  ...  32.5     never smoked\n",
              "3     49.0             0  ...  34.4           smokes\n",
              "4     79.0             1  ...  24.0     never smoked\n",
              "...    ...           ...  ...   ...              ...\n",
              "5105  80.0             1  ...   NaN     never smoked\n",
              "5106  81.0             0  ...  40.0     never smoked\n",
              "5107  35.0             0  ...  30.6     never smoked\n",
              "5108  51.0             0  ...  25.6  formerly smoked\n",
              "5109  44.0             0  ...  26.2          Unknown\n",
              "\n",
              "[5110 rows x 7 columns]"
            ]
          },
          "metadata": {},
          "execution_count": 8
        }
      ]
    },
    {
      "cell_type": "code",
      "source": [
        "#To show target data\n",
        "target"
      ],
      "metadata": {
        "colab": {
          "base_uri": "https://localhost:8080/"
        },
        "id": "oJ5dERL3Wo8a",
        "outputId": "26937cef-1c3f-4aa9-f2c9-7b353dd2b5c5"
      },
      "execution_count": null,
      "outputs": [
        {
          "output_type": "execute_result",
          "data": {
            "text/html": [
              "\n",
              "  <div id=\"df-66b664b2-7043-4f51-8267-862b09008153\">\n",
              "    <div class=\"colab-df-container\">\n",
              "      <div>\n",
              "<style scoped>\n",
              "    .dataframe tbody tr th:only-of-type {\n",
              "        vertical-align: middle;\n",
              "    }\n",
              "\n",
              "    .dataframe tbody tr th {\n",
              "        vertical-align: top;\n",
              "    }\n",
              "\n",
              "    .dataframe thead th {\n",
              "        text-align: right;\n",
              "    }\n",
              "</style>\n",
              "<table border=\"1\" class=\"dataframe\">\n",
              "  <thead>\n",
              "    <tr style=\"text-align: right;\">\n",
              "      <th></th>\n",
              "      <th>stroke</th>\n",
              "    </tr>\n",
              "  </thead>\n",
              "  <tbody>\n",
              "    <tr>\n",
              "      <th>0</th>\n",
              "      <td>1</td>\n",
              "    </tr>\n",
              "    <tr>\n",
              "      <th>1</th>\n",
              "      <td>1</td>\n",
              "    </tr>\n",
              "    <tr>\n",
              "      <th>2</th>\n",
              "      <td>1</td>\n",
              "    </tr>\n",
              "    <tr>\n",
              "      <th>3</th>\n",
              "      <td>1</td>\n",
              "    </tr>\n",
              "    <tr>\n",
              "      <th>4</th>\n",
              "      <td>1</td>\n",
              "    </tr>\n",
              "    <tr>\n",
              "      <th>...</th>\n",
              "      <td>...</td>\n",
              "    </tr>\n",
              "    <tr>\n",
              "      <th>5105</th>\n",
              "      <td>0</td>\n",
              "    </tr>\n",
              "    <tr>\n",
              "      <th>5106</th>\n",
              "      <td>0</td>\n",
              "    </tr>\n",
              "    <tr>\n",
              "      <th>5107</th>\n",
              "      <td>0</td>\n",
              "    </tr>\n",
              "    <tr>\n",
              "      <th>5108</th>\n",
              "      <td>0</td>\n",
              "    </tr>\n",
              "    <tr>\n",
              "      <th>5109</th>\n",
              "      <td>0</td>\n",
              "    </tr>\n",
              "  </tbody>\n",
              "</table>\n",
              "<p>5110 rows × 1 columns</p>\n",
              "</div>\n",
              "      <button class=\"colab-df-convert\" onclick=\"convertToInteractive('df-66b664b2-7043-4f51-8267-862b09008153')\"\n",
              "              title=\"Convert this dataframe to an interactive table.\"\n",
              "              style=\"display:none;\">\n",
              "        \n",
              "  <svg xmlns=\"http://www.w3.org/2000/svg\" height=\"24px\"viewBox=\"0 0 24 24\"\n",
              "       width=\"24px\">\n",
              "    <path d=\"M0 0h24v24H0V0z\" fill=\"none\"/>\n",
              "    <path d=\"M18.56 5.44l.94 2.06.94-2.06 2.06-.94-2.06-.94-.94-2.06-.94 2.06-2.06.94zm-11 1L8.5 8.5l.94-2.06 2.06-.94-2.06-.94L8.5 2.5l-.94 2.06-2.06.94zm10 10l.94 2.06.94-2.06 2.06-.94-2.06-.94-.94-2.06-.94 2.06-2.06.94z\"/><path d=\"M17.41 7.96l-1.37-1.37c-.4-.4-.92-.59-1.43-.59-.52 0-1.04.2-1.43.59L10.3 9.45l-7.72 7.72c-.78.78-.78 2.05 0 2.83L4 21.41c.39.39.9.59 1.41.59.51 0 1.02-.2 1.41-.59l7.78-7.78 2.81-2.81c.8-.78.8-2.07 0-2.86zM5.41 20L4 18.59l7.72-7.72 1.47 1.35L5.41 20z\"/>\n",
              "  </svg>\n",
              "      </button>\n",
              "      \n",
              "  <style>\n",
              "    .colab-df-container {\n",
              "      display:flex;\n",
              "      flex-wrap:wrap;\n",
              "      gap: 12px;\n",
              "    }\n",
              "\n",
              "    .colab-df-convert {\n",
              "      background-color: #E8F0FE;\n",
              "      border: none;\n",
              "      border-radius: 50%;\n",
              "      cursor: pointer;\n",
              "      display: none;\n",
              "      fill: #1967D2;\n",
              "      height: 32px;\n",
              "      padding: 0 0 0 0;\n",
              "      width: 32px;\n",
              "    }\n",
              "\n",
              "    .colab-df-convert:hover {\n",
              "      background-color: #E2EBFA;\n",
              "      box-shadow: 0px 1px 2px rgba(60, 64, 67, 0.3), 0px 1px 3px 1px rgba(60, 64, 67, 0.15);\n",
              "      fill: #174EA6;\n",
              "    }\n",
              "\n",
              "    [theme=dark] .colab-df-convert {\n",
              "      background-color: #3B4455;\n",
              "      fill: #D2E3FC;\n",
              "    }\n",
              "\n",
              "    [theme=dark] .colab-df-convert:hover {\n",
              "      background-color: #434B5C;\n",
              "      box-shadow: 0px 1px 3px 1px rgba(0, 0, 0, 0.15);\n",
              "      filter: drop-shadow(0px 1px 2px rgba(0, 0, 0, 0.3));\n",
              "      fill: #FFFFFF;\n",
              "    }\n",
              "  </style>\n",
              "\n",
              "      <script>\n",
              "        const buttonEl =\n",
              "          document.querySelector('#df-66b664b2-7043-4f51-8267-862b09008153 button.colab-df-convert');\n",
              "        buttonEl.style.display =\n",
              "          google.colab.kernel.accessAllowed ? 'block' : 'none';\n",
              "\n",
              "        async function convertToInteractive(key) {\n",
              "          const element = document.querySelector('#df-66b664b2-7043-4f51-8267-862b09008153');\n",
              "          const dataTable =\n",
              "            await google.colab.kernel.invokeFunction('convertToInteractive',\n",
              "                                                     [key], {});\n",
              "          if (!dataTable) return;\n",
              "\n",
              "          const docLinkHtml = 'Like what you see? Visit the ' +\n",
              "            '<a target=\"_blank\" href=https://colab.research.google.com/notebooks/data_table.ipynb>data table notebook</a>'\n",
              "            + ' to learn more about interactive tables.';\n",
              "          element.innerHTML = '';\n",
              "          dataTable['output_type'] = 'display_data';\n",
              "          await google.colab.output.renderOutput(dataTable, element);\n",
              "          const docLink = document.createElement('div');\n",
              "          docLink.innerHTML = docLinkHtml;\n",
              "          element.appendChild(docLink);\n",
              "        }\n",
              "      </script>\n",
              "    </div>\n",
              "  </div>\n",
              "  "
            ],
            "text/plain": [
              "      stroke\n",
              "0          1\n",
              "1          1\n",
              "2          1\n",
              "3          1\n",
              "4          1\n",
              "...      ...\n",
              "5105       0\n",
              "5106       0\n",
              "5107       0\n",
              "5108       0\n",
              "5109       0\n",
              "\n",
              "[5110 rows x 1 columns]"
            ]
          },
          "metadata": {},
          "execution_count": 9
        }
      ]
    },
    {
      "cell_type": "markdown",
      "source": [
        "**To Check If There Is Any Missing Data**"
      ],
      "metadata": {
        "id": "aD4Ncbl8WhIh"
      }
    },
    {
      "cell_type": "code",
      "source": [
        "#To check missing data in age column\n",
        "#To check if there is any NaN value in the column\n",
        "pd.isnull(dataset_stroke_pred.age)"
      ],
      "metadata": {
        "colab": {
          "base_uri": "https://localhost:8080/"
        },
        "id": "03OQP6U3XcEL",
        "outputId": "be09138d-f173-4e04-a3d4-c74c5f3ec507"
      },
      "execution_count": null,
      "outputs": [
        {
          "output_type": "execute_result",
          "data": {
            "text/plain": [
              "0       False\n",
              "1       False\n",
              "2       False\n",
              "3       False\n",
              "4       False\n",
              "        ...  \n",
              "5105    False\n",
              "5106    False\n",
              "5107    False\n",
              "5108    False\n",
              "5109    False\n",
              "Name: age, Length: 5110, dtype: bool"
            ]
          },
          "metadata": {},
          "execution_count": 10
        }
      ]
    },
    {
      "cell_type": "code",
      "source": [
        "#To check missing data in hypertension column\n",
        "#To check if there is any NaN value in the column\n",
        "pd.isnull(dataset_stroke_pred.hypertension)"
      ],
      "metadata": {
        "colab": {
          "base_uri": "https://localhost:8080/"
        },
        "id": "D4Z4aRpHXrMx",
        "outputId": "13abb967-a238-40f9-e224-d20d80dd1d6c"
      },
      "execution_count": null,
      "outputs": [
        {
          "output_type": "execute_result",
          "data": {
            "text/plain": [
              "0       False\n",
              "1       False\n",
              "2       False\n",
              "3       False\n",
              "4       False\n",
              "        ...  \n",
              "5105    False\n",
              "5106    False\n",
              "5107    False\n",
              "5108    False\n",
              "5109    False\n",
              "Name: hypertension, Length: 5110, dtype: bool"
            ]
          },
          "metadata": {},
          "execution_count": 11
        }
      ]
    },
    {
      "cell_type": "code",
      "source": [
        "#To check missing data in heart_disease column\n",
        "#To check if there is any NaN value in the column\n",
        "pd.isnull(dataset_stroke_pred.heart_disease)"
      ],
      "metadata": {
        "colab": {
          "base_uri": "https://localhost:8080/"
        },
        "id": "r8-G1_9HX4nB",
        "outputId": "0507d679-d5c9-4734-b7cf-bfadaea46584"
      },
      "execution_count": null,
      "outputs": [
        {
          "output_type": "execute_result",
          "data": {
            "text/plain": [
              "0       False\n",
              "1       False\n",
              "2       False\n",
              "3       False\n",
              "4       False\n",
              "        ...  \n",
              "5105    False\n",
              "5106    False\n",
              "5107    False\n",
              "5108    False\n",
              "5109    False\n",
              "Name: heart_disease, Length: 5110, dtype: bool"
            ]
          },
          "metadata": {},
          "execution_count": 12
        }
      ]
    },
    {
      "cell_type": "code",
      "source": [
        "#To check missing data in work_type column\n",
        "#To check if there is any NaN value in the column\n",
        "pd.isnull(dataset_stroke_pred.work_type)"
      ],
      "metadata": {
        "colab": {
          "base_uri": "https://localhost:8080/"
        },
        "id": "hYUM2_djYCL6",
        "outputId": "3ac96322-c7cf-46b4-8d40-741cafd68efb"
      },
      "execution_count": null,
      "outputs": [
        {
          "output_type": "execute_result",
          "data": {
            "text/plain": [
              "0       False\n",
              "1       False\n",
              "2       False\n",
              "3       False\n",
              "4       False\n",
              "        ...  \n",
              "5105    False\n",
              "5106    False\n",
              "5107    False\n",
              "5108    False\n",
              "5109    False\n",
              "Name: work_type, Length: 5110, dtype: bool"
            ]
          },
          "metadata": {},
          "execution_count": 13
        }
      ]
    },
    {
      "cell_type": "code",
      "source": [
        "#To check missing data in avg_glucose_level column\n",
        "#To check if there is any NaN value in the column\n",
        "pd.isnull(dataset_stroke_pred.avg_glucose_level)"
      ],
      "metadata": {
        "colab": {
          "base_uri": "https://localhost:8080/"
        },
        "id": "uZTTRcoWYh7Z",
        "outputId": "6f65b668-e3dc-4082-e00b-cdbfb156c81d"
      },
      "execution_count": null,
      "outputs": [
        {
          "output_type": "execute_result",
          "data": {
            "text/plain": [
              "0       False\n",
              "1       False\n",
              "2       False\n",
              "3       False\n",
              "4       False\n",
              "        ...  \n",
              "5105    False\n",
              "5106    False\n",
              "5107    False\n",
              "5108    False\n",
              "5109    False\n",
              "Name: avg_glucose_level, Length: 5110, dtype: bool"
            ]
          },
          "metadata": {},
          "execution_count": 14
        }
      ]
    },
    {
      "cell_type": "code",
      "source": [
        "#To check missing data in bmi column\n",
        "#To check if there is any NaN value in the column\n",
        "pd.isnull(dataset_stroke_pred.bmi)"
      ],
      "metadata": {
        "colab": {
          "base_uri": "https://localhost:8080/"
        },
        "id": "gQ8RzHbbYtfq",
        "outputId": "e159f9cf-dee4-4dba-dcc0-254d0bcc89cf"
      },
      "execution_count": null,
      "outputs": [
        {
          "output_type": "execute_result",
          "data": {
            "text/plain": [
              "0       False\n",
              "1        True\n",
              "2       False\n",
              "3       False\n",
              "4       False\n",
              "        ...  \n",
              "5105     True\n",
              "5106    False\n",
              "5107    False\n",
              "5108    False\n",
              "5109    False\n",
              "Name: bmi, Length: 5110, dtype: bool"
            ]
          },
          "metadata": {},
          "execution_count": 15
        }
      ]
    },
    {
      "cell_type": "markdown",
      "source": [
        "**BMI column has missing values. So, it is necessary to take care of the missing value, by replacing it with mean value.**"
      ],
      "metadata": {
        "id": "qdhT5X7MWs4v"
      }
    },
    {
      "cell_type": "code",
      "source": [
        "#import Libraries\n",
        "from sklearn.impute import SimpleImputer\n",
        "#The SimpleImputer class provides basic strategies for imputing missing values."
      ],
      "metadata": {
        "id": "rRkALFYobLb_"
      },
      "execution_count": null,
      "outputs": []
    },
    {
      "cell_type": "code",
      "source": [
        "imputer = SimpleImputer(missing_values=np.nan,strategy = \"mean\") # imputer is an object of Imputer class \n",
        "imputer = imputer.fit(features[['bmi']]) "
      ],
      "metadata": {
        "id": "WEUv-x6NbMXZ"
      },
      "execution_count": null,
      "outputs": []
    },
    {
      "cell_type": "code",
      "source": [
        "features[['bmi']]= imputer.transform(features[['bmi']])"
      ],
      "metadata": {
        "id": "Yg3s_8rQbrYi"
      },
      "execution_count": null,
      "outputs": []
    },
    {
      "cell_type": "markdown",
      "source": [
        "**Here, fit function is used to find the mean values and transform function is used to replace the missing value with mean value.**"
      ],
      "metadata": {
        "id": "_CdPurNyXjE3"
      }
    },
    {
      "cell_type": "code",
      "source": [
        "#to show feature datas\n",
        "features"
      ],
      "metadata": {
        "colab": {
          "base_uri": "https://localhost:8080/"
        },
        "id": "khs5GMh9bxXi",
        "outputId": "12462806-9b5a-4f92-9ecf-c004c33202b9"
      },
      "execution_count": null,
      "outputs": [
        {
          "output_type": "execute_result",
          "data": {
            "text/html": [
              "\n",
              "  <div id=\"df-93b8294e-c036-4bc4-8bd0-706829a11ee2\">\n",
              "    <div class=\"colab-df-container\">\n",
              "      <div>\n",
              "<style scoped>\n",
              "    .dataframe tbody tr th:only-of-type {\n",
              "        vertical-align: middle;\n",
              "    }\n",
              "\n",
              "    .dataframe tbody tr th {\n",
              "        vertical-align: top;\n",
              "    }\n",
              "\n",
              "    .dataframe thead th {\n",
              "        text-align: right;\n",
              "    }\n",
              "</style>\n",
              "<table border=\"1\" class=\"dataframe\">\n",
              "  <thead>\n",
              "    <tr style=\"text-align: right;\">\n",
              "      <th></th>\n",
              "      <th>age</th>\n",
              "      <th>hypertension</th>\n",
              "      <th>heart_disease</th>\n",
              "      <th>work_type</th>\n",
              "      <th>avg_glucose_level</th>\n",
              "      <th>bmi</th>\n",
              "      <th>smoking_status</th>\n",
              "    </tr>\n",
              "  </thead>\n",
              "  <tbody>\n",
              "    <tr>\n",
              "      <th>0</th>\n",
              "      <td>67.0</td>\n",
              "      <td>0</td>\n",
              "      <td>1</td>\n",
              "      <td>Private</td>\n",
              "      <td>228.69</td>\n",
              "      <td>36.600000</td>\n",
              "      <td>formerly smoked</td>\n",
              "    </tr>\n",
              "    <tr>\n",
              "      <th>1</th>\n",
              "      <td>61.0</td>\n",
              "      <td>0</td>\n",
              "      <td>0</td>\n",
              "      <td>Self-employed</td>\n",
              "      <td>202.21</td>\n",
              "      <td>28.893237</td>\n",
              "      <td>never smoked</td>\n",
              "    </tr>\n",
              "    <tr>\n",
              "      <th>2</th>\n",
              "      <td>80.0</td>\n",
              "      <td>0</td>\n",
              "      <td>1</td>\n",
              "      <td>Private</td>\n",
              "      <td>105.92</td>\n",
              "      <td>32.500000</td>\n",
              "      <td>never smoked</td>\n",
              "    </tr>\n",
              "    <tr>\n",
              "      <th>3</th>\n",
              "      <td>49.0</td>\n",
              "      <td>0</td>\n",
              "      <td>0</td>\n",
              "      <td>Private</td>\n",
              "      <td>171.23</td>\n",
              "      <td>34.400000</td>\n",
              "      <td>smokes</td>\n",
              "    </tr>\n",
              "    <tr>\n",
              "      <th>4</th>\n",
              "      <td>79.0</td>\n",
              "      <td>1</td>\n",
              "      <td>0</td>\n",
              "      <td>Self-employed</td>\n",
              "      <td>174.12</td>\n",
              "      <td>24.000000</td>\n",
              "      <td>never smoked</td>\n",
              "    </tr>\n",
              "    <tr>\n",
              "      <th>...</th>\n",
              "      <td>...</td>\n",
              "      <td>...</td>\n",
              "      <td>...</td>\n",
              "      <td>...</td>\n",
              "      <td>...</td>\n",
              "      <td>...</td>\n",
              "      <td>...</td>\n",
              "    </tr>\n",
              "    <tr>\n",
              "      <th>5105</th>\n",
              "      <td>80.0</td>\n",
              "      <td>1</td>\n",
              "      <td>0</td>\n",
              "      <td>Private</td>\n",
              "      <td>83.75</td>\n",
              "      <td>28.893237</td>\n",
              "      <td>never smoked</td>\n",
              "    </tr>\n",
              "    <tr>\n",
              "      <th>5106</th>\n",
              "      <td>81.0</td>\n",
              "      <td>0</td>\n",
              "      <td>0</td>\n",
              "      <td>Self-employed</td>\n",
              "      <td>125.20</td>\n",
              "      <td>40.000000</td>\n",
              "      <td>never smoked</td>\n",
              "    </tr>\n",
              "    <tr>\n",
              "      <th>5107</th>\n",
              "      <td>35.0</td>\n",
              "      <td>0</td>\n",
              "      <td>0</td>\n",
              "      <td>Self-employed</td>\n",
              "      <td>82.99</td>\n",
              "      <td>30.600000</td>\n",
              "      <td>never smoked</td>\n",
              "    </tr>\n",
              "    <tr>\n",
              "      <th>5108</th>\n",
              "      <td>51.0</td>\n",
              "      <td>0</td>\n",
              "      <td>0</td>\n",
              "      <td>Private</td>\n",
              "      <td>166.29</td>\n",
              "      <td>25.600000</td>\n",
              "      <td>formerly smoked</td>\n",
              "    </tr>\n",
              "    <tr>\n",
              "      <th>5109</th>\n",
              "      <td>44.0</td>\n",
              "      <td>0</td>\n",
              "      <td>0</td>\n",
              "      <td>Govt_job</td>\n",
              "      <td>85.28</td>\n",
              "      <td>26.200000</td>\n",
              "      <td>Unknown</td>\n",
              "    </tr>\n",
              "  </tbody>\n",
              "</table>\n",
              "<p>5110 rows × 7 columns</p>\n",
              "</div>\n",
              "      <button class=\"colab-df-convert\" onclick=\"convertToInteractive('df-93b8294e-c036-4bc4-8bd0-706829a11ee2')\"\n",
              "              title=\"Convert this dataframe to an interactive table.\"\n",
              "              style=\"display:none;\">\n",
              "        \n",
              "  <svg xmlns=\"http://www.w3.org/2000/svg\" height=\"24px\"viewBox=\"0 0 24 24\"\n",
              "       width=\"24px\">\n",
              "    <path d=\"M0 0h24v24H0V0z\" fill=\"none\"/>\n",
              "    <path d=\"M18.56 5.44l.94 2.06.94-2.06 2.06-.94-2.06-.94-.94-2.06-.94 2.06-2.06.94zm-11 1L8.5 8.5l.94-2.06 2.06-.94-2.06-.94L8.5 2.5l-.94 2.06-2.06.94zm10 10l.94 2.06.94-2.06 2.06-.94-2.06-.94-.94-2.06-.94 2.06-2.06.94z\"/><path d=\"M17.41 7.96l-1.37-1.37c-.4-.4-.92-.59-1.43-.59-.52 0-1.04.2-1.43.59L10.3 9.45l-7.72 7.72c-.78.78-.78 2.05 0 2.83L4 21.41c.39.39.9.59 1.41.59.51 0 1.02-.2 1.41-.59l7.78-7.78 2.81-2.81c.8-.78.8-2.07 0-2.86zM5.41 20L4 18.59l7.72-7.72 1.47 1.35L5.41 20z\"/>\n",
              "  </svg>\n",
              "      </button>\n",
              "      \n",
              "  <style>\n",
              "    .colab-df-container {\n",
              "      display:flex;\n",
              "      flex-wrap:wrap;\n",
              "      gap: 12px;\n",
              "    }\n",
              "\n",
              "    .colab-df-convert {\n",
              "      background-color: #E8F0FE;\n",
              "      border: none;\n",
              "      border-radius: 50%;\n",
              "      cursor: pointer;\n",
              "      display: none;\n",
              "      fill: #1967D2;\n",
              "      height: 32px;\n",
              "      padding: 0 0 0 0;\n",
              "      width: 32px;\n",
              "    }\n",
              "\n",
              "    .colab-df-convert:hover {\n",
              "      background-color: #E2EBFA;\n",
              "      box-shadow: 0px 1px 2px rgba(60, 64, 67, 0.3), 0px 1px 3px 1px rgba(60, 64, 67, 0.15);\n",
              "      fill: #174EA6;\n",
              "    }\n",
              "\n",
              "    [theme=dark] .colab-df-convert {\n",
              "      background-color: #3B4455;\n",
              "      fill: #D2E3FC;\n",
              "    }\n",
              "\n",
              "    [theme=dark] .colab-df-convert:hover {\n",
              "      background-color: #434B5C;\n",
              "      box-shadow: 0px 1px 3px 1px rgba(0, 0, 0, 0.15);\n",
              "      filter: drop-shadow(0px 1px 2px rgba(0, 0, 0, 0.3));\n",
              "      fill: #FFFFFF;\n",
              "    }\n",
              "  </style>\n",
              "\n",
              "      <script>\n",
              "        const buttonEl =\n",
              "          document.querySelector('#df-93b8294e-c036-4bc4-8bd0-706829a11ee2 button.colab-df-convert');\n",
              "        buttonEl.style.display =\n",
              "          google.colab.kernel.accessAllowed ? 'block' : 'none';\n",
              "\n",
              "        async function convertToInteractive(key) {\n",
              "          const element = document.querySelector('#df-93b8294e-c036-4bc4-8bd0-706829a11ee2');\n",
              "          const dataTable =\n",
              "            await google.colab.kernel.invokeFunction('convertToInteractive',\n",
              "                                                     [key], {});\n",
              "          if (!dataTable) return;\n",
              "\n",
              "          const docLinkHtml = 'Like what you see? Visit the ' +\n",
              "            '<a target=\"_blank\" href=https://colab.research.google.com/notebooks/data_table.ipynb>data table notebook</a>'\n",
              "            + ' to learn more about interactive tables.';\n",
              "          element.innerHTML = '';\n",
              "          dataTable['output_type'] = 'display_data';\n",
              "          await google.colab.output.renderOutput(dataTable, element);\n",
              "          const docLink = document.createElement('div');\n",
              "          docLink.innerHTML = docLinkHtml;\n",
              "          element.appendChild(docLink);\n",
              "        }\n",
              "      </script>\n",
              "    </div>\n",
              "  </div>\n",
              "  "
            ],
            "text/plain": [
              "       age  hypertension  ...        bmi   smoking_status\n",
              "0     67.0             0  ...  36.600000  formerly smoked\n",
              "1     61.0             0  ...  28.893237     never smoked\n",
              "2     80.0             0  ...  32.500000     never smoked\n",
              "3     49.0             0  ...  34.400000           smokes\n",
              "4     79.0             1  ...  24.000000     never smoked\n",
              "...    ...           ...  ...        ...              ...\n",
              "5105  80.0             1  ...  28.893237     never smoked\n",
              "5106  81.0             0  ...  40.000000     never smoked\n",
              "5107  35.0             0  ...  30.600000     never smoked\n",
              "5108  51.0             0  ...  25.600000  formerly smoked\n",
              "5109  44.0             0  ...  26.200000          Unknown\n",
              "\n",
              "[5110 rows x 7 columns]"
            ]
          },
          "metadata": {},
          "execution_count": 19
        }
      ]
    },
    {
      "cell_type": "code",
      "source": [
        "#To check missing data in smoking_status column\n",
        "#To check if there is any NaN value in the column\n",
        "pd.isnull(dataset_stroke_pred.smoking_status)"
      ],
      "metadata": {
        "colab": {
          "base_uri": "https://localhost:8080/"
        },
        "id": "XcDYVvsUb32q",
        "outputId": "3a2d1335-7d3e-4c2f-e3fd-67678cf90202"
      },
      "execution_count": null,
      "outputs": [
        {
          "output_type": "execute_result",
          "data": {
            "text/plain": [
              "0       False\n",
              "1       False\n",
              "2       False\n",
              "3       False\n",
              "4       False\n",
              "        ...  \n",
              "5105    False\n",
              "5106    False\n",
              "5107    False\n",
              "5108    False\n",
              "5109    False\n",
              "Name: smoking_status, Length: 5110, dtype: bool"
            ]
          },
          "metadata": {},
          "execution_count": 20
        }
      ]
    },
    {
      "cell_type": "code",
      "source": [
        "#To check missing data in stroke column\n",
        "#To check if there is any NaN value in the column\n",
        "pd.isnull(dataset_stroke_pred.stroke)"
      ],
      "metadata": {
        "colab": {
          "base_uri": "https://localhost:8080/"
        },
        "id": "N58ixpLket7R",
        "outputId": "0ad904bb-e554-4388-bcea-b80085162b5b"
      },
      "execution_count": null,
      "outputs": [
        {
          "output_type": "execute_result",
          "data": {
            "text/plain": [
              "0       False\n",
              "1       False\n",
              "2       False\n",
              "3       False\n",
              "4       False\n",
              "        ...  \n",
              "5105    False\n",
              "5106    False\n",
              "5107    False\n",
              "5108    False\n",
              "5109    False\n",
              "Name: stroke, Length: 5110, dtype: bool"
            ]
          },
          "metadata": {},
          "execution_count": 21
        }
      ]
    },
    {
      "cell_type": "markdown",
      "source": [
        "# **Encoding Categorical Data**"
      ],
      "metadata": {
        "id": "iBZFpUVUhqWB"
      }
    },
    {
      "cell_type": "markdown",
      "source": [
        "**Machine learning models require all input and output variables to be numeric. This means that if the dataset contains any categorical data, it must be encoded to numbers before a person can fit and evaluate a model.**"
      ],
      "metadata": {
        "id": "pT9sRl5UZBXH"
      }
    },
    {
      "cell_type": "code",
      "source": [
        "#Encoding Categorical Data\n",
        "from sklearn.preprocessing import LabelEncoder"
      ],
      "metadata": {
        "id": "3M4YyDe4hpDZ"
      },
      "execution_count": null,
      "outputs": []
    },
    {
      "cell_type": "markdown",
      "source": [
        "**Label Encoding converts categorical data into numerical data.**"
      ],
      "metadata": {
        "id": "Wbwu69BHZ_w3"
      }
    },
    {
      "cell_type": "code",
      "source": [
        "#Label Encoding\n",
        "#Label Encoding of features\n",
        "labelencoder_feature = LabelEncoder()\n",
        "#the work_type,smoking_status column is represented by numeric value\n",
        "features['work_type'] = labelencoder_feature.fit_transform(features['work_type'])\n",
        "features['smoking_status'] = labelencoder_feature.fit_transform(features['smoking_status'])"
      ],
      "metadata": {
        "id": "0R6yc7GrhzhQ"
      },
      "execution_count": null,
      "outputs": []
    },
    {
      "cell_type": "code",
      "source": [
        "features"
      ],
      "metadata": {
        "colab": {
          "base_uri": "https://localhost:8080/"
        },
        "id": "6tD3KOwViKhI",
        "outputId": "3d84bdb4-a476-4959-a4b6-8f67ca67bf13"
      },
      "execution_count": null,
      "outputs": [
        {
          "output_type": "execute_result",
          "data": {
            "text/html": [
              "\n",
              "  <div id=\"df-ef235557-e48e-4ea5-a210-58d4f9b12e58\">\n",
              "    <div class=\"colab-df-container\">\n",
              "      <div>\n",
              "<style scoped>\n",
              "    .dataframe tbody tr th:only-of-type {\n",
              "        vertical-align: middle;\n",
              "    }\n",
              "\n",
              "    .dataframe tbody tr th {\n",
              "        vertical-align: top;\n",
              "    }\n",
              "\n",
              "    .dataframe thead th {\n",
              "        text-align: right;\n",
              "    }\n",
              "</style>\n",
              "<table border=\"1\" class=\"dataframe\">\n",
              "  <thead>\n",
              "    <tr style=\"text-align: right;\">\n",
              "      <th></th>\n",
              "      <th>age</th>\n",
              "      <th>hypertension</th>\n",
              "      <th>heart_disease</th>\n",
              "      <th>work_type</th>\n",
              "      <th>avg_glucose_level</th>\n",
              "      <th>bmi</th>\n",
              "      <th>smoking_status</th>\n",
              "    </tr>\n",
              "  </thead>\n",
              "  <tbody>\n",
              "    <tr>\n",
              "      <th>0</th>\n",
              "      <td>67.0</td>\n",
              "      <td>0</td>\n",
              "      <td>1</td>\n",
              "      <td>2</td>\n",
              "      <td>228.69</td>\n",
              "      <td>36.600000</td>\n",
              "      <td>1</td>\n",
              "    </tr>\n",
              "    <tr>\n",
              "      <th>1</th>\n",
              "      <td>61.0</td>\n",
              "      <td>0</td>\n",
              "      <td>0</td>\n",
              "      <td>3</td>\n",
              "      <td>202.21</td>\n",
              "      <td>28.893237</td>\n",
              "      <td>2</td>\n",
              "    </tr>\n",
              "    <tr>\n",
              "      <th>2</th>\n",
              "      <td>80.0</td>\n",
              "      <td>0</td>\n",
              "      <td>1</td>\n",
              "      <td>2</td>\n",
              "      <td>105.92</td>\n",
              "      <td>32.500000</td>\n",
              "      <td>2</td>\n",
              "    </tr>\n",
              "    <tr>\n",
              "      <th>3</th>\n",
              "      <td>49.0</td>\n",
              "      <td>0</td>\n",
              "      <td>0</td>\n",
              "      <td>2</td>\n",
              "      <td>171.23</td>\n",
              "      <td>34.400000</td>\n",
              "      <td>3</td>\n",
              "    </tr>\n",
              "    <tr>\n",
              "      <th>4</th>\n",
              "      <td>79.0</td>\n",
              "      <td>1</td>\n",
              "      <td>0</td>\n",
              "      <td>3</td>\n",
              "      <td>174.12</td>\n",
              "      <td>24.000000</td>\n",
              "      <td>2</td>\n",
              "    </tr>\n",
              "    <tr>\n",
              "      <th>...</th>\n",
              "      <td>...</td>\n",
              "      <td>...</td>\n",
              "      <td>...</td>\n",
              "      <td>...</td>\n",
              "      <td>...</td>\n",
              "      <td>...</td>\n",
              "      <td>...</td>\n",
              "    </tr>\n",
              "    <tr>\n",
              "      <th>5105</th>\n",
              "      <td>80.0</td>\n",
              "      <td>1</td>\n",
              "      <td>0</td>\n",
              "      <td>2</td>\n",
              "      <td>83.75</td>\n",
              "      <td>28.893237</td>\n",
              "      <td>2</td>\n",
              "    </tr>\n",
              "    <tr>\n",
              "      <th>5106</th>\n",
              "      <td>81.0</td>\n",
              "      <td>0</td>\n",
              "      <td>0</td>\n",
              "      <td>3</td>\n",
              "      <td>125.20</td>\n",
              "      <td>40.000000</td>\n",
              "      <td>2</td>\n",
              "    </tr>\n",
              "    <tr>\n",
              "      <th>5107</th>\n",
              "      <td>35.0</td>\n",
              "      <td>0</td>\n",
              "      <td>0</td>\n",
              "      <td>3</td>\n",
              "      <td>82.99</td>\n",
              "      <td>30.600000</td>\n",
              "      <td>2</td>\n",
              "    </tr>\n",
              "    <tr>\n",
              "      <th>5108</th>\n",
              "      <td>51.0</td>\n",
              "      <td>0</td>\n",
              "      <td>0</td>\n",
              "      <td>2</td>\n",
              "      <td>166.29</td>\n",
              "      <td>25.600000</td>\n",
              "      <td>1</td>\n",
              "    </tr>\n",
              "    <tr>\n",
              "      <th>5109</th>\n",
              "      <td>44.0</td>\n",
              "      <td>0</td>\n",
              "      <td>0</td>\n",
              "      <td>0</td>\n",
              "      <td>85.28</td>\n",
              "      <td>26.200000</td>\n",
              "      <td>0</td>\n",
              "    </tr>\n",
              "  </tbody>\n",
              "</table>\n",
              "<p>5110 rows × 7 columns</p>\n",
              "</div>\n",
              "      <button class=\"colab-df-convert\" onclick=\"convertToInteractive('df-ef235557-e48e-4ea5-a210-58d4f9b12e58')\"\n",
              "              title=\"Convert this dataframe to an interactive table.\"\n",
              "              style=\"display:none;\">\n",
              "        \n",
              "  <svg xmlns=\"http://www.w3.org/2000/svg\" height=\"24px\"viewBox=\"0 0 24 24\"\n",
              "       width=\"24px\">\n",
              "    <path d=\"M0 0h24v24H0V0z\" fill=\"none\"/>\n",
              "    <path d=\"M18.56 5.44l.94 2.06.94-2.06 2.06-.94-2.06-.94-.94-2.06-.94 2.06-2.06.94zm-11 1L8.5 8.5l.94-2.06 2.06-.94-2.06-.94L8.5 2.5l-.94 2.06-2.06.94zm10 10l.94 2.06.94-2.06 2.06-.94-2.06-.94-.94-2.06-.94 2.06-2.06.94z\"/><path d=\"M17.41 7.96l-1.37-1.37c-.4-.4-.92-.59-1.43-.59-.52 0-1.04.2-1.43.59L10.3 9.45l-7.72 7.72c-.78.78-.78 2.05 0 2.83L4 21.41c.39.39.9.59 1.41.59.51 0 1.02-.2 1.41-.59l7.78-7.78 2.81-2.81c.8-.78.8-2.07 0-2.86zM5.41 20L4 18.59l7.72-7.72 1.47 1.35L5.41 20z\"/>\n",
              "  </svg>\n",
              "      </button>\n",
              "      \n",
              "  <style>\n",
              "    .colab-df-container {\n",
              "      display:flex;\n",
              "      flex-wrap:wrap;\n",
              "      gap: 12px;\n",
              "    }\n",
              "\n",
              "    .colab-df-convert {\n",
              "      background-color: #E8F0FE;\n",
              "      border: none;\n",
              "      border-radius: 50%;\n",
              "      cursor: pointer;\n",
              "      display: none;\n",
              "      fill: #1967D2;\n",
              "      height: 32px;\n",
              "      padding: 0 0 0 0;\n",
              "      width: 32px;\n",
              "    }\n",
              "\n",
              "    .colab-df-convert:hover {\n",
              "      background-color: #E2EBFA;\n",
              "      box-shadow: 0px 1px 2px rgba(60, 64, 67, 0.3), 0px 1px 3px 1px rgba(60, 64, 67, 0.15);\n",
              "      fill: #174EA6;\n",
              "    }\n",
              "\n",
              "    [theme=dark] .colab-df-convert {\n",
              "      background-color: #3B4455;\n",
              "      fill: #D2E3FC;\n",
              "    }\n",
              "\n",
              "    [theme=dark] .colab-df-convert:hover {\n",
              "      background-color: #434B5C;\n",
              "      box-shadow: 0px 1px 3px 1px rgba(0, 0, 0, 0.15);\n",
              "      filter: drop-shadow(0px 1px 2px rgba(0, 0, 0, 0.3));\n",
              "      fill: #FFFFFF;\n",
              "    }\n",
              "  </style>\n",
              "\n",
              "      <script>\n",
              "        const buttonEl =\n",
              "          document.querySelector('#df-ef235557-e48e-4ea5-a210-58d4f9b12e58 button.colab-df-convert');\n",
              "        buttonEl.style.display =\n",
              "          google.colab.kernel.accessAllowed ? 'block' : 'none';\n",
              "\n",
              "        async function convertToInteractive(key) {\n",
              "          const element = document.querySelector('#df-ef235557-e48e-4ea5-a210-58d4f9b12e58');\n",
              "          const dataTable =\n",
              "            await google.colab.kernel.invokeFunction('convertToInteractive',\n",
              "                                                     [key], {});\n",
              "          if (!dataTable) return;\n",
              "\n",
              "          const docLinkHtml = 'Like what you see? Visit the ' +\n",
              "            '<a target=\"_blank\" href=https://colab.research.google.com/notebooks/data_table.ipynb>data table notebook</a>'\n",
              "            + ' to learn more about interactive tables.';\n",
              "          element.innerHTML = '';\n",
              "          dataTable['output_type'] = 'display_data';\n",
              "          await google.colab.output.renderOutput(dataTable, element);\n",
              "          const docLink = document.createElement('div');\n",
              "          docLink.innerHTML = docLinkHtml;\n",
              "          element.appendChild(docLink);\n",
              "        }\n",
              "      </script>\n",
              "    </div>\n",
              "  </div>\n",
              "  "
            ],
            "text/plain": [
              "       age  hypertension  ...        bmi  smoking_status\n",
              "0     67.0             0  ...  36.600000               1\n",
              "1     61.0             0  ...  28.893237               2\n",
              "2     80.0             0  ...  32.500000               2\n",
              "3     49.0             0  ...  34.400000               3\n",
              "4     79.0             1  ...  24.000000               2\n",
              "...    ...           ...  ...        ...             ...\n",
              "5105  80.0             1  ...  28.893237               2\n",
              "5106  81.0             0  ...  40.000000               2\n",
              "5107  35.0             0  ...  30.600000               2\n",
              "5108  51.0             0  ...  25.600000               1\n",
              "5109  44.0             0  ...  26.200000               0\n",
              "\n",
              "[5110 rows x 7 columns]"
            ]
          },
          "metadata": {},
          "execution_count": 24
        }
      ]
    },
    {
      "cell_type": "markdown",
      "source": [
        "# **Splitting the dataset**\n"
      ],
      "metadata": {
        "id": "idC6BEjNg-Sf"
      }
    },
    {
      "cell_type": "code",
      "source": [
        "# Machine learning libraries\n",
        "from sklearn.model_selection import train_test_split\n",
        "#The train-test split procedure is used to estimate the performance of machine learning algorithms. "
      ],
      "metadata": {
        "id": "cvg2hdbfe0jJ"
      },
      "execution_count": null,
      "outputs": []
    },
    {
      "cell_type": "code",
      "source": [
        "#Spliting the Dataset into Training Set and Test Set\n",
        "\n",
        "X_train,X_test,y_train,y_test=train_test_split(features,target,test_size = 0.2,random_state = 0)\n",
        "# random_state = 0 is select to get the same result"
      ],
      "metadata": {
        "id": "NgLAH-1Hg9iw"
      },
      "execution_count": null,
      "outputs": []
    },
    {
      "cell_type": "code",
      "source": [
        "print(X_train.shape)\n",
        "print(X_test.shape)"
      ],
      "metadata": {
        "colab": {
          "base_uri": "https://localhost:8080/"
        },
        "id": "JKAqE96RjjT_",
        "outputId": "ebfd7013-2284-4062-fe3c-1a9540234710"
      },
      "execution_count": null,
      "outputs": [
        {
          "output_type": "stream",
          "name": "stdout",
          "text": [
            "(4088, 7)\n",
            "(1022, 7)\n"
          ]
        }
      ]
    },
    {
      "cell_type": "code",
      "source": [
        "X_train"
      ],
      "metadata": {
        "colab": {
          "base_uri": "https://localhost:8080/"
        },
        "id": "H1C6x7f6jkwh",
        "outputId": "40f4f3bc-64d8-4502-ba73-318835983247"
      },
      "execution_count": null,
      "outputs": [
        {
          "output_type": "execute_result",
          "data": {
            "text/html": [
              "\n",
              "  <div id=\"df-c403f4da-b3b1-41ff-8f71-39cce92610c3\">\n",
              "    <div class=\"colab-df-container\">\n",
              "      <div>\n",
              "<style scoped>\n",
              "    .dataframe tbody tr th:only-of-type {\n",
              "        vertical-align: middle;\n",
              "    }\n",
              "\n",
              "    .dataframe tbody tr th {\n",
              "        vertical-align: top;\n",
              "    }\n",
              "\n",
              "    .dataframe thead th {\n",
              "        text-align: right;\n",
              "    }\n",
              "</style>\n",
              "<table border=\"1\" class=\"dataframe\">\n",
              "  <thead>\n",
              "    <tr style=\"text-align: right;\">\n",
              "      <th></th>\n",
              "      <th>age</th>\n",
              "      <th>hypertension</th>\n",
              "      <th>heart_disease</th>\n",
              "      <th>work_type</th>\n",
              "      <th>avg_glucose_level</th>\n",
              "      <th>bmi</th>\n",
              "      <th>smoking_status</th>\n",
              "    </tr>\n",
              "  </thead>\n",
              "  <tbody>\n",
              "    <tr>\n",
              "      <th>3029</th>\n",
              "      <td>36.0</td>\n",
              "      <td>0</td>\n",
              "      <td>0</td>\n",
              "      <td>2</td>\n",
              "      <td>67.29</td>\n",
              "      <td>36.7</td>\n",
              "      <td>1</td>\n",
              "    </tr>\n",
              "    <tr>\n",
              "      <th>2277</th>\n",
              "      <td>34.0</td>\n",
              "      <td>0</td>\n",
              "      <td>0</td>\n",
              "      <td>2</td>\n",
              "      <td>83.53</td>\n",
              "      <td>48.5</td>\n",
              "      <td>1</td>\n",
              "    </tr>\n",
              "    <tr>\n",
              "      <th>3002</th>\n",
              "      <td>60.0</td>\n",
              "      <td>0</td>\n",
              "      <td>0</td>\n",
              "      <td>2</td>\n",
              "      <td>65.16</td>\n",
              "      <td>30.8</td>\n",
              "      <td>2</td>\n",
              "    </tr>\n",
              "    <tr>\n",
              "      <th>246</th>\n",
              "      <td>75.0</td>\n",
              "      <td>0</td>\n",
              "      <td>0</td>\n",
              "      <td>3</td>\n",
              "      <td>78.80</td>\n",
              "      <td>29.3</td>\n",
              "      <td>1</td>\n",
              "    </tr>\n",
              "    <tr>\n",
              "      <th>2825</th>\n",
              "      <td>76.0</td>\n",
              "      <td>0</td>\n",
              "      <td>0</td>\n",
              "      <td>2</td>\n",
              "      <td>58.65</td>\n",
              "      <td>25.6</td>\n",
              "      <td>3</td>\n",
              "    </tr>\n",
              "    <tr>\n",
              "      <th>...</th>\n",
              "      <td>...</td>\n",
              "      <td>...</td>\n",
              "      <td>...</td>\n",
              "      <td>...</td>\n",
              "      <td>...</td>\n",
              "      <td>...</td>\n",
              "      <td>...</td>\n",
              "    </tr>\n",
              "    <tr>\n",
              "      <th>4931</th>\n",
              "      <td>53.0</td>\n",
              "      <td>1</td>\n",
              "      <td>0</td>\n",
              "      <td>0</td>\n",
              "      <td>98.61</td>\n",
              "      <td>38.8</td>\n",
              "      <td>3</td>\n",
              "    </tr>\n",
              "    <tr>\n",
              "      <th>3264</th>\n",
              "      <td>61.0</td>\n",
              "      <td>0</td>\n",
              "      <td>0</td>\n",
              "      <td>2</td>\n",
              "      <td>72.01</td>\n",
              "      <td>26.0</td>\n",
              "      <td>1</td>\n",
              "    </tr>\n",
              "    <tr>\n",
              "      <th>1653</th>\n",
              "      <td>44.0</td>\n",
              "      <td>0</td>\n",
              "      <td>0</td>\n",
              "      <td>2</td>\n",
              "      <td>94.71</td>\n",
              "      <td>28.4</td>\n",
              "      <td>3</td>\n",
              "    </tr>\n",
              "    <tr>\n",
              "      <th>2607</th>\n",
              "      <td>21.0</td>\n",
              "      <td>0</td>\n",
              "      <td>0</td>\n",
              "      <td>2</td>\n",
              "      <td>120.94</td>\n",
              "      <td>29.7</td>\n",
              "      <td>1</td>\n",
              "    </tr>\n",
              "    <tr>\n",
              "      <th>2732</th>\n",
              "      <td>58.0</td>\n",
              "      <td>1</td>\n",
              "      <td>0</td>\n",
              "      <td>0</td>\n",
              "      <td>59.52</td>\n",
              "      <td>33.2</td>\n",
              "      <td>2</td>\n",
              "    </tr>\n",
              "  </tbody>\n",
              "</table>\n",
              "<p>4088 rows × 7 columns</p>\n",
              "</div>\n",
              "      <button class=\"colab-df-convert\" onclick=\"convertToInteractive('df-c403f4da-b3b1-41ff-8f71-39cce92610c3')\"\n",
              "              title=\"Convert this dataframe to an interactive table.\"\n",
              "              style=\"display:none;\">\n",
              "        \n",
              "  <svg xmlns=\"http://www.w3.org/2000/svg\" height=\"24px\"viewBox=\"0 0 24 24\"\n",
              "       width=\"24px\">\n",
              "    <path d=\"M0 0h24v24H0V0z\" fill=\"none\"/>\n",
              "    <path d=\"M18.56 5.44l.94 2.06.94-2.06 2.06-.94-2.06-.94-.94-2.06-.94 2.06-2.06.94zm-11 1L8.5 8.5l.94-2.06 2.06-.94-2.06-.94L8.5 2.5l-.94 2.06-2.06.94zm10 10l.94 2.06.94-2.06 2.06-.94-2.06-.94-.94-2.06-.94 2.06-2.06.94z\"/><path d=\"M17.41 7.96l-1.37-1.37c-.4-.4-.92-.59-1.43-.59-.52 0-1.04.2-1.43.59L10.3 9.45l-7.72 7.72c-.78.78-.78 2.05 0 2.83L4 21.41c.39.39.9.59 1.41.59.51 0 1.02-.2 1.41-.59l7.78-7.78 2.81-2.81c.8-.78.8-2.07 0-2.86zM5.41 20L4 18.59l7.72-7.72 1.47 1.35L5.41 20z\"/>\n",
              "  </svg>\n",
              "      </button>\n",
              "      \n",
              "  <style>\n",
              "    .colab-df-container {\n",
              "      display:flex;\n",
              "      flex-wrap:wrap;\n",
              "      gap: 12px;\n",
              "    }\n",
              "\n",
              "    .colab-df-convert {\n",
              "      background-color: #E8F0FE;\n",
              "      border: none;\n",
              "      border-radius: 50%;\n",
              "      cursor: pointer;\n",
              "      display: none;\n",
              "      fill: #1967D2;\n",
              "      height: 32px;\n",
              "      padding: 0 0 0 0;\n",
              "      width: 32px;\n",
              "    }\n",
              "\n",
              "    .colab-df-convert:hover {\n",
              "      background-color: #E2EBFA;\n",
              "      box-shadow: 0px 1px 2px rgba(60, 64, 67, 0.3), 0px 1px 3px 1px rgba(60, 64, 67, 0.15);\n",
              "      fill: #174EA6;\n",
              "    }\n",
              "\n",
              "    [theme=dark] .colab-df-convert {\n",
              "      background-color: #3B4455;\n",
              "      fill: #D2E3FC;\n",
              "    }\n",
              "\n",
              "    [theme=dark] .colab-df-convert:hover {\n",
              "      background-color: #434B5C;\n",
              "      box-shadow: 0px 1px 3px 1px rgba(0, 0, 0, 0.15);\n",
              "      filter: drop-shadow(0px 1px 2px rgba(0, 0, 0, 0.3));\n",
              "      fill: #FFFFFF;\n",
              "    }\n",
              "  </style>\n",
              "\n",
              "      <script>\n",
              "        const buttonEl =\n",
              "          document.querySelector('#df-c403f4da-b3b1-41ff-8f71-39cce92610c3 button.colab-df-convert');\n",
              "        buttonEl.style.display =\n",
              "          google.colab.kernel.accessAllowed ? 'block' : 'none';\n",
              "\n",
              "        async function convertToInteractive(key) {\n",
              "          const element = document.querySelector('#df-c403f4da-b3b1-41ff-8f71-39cce92610c3');\n",
              "          const dataTable =\n",
              "            await google.colab.kernel.invokeFunction('convertToInteractive',\n",
              "                                                     [key], {});\n",
              "          if (!dataTable) return;\n",
              "\n",
              "          const docLinkHtml = 'Like what you see? Visit the ' +\n",
              "            '<a target=\"_blank\" href=https://colab.research.google.com/notebooks/data_table.ipynb>data table notebook</a>'\n",
              "            + ' to learn more about interactive tables.';\n",
              "          element.innerHTML = '';\n",
              "          dataTable['output_type'] = 'display_data';\n",
              "          await google.colab.output.renderOutput(dataTable, element);\n",
              "          const docLink = document.createElement('div');\n",
              "          docLink.innerHTML = docLinkHtml;\n",
              "          element.appendChild(docLink);\n",
              "        }\n",
              "      </script>\n",
              "    </div>\n",
              "  </div>\n",
              "  "
            ],
            "text/plain": [
              "       age  hypertension  ...   bmi  smoking_status\n",
              "3029  36.0             0  ...  36.7               1\n",
              "2277  34.0             0  ...  48.5               1\n",
              "3002  60.0             0  ...  30.8               2\n",
              "246   75.0             0  ...  29.3               1\n",
              "2825  76.0             0  ...  25.6               3\n",
              "...    ...           ...  ...   ...             ...\n",
              "4931  53.0             1  ...  38.8               3\n",
              "3264  61.0             0  ...  26.0               1\n",
              "1653  44.0             0  ...  28.4               3\n",
              "2607  21.0             0  ...  29.7               1\n",
              "2732  58.0             1  ...  33.2               2\n",
              "\n",
              "[4088 rows x 7 columns]"
            ]
          },
          "metadata": {},
          "execution_count": 28
        }
      ]
    },
    {
      "cell_type": "code",
      "source": [
        "X_test"
      ],
      "metadata": {
        "colab": {
          "base_uri": "https://localhost:8080/"
        },
        "id": "u2rz4oN-jolY",
        "outputId": "3a1ed7a7-bbe9-4f4b-dc39-470e12e30953"
      },
      "execution_count": null,
      "outputs": [
        {
          "output_type": "execute_result",
          "data": {
            "text/html": [
              "\n",
              "  <div id=\"df-e420b8b8-2a90-4456-b3ff-603f86bfa06d\">\n",
              "    <div class=\"colab-df-container\">\n",
              "      <div>\n",
              "<style scoped>\n",
              "    .dataframe tbody tr th:only-of-type {\n",
              "        vertical-align: middle;\n",
              "    }\n",
              "\n",
              "    .dataframe tbody tr th {\n",
              "        vertical-align: top;\n",
              "    }\n",
              "\n",
              "    .dataframe thead th {\n",
              "        text-align: right;\n",
              "    }\n",
              "</style>\n",
              "<table border=\"1\" class=\"dataframe\">\n",
              "  <thead>\n",
              "    <tr style=\"text-align: right;\">\n",
              "      <th></th>\n",
              "      <th>age</th>\n",
              "      <th>hypertension</th>\n",
              "      <th>heart_disease</th>\n",
              "      <th>work_type</th>\n",
              "      <th>avg_glucose_level</th>\n",
              "      <th>bmi</th>\n",
              "      <th>smoking_status</th>\n",
              "    </tr>\n",
              "  </thead>\n",
              "  <tbody>\n",
              "    <tr>\n",
              "      <th>42</th>\n",
              "      <td>82.0</td>\n",
              "      <td>0</td>\n",
              "      <td>1</td>\n",
              "      <td>2</td>\n",
              "      <td>144.90</td>\n",
              "      <td>26.400000</td>\n",
              "      <td>3</td>\n",
              "    </tr>\n",
              "    <tr>\n",
              "      <th>380</th>\n",
              "      <td>4.0</td>\n",
              "      <td>0</td>\n",
              "      <td>0</td>\n",
              "      <td>4</td>\n",
              "      <td>106.22</td>\n",
              "      <td>16.700000</td>\n",
              "      <td>0</td>\n",
              "    </tr>\n",
              "    <tr>\n",
              "      <th>3524</th>\n",
              "      <td>58.0</td>\n",
              "      <td>0</td>\n",
              "      <td>0</td>\n",
              "      <td>2</td>\n",
              "      <td>79.95</td>\n",
              "      <td>25.900000</td>\n",
              "      <td>2</td>\n",
              "    </tr>\n",
              "    <tr>\n",
              "      <th>352</th>\n",
              "      <td>20.0</td>\n",
              "      <td>0</td>\n",
              "      <td>0</td>\n",
              "      <td>2</td>\n",
              "      <td>96.57</td>\n",
              "      <td>34.100000</td>\n",
              "      <td>2</td>\n",
              "    </tr>\n",
              "    <tr>\n",
              "      <th>4927</th>\n",
              "      <td>10.0</td>\n",
              "      <td>0</td>\n",
              "      <td>0</td>\n",
              "      <td>4</td>\n",
              "      <td>69.84</td>\n",
              "      <td>13.700000</td>\n",
              "      <td>0</td>\n",
              "    </tr>\n",
              "    <tr>\n",
              "      <th>...</th>\n",
              "      <td>...</td>\n",
              "      <td>...</td>\n",
              "      <td>...</td>\n",
              "      <td>...</td>\n",
              "      <td>...</td>\n",
              "      <td>...</td>\n",
              "      <td>...</td>\n",
              "    </tr>\n",
              "    <tr>\n",
              "      <th>472</th>\n",
              "      <td>43.0</td>\n",
              "      <td>0</td>\n",
              "      <td>0</td>\n",
              "      <td>2</td>\n",
              "      <td>75.05</td>\n",
              "      <td>22.900000</td>\n",
              "      <td>3</td>\n",
              "    </tr>\n",
              "    <tr>\n",
              "      <th>4446</th>\n",
              "      <td>42.0</td>\n",
              "      <td>0</td>\n",
              "      <td>0</td>\n",
              "      <td>2</td>\n",
              "      <td>191.94</td>\n",
              "      <td>27.900000</td>\n",
              "      <td>2</td>\n",
              "    </tr>\n",
              "    <tr>\n",
              "      <th>660</th>\n",
              "      <td>52.0</td>\n",
              "      <td>0</td>\n",
              "      <td>0</td>\n",
              "      <td>2</td>\n",
              "      <td>69.37</td>\n",
              "      <td>36.200000</td>\n",
              "      <td>0</td>\n",
              "    </tr>\n",
              "    <tr>\n",
              "      <th>57</th>\n",
              "      <td>78.0</td>\n",
              "      <td>0</td>\n",
              "      <td>0</td>\n",
              "      <td>2</td>\n",
              "      <td>237.75</td>\n",
              "      <td>28.893237</td>\n",
              "      <td>1</td>\n",
              "    </tr>\n",
              "    <tr>\n",
              "      <th>2367</th>\n",
              "      <td>35.0</td>\n",
              "      <td>0</td>\n",
              "      <td>0</td>\n",
              "      <td>2</td>\n",
              "      <td>83.27</td>\n",
              "      <td>19.800000</td>\n",
              "      <td>1</td>\n",
              "    </tr>\n",
              "  </tbody>\n",
              "</table>\n",
              "<p>1022 rows × 7 columns</p>\n",
              "</div>\n",
              "      <button class=\"colab-df-convert\" onclick=\"convertToInteractive('df-e420b8b8-2a90-4456-b3ff-603f86bfa06d')\"\n",
              "              title=\"Convert this dataframe to an interactive table.\"\n",
              "              style=\"display:none;\">\n",
              "        \n",
              "  <svg xmlns=\"http://www.w3.org/2000/svg\" height=\"24px\"viewBox=\"0 0 24 24\"\n",
              "       width=\"24px\">\n",
              "    <path d=\"M0 0h24v24H0V0z\" fill=\"none\"/>\n",
              "    <path d=\"M18.56 5.44l.94 2.06.94-2.06 2.06-.94-2.06-.94-.94-2.06-.94 2.06-2.06.94zm-11 1L8.5 8.5l.94-2.06 2.06-.94-2.06-.94L8.5 2.5l-.94 2.06-2.06.94zm10 10l.94 2.06.94-2.06 2.06-.94-2.06-.94-.94-2.06-.94 2.06-2.06.94z\"/><path d=\"M17.41 7.96l-1.37-1.37c-.4-.4-.92-.59-1.43-.59-.52 0-1.04.2-1.43.59L10.3 9.45l-7.72 7.72c-.78.78-.78 2.05 0 2.83L4 21.41c.39.39.9.59 1.41.59.51 0 1.02-.2 1.41-.59l7.78-7.78 2.81-2.81c.8-.78.8-2.07 0-2.86zM5.41 20L4 18.59l7.72-7.72 1.47 1.35L5.41 20z\"/>\n",
              "  </svg>\n",
              "      </button>\n",
              "      \n",
              "  <style>\n",
              "    .colab-df-container {\n",
              "      display:flex;\n",
              "      flex-wrap:wrap;\n",
              "      gap: 12px;\n",
              "    }\n",
              "\n",
              "    .colab-df-convert {\n",
              "      background-color: #E8F0FE;\n",
              "      border: none;\n",
              "      border-radius: 50%;\n",
              "      cursor: pointer;\n",
              "      display: none;\n",
              "      fill: #1967D2;\n",
              "      height: 32px;\n",
              "      padding: 0 0 0 0;\n",
              "      width: 32px;\n",
              "    }\n",
              "\n",
              "    .colab-df-convert:hover {\n",
              "      background-color: #E2EBFA;\n",
              "      box-shadow: 0px 1px 2px rgba(60, 64, 67, 0.3), 0px 1px 3px 1px rgba(60, 64, 67, 0.15);\n",
              "      fill: #174EA6;\n",
              "    }\n",
              "\n",
              "    [theme=dark] .colab-df-convert {\n",
              "      background-color: #3B4455;\n",
              "      fill: #D2E3FC;\n",
              "    }\n",
              "\n",
              "    [theme=dark] .colab-df-convert:hover {\n",
              "      background-color: #434B5C;\n",
              "      box-shadow: 0px 1px 3px 1px rgba(0, 0, 0, 0.15);\n",
              "      filter: drop-shadow(0px 1px 2px rgba(0, 0, 0, 0.3));\n",
              "      fill: #FFFFFF;\n",
              "    }\n",
              "  </style>\n",
              "\n",
              "      <script>\n",
              "        const buttonEl =\n",
              "          document.querySelector('#df-e420b8b8-2a90-4456-b3ff-603f86bfa06d button.colab-df-convert');\n",
              "        buttonEl.style.display =\n",
              "          google.colab.kernel.accessAllowed ? 'block' : 'none';\n",
              "\n",
              "        async function convertToInteractive(key) {\n",
              "          const element = document.querySelector('#df-e420b8b8-2a90-4456-b3ff-603f86bfa06d');\n",
              "          const dataTable =\n",
              "            await google.colab.kernel.invokeFunction('convertToInteractive',\n",
              "                                                     [key], {});\n",
              "          if (!dataTable) return;\n",
              "\n",
              "          const docLinkHtml = 'Like what you see? Visit the ' +\n",
              "            '<a target=\"_blank\" href=https://colab.research.google.com/notebooks/data_table.ipynb>data table notebook</a>'\n",
              "            + ' to learn more about interactive tables.';\n",
              "          element.innerHTML = '';\n",
              "          dataTable['output_type'] = 'display_data';\n",
              "          await google.colab.output.renderOutput(dataTable, element);\n",
              "          const docLink = document.createElement('div');\n",
              "          docLink.innerHTML = docLinkHtml;\n",
              "          element.appendChild(docLink);\n",
              "        }\n",
              "      </script>\n",
              "    </div>\n",
              "  </div>\n",
              "  "
            ],
            "text/plain": [
              "       age  hypertension  ...        bmi  smoking_status\n",
              "42    82.0             0  ...  26.400000               3\n",
              "380    4.0             0  ...  16.700000               0\n",
              "3524  58.0             0  ...  25.900000               2\n",
              "352   20.0             0  ...  34.100000               2\n",
              "4927  10.0             0  ...  13.700000               0\n",
              "...    ...           ...  ...        ...             ...\n",
              "472   43.0             0  ...  22.900000               3\n",
              "4446  42.0             0  ...  27.900000               2\n",
              "660   52.0             0  ...  36.200000               0\n",
              "57    78.0             0  ...  28.893237               1\n",
              "2367  35.0             0  ...  19.800000               1\n",
              "\n",
              "[1022 rows x 7 columns]"
            ]
          },
          "metadata": {},
          "execution_count": 29
        }
      ]
    },
    {
      "cell_type": "markdown",
      "source": [
        "# **Feature Scaling**"
      ],
      "metadata": {
        "id": "PjZxuaCLj-Z1"
      }
    },
    {
      "cell_type": "markdown",
      "source": [
        "**Feature scaling is a method used to normalize the range of independent variables or features of data.**"
      ],
      "metadata": {
        "id": "aN7xwIQTbU-A"
      }
    },
    {
      "cell_type": "code",
      "source": [
        "#import Libraries\n",
        "from sklearn.preprocessing import StandardScaler"
      ],
      "metadata": {
        "id": "NB0rlufdjrj8"
      },
      "execution_count": null,
      "outputs": []
    },
    {
      "cell_type": "code",
      "source": [
        "#feature Scaling\n",
        "X_sc = StandardScaler()\n",
        "X_train = X_sc.fit_transform(X_train)\n",
        "X_test = X_sc.transform(X_test)"
      ],
      "metadata": {
        "id": "hYV0wWgtjvl9"
      },
      "execution_count": null,
      "outputs": []
    },
    {
      "cell_type": "markdown",
      "source": [
        "# **Logistic Regression**"
      ],
      "metadata": {
        "id": "GhggwsUtj8Lx"
      }
    },
    {
      "cell_type": "code",
      "source": [
        "#import Library\n",
        "from sklearn.linear_model import LogisticRegression\n",
        "\n",
        "# Fitting Logistic Regression to the training dataset\n",
        "lr = LogisticRegression()\n",
        "\n",
        "lr.fit(X_train,y_train)"
      ],
      "metadata": {
        "colab": {
          "base_uri": "https://localhost:8080/"
        },
        "id": "8Em_c310j2Ug",
        "outputId": "e5eea867-df3e-49a2-cf61-d7ff419a9b75"
      },
      "execution_count": null,
      "outputs": [
        {
          "output_type": "execute_result",
          "data": {
            "text/plain": [
              "LogisticRegression()"
            ]
          },
          "metadata": {},
          "execution_count": 32
        }
      ]
    },
    {
      "cell_type": "code",
      "source": [
        "# prediction\n",
        "y_pred = lr.predict(X_test)"
      ],
      "metadata": {
        "id": "C82n8w0HkEsA"
      },
      "execution_count": null,
      "outputs": []
    },
    {
      "cell_type": "code",
      "source": [
        "from sklearn.metrics import classification_report,confusion_matrix,accuracy_score,f1_score,precision_score,recall_score"
      ],
      "metadata": {
        "id": "ST35V_C8kKkJ"
      },
      "execution_count": null,
      "outputs": []
    },
    {
      "cell_type": "code",
      "source": [
        "# Making confusing matrix (actual,prediction)\n",
        "confusion_matrix(y_test,y_pred)"
      ],
      "metadata": {
        "colab": {
          "base_uri": "https://localhost:8080/"
        },
        "id": "K7RJjkaBkMCP",
        "outputId": "ce7e18b1-491a-431d-a45b-7d515d2fd05a"
      },
      "execution_count": null,
      "outputs": [
        {
          "output_type": "execute_result",
          "data": {
            "text/plain": [
              "array([[968,   0],\n",
              "       [ 54,   0]])"
            ]
          },
          "metadata": {},
          "execution_count": 35
        }
      ]
    },
    {
      "cell_type": "markdown",
      "source": [
        "**From the array, we can tell that there is 968 correct predictions and 54 incorrect predictions.**"
      ],
      "metadata": {
        "id": "jO6FEmoAwjKA"
      }
    },
    {
      "cell_type": "code",
      "source": [
        "# Making confusing matrix\n",
        "# it is used to check the accuracy of the classification\n",
        "print(classification_report(y_test,y_pred,target_names = ['No','Yes']))"
      ],
      "metadata": {
        "colab": {
          "base_uri": "https://localhost:8080/"
        },
        "id": "gPp3008IkO4v",
        "outputId": "a2841e7c-4f65-42b7-d9dc-0068ad7ef21c"
      },
      "execution_count": null,
      "outputs": [
        {
          "output_type": "stream",
          "name": "stdout",
          "text": [
            "              precision    recall  f1-score   support\n",
            "\n",
            "          No       0.95      1.00      0.97       968\n",
            "         Yes       0.00      0.00      0.00        54\n",
            "\n",
            "    accuracy                           0.95      1022\n",
            "   macro avg       0.47      0.50      0.49      1022\n",
            "weighted avg       0.90      0.95      0.92      1022\n",
            "\n"
          ]
        }
      ]
    },
    {
      "cell_type": "markdown",
      "source": [
        "**The accuracy is 95%** "
      ],
      "metadata": {
        "id": "w8u5guHDmBla"
      }
    },
    {
      "cell_type": "markdown",
      "source": [
        "# **KNN Classifier**"
      ],
      "metadata": {
        "id": "ddJzDgwXkova"
      }
    },
    {
      "cell_type": "code",
      "source": [
        "from sklearn.neighbors import KNeighborsClassifier\n",
        "\n",
        "# Classifier Model\n",
        "classifier = KNeighborsClassifier(n_neighbors=5, metric = 'minkowski', p=2)\n",
        "classifier.fit(X_train,y_train)\n",
        "# Prediction\n",
        "y_pred = classifier.predict(X_test)"
      ],
      "metadata": {
        "id": "gaLTIQ1xkd1w"
      },
      "execution_count": null,
      "outputs": []
    },
    {
      "cell_type": "code",
      "source": [
        "# Making confusing matrix\n",
        "print(confusion_matrix(y_test,y_pred))\n",
        "\n",
        "# Making confusing matrix\n",
        "# it is used to check the accuracy of the classification\n",
        "print(classification_report(y_test,y_pred,target_names = ['No','Yes']))"
      ],
      "metadata": {
        "colab": {
          "base_uri": "https://localhost:8080/"
        },
        "id": "iBa8TXA8kwPA",
        "outputId": "c6e9fbfa-e3d6-488f-8009-03dce6004357"
      },
      "execution_count": null,
      "outputs": [
        {
          "output_type": "stream",
          "name": "stdout",
          "text": [
            "[[964   4]\n",
            " [ 54   0]]\n",
            "              precision    recall  f1-score   support\n",
            "\n",
            "          No       0.95      1.00      0.97       968\n",
            "         Yes       0.00      0.00      0.00        54\n",
            "\n",
            "    accuracy                           0.94      1022\n",
            "   macro avg       0.47      0.50      0.49      1022\n",
            "weighted avg       0.90      0.94      0.92      1022\n",
            "\n"
          ]
        }
      ]
    },
    {
      "cell_type": "markdown",
      "source": [
        "**From the array, we can tell that there is 964 correct predictions and 58 incorrect predictions.**"
      ],
      "metadata": {
        "id": "pSJtFgtIx1Lm"
      }
    },
    {
      "cell_type": "markdown",
      "source": [
        "**The accuracy is 94%**"
      ],
      "metadata": {
        "id": "xkGgSi3adwtH"
      }
    },
    {
      "cell_type": "markdown",
      "source": [
        "# **Support Vector Machine**"
      ],
      "metadata": {
        "id": "Z0-P7a4Wk6Do"
      }
    },
    {
      "cell_type": "code",
      "source": [
        "from sklearn.svm import SVC\n",
        "\n",
        "# Classifier Model\n",
        "classifier = SVC(kernel = 'linear', random_state = 0)\n",
        "classifier.fit(X_train,y_train)\n",
        "# Prediction\n",
        "y_pred = classifier.predict(X_test)"
      ],
      "metadata": {
        "id": "i7TPeMFck1Uh"
      },
      "execution_count": null,
      "outputs": []
    },
    {
      "cell_type": "code",
      "source": [
        "# Making confusing matrix\n",
        "print(confusion_matrix(y_test,y_pred))\n",
        "\n",
        "# Making confusing matrix\n",
        "# it is used to check the accuracy of the classification\n",
        "print(classification_report(y_test,y_pred,target_names = ['No','Yes']))"
      ],
      "metadata": {
        "colab": {
          "base_uri": "https://localhost:8080/"
        },
        "id": "C61R5wUVlEwO",
        "outputId": "e1a4b17d-ba0c-49cf-9dc2-42d44b0db51b"
      },
      "execution_count": null,
      "outputs": [
        {
          "output_type": "stream",
          "name": "stdout",
          "text": [
            "[[968   0]\n",
            " [ 54   0]]\n",
            "              precision    recall  f1-score   support\n",
            "\n",
            "          No       0.95      1.00      0.97       968\n",
            "         Yes       0.00      0.00      0.00        54\n",
            "\n",
            "    accuracy                           0.95      1022\n",
            "   macro avg       0.47      0.50      0.49      1022\n",
            "weighted avg       0.90      0.95      0.92      1022\n",
            "\n"
          ]
        }
      ]
    },
    {
      "cell_type": "markdown",
      "source": [
        "**From the array, we can tell that there is 968 correct predictions and 54 incorrect predictions.**"
      ],
      "metadata": {
        "id": "Dpdq24XRyqPl"
      }
    },
    {
      "cell_type": "markdown",
      "source": [
        "**The algorithm gives 95% accuracy.**"
      ],
      "metadata": {
        "id": "hEoDDB7wd7K2"
      }
    },
    {
      "cell_type": "markdown",
      "source": [
        "# **Decision Tree classifier**"
      ],
      "metadata": {
        "id": "rYhfgJjAlXDh"
      }
    },
    {
      "cell_type": "code",
      "source": [
        "from sklearn.tree import DecisionTreeClassifier\n",
        "# Classifier Model\n",
        "classifier = DecisionTreeClassifier(criterion = 'entropy', random_state = 0)\n",
        "classifier.fit(X_train,y_train)\n",
        "# Prediction\n",
        "y_pred = classifier.predict(X_test)"
      ],
      "metadata": {
        "id": "AzRCsDRMlb3_"
      },
      "execution_count": null,
      "outputs": []
    },
    {
      "cell_type": "code",
      "source": [
        "# Making confusing matrix\n",
        "print(confusion_matrix(y_test,y_pred))\n",
        "\n",
        "# Making confusing matrix\n",
        "# it is used to check the accuracy of the classification\n",
        "print(classification_report(y_test,y_pred,target_names = ['No','Yes']))"
      ],
      "metadata": {
        "colab": {
          "base_uri": "https://localhost:8080/"
        },
        "id": "pwCupsqilgT4",
        "outputId": "2df4699b-f456-4ce5-8f7f-b20662c851bb"
      },
      "execution_count": null,
      "outputs": [
        {
          "output_type": "stream",
          "name": "stdout",
          "text": [
            "[[929  39]\n",
            " [ 46   8]]\n",
            "              precision    recall  f1-score   support\n",
            "\n",
            "          No       0.95      0.96      0.96       968\n",
            "         Yes       0.17      0.15      0.16        54\n",
            "\n",
            "    accuracy                           0.92      1022\n",
            "   macro avg       0.56      0.55      0.56      1022\n",
            "weighted avg       0.91      0.92      0.91      1022\n",
            "\n"
          ]
        }
      ]
    },
    {
      "cell_type": "markdown",
      "source": [
        "**From the array, we can tell that there is 929 correct predictions and 85 incorrect predictions.**"
      ],
      "metadata": {
        "id": "pIoQmY8HywDU"
      }
    },
    {
      "cell_type": "markdown",
      "source": [
        "**The accuracy is 92%**"
      ],
      "metadata": {
        "id": "sPBX-xk_eT6P"
      }
    },
    {
      "cell_type": "markdown",
      "source": [
        "# **Random Forest**"
      ],
      "metadata": {
        "id": "L_qP5ghRlj7w"
      }
    },
    {
      "cell_type": "code",
      "source": [
        "from sklearn.ensemble import RandomForestClassifier\n",
        "# Classifier Model\n",
        "classifier = RandomForestClassifier(n_estimators=10, criterion ='entropy', random_state = 0)\n",
        "classifier.fit(X_train,y_train)\n",
        "# Prediction\n",
        "y_pred = classifier.predict(X_test)"
      ],
      "metadata": {
        "id": "w2bIVRfAlo6g"
      },
      "execution_count": null,
      "outputs": []
    },
    {
      "cell_type": "code",
      "source": [
        "# Making confusing matrix\n",
        "print(confusion_matrix(y_test,y_pred))\n",
        "\n",
        "# Making confusing matrix\n",
        "# it is used to check the accuracy of the classification\n",
        "print(classification_report(y_test,y_pred,target_names = ['No','Yes']))"
      ],
      "metadata": {
        "colab": {
          "base_uri": "https://localhost:8080/"
        },
        "id": "5cMXzH4Plryi",
        "outputId": "75bf3c34-205b-40a7-f480-0e5b3532202d"
      },
      "execution_count": null,
      "outputs": [
        {
          "output_type": "stream",
          "name": "stdout",
          "text": [
            "[[966   2]\n",
            " [ 53   1]]\n",
            "              precision    recall  f1-score   support\n",
            "\n",
            "          No       0.95      1.00      0.97       968\n",
            "         Yes       0.33      0.02      0.04        54\n",
            "\n",
            "    accuracy                           0.95      1022\n",
            "   macro avg       0.64      0.51      0.50      1022\n",
            "weighted avg       0.92      0.95      0.92      1022\n",
            "\n"
          ]
        }
      ]
    },
    {
      "cell_type": "markdown",
      "source": [
        "**From the array, we can tell that there is 965 correct predictions and 55 incorrect predictions.**"
      ],
      "metadata": {
        "id": "giW0XcH5y6l1"
      }
    },
    {
      "cell_type": "markdown",
      "source": [
        "**The accuracy is 95%**"
      ],
      "metadata": {
        "id": "W-RW9N5pewP2"
      }
    },
    {
      "cell_type": "markdown",
      "source": [
        "# **Naive Bayes**"
      ],
      "metadata": {
        "id": "wsOJ0I3Ilwk_"
      }
    },
    {
      "cell_type": "code",
      "source": [
        "from sklearn.naive_bayes import GaussianNB\n",
        "\n",
        "# Classifier Model\n",
        "classifier = GaussianNB()\n",
        "classifier.fit(X_train,y_train)\n",
        "# Prediction\n",
        "y_pred = classifier.predict(X_test)"
      ],
      "metadata": {
        "id": "MTHe-Jn3lvxf"
      },
      "execution_count": null,
      "outputs": []
    },
    {
      "cell_type": "code",
      "source": [
        "# Making confusing matrix\n",
        "print(confusion_matrix(y_test,y_pred))\n",
        "\n",
        "# Making confusing matrix\n",
        "# it is used to check the accuracy of the classification\n",
        "print(classification_report(y_test,y_pred,target_names = ['No','Yes']))"
      ],
      "metadata": {
        "colab": {
          "base_uri": "https://localhost:8080/"
        },
        "id": "njnkjhDSl5YX",
        "outputId": "a223a64f-f806-4693-dca0-c6ff9dadf3ee"
      },
      "execution_count": null,
      "outputs": [
        {
          "output_type": "stream",
          "name": "stdout",
          "text": [
            "[[885  83]\n",
            " [ 33  21]]\n",
            "              precision    recall  f1-score   support\n",
            "\n",
            "          No       0.96      0.91      0.94       968\n",
            "         Yes       0.20      0.39      0.27        54\n",
            "\n",
            "    accuracy                           0.89      1022\n",
            "   macro avg       0.58      0.65      0.60      1022\n",
            "weighted avg       0.92      0.89      0.90      1022\n",
            "\n"
          ]
        }
      ]
    },
    {
      "cell_type": "markdown",
      "source": [
        "**From the array, we can tell that there is 906 correct predictions and 116 incorrect predictions.**"
      ],
      "metadata": {
        "id": "qHvVYN-_y_9-"
      }
    },
    {
      "cell_type": "markdown",
      "source": [
        "**The accuracy is 89%.**"
      ],
      "metadata": {
        "id": "DioMSgAwe2yd"
      }
    },
    {
      "cell_type": "markdown",
      "source": [
        "**In the above algorithms, naive bayes algorithm gives least accuracy. The highest accuracy is given by logistic regression, SVM and random forest.**"
      ],
      "metadata": {
        "id": "kvmdvU-Ce-nX"
      }
    },
    {
      "cell_type": "markdown",
      "source": [
        "# **Klib**"
      ],
      "metadata": {
        "id": "URPaG5JuoUCl"
      }
    },
    {
      "cell_type": "code",
      "source": [
        "! pip install klib"
      ],
      "metadata": {
        "colab": {
          "base_uri": "https://localhost:8080/"
        },
        "id": "VvhTivCAmIRI",
        "outputId": "e101d5ea-91b8-484a-de0f-4989fe5a3835"
      },
      "execution_count": null,
      "outputs": [
        {
          "output_type": "stream",
          "name": "stdout",
          "text": [
            "Collecting klib\n",
            "  Downloading klib-0.2.2-py3-none-any.whl (28 kB)\n",
            "Requirement already satisfied: scikit-learn>=0.23.1 in /usr/local/lib/python3.7/dist-packages (from klib) (1.0.1)\n",
            "Requirement already satisfied: scipy>=1.1.0 in /usr/local/lib/python3.7/dist-packages (from klib) (1.4.1)\n",
            "Requirement already satisfied: pandas>=1.1.2 in /usr/local/lib/python3.7/dist-packages (from klib) (1.1.5)\n",
            "Requirement already satisfied: matplotlib>=3.0.3 in /usr/local/lib/python3.7/dist-packages (from klib) (3.2.2)\n",
            "Requirement already satisfied: seaborn>=0.11.1 in /usr/local/lib/python3.7/dist-packages (from klib) (0.11.2)\n",
            "Requirement already satisfied: numpy>=1.16.3 in /usr/local/lib/python3.7/dist-packages (from klib) (1.19.5)\n",
            "Requirement already satisfied: python-dateutil>=2.1 in /usr/local/lib/python3.7/dist-packages (from matplotlib>=3.0.3->klib) (2.8.2)\n",
            "Requirement already satisfied: kiwisolver>=1.0.1 in /usr/local/lib/python3.7/dist-packages (from matplotlib>=3.0.3->klib) (1.3.2)\n",
            "Requirement already satisfied: cycler>=0.10 in /usr/local/lib/python3.7/dist-packages (from matplotlib>=3.0.3->klib) (0.11.0)\n",
            "Requirement already satisfied: pyparsing!=2.0.4,!=2.1.2,!=2.1.6,>=2.0.1 in /usr/local/lib/python3.7/dist-packages (from matplotlib>=3.0.3->klib) (3.0.6)\n",
            "Requirement already satisfied: pytz>=2017.2 in /usr/local/lib/python3.7/dist-packages (from pandas>=1.1.2->klib) (2018.9)\n",
            "Requirement already satisfied: six>=1.5 in /usr/local/lib/python3.7/dist-packages (from python-dateutil>=2.1->matplotlib>=3.0.3->klib) (1.15.0)\n",
            "Requirement already satisfied: joblib>=0.11 in /usr/local/lib/python3.7/dist-packages (from scikit-learn>=0.23.1->klib) (1.1.0)\n",
            "Requirement already satisfied: threadpoolctl>=2.0.0 in /usr/local/lib/python3.7/dist-packages (from scikit-learn>=0.23.1->klib) (3.0.0)\n",
            "Installing collected packages: klib\n",
            "Successfully installed klib-0.2.2\n"
          ]
        }
      ]
    },
    {
      "cell_type": "code",
      "source": [
        "import klib"
      ],
      "metadata": {
        "id": "blXEn31GmLW4"
      },
      "execution_count": null,
      "outputs": []
    },
    {
      "cell_type": "code",
      "source": [
        "klib.corr_mat(dataset_stroke_pred) # returns a color-encoded correlation matrix"
      ],
      "metadata": {
        "colab": {
          "base_uri": "https://localhost:8080/"
        },
        "id": "bm6pYpXOmORS",
        "outputId": "486f0731-a9e1-4498-b8c7-420feac2c1fa"
      },
      "execution_count": null,
      "outputs": [
        {
          "output_type": "execute_result",
          "data": {
            "text/html": [
              "<style  type=\"text/css\" >\n",
              "#T_f8db07dc_6148_11ec_9624_0242ac1c0002row0_col0,#T_f8db07dc_6148_11ec_9624_0242ac1c0002row0_col1,#T_f8db07dc_6148_11ec_9624_0242ac1c0002row0_col2,#T_f8db07dc_6148_11ec_9624_0242ac1c0002row0_col4,#T_f8db07dc_6148_11ec_9624_0242ac1c0002row0_col5,#T_f8db07dc_6148_11ec_9624_0242ac1c0002row0_col6,#T_f8db07dc_6148_11ec_9624_0242ac1c0002row1_col0,#T_f8db07dc_6148_11ec_9624_0242ac1c0002row1_col1,#T_f8db07dc_6148_11ec_9624_0242ac1c0002row1_col2,#T_f8db07dc_6148_11ec_9624_0242ac1c0002row1_col3,#T_f8db07dc_6148_11ec_9624_0242ac1c0002row1_col4,#T_f8db07dc_6148_11ec_9624_0242ac1c0002row1_col5,#T_f8db07dc_6148_11ec_9624_0242ac1c0002row1_col6,#T_f8db07dc_6148_11ec_9624_0242ac1c0002row2_col0,#T_f8db07dc_6148_11ec_9624_0242ac1c0002row2_col1,#T_f8db07dc_6148_11ec_9624_0242ac1c0002row2_col2,#T_f8db07dc_6148_11ec_9624_0242ac1c0002row2_col3,#T_f8db07dc_6148_11ec_9624_0242ac1c0002row2_col4,#T_f8db07dc_6148_11ec_9624_0242ac1c0002row2_col5,#T_f8db07dc_6148_11ec_9624_0242ac1c0002row2_col6,#T_f8db07dc_6148_11ec_9624_0242ac1c0002row3_col1,#T_f8db07dc_6148_11ec_9624_0242ac1c0002row3_col2,#T_f8db07dc_6148_11ec_9624_0242ac1c0002row3_col3,#T_f8db07dc_6148_11ec_9624_0242ac1c0002row3_col4,#T_f8db07dc_6148_11ec_9624_0242ac1c0002row3_col5,#T_f8db07dc_6148_11ec_9624_0242ac1c0002row3_col6,#T_f8db07dc_6148_11ec_9624_0242ac1c0002row4_col0,#T_f8db07dc_6148_11ec_9624_0242ac1c0002row4_col1,#T_f8db07dc_6148_11ec_9624_0242ac1c0002row4_col2,#T_f8db07dc_6148_11ec_9624_0242ac1c0002row4_col3,#T_f8db07dc_6148_11ec_9624_0242ac1c0002row4_col4,#T_f8db07dc_6148_11ec_9624_0242ac1c0002row4_col5,#T_f8db07dc_6148_11ec_9624_0242ac1c0002row4_col6,#T_f8db07dc_6148_11ec_9624_0242ac1c0002row5_col0,#T_f8db07dc_6148_11ec_9624_0242ac1c0002row5_col1,#T_f8db07dc_6148_11ec_9624_0242ac1c0002row5_col2,#T_f8db07dc_6148_11ec_9624_0242ac1c0002row5_col3,#T_f8db07dc_6148_11ec_9624_0242ac1c0002row5_col4,#T_f8db07dc_6148_11ec_9624_0242ac1c0002row5_col5,#T_f8db07dc_6148_11ec_9624_0242ac1c0002row5_col6,#T_f8db07dc_6148_11ec_9624_0242ac1c0002row6_col0,#T_f8db07dc_6148_11ec_9624_0242ac1c0002row6_col1,#T_f8db07dc_6148_11ec_9624_0242ac1c0002row6_col2,#T_f8db07dc_6148_11ec_9624_0242ac1c0002row6_col3,#T_f8db07dc_6148_11ec_9624_0242ac1c0002row6_col4,#T_f8db07dc_6148_11ec_9624_0242ac1c0002row6_col5,#T_f8db07dc_6148_11ec_9624_0242ac1c0002row6_col6{\n",
              "            color:  None;\n",
              "        }#T_f8db07dc_6148_11ec_9624_0242ac1c0002row0_col3,#T_f8db07dc_6148_11ec_9624_0242ac1c0002row3_col0{\n",
              "            color:  #FF3344;\n",
              "        }</style><table id=\"T_f8db07dc_6148_11ec_9624_0242ac1c0002\" class=\"dataframe\"><thead>    <tr>        <th class=\"blank level0\" ></th>        <th class=\"col_heading level0 col0\" >id</th>        <th class=\"col_heading level0 col1\" >age</th>        <th class=\"col_heading level0 col2\" >hypertension</th>        <th class=\"col_heading level0 col3\" >heart_disease</th>        <th class=\"col_heading level0 col4\" >avg_glucose_level</th>        <th class=\"col_heading level0 col5\" >bmi</th>        <th class=\"col_heading level0 col6\" >stroke</th>    </tr></thead><tbody>\n",
              "                <tr>\n",
              "                        <th id=\"T_f8db07dc_6148_11ec_9624_0242ac1c0002level0_row0\" class=\"row_heading level0 row0\" >id</th>\n",
              "                        <td id=\"T_f8db07dc_6148_11ec_9624_0242ac1c0002row0_col0\" class=\"data row0 col0\" >1.00</td>\n",
              "                        <td id=\"T_f8db07dc_6148_11ec_9624_0242ac1c0002row0_col1\" class=\"data row0 col1\" >0.00</td>\n",
              "                        <td id=\"T_f8db07dc_6148_11ec_9624_0242ac1c0002row0_col2\" class=\"data row0 col2\" >0.00</td>\n",
              "                        <td id=\"T_f8db07dc_6148_11ec_9624_0242ac1c0002row0_col3\" class=\"data row0 col3\" >-0.00</td>\n",
              "                        <td id=\"T_f8db07dc_6148_11ec_9624_0242ac1c0002row0_col4\" class=\"data row0 col4\" >0.00</td>\n",
              "                        <td id=\"T_f8db07dc_6148_11ec_9624_0242ac1c0002row0_col5\" class=\"data row0 col5\" >0.00</td>\n",
              "                        <td id=\"T_f8db07dc_6148_11ec_9624_0242ac1c0002row0_col6\" class=\"data row0 col6\" >0.01</td>\n",
              "            </tr>\n",
              "            <tr>\n",
              "                        <th id=\"T_f8db07dc_6148_11ec_9624_0242ac1c0002level0_row1\" class=\"row_heading level0 row1\" >age</th>\n",
              "                        <td id=\"T_f8db07dc_6148_11ec_9624_0242ac1c0002row1_col0\" class=\"data row1 col0\" >0.00</td>\n",
              "                        <td id=\"T_f8db07dc_6148_11ec_9624_0242ac1c0002row1_col1\" class=\"data row1 col1\" >1.00</td>\n",
              "                        <td id=\"T_f8db07dc_6148_11ec_9624_0242ac1c0002row1_col2\" class=\"data row1 col2\" >0.28</td>\n",
              "                        <td id=\"T_f8db07dc_6148_11ec_9624_0242ac1c0002row1_col3\" class=\"data row1 col3\" >0.26</td>\n",
              "                        <td id=\"T_f8db07dc_6148_11ec_9624_0242ac1c0002row1_col4\" class=\"data row1 col4\" >0.24</td>\n",
              "                        <td id=\"T_f8db07dc_6148_11ec_9624_0242ac1c0002row1_col5\" class=\"data row1 col5\" >0.33</td>\n",
              "                        <td id=\"T_f8db07dc_6148_11ec_9624_0242ac1c0002row1_col6\" class=\"data row1 col6\" >0.25</td>\n",
              "            </tr>\n",
              "            <tr>\n",
              "                        <th id=\"T_f8db07dc_6148_11ec_9624_0242ac1c0002level0_row2\" class=\"row_heading level0 row2\" >hypertension</th>\n",
              "                        <td id=\"T_f8db07dc_6148_11ec_9624_0242ac1c0002row2_col0\" class=\"data row2 col0\" >0.00</td>\n",
              "                        <td id=\"T_f8db07dc_6148_11ec_9624_0242ac1c0002row2_col1\" class=\"data row2 col1\" >0.28</td>\n",
              "                        <td id=\"T_f8db07dc_6148_11ec_9624_0242ac1c0002row2_col2\" class=\"data row2 col2\" >1.00</td>\n",
              "                        <td id=\"T_f8db07dc_6148_11ec_9624_0242ac1c0002row2_col3\" class=\"data row2 col3\" >0.11</td>\n",
              "                        <td id=\"T_f8db07dc_6148_11ec_9624_0242ac1c0002row2_col4\" class=\"data row2 col4\" >0.17</td>\n",
              "                        <td id=\"T_f8db07dc_6148_11ec_9624_0242ac1c0002row2_col5\" class=\"data row2 col5\" >0.17</td>\n",
              "                        <td id=\"T_f8db07dc_6148_11ec_9624_0242ac1c0002row2_col6\" class=\"data row2 col6\" >0.13</td>\n",
              "            </tr>\n",
              "            <tr>\n",
              "                        <th id=\"T_f8db07dc_6148_11ec_9624_0242ac1c0002level0_row3\" class=\"row_heading level0 row3\" >heart_disease</th>\n",
              "                        <td id=\"T_f8db07dc_6148_11ec_9624_0242ac1c0002row3_col0\" class=\"data row3 col0\" >-0.00</td>\n",
              "                        <td id=\"T_f8db07dc_6148_11ec_9624_0242ac1c0002row3_col1\" class=\"data row3 col1\" >0.26</td>\n",
              "                        <td id=\"T_f8db07dc_6148_11ec_9624_0242ac1c0002row3_col2\" class=\"data row3 col2\" >0.11</td>\n",
              "                        <td id=\"T_f8db07dc_6148_11ec_9624_0242ac1c0002row3_col3\" class=\"data row3 col3\" >1.00</td>\n",
              "                        <td id=\"T_f8db07dc_6148_11ec_9624_0242ac1c0002row3_col4\" class=\"data row3 col4\" >0.16</td>\n",
              "                        <td id=\"T_f8db07dc_6148_11ec_9624_0242ac1c0002row3_col5\" class=\"data row3 col5\" >0.04</td>\n",
              "                        <td id=\"T_f8db07dc_6148_11ec_9624_0242ac1c0002row3_col6\" class=\"data row3 col6\" >0.13</td>\n",
              "            </tr>\n",
              "            <tr>\n",
              "                        <th id=\"T_f8db07dc_6148_11ec_9624_0242ac1c0002level0_row4\" class=\"row_heading level0 row4\" >avg_glucose_level</th>\n",
              "                        <td id=\"T_f8db07dc_6148_11ec_9624_0242ac1c0002row4_col0\" class=\"data row4 col0\" >0.00</td>\n",
              "                        <td id=\"T_f8db07dc_6148_11ec_9624_0242ac1c0002row4_col1\" class=\"data row4 col1\" >0.24</td>\n",
              "                        <td id=\"T_f8db07dc_6148_11ec_9624_0242ac1c0002row4_col2\" class=\"data row4 col2\" >0.17</td>\n",
              "                        <td id=\"T_f8db07dc_6148_11ec_9624_0242ac1c0002row4_col3\" class=\"data row4 col3\" >0.16</td>\n",
              "                        <td id=\"T_f8db07dc_6148_11ec_9624_0242ac1c0002row4_col4\" class=\"data row4 col4\" >1.00</td>\n",
              "                        <td id=\"T_f8db07dc_6148_11ec_9624_0242ac1c0002row4_col5\" class=\"data row4 col5\" >0.18</td>\n",
              "                        <td id=\"T_f8db07dc_6148_11ec_9624_0242ac1c0002row4_col6\" class=\"data row4 col6\" >0.13</td>\n",
              "            </tr>\n",
              "            <tr>\n",
              "                        <th id=\"T_f8db07dc_6148_11ec_9624_0242ac1c0002level0_row5\" class=\"row_heading level0 row5\" >bmi</th>\n",
              "                        <td id=\"T_f8db07dc_6148_11ec_9624_0242ac1c0002row5_col0\" class=\"data row5 col0\" >0.00</td>\n",
              "                        <td id=\"T_f8db07dc_6148_11ec_9624_0242ac1c0002row5_col1\" class=\"data row5 col1\" >0.33</td>\n",
              "                        <td id=\"T_f8db07dc_6148_11ec_9624_0242ac1c0002row5_col2\" class=\"data row5 col2\" >0.17</td>\n",
              "                        <td id=\"T_f8db07dc_6148_11ec_9624_0242ac1c0002row5_col3\" class=\"data row5 col3\" >0.04</td>\n",
              "                        <td id=\"T_f8db07dc_6148_11ec_9624_0242ac1c0002row5_col4\" class=\"data row5 col4\" >0.18</td>\n",
              "                        <td id=\"T_f8db07dc_6148_11ec_9624_0242ac1c0002row5_col5\" class=\"data row5 col5\" >1.00</td>\n",
              "                        <td id=\"T_f8db07dc_6148_11ec_9624_0242ac1c0002row5_col6\" class=\"data row5 col6\" >0.04</td>\n",
              "            </tr>\n",
              "            <tr>\n",
              "                        <th id=\"T_f8db07dc_6148_11ec_9624_0242ac1c0002level0_row6\" class=\"row_heading level0 row6\" >stroke</th>\n",
              "                        <td id=\"T_f8db07dc_6148_11ec_9624_0242ac1c0002row6_col0\" class=\"data row6 col0\" >0.01</td>\n",
              "                        <td id=\"T_f8db07dc_6148_11ec_9624_0242ac1c0002row6_col1\" class=\"data row6 col1\" >0.25</td>\n",
              "                        <td id=\"T_f8db07dc_6148_11ec_9624_0242ac1c0002row6_col2\" class=\"data row6 col2\" >0.13</td>\n",
              "                        <td id=\"T_f8db07dc_6148_11ec_9624_0242ac1c0002row6_col3\" class=\"data row6 col3\" >0.13</td>\n",
              "                        <td id=\"T_f8db07dc_6148_11ec_9624_0242ac1c0002row6_col4\" class=\"data row6 col4\" >0.13</td>\n",
              "                        <td id=\"T_f8db07dc_6148_11ec_9624_0242ac1c0002row6_col5\" class=\"data row6 col5\" >0.04</td>\n",
              "                        <td id=\"T_f8db07dc_6148_11ec_9624_0242ac1c0002row6_col6\" class=\"data row6 col6\" >1.00</td>\n",
              "            </tr>\n",
              "    </tbody></table>"
            ],
            "text/plain": [
              "<pandas.io.formats.style.Styler at 0x7f06d04c3f10>"
            ]
          },
          "metadata": {},
          "execution_count": 49
        }
      ]
    },
    {
      "cell_type": "code",
      "source": [
        "klib.corr_plot(dataset_stroke_pred)"
      ],
      "metadata": {
        "colab": {
          "base_uri": "https://localhost:8080/"
        },
        "id": "8PyrwU-_oL7H",
        "outputId": "194ac88f-f4f0-4a6d-aaf7-8298fdc675ae"
      },
      "execution_count": null,
      "outputs": [
        {
          "output_type": "execute_result",
          "data": {
            "text/plain": [
              "<matplotlib.axes._subplots.AxesSubplot at 0x7f06cf731450>"
            ]
          },
          "metadata": {},
          "execution_count": 50
        },
        {
          "output_type": "display_data",
          "data": {
            "image/png": "[encoded data removed]",
            "text/plain": [
              "<Figure size 864x720 with 2 Axes>"
            ]
          },
          "metadata": {
            "needs_background": "light"
          }
        }
      ]
    }
  ]
}