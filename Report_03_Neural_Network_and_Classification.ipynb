{
  "nbformat": 4,
  "nbformat_minor": 0,
  "metadata": {
    "colab": {
      "name": "Report-03_Neural Network and Classification.ipynb",
      "provenance": [],
      "collapsed_sections": [],
      "authorship_tag": "ABX9TyM6Wd0kFkYifOF+D0SgjpN+",
      "include_colab_link": true
    },
    "kernelspec": {
      "name": "python3",
      "display_name": "Python 3"
    },
    "language_info": {
      "name": "python"
    }
  },
  "cells": [
    {
      "cell_type": "markdown",
      "metadata": {
        "id": "view-in-github",
        "colab_type": "text"
      },
      "source": [
        "<a href=\"https://colab.research.google.com/github/sanjida-tasnim/MACHINE-LEARNING/blob/main/Report_03_Neural_Network_and_Classification.ipynb\" target=\"_parent\"><img src=\"https://colab.research.google.com/assets/colab-badge.svg\" alt=\"Open In Colab\"/></a>"
      ]
    },
    {
      "cell_type": "markdown",
      "source": [
        "**Course no:** ETE 456\n",
        "\n",
        "**course name:** Neural and Fuzzy systems in communications sessional\n",
        "\n",
        "**Submitted to:** Eftekhar Hossain\n",
        "\n",
        "**Submitted by:**\n",
        "\n",
        "**name:** Mahabub-e-sanjida tasnim\n",
        "\n",
        "**ID:** 1608009\n",
        "\n",
        "**Level:** 4\n",
        "\n",
        "**Term:** 2"
      ],
      "metadata": {
        "id": "kUT4YiwMmdO7"
      }
    },
    {
      "cell_type": "markdown",
      "source": [
        "# **Diabetes Dataset**\n",
        "**Columns:**\n",
        "\n",
        "Pregnancies: Number of times pregnant\n",
        "\n",
        "Glucose: Plasma glucose concentration a 2 hours in an oral glucose tolerance test\n",
        "\n",
        "BloodPressure: Diastolic blood pressure (mm Hg)\n",
        "\n",
        "SkinThickness: Triceps skin fold thickness (mm)\n",
        "\n",
        "Insulin: 2-Hour serum insulin (mu U/ml)\n",
        "\n",
        "BMI: Body mass index (weight in kg/(height in m)^2)\n",
        "\n",
        "DiabetesPedigreeFunction: Diabetes pedigree function\n",
        "\n",
        "Age: Age (years)\n",
        "\n",
        "Outcome: Class variable (0 or 1)"
      ],
      "metadata": {
        "id": "V-z8CjmoY8Zz"
      }
    },
    {
      "cell_type": "markdown",
      "source": [
        "**Task:** \n",
        "\n",
        "To accurately predict whether a patient is likely to have diabetes or not."
      ],
      "metadata": {
        "id": "YTCefIp00IFN"
      }
    },
    {
      "cell_type": "markdown",
      "source": [
        "**Objectives:**\n",
        "\n",
        "1.To predict if a person have diabetes or not by using Deep Neural Network.\n",
        "\n",
        "2.To develop DNN models using Tensorflow Framework.\n"
      ],
      "metadata": {
        "id": "Wb9-7Efa0bpe"
      }
    },
    {
      "cell_type": "code",
      "source": [
        "import warnings\n",
        "warnings.filterwarnings(\"ignore\")"
      ],
      "metadata": {
        "id": "GL9qJSiqZSzM"
      },
      "execution_count": null,
      "outputs": []
    },
    {
      "cell_type": "markdown",
      "source": [
        "**To import libraries:**"
      ],
      "metadata": {
        "id": "xIju82HSnpgQ"
      }
    },
    {
      "cell_type": "code",
      "source": [
        "import numpy as np        \n",
        "import pandas as pd     \n",
        "import matplotlib.pyplot as plt"
      ],
      "metadata": {
        "id": "IciCgecOZ4mq"
      },
      "execution_count": null,
      "outputs": []
    },
    {
      "cell_type": "markdown",
      "source": [
        "**To download the dataset:**"
      ],
      "metadata": {
        "id": "Wwo7ox8yn68q"
      }
    },
    {
      "cell_type": "code",
      "source": [
        "# Download the data\n",
        "!wget -O diabetes.csv https://www.dropbox.com/s/sglreynnyx40pb6/diabetes.csv?dl=0"
      ],
      "metadata": {
        "colab": {
          "base_uri": "https://localhost:8080/"
        },
        "id": "eIo__5GzZ-9i",
        "outputId": "34605d18-9e7e-48d7-96e5-9380940b8235"
      },
      "execution_count": null,
      "outputs": [
        {
          "output_type": "stream",
          "name": "stdout",
          "text": [
            "--2021-12-20 03:56:20--  https://www.dropbox.com/s/sglreynnyx40pb6/diabetes.csv?dl=0\n",
            "Resolving www.dropbox.com (www.dropbox.com)... 162.125.5.18, 2620:100:601d:18::a27d:512\n",
            "Connecting to www.dropbox.com (www.dropbox.com)|162.125.5.18|:443... connected.\n",
            "HTTP request sent, awaiting response... 301 Moved Permanently\n",
            "Location: /s/raw/sglreynnyx40pb6/diabetes.csv [following]\n",
            "--2021-12-20 03:56:20--  https://www.dropbox.com/s/raw/sglreynnyx40pb6/diabetes.csv\n",
            "Reusing existing connection to www.dropbox.com:443.\n",
            "HTTP request sent, awaiting response... 302 Found\n",
            "Location: https://uce70aedf1b9aa17998b31457d10.dl.dropboxusercontent.com/cd/0/inline/BcIOGiz7qRKuen-XyV_Pbf9jkFFi4ArFMgkLya6HzukeAxkLWp7H82fmDdd5r8tfXtnMDimC3KwBYKwMZM8iviNCkoDbZ-v3usYp7xr1iIugwJsXIsKUBVCp5hmKMbTjeDn5ev8Y2jV-obdKIyGhuU8s/file# [following]\n",
            "--2021-12-20 03:56:20--  https://uce70aedf1b9aa17998b31457d10.dl.dropboxusercontent.com/cd/0/inline/BcIOGiz7qRKuen-XyV_Pbf9jkFFi4ArFMgkLya6HzukeAxkLWp7H82fmDdd5r8tfXtnMDimC3KwBYKwMZM8iviNCkoDbZ-v3usYp7xr1iIugwJsXIsKUBVCp5hmKMbTjeDn5ev8Y2jV-obdKIyGhuU8s/file\n",
            "Resolving uce70aedf1b9aa17998b31457d10.dl.dropboxusercontent.com (uce70aedf1b9aa17998b31457d10.dl.dropboxusercontent.com)... 162.125.8.15, 2620:100:601d:15::a27d:50f\n",
            "Connecting to uce70aedf1b9aa17998b31457d10.dl.dropboxusercontent.com (uce70aedf1b9aa17998b31457d10.dl.dropboxusercontent.com)|162.125.8.15|:443... connected.\n",
            "HTTP request sent, awaiting response... 200 OK\n",
            "Length: 23873 (23K) [text/plain]\n",
            "Saving to: ‘diabetes.csv’\n",
            "\n",
            "diabetes.csv        100%[===================>]  23.31K  --.-KB/s    in 0.02s   \n",
            "\n",
            "2021-12-20 03:56:21 (1.03 MB/s) - ‘diabetes.csv’ saved [23873/23873]\n",
            "\n"
          ]
        }
      ]
    },
    {
      "cell_type": "markdown",
      "source": [
        "**To import dataset:**"
      ],
      "metadata": {
        "id": "Nf2RS7w2oCox"
      }
    },
    {
      "cell_type": "code",
      "source": [
        "#importing the dataset\n",
        "\n",
        "dataset_diabetes_pred = pd.read_csv('diabetes.csv')\n",
        "dataset_diabetes_pred"
      ],
      "metadata": {
        "colab": {
          "base_uri": "https://localhost:8080/",
          "height": 423
        },
        "id": "I67M8Vp6aaHC",
        "outputId": "e77dbd3f-9cb4-43a8-93ca-8f8d91cd3953"
      },
      "execution_count": null,
      "outputs": [
        {
          "output_type": "execute_result",
          "data": {
            "text/html": [
              "\n",
              "  <div id=\"df-ad0931ff-6967-4b86-aaba-5d0ea7b08486\">\n",
              "    <div class=\"colab-df-container\">\n",
              "      <div>\n",
              "<style scoped>\n",
              "    .dataframe tbody tr th:only-of-type {\n",
              "        vertical-align: middle;\n",
              "    }\n",
              "\n",
              "    .dataframe tbody tr th {\n",
              "        vertical-align: top;\n",
              "    }\n",
              "\n",
              "    .dataframe thead th {\n",
              "        text-align: right;\n",
              "    }\n",
              "</style>\n",
              "<table border=\"1\" class=\"dataframe\">\n",
              "  <thead>\n",
              "    <tr style=\"text-align: right;\">\n",
              "      <th></th>\n",
              "      <th>Pregnancies</th>\n",
              "      <th>Glucose</th>\n",
              "      <th>BloodPressure</th>\n",
              "      <th>SkinThickness</th>\n",
              "      <th>Insulin</th>\n",
              "      <th>BMI</th>\n",
              "      <th>DiabetesPedigreeFunction</th>\n",
              "      <th>Age</th>\n",
              "      <th>Outcome</th>\n",
              "    </tr>\n",
              "  </thead>\n",
              "  <tbody>\n",
              "    <tr>\n",
              "      <th>0</th>\n",
              "      <td>6</td>\n",
              "      <td>148</td>\n",
              "      <td>72</td>\n",
              "      <td>35</td>\n",
              "      <td>0</td>\n",
              "      <td>33.6</td>\n",
              "      <td>0.627</td>\n",
              "      <td>50</td>\n",
              "      <td>1</td>\n",
              "    </tr>\n",
              "    <tr>\n",
              "      <th>1</th>\n",
              "      <td>1</td>\n",
              "      <td>85</td>\n",
              "      <td>66</td>\n",
              "      <td>29</td>\n",
              "      <td>0</td>\n",
              "      <td>26.6</td>\n",
              "      <td>0.351</td>\n",
              "      <td>31</td>\n",
              "      <td>0</td>\n",
              "    </tr>\n",
              "    <tr>\n",
              "      <th>2</th>\n",
              "      <td>8</td>\n",
              "      <td>183</td>\n",
              "      <td>64</td>\n",
              "      <td>0</td>\n",
              "      <td>0</td>\n",
              "      <td>23.3</td>\n",
              "      <td>0.672</td>\n",
              "      <td>32</td>\n",
              "      <td>1</td>\n",
              "    </tr>\n",
              "    <tr>\n",
              "      <th>3</th>\n",
              "      <td>1</td>\n",
              "      <td>89</td>\n",
              "      <td>66</td>\n",
              "      <td>23</td>\n",
              "      <td>94</td>\n",
              "      <td>28.1</td>\n",
              "      <td>0.167</td>\n",
              "      <td>21</td>\n",
              "      <td>0</td>\n",
              "    </tr>\n",
              "    <tr>\n",
              "      <th>4</th>\n",
              "      <td>0</td>\n",
              "      <td>137</td>\n",
              "      <td>40</td>\n",
              "      <td>35</td>\n",
              "      <td>168</td>\n",
              "      <td>43.1</td>\n",
              "      <td>2.288</td>\n",
              "      <td>33</td>\n",
              "      <td>1</td>\n",
              "    </tr>\n",
              "    <tr>\n",
              "      <th>...</th>\n",
              "      <td>...</td>\n",
              "      <td>...</td>\n",
              "      <td>...</td>\n",
              "      <td>...</td>\n",
              "      <td>...</td>\n",
              "      <td>...</td>\n",
              "      <td>...</td>\n",
              "      <td>...</td>\n",
              "      <td>...</td>\n",
              "    </tr>\n",
              "    <tr>\n",
              "      <th>763</th>\n",
              "      <td>10</td>\n",
              "      <td>101</td>\n",
              "      <td>76</td>\n",
              "      <td>48</td>\n",
              "      <td>180</td>\n",
              "      <td>32.9</td>\n",
              "      <td>0.171</td>\n",
              "      <td>63</td>\n",
              "      <td>0</td>\n",
              "    </tr>\n",
              "    <tr>\n",
              "      <th>764</th>\n",
              "      <td>2</td>\n",
              "      <td>122</td>\n",
              "      <td>70</td>\n",
              "      <td>27</td>\n",
              "      <td>0</td>\n",
              "      <td>36.8</td>\n",
              "      <td>0.340</td>\n",
              "      <td>27</td>\n",
              "      <td>0</td>\n",
              "    </tr>\n",
              "    <tr>\n",
              "      <th>765</th>\n",
              "      <td>5</td>\n",
              "      <td>121</td>\n",
              "      <td>72</td>\n",
              "      <td>23</td>\n",
              "      <td>112</td>\n",
              "      <td>26.2</td>\n",
              "      <td>0.245</td>\n",
              "      <td>30</td>\n",
              "      <td>0</td>\n",
              "    </tr>\n",
              "    <tr>\n",
              "      <th>766</th>\n",
              "      <td>1</td>\n",
              "      <td>126</td>\n",
              "      <td>60</td>\n",
              "      <td>0</td>\n",
              "      <td>0</td>\n",
              "      <td>30.1</td>\n",
              "      <td>0.349</td>\n",
              "      <td>47</td>\n",
              "      <td>1</td>\n",
              "    </tr>\n",
              "    <tr>\n",
              "      <th>767</th>\n",
              "      <td>1</td>\n",
              "      <td>93</td>\n",
              "      <td>70</td>\n",
              "      <td>31</td>\n",
              "      <td>0</td>\n",
              "      <td>30.4</td>\n",
              "      <td>0.315</td>\n",
              "      <td>23</td>\n",
              "      <td>0</td>\n",
              "    </tr>\n",
              "  </tbody>\n",
              "</table>\n",
              "<p>768 rows × 9 columns</p>\n",
              "</div>\n",
              "      <button class=\"colab-df-convert\" onclick=\"convertToInteractive('df-ad0931ff-6967-4b86-aaba-5d0ea7b08486')\"\n",
              "              title=\"Convert this dataframe to an interactive table.\"\n",
              "              style=\"display:none;\">\n",
              "        \n",
              "  <svg xmlns=\"http://www.w3.org/2000/svg\" height=\"24px\"viewBox=\"0 0 24 24\"\n",
              "       width=\"24px\">\n",
              "    <path d=\"M0 0h24v24H0V0z\" fill=\"none\"/>\n",
              "    <path d=\"M18.56 5.44l.94 2.06.94-2.06 2.06-.94-2.06-.94-.94-2.06-.94 2.06-2.06.94zm-11 1L8.5 8.5l.94-2.06 2.06-.94-2.06-.94L8.5 2.5l-.94 2.06-2.06.94zm10 10l.94 2.06.94-2.06 2.06-.94-2.06-.94-.94-2.06-.94 2.06-2.06.94z\"/><path d=\"M17.41 7.96l-1.37-1.37c-.4-.4-.92-.59-1.43-.59-.52 0-1.04.2-1.43.59L10.3 9.45l-7.72 7.72c-.78.78-.78 2.05 0 2.83L4 21.41c.39.39.9.59 1.41.59.51 0 1.02-.2 1.41-.59l7.78-7.78 2.81-2.81c.8-.78.8-2.07 0-2.86zM5.41 20L4 18.59l7.72-7.72 1.47 1.35L5.41 20z\"/>\n",
              "  </svg>\n",
              "      </button>\n",
              "      \n",
              "  <style>\n",
              "    .colab-df-container {\n",
              "      display:flex;\n",
              "      flex-wrap:wrap;\n",
              "      gap: 12px;\n",
              "    }\n",
              "\n",
              "    .colab-df-convert {\n",
              "      background-color: #E8F0FE;\n",
              "      border: none;\n",
              "      border-radius: 50%;\n",
              "      cursor: pointer;\n",
              "      display: none;\n",
              "      fill: #1967D2;\n",
              "      height: 32px;\n",
              "      padding: 0 0 0 0;\n",
              "      width: 32px;\n",
              "    }\n",
              "\n",
              "    .colab-df-convert:hover {\n",
              "      background-color: #E2EBFA;\n",
              "      box-shadow: 0px 1px 2px rgba(60, 64, 67, 0.3), 0px 1px 3px 1px rgba(60, 64, 67, 0.15);\n",
              "      fill: #174EA6;\n",
              "    }\n",
              "\n",
              "    [theme=dark] .colab-df-convert {\n",
              "      background-color: #3B4455;\n",
              "      fill: #D2E3FC;\n",
              "    }\n",
              "\n",
              "    [theme=dark] .colab-df-convert:hover {\n",
              "      background-color: #434B5C;\n",
              "      box-shadow: 0px 1px 3px 1px rgba(0, 0, 0, 0.15);\n",
              "      filter: drop-shadow(0px 1px 2px rgba(0, 0, 0, 0.3));\n",
              "      fill: #FFFFFF;\n",
              "    }\n",
              "  </style>\n",
              "\n",
              "      <script>\n",
              "        const buttonEl =\n",
              "          document.querySelector('#df-ad0931ff-6967-4b86-aaba-5d0ea7b08486 button.colab-df-convert');\n",
              "        buttonEl.style.display =\n",
              "          google.colab.kernel.accessAllowed ? 'block' : 'none';\n",
              "\n",
              "        async function convertToInteractive(key) {\n",
              "          const element = document.querySelector('#df-ad0931ff-6967-4b86-aaba-5d0ea7b08486');\n",
              "          const dataTable =\n",
              "            await google.colab.kernel.invokeFunction('convertToInteractive',\n",
              "                                                     [key], {});\n",
              "          if (!dataTable) return;\n",
              "\n",
              "          const docLinkHtml = 'Like what you see? Visit the ' +\n",
              "            '<a target=\"_blank\" href=https://colab.research.google.com/notebooks/data_table.ipynb>data table notebook</a>'\n",
              "            + ' to learn more about interactive tables.';\n",
              "          element.innerHTML = '';\n",
              "          dataTable['output_type'] = 'display_data';\n",
              "          await google.colab.output.renderOutput(dataTable, element);\n",
              "          const docLink = document.createElement('div');\n",
              "          docLink.innerHTML = docLinkHtml;\n",
              "          element.appendChild(docLink);\n",
              "        }\n",
              "      </script>\n",
              "    </div>\n",
              "  </div>\n",
              "  "
            ],
            "text/plain": [
              "     Pregnancies  Glucose  ...  Age  Outcome\n",
              "0              6      148  ...   50        1\n",
              "1              1       85  ...   31        0\n",
              "2              8      183  ...   32        1\n",
              "3              1       89  ...   21        0\n",
              "4              0      137  ...   33        1\n",
              "..           ...      ...  ...  ...      ...\n",
              "763           10      101  ...   63        0\n",
              "764            2      122  ...   27        0\n",
              "765            5      121  ...   30        0\n",
              "766            1      126  ...   47        1\n",
              "767            1       93  ...   23        0\n",
              "\n",
              "[768 rows x 9 columns]"
            ]
          },
          "metadata": {},
          "execution_count": 4
        }
      ]
    },
    {
      "cell_type": "code",
      "source": [
        "#To check the total numbers of rows and columns\n",
        "dataset_diabetes_pred.shape \n",
        "#The function \"shape\" returns the shape of an array."
      ],
      "metadata": {
        "colab": {
          "base_uri": "https://localhost:8080/"
        },
        "id": "dF4gEqO1ar90",
        "outputId": "1d42dee7-2674-4dbc-9d32-cb65860f47dc"
      },
      "execution_count": null,
      "outputs": [
        {
          "output_type": "execute_result",
          "data": {
            "text/plain": [
              "(768, 9)"
            ]
          },
          "metadata": {},
          "execution_count": 5
        }
      ]
    },
    {
      "cell_type": "code",
      "source": [
        "#To check the columns in dataset\n",
        "dataset_diabetes_pred.columns\n",
        "#The function \"columns\" returns all the columns in the dataset "
      ],
      "metadata": {
        "colab": {
          "base_uri": "https://localhost:8080/"
        },
        "id": "y_aScpHtbF1k",
        "outputId": "f21ac495-b1c1-477e-9c48-68437719e048"
      },
      "execution_count": null,
      "outputs": [
        {
          "output_type": "execute_result",
          "data": {
            "text/plain": [
              "Index(['Pregnancies', 'Glucose', 'BloodPressure', 'SkinThickness', 'Insulin',\n",
              "       'BMI', 'DiabetesPedigreeFunction', 'Age', 'Outcome'],\n",
              "      dtype='object')"
            ]
          },
          "metadata": {},
          "execution_count": 6
        }
      ]
    },
    {
      "cell_type": "code",
      "source": [
        "#To split data into features and target\n",
        "features = dataset_diabetes_pred[['Pregnancies'\t,'Glucose',\t'BloodPressure', 'SkinThickness', 'Insulin', 'BMI', 'DiabetesPedigreeFunction', 'Age']]  # for independent\n",
        "target = dataset_diabetes_pred[['Outcome']]   # for dependent\n",
        "#Feature are those variable which are used for prediction and Target is the variable that we need to predict."
      ],
      "metadata": {
        "id": "oWkzB-4JbLBK"
      },
      "execution_count": null,
      "outputs": []
    },
    {
      "cell_type": "code",
      "source": [
        "#To show feature datas\n",
        "features"
      ],
      "metadata": {
        "colab": {
          "base_uri": "https://localhost:8080/",
          "height": 423
        },
        "id": "Mhjx2U5Qb4yD",
        "outputId": "ef8d81e7-56c8-44c8-b05f-a123fbcbaae1"
      },
      "execution_count": null,
      "outputs": [
        {
          "output_type": "execute_result",
          "data": {
            "text/html": [
              "\n",
              "  <div id=\"df-d36bde97-7203-46e6-90aa-24f937644ac7\">\n",
              "    <div class=\"colab-df-container\">\n",
              "      <div>\n",
              "<style scoped>\n",
              "    .dataframe tbody tr th:only-of-type {\n",
              "        vertical-align: middle;\n",
              "    }\n",
              "\n",
              "    .dataframe tbody tr th {\n",
              "        vertical-align: top;\n",
              "    }\n",
              "\n",
              "    .dataframe thead th {\n",
              "        text-align: right;\n",
              "    }\n",
              "</style>\n",
              "<table border=\"1\" class=\"dataframe\">\n",
              "  <thead>\n",
              "    <tr style=\"text-align: right;\">\n",
              "      <th></th>\n",
              "      <th>Pregnancies</th>\n",
              "      <th>Glucose</th>\n",
              "      <th>BloodPressure</th>\n",
              "      <th>SkinThickness</th>\n",
              "      <th>Insulin</th>\n",
              "      <th>BMI</th>\n",
              "      <th>DiabetesPedigreeFunction</th>\n",
              "      <th>Age</th>\n",
              "    </tr>\n",
              "  </thead>\n",
              "  <tbody>\n",
              "    <tr>\n",
              "      <th>0</th>\n",
              "      <td>6</td>\n",
              "      <td>148</td>\n",
              "      <td>72</td>\n",
              "      <td>35</td>\n",
              "      <td>0</td>\n",
              "      <td>33.6</td>\n",
              "      <td>0.627</td>\n",
              "      <td>50</td>\n",
              "    </tr>\n",
              "    <tr>\n",
              "      <th>1</th>\n",
              "      <td>1</td>\n",
              "      <td>85</td>\n",
              "      <td>66</td>\n",
              "      <td>29</td>\n",
              "      <td>0</td>\n",
              "      <td>26.6</td>\n",
              "      <td>0.351</td>\n",
              "      <td>31</td>\n",
              "    </tr>\n",
              "    <tr>\n",
              "      <th>2</th>\n",
              "      <td>8</td>\n",
              "      <td>183</td>\n",
              "      <td>64</td>\n",
              "      <td>0</td>\n",
              "      <td>0</td>\n",
              "      <td>23.3</td>\n",
              "      <td>0.672</td>\n",
              "      <td>32</td>\n",
              "    </tr>\n",
              "    <tr>\n",
              "      <th>3</th>\n",
              "      <td>1</td>\n",
              "      <td>89</td>\n",
              "      <td>66</td>\n",
              "      <td>23</td>\n",
              "      <td>94</td>\n",
              "      <td>28.1</td>\n",
              "      <td>0.167</td>\n",
              "      <td>21</td>\n",
              "    </tr>\n",
              "    <tr>\n",
              "      <th>4</th>\n",
              "      <td>0</td>\n",
              "      <td>137</td>\n",
              "      <td>40</td>\n",
              "      <td>35</td>\n",
              "      <td>168</td>\n",
              "      <td>43.1</td>\n",
              "      <td>2.288</td>\n",
              "      <td>33</td>\n",
              "    </tr>\n",
              "    <tr>\n",
              "      <th>...</th>\n",
              "      <td>...</td>\n",
              "      <td>...</td>\n",
              "      <td>...</td>\n",
              "      <td>...</td>\n",
              "      <td>...</td>\n",
              "      <td>...</td>\n",
              "      <td>...</td>\n",
              "      <td>...</td>\n",
              "    </tr>\n",
              "    <tr>\n",
              "      <th>763</th>\n",
              "      <td>10</td>\n",
              "      <td>101</td>\n",
              "      <td>76</td>\n",
              "      <td>48</td>\n",
              "      <td>180</td>\n",
              "      <td>32.9</td>\n",
              "      <td>0.171</td>\n",
              "      <td>63</td>\n",
              "    </tr>\n",
              "    <tr>\n",
              "      <th>764</th>\n",
              "      <td>2</td>\n",
              "      <td>122</td>\n",
              "      <td>70</td>\n",
              "      <td>27</td>\n",
              "      <td>0</td>\n",
              "      <td>36.8</td>\n",
              "      <td>0.340</td>\n",
              "      <td>27</td>\n",
              "    </tr>\n",
              "    <tr>\n",
              "      <th>765</th>\n",
              "      <td>5</td>\n",
              "      <td>121</td>\n",
              "      <td>72</td>\n",
              "      <td>23</td>\n",
              "      <td>112</td>\n",
              "      <td>26.2</td>\n",
              "      <td>0.245</td>\n",
              "      <td>30</td>\n",
              "    </tr>\n",
              "    <tr>\n",
              "      <th>766</th>\n",
              "      <td>1</td>\n",
              "      <td>126</td>\n",
              "      <td>60</td>\n",
              "      <td>0</td>\n",
              "      <td>0</td>\n",
              "      <td>30.1</td>\n",
              "      <td>0.349</td>\n",
              "      <td>47</td>\n",
              "    </tr>\n",
              "    <tr>\n",
              "      <th>767</th>\n",
              "      <td>1</td>\n",
              "      <td>93</td>\n",
              "      <td>70</td>\n",
              "      <td>31</td>\n",
              "      <td>0</td>\n",
              "      <td>30.4</td>\n",
              "      <td>0.315</td>\n",
              "      <td>23</td>\n",
              "    </tr>\n",
              "  </tbody>\n",
              "</table>\n",
              "<p>768 rows × 8 columns</p>\n",
              "</div>\n",
              "      <button class=\"colab-df-convert\" onclick=\"convertToInteractive('df-d36bde97-7203-46e6-90aa-24f937644ac7')\"\n",
              "              title=\"Convert this dataframe to an interactive table.\"\n",
              "              style=\"display:none;\">\n",
              "        \n",
              "  <svg xmlns=\"http://www.w3.org/2000/svg\" height=\"24px\"viewBox=\"0 0 24 24\"\n",
              "       width=\"24px\">\n",
              "    <path d=\"M0 0h24v24H0V0z\" fill=\"none\"/>\n",
              "    <path d=\"M18.56 5.44l.94 2.06.94-2.06 2.06-.94-2.06-.94-.94-2.06-.94 2.06-2.06.94zm-11 1L8.5 8.5l.94-2.06 2.06-.94-2.06-.94L8.5 2.5l-.94 2.06-2.06.94zm10 10l.94 2.06.94-2.06 2.06-.94-2.06-.94-.94-2.06-.94 2.06-2.06.94z\"/><path d=\"M17.41 7.96l-1.37-1.37c-.4-.4-.92-.59-1.43-.59-.52 0-1.04.2-1.43.59L10.3 9.45l-7.72 7.72c-.78.78-.78 2.05 0 2.83L4 21.41c.39.39.9.59 1.41.59.51 0 1.02-.2 1.41-.59l7.78-7.78 2.81-2.81c.8-.78.8-2.07 0-2.86zM5.41 20L4 18.59l7.72-7.72 1.47 1.35L5.41 20z\"/>\n",
              "  </svg>\n",
              "      </button>\n",
              "      \n",
              "  <style>\n",
              "    .colab-df-container {\n",
              "      display:flex;\n",
              "      flex-wrap:wrap;\n",
              "      gap: 12px;\n",
              "    }\n",
              "\n",
              "    .colab-df-convert {\n",
              "      background-color: #E8F0FE;\n",
              "      border: none;\n",
              "      border-radius: 50%;\n",
              "      cursor: pointer;\n",
              "      display: none;\n",
              "      fill: #1967D2;\n",
              "      height: 32px;\n",
              "      padding: 0 0 0 0;\n",
              "      width: 32px;\n",
              "    }\n",
              "\n",
              "    .colab-df-convert:hover {\n",
              "      background-color: #E2EBFA;\n",
              "      box-shadow: 0px 1px 2px rgba(60, 64, 67, 0.3), 0px 1px 3px 1px rgba(60, 64, 67, 0.15);\n",
              "      fill: #174EA6;\n",
              "    }\n",
              "\n",
              "    [theme=dark] .colab-df-convert {\n",
              "      background-color: #3B4455;\n",
              "      fill: #D2E3FC;\n",
              "    }\n",
              "\n",
              "    [theme=dark] .colab-df-convert:hover {\n",
              "      background-color: #434B5C;\n",
              "      box-shadow: 0px 1px 3px 1px rgba(0, 0, 0, 0.15);\n",
              "      filter: drop-shadow(0px 1px 2px rgba(0, 0, 0, 0.3));\n",
              "      fill: #FFFFFF;\n",
              "    }\n",
              "  </style>\n",
              "\n",
              "      <script>\n",
              "        const buttonEl =\n",
              "          document.querySelector('#df-d36bde97-7203-46e6-90aa-24f937644ac7 button.colab-df-convert');\n",
              "        buttonEl.style.display =\n",
              "          google.colab.kernel.accessAllowed ? 'block' : 'none';\n",
              "\n",
              "        async function convertToInteractive(key) {\n",
              "          const element = document.querySelector('#df-d36bde97-7203-46e6-90aa-24f937644ac7');\n",
              "          const dataTable =\n",
              "            await google.colab.kernel.invokeFunction('convertToInteractive',\n",
              "                                                     [key], {});\n",
              "          if (!dataTable) return;\n",
              "\n",
              "          const docLinkHtml = 'Like what you see? Visit the ' +\n",
              "            '<a target=\"_blank\" href=https://colab.research.google.com/notebooks/data_table.ipynb>data table notebook</a>'\n",
              "            + ' to learn more about interactive tables.';\n",
              "          element.innerHTML = '';\n",
              "          dataTable['output_type'] = 'display_data';\n",
              "          await google.colab.output.renderOutput(dataTable, element);\n",
              "          const docLink = document.createElement('div');\n",
              "          docLink.innerHTML = docLinkHtml;\n",
              "          element.appendChild(docLink);\n",
              "        }\n",
              "      </script>\n",
              "    </div>\n",
              "  </div>\n",
              "  "
            ],
            "text/plain": [
              "     Pregnancies  Glucose  BloodPressure  ...   BMI  DiabetesPedigreeFunction  Age\n",
              "0              6      148             72  ...  33.6                     0.627   50\n",
              "1              1       85             66  ...  26.6                     0.351   31\n",
              "2              8      183             64  ...  23.3                     0.672   32\n",
              "3              1       89             66  ...  28.1                     0.167   21\n",
              "4              0      137             40  ...  43.1                     2.288   33\n",
              "..           ...      ...            ...  ...   ...                       ...  ...\n",
              "763           10      101             76  ...  32.9                     0.171   63\n",
              "764            2      122             70  ...  36.8                     0.340   27\n",
              "765            5      121             72  ...  26.2                     0.245   30\n",
              "766            1      126             60  ...  30.1                     0.349   47\n",
              "767            1       93             70  ...  30.4                     0.315   23\n",
              "\n",
              "[768 rows x 8 columns]"
            ]
          },
          "metadata": {},
          "execution_count": 8
        }
      ]
    },
    {
      "cell_type": "code",
      "source": [
        "#To show target data\n",
        "target"
      ],
      "metadata": {
        "colab": {
          "base_uri": "https://localhost:8080/",
          "height": 423
        },
        "id": "VQbSM2bAb9nz",
        "outputId": "25655201-7e38-441c-dad0-a2e90348cd2e"
      },
      "execution_count": null,
      "outputs": [
        {
          "output_type": "execute_result",
          "data": {
            "text/html": [
              "\n",
              "  <div id=\"df-424ab1c3-de3d-4b00-8979-56a46c784465\">\n",
              "    <div class=\"colab-df-container\">\n",
              "      <div>\n",
              "<style scoped>\n",
              "    .dataframe tbody tr th:only-of-type {\n",
              "        vertical-align: middle;\n",
              "    }\n",
              "\n",
              "    .dataframe tbody tr th {\n",
              "        vertical-align: top;\n",
              "    }\n",
              "\n",
              "    .dataframe thead th {\n",
              "        text-align: right;\n",
              "    }\n",
              "</style>\n",
              "<table border=\"1\" class=\"dataframe\">\n",
              "  <thead>\n",
              "    <tr style=\"text-align: right;\">\n",
              "      <th></th>\n",
              "      <th>Outcome</th>\n",
              "    </tr>\n",
              "  </thead>\n",
              "  <tbody>\n",
              "    <tr>\n",
              "      <th>0</th>\n",
              "      <td>1</td>\n",
              "    </tr>\n",
              "    <tr>\n",
              "      <th>1</th>\n",
              "      <td>0</td>\n",
              "    </tr>\n",
              "    <tr>\n",
              "      <th>2</th>\n",
              "      <td>1</td>\n",
              "    </tr>\n",
              "    <tr>\n",
              "      <th>3</th>\n",
              "      <td>0</td>\n",
              "    </tr>\n",
              "    <tr>\n",
              "      <th>4</th>\n",
              "      <td>1</td>\n",
              "    </tr>\n",
              "    <tr>\n",
              "      <th>...</th>\n",
              "      <td>...</td>\n",
              "    </tr>\n",
              "    <tr>\n",
              "      <th>763</th>\n",
              "      <td>0</td>\n",
              "    </tr>\n",
              "    <tr>\n",
              "      <th>764</th>\n",
              "      <td>0</td>\n",
              "    </tr>\n",
              "    <tr>\n",
              "      <th>765</th>\n",
              "      <td>0</td>\n",
              "    </tr>\n",
              "    <tr>\n",
              "      <th>766</th>\n",
              "      <td>1</td>\n",
              "    </tr>\n",
              "    <tr>\n",
              "      <th>767</th>\n",
              "      <td>0</td>\n",
              "    </tr>\n",
              "  </tbody>\n",
              "</table>\n",
              "<p>768 rows × 1 columns</p>\n",
              "</div>\n",
              "      <button class=\"colab-df-convert\" onclick=\"convertToInteractive('df-424ab1c3-de3d-4b00-8979-56a46c784465')\"\n",
              "              title=\"Convert this dataframe to an interactive table.\"\n",
              "              style=\"display:none;\">\n",
              "        \n",
              "  <svg xmlns=\"http://www.w3.org/2000/svg\" height=\"24px\"viewBox=\"0 0 24 24\"\n",
              "       width=\"24px\">\n",
              "    <path d=\"M0 0h24v24H0V0z\" fill=\"none\"/>\n",
              "    <path d=\"M18.56 5.44l.94 2.06.94-2.06 2.06-.94-2.06-.94-.94-2.06-.94 2.06-2.06.94zm-11 1L8.5 8.5l.94-2.06 2.06-.94-2.06-.94L8.5 2.5l-.94 2.06-2.06.94zm10 10l.94 2.06.94-2.06 2.06-.94-2.06-.94-.94-2.06-.94 2.06-2.06.94z\"/><path d=\"M17.41 7.96l-1.37-1.37c-.4-.4-.92-.59-1.43-.59-.52 0-1.04.2-1.43.59L10.3 9.45l-7.72 7.72c-.78.78-.78 2.05 0 2.83L4 21.41c.39.39.9.59 1.41.59.51 0 1.02-.2 1.41-.59l7.78-7.78 2.81-2.81c.8-.78.8-2.07 0-2.86zM5.41 20L4 18.59l7.72-7.72 1.47 1.35L5.41 20z\"/>\n",
              "  </svg>\n",
              "      </button>\n",
              "      \n",
              "  <style>\n",
              "    .colab-df-container {\n",
              "      display:flex;\n",
              "      flex-wrap:wrap;\n",
              "      gap: 12px;\n",
              "    }\n",
              "\n",
              "    .colab-df-convert {\n",
              "      background-color: #E8F0FE;\n",
              "      border: none;\n",
              "      border-radius: 50%;\n",
              "      cursor: pointer;\n",
              "      display: none;\n",
              "      fill: #1967D2;\n",
              "      height: 32px;\n",
              "      padding: 0 0 0 0;\n",
              "      width: 32px;\n",
              "    }\n",
              "\n",
              "    .colab-df-convert:hover {\n",
              "      background-color: #E2EBFA;\n",
              "      box-shadow: 0px 1px 2px rgba(60, 64, 67, 0.3), 0px 1px 3px 1px rgba(60, 64, 67, 0.15);\n",
              "      fill: #174EA6;\n",
              "    }\n",
              "\n",
              "    [theme=dark] .colab-df-convert {\n",
              "      background-color: #3B4455;\n",
              "      fill: #D2E3FC;\n",
              "    }\n",
              "\n",
              "    [theme=dark] .colab-df-convert:hover {\n",
              "      background-color: #434B5C;\n",
              "      box-shadow: 0px 1px 3px 1px rgba(0, 0, 0, 0.15);\n",
              "      filter: drop-shadow(0px 1px 2px rgba(0, 0, 0, 0.3));\n",
              "      fill: #FFFFFF;\n",
              "    }\n",
              "  </style>\n",
              "\n",
              "      <script>\n",
              "        const buttonEl =\n",
              "          document.querySelector('#df-424ab1c3-de3d-4b00-8979-56a46c784465 button.colab-df-convert');\n",
              "        buttonEl.style.display =\n",
              "          google.colab.kernel.accessAllowed ? 'block' : 'none';\n",
              "\n",
              "        async function convertToInteractive(key) {\n",
              "          const element = document.querySelector('#df-424ab1c3-de3d-4b00-8979-56a46c784465');\n",
              "          const dataTable =\n",
              "            await google.colab.kernel.invokeFunction('convertToInteractive',\n",
              "                                                     [key], {});\n",
              "          if (!dataTable) return;\n",
              "\n",
              "          const docLinkHtml = 'Like what you see? Visit the ' +\n",
              "            '<a target=\"_blank\" href=https://colab.research.google.com/notebooks/data_table.ipynb>data table notebook</a>'\n",
              "            + ' to learn more about interactive tables.';\n",
              "          element.innerHTML = '';\n",
              "          dataTable['output_type'] = 'display_data';\n",
              "          await google.colab.output.renderOutput(dataTable, element);\n",
              "          const docLink = document.createElement('div');\n",
              "          docLink.innerHTML = docLinkHtml;\n",
              "          element.appendChild(docLink);\n",
              "        }\n",
              "      </script>\n",
              "    </div>\n",
              "  </div>\n",
              "  "
            ],
            "text/plain": [
              "     Outcome\n",
              "0          1\n",
              "1          0\n",
              "2          1\n",
              "3          0\n",
              "4          1\n",
              "..       ...\n",
              "763        0\n",
              "764        0\n",
              "765        0\n",
              "766        1\n",
              "767        0\n",
              "\n",
              "[768 rows x 1 columns]"
            ]
          },
          "metadata": {},
          "execution_count": 9
        }
      ]
    },
    {
      "cell_type": "markdown",
      "source": [
        "# **To check if there is any missing data**"
      ],
      "metadata": {
        "id": "4WcS9CG8wj1Y"
      }
    },
    {
      "cell_type": "code",
      "source": [
        "#To check missing data in the columns\n",
        "#To check if there is any NaN value in the column\n",
        "pd.isnull(dataset_diabetes_pred.sum)"
      ],
      "metadata": {
        "colab": {
          "base_uri": "https://localhost:8080/"
        },
        "id": "KUK0fVffcEG7",
        "outputId": "8c5b7db2-133a-43d4-fa21-9669f6b9d4dc"
      },
      "execution_count": null,
      "outputs": [
        {
          "output_type": "execute_result",
          "data": {
            "text/plain": [
              "False"
            ]
          },
          "metadata": {},
          "execution_count": 10
        }
      ]
    },
    {
      "cell_type": "markdown",
      "source": [
        "# **Splitting The Dataset**"
      ],
      "metadata": {
        "id": "4qAjMtW_iIdO"
      }
    },
    {
      "cell_type": "code",
      "source": [
        "# Machine learning libraries\n",
        "from sklearn.model_selection import train_test_split"
      ],
      "metadata": {
        "id": "BSvAoK53cdkE"
      },
      "execution_count": null,
      "outputs": []
    },
    {
      "cell_type": "markdown",
      "source": [
        "**The train-test split procedure is used to estimate the performance of machine learning algorithms.** "
      ],
      "metadata": {
        "id": "HOQP9G-UoqLQ"
      }
    },
    {
      "cell_type": "code",
      "source": [
        "#Spliting the Dataset into Training Set and Test Set\n",
        "\n",
        "X_train,X_test,y_train,y_test=train_test_split(features,target,test_size = 0.2,random_state = 0)\n",
        "# random_state = 0 is select to get the same result"
      ],
      "metadata": {
        "id": "ruK5i9FyiPVc"
      },
      "execution_count": null,
      "outputs": []
    },
    {
      "cell_type": "code",
      "source": [
        "print(X_train.shape)\n",
        "print(X_test.shape)"
      ],
      "metadata": {
        "colab": {
          "base_uri": "https://localhost:8080/"
        },
        "id": "h3ULzqa7iS7U",
        "outputId": "fee7b704-973e-4301-f950-66879a374746"
      },
      "execution_count": null,
      "outputs": [
        {
          "output_type": "stream",
          "name": "stdout",
          "text": [
            "(614, 8)\n",
            "(154, 8)\n"
          ]
        }
      ]
    },
    {
      "cell_type": "code",
      "source": [
        "X_train"
      ],
      "metadata": {
        "colab": {
          "base_uri": "https://localhost:8080/",
          "height": 423
        },
        "id": "QbGsDCMeiVkN",
        "outputId": "2ebba204-5124-49ee-e2d8-96c42fc259f6"
      },
      "execution_count": null,
      "outputs": [
        {
          "output_type": "execute_result",
          "data": {
            "text/html": [
              "\n",
              "  <div id=\"df-bbfcb9d7-96f8-44d8-97f4-070a9f7b7ec5\">\n",
              "    <div class=\"colab-df-container\">\n",
              "      <div>\n",
              "<style scoped>\n",
              "    .dataframe tbody tr th:only-of-type {\n",
              "        vertical-align: middle;\n",
              "    }\n",
              "\n",
              "    .dataframe tbody tr th {\n",
              "        vertical-align: top;\n",
              "    }\n",
              "\n",
              "    .dataframe thead th {\n",
              "        text-align: right;\n",
              "    }\n",
              "</style>\n",
              "<table border=\"1\" class=\"dataframe\">\n",
              "  <thead>\n",
              "    <tr style=\"text-align: right;\">\n",
              "      <th></th>\n",
              "      <th>Pregnancies</th>\n",
              "      <th>Glucose</th>\n",
              "      <th>BloodPressure</th>\n",
              "      <th>SkinThickness</th>\n",
              "      <th>Insulin</th>\n",
              "      <th>BMI</th>\n",
              "      <th>DiabetesPedigreeFunction</th>\n",
              "      <th>Age</th>\n",
              "    </tr>\n",
              "  </thead>\n",
              "  <tbody>\n",
              "    <tr>\n",
              "      <th>603</th>\n",
              "      <td>7</td>\n",
              "      <td>150</td>\n",
              "      <td>78</td>\n",
              "      <td>29</td>\n",
              "      <td>126</td>\n",
              "      <td>35.2</td>\n",
              "      <td>0.692</td>\n",
              "      <td>54</td>\n",
              "    </tr>\n",
              "    <tr>\n",
              "      <th>118</th>\n",
              "      <td>4</td>\n",
              "      <td>97</td>\n",
              "      <td>60</td>\n",
              "      <td>23</td>\n",
              "      <td>0</td>\n",
              "      <td>28.2</td>\n",
              "      <td>0.443</td>\n",
              "      <td>22</td>\n",
              "    </tr>\n",
              "    <tr>\n",
              "      <th>247</th>\n",
              "      <td>0</td>\n",
              "      <td>165</td>\n",
              "      <td>90</td>\n",
              "      <td>33</td>\n",
              "      <td>680</td>\n",
              "      <td>52.3</td>\n",
              "      <td>0.427</td>\n",
              "      <td>23</td>\n",
              "    </tr>\n",
              "    <tr>\n",
              "      <th>157</th>\n",
              "      <td>1</td>\n",
              "      <td>109</td>\n",
              "      <td>56</td>\n",
              "      <td>21</td>\n",
              "      <td>135</td>\n",
              "      <td>25.2</td>\n",
              "      <td>0.833</td>\n",
              "      <td>23</td>\n",
              "    </tr>\n",
              "    <tr>\n",
              "      <th>468</th>\n",
              "      <td>8</td>\n",
              "      <td>120</td>\n",
              "      <td>0</td>\n",
              "      <td>0</td>\n",
              "      <td>0</td>\n",
              "      <td>30.0</td>\n",
              "      <td>0.183</td>\n",
              "      <td>38</td>\n",
              "    </tr>\n",
              "    <tr>\n",
              "      <th>...</th>\n",
              "      <td>...</td>\n",
              "      <td>...</td>\n",
              "      <td>...</td>\n",
              "      <td>...</td>\n",
              "      <td>...</td>\n",
              "      <td>...</td>\n",
              "      <td>...</td>\n",
              "      <td>...</td>\n",
              "    </tr>\n",
              "    <tr>\n",
              "      <th>763</th>\n",
              "      <td>10</td>\n",
              "      <td>101</td>\n",
              "      <td>76</td>\n",
              "      <td>48</td>\n",
              "      <td>180</td>\n",
              "      <td>32.9</td>\n",
              "      <td>0.171</td>\n",
              "      <td>63</td>\n",
              "    </tr>\n",
              "    <tr>\n",
              "      <th>192</th>\n",
              "      <td>7</td>\n",
              "      <td>159</td>\n",
              "      <td>66</td>\n",
              "      <td>0</td>\n",
              "      <td>0</td>\n",
              "      <td>30.4</td>\n",
              "      <td>0.383</td>\n",
              "      <td>36</td>\n",
              "    </tr>\n",
              "    <tr>\n",
              "      <th>629</th>\n",
              "      <td>4</td>\n",
              "      <td>94</td>\n",
              "      <td>65</td>\n",
              "      <td>22</td>\n",
              "      <td>0</td>\n",
              "      <td>24.7</td>\n",
              "      <td>0.148</td>\n",
              "      <td>21</td>\n",
              "    </tr>\n",
              "    <tr>\n",
              "      <th>559</th>\n",
              "      <td>11</td>\n",
              "      <td>85</td>\n",
              "      <td>74</td>\n",
              "      <td>0</td>\n",
              "      <td>0</td>\n",
              "      <td>30.1</td>\n",
              "      <td>0.300</td>\n",
              "      <td>35</td>\n",
              "    </tr>\n",
              "    <tr>\n",
              "      <th>684</th>\n",
              "      <td>5</td>\n",
              "      <td>136</td>\n",
              "      <td>82</td>\n",
              "      <td>0</td>\n",
              "      <td>0</td>\n",
              "      <td>0.0</td>\n",
              "      <td>0.640</td>\n",
              "      <td>69</td>\n",
              "    </tr>\n",
              "  </tbody>\n",
              "</table>\n",
              "<p>614 rows × 8 columns</p>\n",
              "</div>\n",
              "      <button class=\"colab-df-convert\" onclick=\"convertToInteractive('df-bbfcb9d7-96f8-44d8-97f4-070a9f7b7ec5')\"\n",
              "              title=\"Convert this dataframe to an interactive table.\"\n",
              "              style=\"display:none;\">\n",
              "        \n",
              "  <svg xmlns=\"http://www.w3.org/2000/svg\" height=\"24px\"viewBox=\"0 0 24 24\"\n",
              "       width=\"24px\">\n",
              "    <path d=\"M0 0h24v24H0V0z\" fill=\"none\"/>\n",
              "    <path d=\"M18.56 5.44l.94 2.06.94-2.06 2.06-.94-2.06-.94-.94-2.06-.94 2.06-2.06.94zm-11 1L8.5 8.5l.94-2.06 2.06-.94-2.06-.94L8.5 2.5l-.94 2.06-2.06.94zm10 10l.94 2.06.94-2.06 2.06-.94-2.06-.94-.94-2.06-.94 2.06-2.06.94z\"/><path d=\"M17.41 7.96l-1.37-1.37c-.4-.4-.92-.59-1.43-.59-.52 0-1.04.2-1.43.59L10.3 9.45l-7.72 7.72c-.78.78-.78 2.05 0 2.83L4 21.41c.39.39.9.59 1.41.59.51 0 1.02-.2 1.41-.59l7.78-7.78 2.81-2.81c.8-.78.8-2.07 0-2.86zM5.41 20L4 18.59l7.72-7.72 1.47 1.35L5.41 20z\"/>\n",
              "  </svg>\n",
              "      </button>\n",
              "      \n",
              "  <style>\n",
              "    .colab-df-container {\n",
              "      display:flex;\n",
              "      flex-wrap:wrap;\n",
              "      gap: 12px;\n",
              "    }\n",
              "\n",
              "    .colab-df-convert {\n",
              "      background-color: #E8F0FE;\n",
              "      border: none;\n",
              "      border-radius: 50%;\n",
              "      cursor: pointer;\n",
              "      display: none;\n",
              "      fill: #1967D2;\n",
              "      height: 32px;\n",
              "      padding: 0 0 0 0;\n",
              "      width: 32px;\n",
              "    }\n",
              "\n",
              "    .colab-df-convert:hover {\n",
              "      background-color: #E2EBFA;\n",
              "      box-shadow: 0px 1px 2px rgba(60, 64, 67, 0.3), 0px 1px 3px 1px rgba(60, 64, 67, 0.15);\n",
              "      fill: #174EA6;\n",
              "    }\n",
              "\n",
              "    [theme=dark] .colab-df-convert {\n",
              "      background-color: #3B4455;\n",
              "      fill: #D2E3FC;\n",
              "    }\n",
              "\n",
              "    [theme=dark] .colab-df-convert:hover {\n",
              "      background-color: #434B5C;\n",
              "      box-shadow: 0px 1px 3px 1px rgba(0, 0, 0, 0.15);\n",
              "      filter: drop-shadow(0px 1px 2px rgba(0, 0, 0, 0.3));\n",
              "      fill: #FFFFFF;\n",
              "    }\n",
              "  </style>\n",
              "\n",
              "      <script>\n",
              "        const buttonEl =\n",
              "          document.querySelector('#df-bbfcb9d7-96f8-44d8-97f4-070a9f7b7ec5 button.colab-df-convert');\n",
              "        buttonEl.style.display =\n",
              "          google.colab.kernel.accessAllowed ? 'block' : 'none';\n",
              "\n",
              "        async function convertToInteractive(key) {\n",
              "          const element = document.querySelector('#df-bbfcb9d7-96f8-44d8-97f4-070a9f7b7ec5');\n",
              "          const dataTable =\n",
              "            await google.colab.kernel.invokeFunction('convertToInteractive',\n",
              "                                                     [key], {});\n",
              "          if (!dataTable) return;\n",
              "\n",
              "          const docLinkHtml = 'Like what you see? Visit the ' +\n",
              "            '<a target=\"_blank\" href=https://colab.research.google.com/notebooks/data_table.ipynb>data table notebook</a>'\n",
              "            + ' to learn more about interactive tables.';\n",
              "          element.innerHTML = '';\n",
              "          dataTable['output_type'] = 'display_data';\n",
              "          await google.colab.output.renderOutput(dataTable, element);\n",
              "          const docLink = document.createElement('div');\n",
              "          docLink.innerHTML = docLinkHtml;\n",
              "          element.appendChild(docLink);\n",
              "        }\n",
              "      </script>\n",
              "    </div>\n",
              "  </div>\n",
              "  "
            ],
            "text/plain": [
              "     Pregnancies  Glucose  BloodPressure  ...   BMI  DiabetesPedigreeFunction  Age\n",
              "603            7      150             78  ...  35.2                     0.692   54\n",
              "118            4       97             60  ...  28.2                     0.443   22\n",
              "247            0      165             90  ...  52.3                     0.427   23\n",
              "157            1      109             56  ...  25.2                     0.833   23\n",
              "468            8      120              0  ...  30.0                     0.183   38\n",
              "..           ...      ...            ...  ...   ...                       ...  ...\n",
              "763           10      101             76  ...  32.9                     0.171   63\n",
              "192            7      159             66  ...  30.4                     0.383   36\n",
              "629            4       94             65  ...  24.7                     0.148   21\n",
              "559           11       85             74  ...  30.1                     0.300   35\n",
              "684            5      136             82  ...   0.0                     0.640   69\n",
              "\n",
              "[614 rows x 8 columns]"
            ]
          },
          "metadata": {},
          "execution_count": 14
        }
      ]
    },
    {
      "cell_type": "code",
      "source": [
        "X_test"
      ],
      "metadata": {
        "colab": {
          "base_uri": "https://localhost:8080/",
          "height": 423
        },
        "id": "LXeqwoiLiZvN",
        "outputId": "8f44b986-d224-4ea8-86c0-d22eca00ec4c"
      },
      "execution_count": null,
      "outputs": [
        {
          "output_type": "execute_result",
          "data": {
            "text/html": [
              "\n",
              "  <div id=\"df-6be3a7e2-f356-485d-ace0-dde36ed59fac\">\n",
              "    <div class=\"colab-df-container\">\n",
              "      <div>\n",
              "<style scoped>\n",
              "    .dataframe tbody tr th:only-of-type {\n",
              "        vertical-align: middle;\n",
              "    }\n",
              "\n",
              "    .dataframe tbody tr th {\n",
              "        vertical-align: top;\n",
              "    }\n",
              "\n",
              "    .dataframe thead th {\n",
              "        text-align: right;\n",
              "    }\n",
              "</style>\n",
              "<table border=\"1\" class=\"dataframe\">\n",
              "  <thead>\n",
              "    <tr style=\"text-align: right;\">\n",
              "      <th></th>\n",
              "      <th>Pregnancies</th>\n",
              "      <th>Glucose</th>\n",
              "      <th>BloodPressure</th>\n",
              "      <th>SkinThickness</th>\n",
              "      <th>Insulin</th>\n",
              "      <th>BMI</th>\n",
              "      <th>DiabetesPedigreeFunction</th>\n",
              "      <th>Age</th>\n",
              "    </tr>\n",
              "  </thead>\n",
              "  <tbody>\n",
              "    <tr>\n",
              "      <th>661</th>\n",
              "      <td>1</td>\n",
              "      <td>199</td>\n",
              "      <td>76</td>\n",
              "      <td>43</td>\n",
              "      <td>0</td>\n",
              "      <td>42.9</td>\n",
              "      <td>1.394</td>\n",
              "      <td>22</td>\n",
              "    </tr>\n",
              "    <tr>\n",
              "      <th>122</th>\n",
              "      <td>2</td>\n",
              "      <td>107</td>\n",
              "      <td>74</td>\n",
              "      <td>30</td>\n",
              "      <td>100</td>\n",
              "      <td>33.6</td>\n",
              "      <td>0.404</td>\n",
              "      <td>23</td>\n",
              "    </tr>\n",
              "    <tr>\n",
              "      <th>113</th>\n",
              "      <td>4</td>\n",
              "      <td>76</td>\n",
              "      <td>62</td>\n",
              "      <td>0</td>\n",
              "      <td>0</td>\n",
              "      <td>34.0</td>\n",
              "      <td>0.391</td>\n",
              "      <td>25</td>\n",
              "    </tr>\n",
              "    <tr>\n",
              "      <th>14</th>\n",
              "      <td>5</td>\n",
              "      <td>166</td>\n",
              "      <td>72</td>\n",
              "      <td>19</td>\n",
              "      <td>175</td>\n",
              "      <td>25.8</td>\n",
              "      <td>0.587</td>\n",
              "      <td>51</td>\n",
              "    </tr>\n",
              "    <tr>\n",
              "      <th>529</th>\n",
              "      <td>0</td>\n",
              "      <td>111</td>\n",
              "      <td>65</td>\n",
              "      <td>0</td>\n",
              "      <td>0</td>\n",
              "      <td>24.6</td>\n",
              "      <td>0.660</td>\n",
              "      <td>31</td>\n",
              "    </tr>\n",
              "    <tr>\n",
              "      <th>...</th>\n",
              "      <td>...</td>\n",
              "      <td>...</td>\n",
              "      <td>...</td>\n",
              "      <td>...</td>\n",
              "      <td>...</td>\n",
              "      <td>...</td>\n",
              "      <td>...</td>\n",
              "      <td>...</td>\n",
              "    </tr>\n",
              "    <tr>\n",
              "      <th>476</th>\n",
              "      <td>2</td>\n",
              "      <td>105</td>\n",
              "      <td>80</td>\n",
              "      <td>45</td>\n",
              "      <td>191</td>\n",
              "      <td>33.7</td>\n",
              "      <td>0.711</td>\n",
              "      <td>29</td>\n",
              "    </tr>\n",
              "    <tr>\n",
              "      <th>482</th>\n",
              "      <td>4</td>\n",
              "      <td>85</td>\n",
              "      <td>58</td>\n",
              "      <td>22</td>\n",
              "      <td>49</td>\n",
              "      <td>27.8</td>\n",
              "      <td>0.306</td>\n",
              "      <td>28</td>\n",
              "    </tr>\n",
              "    <tr>\n",
              "      <th>230</th>\n",
              "      <td>4</td>\n",
              "      <td>142</td>\n",
              "      <td>86</td>\n",
              "      <td>0</td>\n",
              "      <td>0</td>\n",
              "      <td>44.0</td>\n",
              "      <td>0.645</td>\n",
              "      <td>22</td>\n",
              "    </tr>\n",
              "    <tr>\n",
              "      <th>527</th>\n",
              "      <td>3</td>\n",
              "      <td>116</td>\n",
              "      <td>74</td>\n",
              "      <td>15</td>\n",
              "      <td>105</td>\n",
              "      <td>26.3</td>\n",
              "      <td>0.107</td>\n",
              "      <td>24</td>\n",
              "    </tr>\n",
              "    <tr>\n",
              "      <th>380</th>\n",
              "      <td>1</td>\n",
              "      <td>107</td>\n",
              "      <td>72</td>\n",
              "      <td>30</td>\n",
              "      <td>82</td>\n",
              "      <td>30.8</td>\n",
              "      <td>0.821</td>\n",
              "      <td>24</td>\n",
              "    </tr>\n",
              "  </tbody>\n",
              "</table>\n",
              "<p>154 rows × 8 columns</p>\n",
              "</div>\n",
              "      <button class=\"colab-df-convert\" onclick=\"convertToInteractive('df-6be3a7e2-f356-485d-ace0-dde36ed59fac')\"\n",
              "              title=\"Convert this dataframe to an interactive table.\"\n",
              "              style=\"display:none;\">\n",
              "        \n",
              "  <svg xmlns=\"http://www.w3.org/2000/svg\" height=\"24px\"viewBox=\"0 0 24 24\"\n",
              "       width=\"24px\">\n",
              "    <path d=\"M0 0h24v24H0V0z\" fill=\"none\"/>\n",
              "    <path d=\"M18.56 5.44l.94 2.06.94-2.06 2.06-.94-2.06-.94-.94-2.06-.94 2.06-2.06.94zm-11 1L8.5 8.5l.94-2.06 2.06-.94-2.06-.94L8.5 2.5l-.94 2.06-2.06.94zm10 10l.94 2.06.94-2.06 2.06-.94-2.06-.94-.94-2.06-.94 2.06-2.06.94z\"/><path d=\"M17.41 7.96l-1.37-1.37c-.4-.4-.92-.59-1.43-.59-.52 0-1.04.2-1.43.59L10.3 9.45l-7.72 7.72c-.78.78-.78 2.05 0 2.83L4 21.41c.39.39.9.59 1.41.59.51 0 1.02-.2 1.41-.59l7.78-7.78 2.81-2.81c.8-.78.8-2.07 0-2.86zM5.41 20L4 18.59l7.72-7.72 1.47 1.35L5.41 20z\"/>\n",
              "  </svg>\n",
              "      </button>\n",
              "      \n",
              "  <style>\n",
              "    .colab-df-container {\n",
              "      display:flex;\n",
              "      flex-wrap:wrap;\n",
              "      gap: 12px;\n",
              "    }\n",
              "\n",
              "    .colab-df-convert {\n",
              "      background-color: #E8F0FE;\n",
              "      border: none;\n",
              "      border-radius: 50%;\n",
              "      cursor: pointer;\n",
              "      display: none;\n",
              "      fill: #1967D2;\n",
              "      height: 32px;\n",
              "      padding: 0 0 0 0;\n",
              "      width: 32px;\n",
              "    }\n",
              "\n",
              "    .colab-df-convert:hover {\n",
              "      background-color: #E2EBFA;\n",
              "      box-shadow: 0px 1px 2px rgba(60, 64, 67, 0.3), 0px 1px 3px 1px rgba(60, 64, 67, 0.15);\n",
              "      fill: #174EA6;\n",
              "    }\n",
              "\n",
              "    [theme=dark] .colab-df-convert {\n",
              "      background-color: #3B4455;\n",
              "      fill: #D2E3FC;\n",
              "    }\n",
              "\n",
              "    [theme=dark] .colab-df-convert:hover {\n",
              "      background-color: #434B5C;\n",
              "      box-shadow: 0px 1px 3px 1px rgba(0, 0, 0, 0.15);\n",
              "      filter: drop-shadow(0px 1px 2px rgba(0, 0, 0, 0.3));\n",
              "      fill: #FFFFFF;\n",
              "    }\n",
              "  </style>\n",
              "\n",
              "      <script>\n",
              "        const buttonEl =\n",
              "          document.querySelector('#df-6be3a7e2-f356-485d-ace0-dde36ed59fac button.colab-df-convert');\n",
              "        buttonEl.style.display =\n",
              "          google.colab.kernel.accessAllowed ? 'block' : 'none';\n",
              "\n",
              "        async function convertToInteractive(key) {\n",
              "          const element = document.querySelector('#df-6be3a7e2-f356-485d-ace0-dde36ed59fac');\n",
              "          const dataTable =\n",
              "            await google.colab.kernel.invokeFunction('convertToInteractive',\n",
              "                                                     [key], {});\n",
              "          if (!dataTable) return;\n",
              "\n",
              "          const docLinkHtml = 'Like what you see? Visit the ' +\n",
              "            '<a target=\"_blank\" href=https://colab.research.google.com/notebooks/data_table.ipynb>data table notebook</a>'\n",
              "            + ' to learn more about interactive tables.';\n",
              "          element.innerHTML = '';\n",
              "          dataTable['output_type'] = 'display_data';\n",
              "          await google.colab.output.renderOutput(dataTable, element);\n",
              "          const docLink = document.createElement('div');\n",
              "          docLink.innerHTML = docLinkHtml;\n",
              "          element.appendChild(docLink);\n",
              "        }\n",
              "      </script>\n",
              "    </div>\n",
              "  </div>\n",
              "  "
            ],
            "text/plain": [
              "     Pregnancies  Glucose  BloodPressure  ...   BMI  DiabetesPedigreeFunction  Age\n",
              "661            1      199             76  ...  42.9                     1.394   22\n",
              "122            2      107             74  ...  33.6                     0.404   23\n",
              "113            4       76             62  ...  34.0                     0.391   25\n",
              "14             5      166             72  ...  25.8                     0.587   51\n",
              "529            0      111             65  ...  24.6                     0.660   31\n",
              "..           ...      ...            ...  ...   ...                       ...  ...\n",
              "476            2      105             80  ...  33.7                     0.711   29\n",
              "482            4       85             58  ...  27.8                     0.306   28\n",
              "230            4      142             86  ...  44.0                     0.645   22\n",
              "527            3      116             74  ...  26.3                     0.107   24\n",
              "380            1      107             72  ...  30.8                     0.821   24\n",
              "\n",
              "[154 rows x 8 columns]"
            ]
          },
          "metadata": {},
          "execution_count": 15
        }
      ]
    },
    {
      "cell_type": "markdown",
      "source": [
        "# **Feature Scaling**"
      ],
      "metadata": {
        "id": "b5tN2jSaitue"
      }
    },
    {
      "cell_type": "markdown",
      "source": [
        "**Feature scaling is a method used to normalize the range of independent variables or features of data.**"
      ],
      "metadata": {
        "id": "1fpke9eSo3Lh"
      }
    },
    {
      "cell_type": "code",
      "source": [
        "from sklearn.preprocessing import StandardScaler"
      ],
      "metadata": {
        "id": "BhuJmYLGkNkF"
      },
      "execution_count": null,
      "outputs": []
    },
    {
      "cell_type": "code",
      "source": [
        "X_sc = StandardScaler()\n",
        "X_train = X_sc.fit_transform(X_train)\n",
        "X_test = X_sc.transform(X_test)"
      ],
      "metadata": {
        "id": "t-EmRABeic1N"
      },
      "execution_count": null,
      "outputs": []
    },
    {
      "cell_type": "markdown",
      "source": [
        "# **Neural Network**"
      ],
      "metadata": {
        "id": "4hGfxNfJkTpO"
      }
    },
    {
      "cell_type": "markdown",
      "source": [
        "# **Import libraries:**"
      ],
      "metadata": {
        "id": "CW-2qB4DpEyw"
      }
    },
    {
      "cell_type": "markdown",
      "source": [
        "**A Multilayer Neural Network is build with Tensorflow Keras.** \n",
        "\n",
        "**Keras is compact, easy to learn, high-level Python library run on top of TensorFlow framework. It is made with focus of understanding deep learning techniques, such as creating layers for neural networks maintaining the concepts of shapes and mathematical details.** "
      ],
      "metadata": {
        "id": "AQwMx8JkzbZ1"
      }
    },
    {
      "cell_type": "markdown",
      "source": [
        "**Building the architecture of a neural network in Keras is done using the Sequential class.** "
      ],
      "metadata": {
        "id": "atIHaOjo4EF9"
      }
    },
    {
      "cell_type": "code",
      "source": [
        "import tensorflow as tf\n",
        "from tensorflow.keras import Sequential\n",
        "from tensorflow.keras.layers import Dense"
      ],
      "metadata": {
        "id": "jkrRwBgDkXbV"
      },
      "execution_count": null,
      "outputs": []
    },
    {
      "cell_type": "markdown",
      "source": [
        "# **To Bluid a Neural Network Architecture**"
      ],
      "metadata": {
        "id": "L4fChg2hrBm_"
      }
    },
    {
      "cell_type": "code",
      "source": [
        "#built the neural network architecture\n",
        "model = Sequential()\n",
        "model.add(Dense(20, input_dim=8, activation='relu'))\n",
        "model.add(Dense(10, activation='relu'))\n",
        "model.add(Dense(1, activation='sigmoid'))"
      ],
      "metadata": {
        "id": "wVpEzLypkgKV"
      },
      "execution_count": null,
      "outputs": []
    },
    {
      "cell_type": "markdown",
      "source": [
        "**Dense function is used to create Neural Network Layer.**\n",
        "\n",
        "**Activation function decides, whether a neuron should be activated or not by calculating weighted sum and further adding bias with it. The purpose of the activation function is to introduce non-linearity into the output of a neuron.**"
      ],
      "metadata": {
        "id": "VkW4hncX5Wh0"
      }
    },
    {
      "cell_type": "markdown",
      "source": [
        "**Since the data we are passing into the model has 8 features, we must define the input_dim parameter in the first layer and set it to 8.**"
      ],
      "metadata": {
        "id": "iVu8T18apm0J"
      }
    },
    {
      "cell_type": "code",
      "source": [
        "model.summary()"
      ],
      "metadata": {
        "colab": {
          "base_uri": "https://localhost:8080/"
        },
        "id": "gYtgvuKNlBRm",
        "outputId": "7d4abc47-f6c8-42b4-db2d-6b5c5666ff4b"
      },
      "execution_count": null,
      "outputs": [
        {
          "output_type": "stream",
          "name": "stdout",
          "text": [
            "Model: \"sequential\"\n",
            "_________________________________________________________________\n",
            " Layer (type)                Output Shape              Param #   \n",
            "=================================================================\n",
            " dense (Dense)               (None, 20)                180       \n",
            "                                                                 \n",
            " dense_1 (Dense)             (None, 10)                210       \n",
            "                                                                 \n",
            " dense_2 (Dense)             (None, 1)                 11        \n",
            "                                                                 \n",
            "=================================================================\n",
            "Total params: 401\n",
            "Trainable params: 401\n",
            "Non-trainable params: 0\n",
            "_________________________________________________________________\n"
          ]
        }
      ]
    },
    {
      "cell_type": "markdown",
      "source": [
        "# **To Compile the model**"
      ],
      "metadata": {
        "id": "sa5VvOXxrTaw"
      }
    },
    {
      "cell_type": "markdown",
      "source": [
        "**Binary cross entropy** compares each of the predicted probabilities to actual class output which can be either 0 or 1. It then calculates the score that penalizes the probabilities based on the distance from the expected value. That means how close or far from the actual value."
      ],
      "metadata": {
        "id": "sSBiy6mTp_GI"
      }
    },
    {
      "cell_type": "code",
      "source": [
        "model.compile(loss='binary_crossentropy', optimizer='adam', metrics=['accuracy'])"
      ],
      "metadata": {
        "id": "piLGflpRlMA-"
      },
      "execution_count": null,
      "outputs": []
    },
    {
      "cell_type": "markdown",
      "source": [
        "# **Training the model**"
      ],
      "metadata": {
        "id": "7hPkTw-drY6h"
      }
    },
    {
      "cell_type": "markdown",
      "source": [
        "The model was trained on 100 epochs with a validation set of 10% of the train data. The validation set helps to check how well the model is learning during the training process, based on the loss function."
      ],
      "metadata": {
        "id": "qDXssJgg6xEK"
      }
    },
    {
      "cell_type": "code",
      "source": [
        "#train the neural network on the train dataset\n",
        "history = model.fit(X_train, y_train, epochs=100, validation_split=0.1)"
      ],
      "metadata": {
        "colab": {
          "base_uri": "https://localhost:8080/"
        },
        "id": "XzMX6W2rlPC-",
        "outputId": "1880c7dc-73f5-465f-9808-9109c3d456ec"
      },
      "execution_count": null,
      "outputs": [
        {
          "output_type": "stream",
          "name": "stdout",
          "text": [
            "Epoch 1/100\n",
            "18/18 [==============================] - 2s 28ms/step - loss: 0.7638 - accuracy: 0.3786 - val_loss: 0.7065 - val_accuracy: 0.4839\n",
            "Epoch 2/100\n",
            "18/18 [==============================] - 0s 8ms/step - loss: 0.7129 - accuracy: 0.4746 - val_loss: 0.6659 - val_accuracy: 0.6613\n",
            "Epoch 3/100\n",
            "18/18 [==============================] - 0s 9ms/step - loss: 0.6765 - accuracy: 0.6014 - val_loss: 0.6350 - val_accuracy: 0.6774\n",
            "Epoch 4/100\n",
            "18/18 [==============================] - 0s 7ms/step - loss: 0.6491 - accuracy: 0.6667 - val_loss: 0.6110 - val_accuracy: 0.7258\n",
            "Epoch 5/100\n",
            "18/18 [==============================] - 0s 10ms/step - loss: 0.6247 - accuracy: 0.7029 - val_loss: 0.5887 - val_accuracy: 0.7258\n",
            "Epoch 6/100\n",
            "18/18 [==============================] - 0s 8ms/step - loss: 0.6033 - accuracy: 0.7210 - val_loss: 0.5658 - val_accuracy: 0.7419\n",
            "Epoch 7/100\n",
            "18/18 [==============================] - 0s 12ms/step - loss: 0.5826 - accuracy: 0.7283 - val_loss: 0.5433 - val_accuracy: 0.7903\n",
            "Epoch 8/100\n",
            "18/18 [==============================] - 0s 5ms/step - loss: 0.5616 - accuracy: 0.7446 - val_loss: 0.5253 - val_accuracy: 0.7581\n",
            "Epoch 9/100\n",
            "18/18 [==============================] - 0s 9ms/step - loss: 0.5426 - accuracy: 0.7500 - val_loss: 0.5106 - val_accuracy: 0.7742\n",
            "Epoch 10/100\n",
            "18/18 [==============================] - 0s 7ms/step - loss: 0.5271 - accuracy: 0.7572 - val_loss: 0.4987 - val_accuracy: 0.7742\n",
            "Epoch 11/100\n",
            "18/18 [==============================] - 0s 7ms/step - loss: 0.5134 - accuracy: 0.7609 - val_loss: 0.4922 - val_accuracy: 0.7903\n",
            "Epoch 12/100\n",
            "18/18 [==============================] - 0s 8ms/step - loss: 0.5028 - accuracy: 0.7681 - val_loss: 0.4864 - val_accuracy: 0.7903\n",
            "Epoch 13/100\n",
            "18/18 [==============================] - 0s 9ms/step - loss: 0.4935 - accuracy: 0.7736 - val_loss: 0.4833 - val_accuracy: 0.8065\n",
            "Epoch 14/100\n",
            "18/18 [==============================] - 0s 9ms/step - loss: 0.4869 - accuracy: 0.7790 - val_loss: 0.4807 - val_accuracy: 0.8065\n",
            "Epoch 15/100\n",
            "18/18 [==============================] - 0s 7ms/step - loss: 0.4824 - accuracy: 0.7736 - val_loss: 0.4791 - val_accuracy: 0.7903\n",
            "Epoch 16/100\n",
            "18/18 [==============================] - 0s 7ms/step - loss: 0.4773 - accuracy: 0.7717 - val_loss: 0.4799 - val_accuracy: 0.8065\n",
            "Epoch 17/100\n",
            "18/18 [==============================] - 0s 10ms/step - loss: 0.4739 - accuracy: 0.7736 - val_loss: 0.4809 - val_accuracy: 0.8065\n",
            "Epoch 18/100\n",
            "18/18 [==============================] - 0s 15ms/step - loss: 0.4706 - accuracy: 0.7736 - val_loss: 0.4787 - val_accuracy: 0.8065\n",
            "Epoch 19/100\n",
            "18/18 [==============================] - 0s 13ms/step - loss: 0.4676 - accuracy: 0.7736 - val_loss: 0.4795 - val_accuracy: 0.8065\n",
            "Epoch 20/100\n",
            "18/18 [==============================] - 0s 8ms/step - loss: 0.4642 - accuracy: 0.7772 - val_loss: 0.4828 - val_accuracy: 0.8065\n",
            "Epoch 21/100\n",
            "18/18 [==============================] - 0s 8ms/step - loss: 0.4620 - accuracy: 0.7754 - val_loss: 0.4823 - val_accuracy: 0.8065\n",
            "Epoch 22/100\n",
            "18/18 [==============================] - 0s 9ms/step - loss: 0.4608 - accuracy: 0.7790 - val_loss: 0.4831 - val_accuracy: 0.8065\n",
            "Epoch 23/100\n",
            "18/18 [==============================] - 0s 7ms/step - loss: 0.4581 - accuracy: 0.7790 - val_loss: 0.4822 - val_accuracy: 0.8065\n",
            "Epoch 24/100\n",
            "18/18 [==============================] - 0s 6ms/step - loss: 0.4572 - accuracy: 0.7808 - val_loss: 0.4860 - val_accuracy: 0.7903\n",
            "Epoch 25/100\n",
            "18/18 [==============================] - 0s 7ms/step - loss: 0.4544 - accuracy: 0.7862 - val_loss: 0.4877 - val_accuracy: 0.7903\n",
            "Epoch 26/100\n",
            "18/18 [==============================] - 0s 9ms/step - loss: 0.4532 - accuracy: 0.7826 - val_loss: 0.4859 - val_accuracy: 0.7903\n",
            "Epoch 27/100\n",
            "18/18 [==============================] - 0s 8ms/step - loss: 0.4517 - accuracy: 0.7844 - val_loss: 0.4871 - val_accuracy: 0.7903\n",
            "Epoch 28/100\n",
            "18/18 [==============================] - 0s 7ms/step - loss: 0.4502 - accuracy: 0.7880 - val_loss: 0.4886 - val_accuracy: 0.7903\n",
            "Epoch 29/100\n",
            "18/18 [==============================] - 0s 11ms/step - loss: 0.4488 - accuracy: 0.7826 - val_loss: 0.4861 - val_accuracy: 0.7903\n",
            "Epoch 30/100\n",
            "18/18 [==============================] - 0s 7ms/step - loss: 0.4474 - accuracy: 0.7935 - val_loss: 0.4856 - val_accuracy: 0.7903\n",
            "Epoch 31/100\n",
            "18/18 [==============================] - 0s 7ms/step - loss: 0.4472 - accuracy: 0.7917 - val_loss: 0.4893 - val_accuracy: 0.8065\n",
            "Epoch 32/100\n",
            "18/18 [==============================] - 0s 7ms/step - loss: 0.4452 - accuracy: 0.7935 - val_loss: 0.4869 - val_accuracy: 0.7903\n",
            "Epoch 33/100\n",
            "18/18 [==============================] - 0s 10ms/step - loss: 0.4444 - accuracy: 0.7899 - val_loss: 0.4882 - val_accuracy: 0.7903\n",
            "Epoch 34/100\n",
            "18/18 [==============================] - 0s 10ms/step - loss: 0.4428 - accuracy: 0.7917 - val_loss: 0.4875 - val_accuracy: 0.7903\n",
            "Epoch 35/100\n",
            "18/18 [==============================] - 0s 9ms/step - loss: 0.4414 - accuracy: 0.7844 - val_loss: 0.4913 - val_accuracy: 0.7903\n",
            "Epoch 36/100\n",
            "18/18 [==============================] - 0s 6ms/step - loss: 0.4406 - accuracy: 0.7935 - val_loss: 0.4896 - val_accuracy: 0.7903\n",
            "Epoch 37/100\n",
            "18/18 [==============================] - 0s 6ms/step - loss: 0.4394 - accuracy: 0.7844 - val_loss: 0.4883 - val_accuracy: 0.7903\n",
            "Epoch 38/100\n",
            "18/18 [==============================] - 0s 7ms/step - loss: 0.4374 - accuracy: 0.7862 - val_loss: 0.4907 - val_accuracy: 0.8065\n",
            "Epoch 39/100\n",
            "18/18 [==============================] - 0s 13ms/step - loss: 0.4363 - accuracy: 0.7899 - val_loss: 0.4922 - val_accuracy: 0.8226\n",
            "Epoch 40/100\n",
            "18/18 [==============================] - 0s 8ms/step - loss: 0.4358 - accuracy: 0.7989 - val_loss: 0.4951 - val_accuracy: 0.8226\n",
            "Epoch 41/100\n",
            "18/18 [==============================] - 0s 11ms/step - loss: 0.4360 - accuracy: 0.7880 - val_loss: 0.4913 - val_accuracy: 0.8065\n",
            "Epoch 42/100\n",
            "18/18 [==============================] - 0s 12ms/step - loss: 0.4338 - accuracy: 0.7880 - val_loss: 0.4944 - val_accuracy: 0.8226\n",
            "Epoch 43/100\n",
            "18/18 [==============================] - 0s 11ms/step - loss: 0.4325 - accuracy: 0.7917 - val_loss: 0.4934 - val_accuracy: 0.8226\n",
            "Epoch 44/100\n",
            "18/18 [==============================] - 0s 12ms/step - loss: 0.4311 - accuracy: 0.7971 - val_loss: 0.4994 - val_accuracy: 0.8226\n",
            "Epoch 45/100\n",
            "18/18 [==============================] - 0s 6ms/step - loss: 0.4295 - accuracy: 0.7935 - val_loss: 0.4959 - val_accuracy: 0.8226\n",
            "Epoch 46/100\n",
            "18/18 [==============================] - 0s 7ms/step - loss: 0.4286 - accuracy: 0.7935 - val_loss: 0.4962 - val_accuracy: 0.8065\n",
            "Epoch 47/100\n",
            "18/18 [==============================] - 0s 13ms/step - loss: 0.4276 - accuracy: 0.7899 - val_loss: 0.4983 - val_accuracy: 0.8226\n",
            "Epoch 48/100\n",
            "18/18 [==============================] - 0s 7ms/step - loss: 0.4264 - accuracy: 0.7935 - val_loss: 0.4973 - val_accuracy: 0.7903\n",
            "Epoch 49/100\n",
            "18/18 [==============================] - 0s 9ms/step - loss: 0.4257 - accuracy: 0.7917 - val_loss: 0.4998 - val_accuracy: 0.7903\n",
            "Epoch 50/100\n",
            "18/18 [==============================] - 0s 11ms/step - loss: 0.4254 - accuracy: 0.7899 - val_loss: 0.5030 - val_accuracy: 0.7903\n",
            "Epoch 51/100\n",
            "18/18 [==============================] - 0s 7ms/step - loss: 0.4245 - accuracy: 0.7953 - val_loss: 0.5000 - val_accuracy: 0.7742\n",
            "Epoch 52/100\n",
            "18/18 [==============================] - 0s 8ms/step - loss: 0.4231 - accuracy: 0.7989 - val_loss: 0.5022 - val_accuracy: 0.7742\n",
            "Epoch 53/100\n",
            "18/18 [==============================] - 0s 14ms/step - loss: 0.4224 - accuracy: 0.7971 - val_loss: 0.5086 - val_accuracy: 0.7903\n",
            "Epoch 54/100\n",
            "18/18 [==============================] - 0s 9ms/step - loss: 0.4213 - accuracy: 0.7953 - val_loss: 0.5086 - val_accuracy: 0.7742\n",
            "Epoch 55/100\n",
            "18/18 [==============================] - 0s 10ms/step - loss: 0.4194 - accuracy: 0.7935 - val_loss: 0.5074 - val_accuracy: 0.7742\n",
            "Epoch 56/100\n",
            "18/18 [==============================] - 0s 8ms/step - loss: 0.4190 - accuracy: 0.7953 - val_loss: 0.5054 - val_accuracy: 0.7742\n",
            "Epoch 57/100\n",
            "18/18 [==============================] - 0s 10ms/step - loss: 0.4175 - accuracy: 0.7935 - val_loss: 0.5106 - val_accuracy: 0.7742\n",
            "Epoch 58/100\n",
            "18/18 [==============================] - 0s 8ms/step - loss: 0.4167 - accuracy: 0.7953 - val_loss: 0.5110 - val_accuracy: 0.7742\n",
            "Epoch 59/100\n",
            "18/18 [==============================] - 0s 6ms/step - loss: 0.4159 - accuracy: 0.7971 - val_loss: 0.5141 - val_accuracy: 0.7903\n",
            "Epoch 60/100\n",
            "18/18 [==============================] - 0s 12ms/step - loss: 0.4149 - accuracy: 0.8025 - val_loss: 0.5102 - val_accuracy: 0.7742\n",
            "Epoch 61/100\n",
            "18/18 [==============================] - 0s 8ms/step - loss: 0.4133 - accuracy: 0.8007 - val_loss: 0.5120 - val_accuracy: 0.7742\n",
            "Epoch 62/100\n",
            "18/18 [==============================] - 0s 8ms/step - loss: 0.4126 - accuracy: 0.8007 - val_loss: 0.5146 - val_accuracy: 0.7742\n",
            "Epoch 63/100\n",
            "18/18 [==============================] - 0s 11ms/step - loss: 0.4137 - accuracy: 0.8025 - val_loss: 0.5127 - val_accuracy: 0.7581\n",
            "Epoch 64/100\n",
            "18/18 [==============================] - 0s 10ms/step - loss: 0.4135 - accuracy: 0.8025 - val_loss: 0.5195 - val_accuracy: 0.7903\n",
            "Epoch 65/100\n",
            "18/18 [==============================] - 0s 8ms/step - loss: 0.4103 - accuracy: 0.8080 - val_loss: 0.5164 - val_accuracy: 0.7581\n",
            "Epoch 66/100\n",
            "18/18 [==============================] - 0s 16ms/step - loss: 0.4090 - accuracy: 0.8025 - val_loss: 0.5190 - val_accuracy: 0.7742\n",
            "Epoch 67/100\n",
            "18/18 [==============================] - 0s 10ms/step - loss: 0.4073 - accuracy: 0.8098 - val_loss: 0.5164 - val_accuracy: 0.7581\n",
            "Epoch 68/100\n",
            "18/18 [==============================] - 0s 8ms/step - loss: 0.4074 - accuracy: 0.8043 - val_loss: 0.5173 - val_accuracy: 0.7742\n",
            "Epoch 69/100\n",
            "18/18 [==============================] - 0s 7ms/step - loss: 0.4058 - accuracy: 0.8080 - val_loss: 0.5184 - val_accuracy: 0.7581\n",
            "Epoch 70/100\n",
            "18/18 [==============================] - 0s 6ms/step - loss: 0.4046 - accuracy: 0.8080 - val_loss: 0.5205 - val_accuracy: 0.7581\n",
            "Epoch 71/100\n",
            "18/18 [==============================] - 0s 7ms/step - loss: 0.4030 - accuracy: 0.8116 - val_loss: 0.5198 - val_accuracy: 0.7742\n",
            "Epoch 72/100\n",
            "18/18 [==============================] - 0s 14ms/step - loss: 0.4037 - accuracy: 0.8116 - val_loss: 0.5228 - val_accuracy: 0.7742\n",
            "Epoch 73/100\n",
            "18/18 [==============================] - 0s 5ms/step - loss: 0.4014 - accuracy: 0.8134 - val_loss: 0.5215 - val_accuracy: 0.7742\n",
            "Epoch 74/100\n",
            "18/18 [==============================] - 0s 7ms/step - loss: 0.4009 - accuracy: 0.8098 - val_loss: 0.5261 - val_accuracy: 0.7742\n",
            "Epoch 75/100\n",
            "18/18 [==============================] - 0s 16ms/step - loss: 0.4004 - accuracy: 0.8098 - val_loss: 0.5247 - val_accuracy: 0.7742\n",
            "Epoch 76/100\n",
            "18/18 [==============================] - 0s 12ms/step - loss: 0.3988 - accuracy: 0.8152 - val_loss: 0.5269 - val_accuracy: 0.7581\n",
            "Epoch 77/100\n",
            "18/18 [==============================] - 0s 10ms/step - loss: 0.3977 - accuracy: 0.8134 - val_loss: 0.5293 - val_accuracy: 0.7742\n",
            "Epoch 78/100\n",
            "18/18 [==============================] - 0s 9ms/step - loss: 0.3982 - accuracy: 0.8152 - val_loss: 0.5294 - val_accuracy: 0.7581\n",
            "Epoch 79/100\n",
            "18/18 [==============================] - 0s 9ms/step - loss: 0.3955 - accuracy: 0.8134 - val_loss: 0.5306 - val_accuracy: 0.7903\n",
            "Epoch 80/100\n",
            "18/18 [==============================] - 0s 9ms/step - loss: 0.3960 - accuracy: 0.8134 - val_loss: 0.5273 - val_accuracy: 0.7742\n",
            "Epoch 81/100\n",
            "18/18 [==============================] - 0s 7ms/step - loss: 0.3941 - accuracy: 0.8152 - val_loss: 0.5348 - val_accuracy: 0.7581\n",
            "Epoch 82/100\n",
            "18/18 [==============================] - 0s 6ms/step - loss: 0.3921 - accuracy: 0.8170 - val_loss: 0.5348 - val_accuracy: 0.7581\n",
            "Epoch 83/100\n",
            "18/18 [==============================] - 0s 10ms/step - loss: 0.3917 - accuracy: 0.8207 - val_loss: 0.5329 - val_accuracy: 0.7742\n",
            "Epoch 84/100\n",
            "18/18 [==============================] - 0s 7ms/step - loss: 0.3903 - accuracy: 0.8152 - val_loss: 0.5385 - val_accuracy: 0.7581\n",
            "Epoch 85/100\n",
            "18/18 [==============================] - 0s 7ms/step - loss: 0.3907 - accuracy: 0.8152 - val_loss: 0.5426 - val_accuracy: 0.7581\n",
            "Epoch 86/100\n",
            "18/18 [==============================] - 0s 6ms/step - loss: 0.3895 - accuracy: 0.8170 - val_loss: 0.5414 - val_accuracy: 0.7581\n",
            "Epoch 87/100\n",
            "18/18 [==============================] - 0s 7ms/step - loss: 0.3881 - accuracy: 0.8170 - val_loss: 0.5382 - val_accuracy: 0.7742\n",
            "Epoch 88/100\n",
            "18/18 [==============================] - 0s 7ms/step - loss: 0.3882 - accuracy: 0.8152 - val_loss: 0.5399 - val_accuracy: 0.7903\n",
            "Epoch 89/100\n",
            "18/18 [==============================] - 0s 7ms/step - loss: 0.3868 - accuracy: 0.8116 - val_loss: 0.5415 - val_accuracy: 0.7742\n",
            "Epoch 90/100\n",
            "18/18 [==============================] - 0s 5ms/step - loss: 0.3856 - accuracy: 0.8188 - val_loss: 0.5411 - val_accuracy: 0.7742\n",
            "Epoch 91/100\n",
            "18/18 [==============================] - 0s 6ms/step - loss: 0.3846 - accuracy: 0.8170 - val_loss: 0.5462 - val_accuracy: 0.7742\n",
            "Epoch 92/100\n",
            "18/18 [==============================] - 0s 6ms/step - loss: 0.3850 - accuracy: 0.8152 - val_loss: 0.5394 - val_accuracy: 0.7742\n",
            "Epoch 93/100\n",
            "18/18 [==============================] - 0s 6ms/step - loss: 0.3828 - accuracy: 0.8170 - val_loss: 0.5434 - val_accuracy: 0.7742\n",
            "Epoch 94/100\n",
            "18/18 [==============================] - 0s 6ms/step - loss: 0.3829 - accuracy: 0.8170 - val_loss: 0.5388 - val_accuracy: 0.7742\n",
            "Epoch 95/100\n",
            "18/18 [==============================] - 0s 11ms/step - loss: 0.3821 - accuracy: 0.8188 - val_loss: 0.5432 - val_accuracy: 0.7742\n",
            "Epoch 96/100\n",
            "18/18 [==============================] - 0s 9ms/step - loss: 0.3807 - accuracy: 0.8170 - val_loss: 0.5467 - val_accuracy: 0.7742\n",
            "Epoch 97/100\n",
            "18/18 [==============================] - 0s 16ms/step - loss: 0.3819 - accuracy: 0.8152 - val_loss: 0.5445 - val_accuracy: 0.7742\n",
            "Epoch 98/100\n",
            "18/18 [==============================] - 0s 12ms/step - loss: 0.3787 - accuracy: 0.8188 - val_loss: 0.5427 - val_accuracy: 0.7742\n",
            "Epoch 99/100\n",
            "18/18 [==============================] - 0s 8ms/step - loss: 0.3785 - accuracy: 0.8207 - val_loss: 0.5467 - val_accuracy: 0.7742\n",
            "Epoch 100/100\n",
            "18/18 [==============================] - 0s 8ms/step - loss: 0.3773 - accuracy: 0.8188 - val_loss: 0.5459 - val_accuracy: 0.7742\n"
          ]
        }
      ]
    },
    {
      "cell_type": "code",
      "source": [
        "#plot the loss and validation loss of the dataset\n",
        "history_df = pd.DataFrame(history.history)\n",
        "plt.plot(history_df['loss'], label='loss')\n",
        "plt.plot(history_df['val_loss'], label='val_loss')\n",
        "\n",
        "plt.legend()"
      ],
      "metadata": {
        "colab": {
          "base_uri": "https://localhost:8080/",
          "height": 282
        },
        "id": "NupeOOw5ri4y",
        "outputId": "37a4cd3f-445d-4050-8461-221bcc67dd8e"
      },
      "execution_count": null,
      "outputs": [
        {
          "output_type": "execute_result",
          "data": {
            "text/plain": [
              "<matplotlib.legend.Legend at 0x7f7d944e9f90>"
            ]
          },
          "metadata": {},
          "execution_count": 23
        },
        {
          "output_type": "display_data",
          "data": {
            "image/png": "[encoded data removed]",
            "text/plain": [
              "<Figure size 432x288 with 1 Axes>"
            ]
          },
          "metadata": {
            "needs_background": "light"
          }
        }
      ]
    },
    {
      "cell_type": "code",
      "source": [
        "plt.plot(history_df['accuracy'], label='acc')\n",
        "plt.plot(history_df['val_accuracy'], label='val_acc')\n",
        "\n",
        "plt.legend()"
      ],
      "metadata": {
        "colab": {
          "base_uri": "https://localhost:8080/",
          "height": 282
        },
        "id": "UPMzZvaornxH",
        "outputId": "933a0084-e548-4e5f-fd26-21ce2bcab1ff"
      },
      "execution_count": null,
      "outputs": [
        {
          "output_type": "execute_result",
          "data": {
            "text/plain": [
              "<matplotlib.legend.Legend at 0x7f7d944aab10>"
            ]
          },
          "metadata": {},
          "execution_count": 24
        },
        {
          "output_type": "display_data",
          "data": {
            "image/png": "[encoded data removed]",
            "text/plain": [
              "<Figure size 432x288 with 1 Axes>"
            ]
          },
          "metadata": {
            "needs_background": "light"
          }
        }
      ]
    },
    {
      "cell_type": "code",
      "source": [
        "#Prediction\n",
        "y_pred = model.predict(X_test)"
      ],
      "metadata": {
        "id": "hw1OZfnprrVX"
      },
      "execution_count": null,
      "outputs": []
    },
    {
      "cell_type": "code",
      "source": [
        "y_test"
      ],
      "metadata": {
        "colab": {
          "base_uri": "https://localhost:8080/",
          "height": 423
        },
        "id": "i1cWuLZRrvFn",
        "outputId": "fb6dbde2-66fe-464a-821d-9141d2f9027b"
      },
      "execution_count": null,
      "outputs": [
        {
          "output_type": "execute_result",
          "data": {
            "text/html": [
              "\n",
              "  <div id=\"df-b2553657-a1ef-4590-8898-46b0e89e458a\">\n",
              "    <div class=\"colab-df-container\">\n",
              "      <div>\n",
              "<style scoped>\n",
              "    .dataframe tbody tr th:only-of-type {\n",
              "        vertical-align: middle;\n",
              "    }\n",
              "\n",
              "    .dataframe tbody tr th {\n",
              "        vertical-align: top;\n",
              "    }\n",
              "\n",
              "    .dataframe thead th {\n",
              "        text-align: right;\n",
              "    }\n",
              "</style>\n",
              "<table border=\"1\" class=\"dataframe\">\n",
              "  <thead>\n",
              "    <tr style=\"text-align: right;\">\n",
              "      <th></th>\n",
              "      <th>Outcome</th>\n",
              "    </tr>\n",
              "  </thead>\n",
              "  <tbody>\n",
              "    <tr>\n",
              "      <th>661</th>\n",
              "      <td>1</td>\n",
              "    </tr>\n",
              "    <tr>\n",
              "      <th>122</th>\n",
              "      <td>0</td>\n",
              "    </tr>\n",
              "    <tr>\n",
              "      <th>113</th>\n",
              "      <td>0</td>\n",
              "    </tr>\n",
              "    <tr>\n",
              "      <th>14</th>\n",
              "      <td>1</td>\n",
              "    </tr>\n",
              "    <tr>\n",
              "      <th>529</th>\n",
              "      <td>0</td>\n",
              "    </tr>\n",
              "    <tr>\n",
              "      <th>...</th>\n",
              "      <td>...</td>\n",
              "    </tr>\n",
              "    <tr>\n",
              "      <th>476</th>\n",
              "      <td>1</td>\n",
              "    </tr>\n",
              "    <tr>\n",
              "      <th>482</th>\n",
              "      <td>0</td>\n",
              "    </tr>\n",
              "    <tr>\n",
              "      <th>230</th>\n",
              "      <td>1</td>\n",
              "    </tr>\n",
              "    <tr>\n",
              "      <th>527</th>\n",
              "      <td>0</td>\n",
              "    </tr>\n",
              "    <tr>\n",
              "      <th>380</th>\n",
              "      <td>0</td>\n",
              "    </tr>\n",
              "  </tbody>\n",
              "</table>\n",
              "<p>154 rows × 1 columns</p>\n",
              "</div>\n",
              "      <button class=\"colab-df-convert\" onclick=\"convertToInteractive('df-b2553657-a1ef-4590-8898-46b0e89e458a')\"\n",
              "              title=\"Convert this dataframe to an interactive table.\"\n",
              "              style=\"display:none;\">\n",
              "        \n",
              "  <svg xmlns=\"http://www.w3.org/2000/svg\" height=\"24px\"viewBox=\"0 0 24 24\"\n",
              "       width=\"24px\">\n",
              "    <path d=\"M0 0h24v24H0V0z\" fill=\"none\"/>\n",
              "    <path d=\"M18.56 5.44l.94 2.06.94-2.06 2.06-.94-2.06-.94-.94-2.06-.94 2.06-2.06.94zm-11 1L8.5 8.5l.94-2.06 2.06-.94-2.06-.94L8.5 2.5l-.94 2.06-2.06.94zm10 10l.94 2.06.94-2.06 2.06-.94-2.06-.94-.94-2.06-.94 2.06-2.06.94z\"/><path d=\"M17.41 7.96l-1.37-1.37c-.4-.4-.92-.59-1.43-.59-.52 0-1.04.2-1.43.59L10.3 9.45l-7.72 7.72c-.78.78-.78 2.05 0 2.83L4 21.41c.39.39.9.59 1.41.59.51 0 1.02-.2 1.41-.59l7.78-7.78 2.81-2.81c.8-.78.8-2.07 0-2.86zM5.41 20L4 18.59l7.72-7.72 1.47 1.35L5.41 20z\"/>\n",
              "  </svg>\n",
              "      </button>\n",
              "      \n",
              "  <style>\n",
              "    .colab-df-container {\n",
              "      display:flex;\n",
              "      flex-wrap:wrap;\n",
              "      gap: 12px;\n",
              "    }\n",
              "\n",
              "    .colab-df-convert {\n",
              "      background-color: #E8F0FE;\n",
              "      border: none;\n",
              "      border-radius: 50%;\n",
              "      cursor: pointer;\n",
              "      display: none;\n",
              "      fill: #1967D2;\n",
              "      height: 32px;\n",
              "      padding: 0 0 0 0;\n",
              "      width: 32px;\n",
              "    }\n",
              "\n",
              "    .colab-df-convert:hover {\n",
              "      background-color: #E2EBFA;\n",
              "      box-shadow: 0px 1px 2px rgba(60, 64, 67, 0.3), 0px 1px 3px 1px rgba(60, 64, 67, 0.15);\n",
              "      fill: #174EA6;\n",
              "    }\n",
              "\n",
              "    [theme=dark] .colab-df-convert {\n",
              "      background-color: #3B4455;\n",
              "      fill: #D2E3FC;\n",
              "    }\n",
              "\n",
              "    [theme=dark] .colab-df-convert:hover {\n",
              "      background-color: #434B5C;\n",
              "      box-shadow: 0px 1px 3px 1px rgba(0, 0, 0, 0.15);\n",
              "      filter: drop-shadow(0px 1px 2px rgba(0, 0, 0, 0.3));\n",
              "      fill: #FFFFFF;\n",
              "    }\n",
              "  </style>\n",
              "\n",
              "      <script>\n",
              "        const buttonEl =\n",
              "          document.querySelector('#df-b2553657-a1ef-4590-8898-46b0e89e458a button.colab-df-convert');\n",
              "        buttonEl.style.display =\n",
              "          google.colab.kernel.accessAllowed ? 'block' : 'none';\n",
              "\n",
              "        async function convertToInteractive(key) {\n",
              "          const element = document.querySelector('#df-b2553657-a1ef-4590-8898-46b0e89e458a');\n",
              "          const dataTable =\n",
              "            await google.colab.kernel.invokeFunction('convertToInteractive',\n",
              "                                                     [key], {});\n",
              "          if (!dataTable) return;\n",
              "\n",
              "          const docLinkHtml = 'Like what you see? Visit the ' +\n",
              "            '<a target=\"_blank\" href=https://colab.research.google.com/notebooks/data_table.ipynb>data table notebook</a>'\n",
              "            + ' to learn more about interactive tables.';\n",
              "          element.innerHTML = '';\n",
              "          dataTable['output_type'] = 'display_data';\n",
              "          await google.colab.output.renderOutput(dataTable, element);\n",
              "          const docLink = document.createElement('div');\n",
              "          docLink.innerHTML = docLinkHtml;\n",
              "          element.appendChild(docLink);\n",
              "        }\n",
              "      </script>\n",
              "    </div>\n",
              "  </div>\n",
              "  "
            ],
            "text/plain": [
              "     Outcome\n",
              "661        1\n",
              "122        0\n",
              "113        0\n",
              "14         1\n",
              "529        0\n",
              "..       ...\n",
              "476        1\n",
              "482        0\n",
              "230        1\n",
              "527        0\n",
              "380        0\n",
              "\n",
              "[154 rows x 1 columns]"
            ]
          },
          "metadata": {},
          "execution_count": 26
        }
      ]
    },
    {
      "cell_type": "code",
      "source": [
        "y_pred"
      ],
      "metadata": {
        "colab": {
          "base_uri": "https://localhost:8080/"
        },
        "id": "qbtOX8SBryCe",
        "outputId": "c5046070-7e75-4de9-e9b0-2ccf926feae8"
      },
      "execution_count": null,
      "outputs": [
        {
          "output_type": "execute_result",
          "data": {
            "text/plain": [
              "array([[9.90382314e-01],\n",
              "       [4.63421047e-02],\n",
              "       [6.49133325e-02],\n",
              "       [6.35528624e-01],\n",
              "       [3.06932926e-02],\n",
              "       [1.25808716e-02],\n",
              "       [9.09202695e-01],\n",
              "       [8.59806657e-01],\n",
              "       [5.72356939e-01],\n",
              "       [4.76494282e-01],\n",
              "       [5.87907612e-01],\n",
              "       [9.16359603e-01],\n",
              "       [1.42044336e-01],\n",
              "       [2.81162024e-01],\n",
              "       [4.07346368e-01],\n",
              "       [1.20899558e-01],\n",
              "       [9.05833721e-01],\n",
              "       [4.19268012e-03],\n",
              "       [2.72478938e-01],\n",
              "       [2.23113775e-01],\n",
              "       [7.78535485e-01],\n",
              "       [2.08764464e-01],\n",
              "       [1.66334927e-01],\n",
              "       [4.20049369e-01],\n",
              "       [4.46575880e-03],\n",
              "       [6.00675046e-01],\n",
              "       [9.62314010e-03],\n",
              "       [9.87983584e-01],\n",
              "       [3.74912322e-02],\n",
              "       [1.29126787e-01],\n",
              "       [4.80070382e-01],\n",
              "       [1.87879056e-01],\n",
              "       [4.14895415e-02],\n",
              "       [8.24818492e-01],\n",
              "       [2.90884078e-02],\n",
              "       [7.39373088e-01],\n",
              "       [5.19314647e-01],\n",
              "       [1.75895989e-02],\n",
              "       [7.08420217e-01],\n",
              "       [9.51303959e-01],\n",
              "       [3.25086117e-01],\n",
              "       [4.60234880e-02],\n",
              "       [1.34774625e-01],\n",
              "       [9.69612956e-01],\n",
              "       [9.64852512e-01],\n",
              "       [4.27573919e-04],\n",
              "       [1.98891163e-02],\n",
              "       [1.11064643e-01],\n",
              "       [2.84639299e-01],\n",
              "       [2.33634800e-01],\n",
              "       [5.23651898e-01],\n",
              "       [8.33787918e-02],\n",
              "       [9.09188807e-01],\n",
              "       [4.22968149e-01],\n",
              "       [6.55730069e-02],\n",
              "       [1.38068199e-03],\n",
              "       [7.46092796e-02],\n",
              "       [2.66779453e-01],\n",
              "       [1.31244034e-01],\n",
              "       [1.69369578e-03],\n",
              "       [6.41239882e-01],\n",
              "       [4.95908350e-01],\n",
              "       [2.75186896e-02],\n",
              "       [8.87722731e-01],\n",
              "       [8.60462070e-01],\n",
              "       [8.84667516e-01],\n",
              "       [5.72049737e-01],\n",
              "       [1.00888520e-01],\n",
              "       [4.33400363e-01],\n",
              "       [1.43996298e-01],\n",
              "       [5.70088327e-02],\n",
              "       [3.41054797e-01],\n",
              "       [7.19202459e-02],\n",
              "       [9.55413222e-01],\n",
              "       [9.33557928e-01],\n",
              "       [3.84521008e-01],\n",
              "       [4.63598788e-01],\n",
              "       [8.15852463e-01],\n",
              "       [1.38670772e-01],\n",
              "       [1.99002415e-01],\n",
              "       [3.39333117e-01],\n",
              "       [3.95420641e-01],\n",
              "       [9.90281701e-02],\n",
              "       [3.07288766e-03],\n",
              "       [1.76724851e-01],\n",
              "       [1.53030306e-01],\n",
              "       [1.04406536e-01],\n",
              "       [8.45691204e-01],\n",
              "       [8.85877132e-01],\n",
              "       [4.96652126e-02],\n",
              "       [2.46372998e-01],\n",
              "       [8.97359550e-02],\n",
              "       [9.04797912e-02],\n",
              "       [6.72927499e-03],\n",
              "       [8.66283715e-01],\n",
              "       [5.28300107e-02],\n",
              "       [5.75052142e-01],\n",
              "       [5.89617252e-01],\n",
              "       [7.93285489e-01],\n",
              "       [3.03070784e-01],\n",
              "       [1.28714174e-01],\n",
              "       [8.34727287e-03],\n",
              "       [1.59276128e-01],\n",
              "       [8.98790359e-03],\n",
              "       [6.94584191e-01],\n",
              "       [5.74031591e-01],\n",
              "       [3.43246460e-02],\n",
              "       [5.57896137e-01],\n",
              "       [2.70859003e-02],\n",
              "       [6.17552698e-01],\n",
              "       [2.39540935e-02],\n",
              "       [3.35502148e-01],\n",
              "       [7.01450288e-01],\n",
              "       [6.83692873e-01],\n",
              "       [3.62205505e-01],\n",
              "       [5.88263452e-01],\n",
              "       [2.09347606e-02],\n",
              "       [8.82170558e-01],\n",
              "       [6.01052940e-02],\n",
              "       [9.28361177e-01],\n",
              "       [4.06909078e-01],\n",
              "       [4.54826564e-01],\n",
              "       [1.78754210e-01],\n",
              "       [1.62816465e-01],\n",
              "       [1.01741880e-01],\n",
              "       [1.87431276e-02],\n",
              "       [2.66366422e-01],\n",
              "       [4.92384434e-01],\n",
              "       [3.21308523e-01],\n",
              "       [1.75128698e-01],\n",
              "       [2.49118924e-01],\n",
              "       [8.28891993e-04],\n",
              "       [2.37255096e-02],\n",
              "       [8.84533823e-01],\n",
              "       [5.84286988e-01],\n",
              "       [6.24525487e-01],\n",
              "       [1.86338484e-01],\n",
              "       [2.67666101e-01],\n",
              "       [5.46669006e-01],\n",
              "       [7.32126236e-02],\n",
              "       [5.28523624e-02],\n",
              "       [7.76232839e-01],\n",
              "       [1.31486356e-02],\n",
              "       [1.85290903e-01],\n",
              "       [4.64605033e-01],\n",
              "       [1.22815669e-02],\n",
              "       [4.73585129e-02],\n",
              "       [1.07998937e-01],\n",
              "       [4.26261425e-02],\n",
              "       [1.41281635e-01],\n",
              "       [4.96907532e-02],\n",
              "       [6.06801152e-01],\n",
              "       [3.50185633e-02],\n",
              "       [6.42350018e-02]], dtype=float32)"
            ]
          },
          "metadata": {},
          "execution_count": 27
        }
      ]
    },
    {
      "cell_type": "code",
      "source": [
        "y_pred = y_pred > 0.5\n",
        "y_pred"
      ],
      "metadata": {
        "colab": {
          "base_uri": "https://localhost:8080/"
        },
        "id": "AQjc2cUir1qg",
        "outputId": "89903b7f-390d-4243-be61-04b60a699b81"
      },
      "execution_count": null,
      "outputs": [
        {
          "output_type": "execute_result",
          "data": {
            "text/plain": [
              "array([[ True],\n",
              "       [False],\n",
              "       [False],\n",
              "       [ True],\n",
              "       [False],\n",
              "       [False],\n",
              "       [ True],\n",
              "       [ True],\n",
              "       [ True],\n",
              "       [False],\n",
              "       [ True],\n",
              "       [ True],\n",
              "       [False],\n",
              "       [False],\n",
              "       [False],\n",
              "       [False],\n",
              "       [ True],\n",
              "       [False],\n",
              "       [False],\n",
              "       [False],\n",
              "       [ True],\n",
              "       [False],\n",
              "       [False],\n",
              "       [False],\n",
              "       [False],\n",
              "       [ True],\n",
              "       [False],\n",
              "       [ True],\n",
              "       [False],\n",
              "       [False],\n",
              "       [False],\n",
              "       [False],\n",
              "       [False],\n",
              "       [ True],\n",
              "       [False],\n",
              "       [ True],\n",
              "       [ True],\n",
              "       [False],\n",
              "       [ True],\n",
              "       [ True],\n",
              "       [False],\n",
              "       [False],\n",
              "       [False],\n",
              "       [ True],\n",
              "       [ True],\n",
              "       [False],\n",
              "       [False],\n",
              "       [False],\n",
              "       [False],\n",
              "       [False],\n",
              "       [ True],\n",
              "       [False],\n",
              "       [ True],\n",
              "       [False],\n",
              "       [False],\n",
              "       [False],\n",
              "       [False],\n",
              "       [False],\n",
              "       [False],\n",
              "       [False],\n",
              "       [ True],\n",
              "       [False],\n",
              "       [False],\n",
              "       [ True],\n",
              "       [ True],\n",
              "       [ True],\n",
              "       [ True],\n",
              "       [False],\n",
              "       [False],\n",
              "       [False],\n",
              "       [False],\n",
              "       [False],\n",
              "       [False],\n",
              "       [ True],\n",
              "       [ True],\n",
              "       [False],\n",
              "       [False],\n",
              "       [ True],\n",
              "       [False],\n",
              "       [False],\n",
              "       [False],\n",
              "       [False],\n",
              "       [False],\n",
              "       [False],\n",
              "       [False],\n",
              "       [False],\n",
              "       [False],\n",
              "       [ True],\n",
              "       [ True],\n",
              "       [False],\n",
              "       [False],\n",
              "       [False],\n",
              "       [False],\n",
              "       [False],\n",
              "       [ True],\n",
              "       [False],\n",
              "       [ True],\n",
              "       [ True],\n",
              "       [ True],\n",
              "       [False],\n",
              "       [False],\n",
              "       [False],\n",
              "       [False],\n",
              "       [False],\n",
              "       [ True],\n",
              "       [ True],\n",
              "       [False],\n",
              "       [ True],\n",
              "       [False],\n",
              "       [ True],\n",
              "       [False],\n",
              "       [False],\n",
              "       [ True],\n",
              "       [ True],\n",
              "       [False],\n",
              "       [ True],\n",
              "       [False],\n",
              "       [ True],\n",
              "       [False],\n",
              "       [ True],\n",
              "       [False],\n",
              "       [False],\n",
              "       [False],\n",
              "       [False],\n",
              "       [False],\n",
              "       [False],\n",
              "       [False],\n",
              "       [False],\n",
              "       [False],\n",
              "       [False],\n",
              "       [False],\n",
              "       [False],\n",
              "       [False],\n",
              "       [ True],\n",
              "       [ True],\n",
              "       [ True],\n",
              "       [False],\n",
              "       [False],\n",
              "       [ True],\n",
              "       [False],\n",
              "       [False],\n",
              "       [ True],\n",
              "       [False],\n",
              "       [False],\n",
              "       [False],\n",
              "       [False],\n",
              "       [False],\n",
              "       [False],\n",
              "       [False],\n",
              "       [False],\n",
              "       [False],\n",
              "       [ True],\n",
              "       [False],\n",
              "       [False]])"
            ]
          },
          "metadata": {},
          "execution_count": 28
        }
      ]
    },
    {
      "cell_type": "code",
      "source": [
        "pred = y_pred.astype('uint8')\n",
        "pred"
      ],
      "metadata": {
        "colab": {
          "base_uri": "https://localhost:8080/"
        },
        "id": "KzptoDd8r5BO",
        "outputId": "395d8b25-5da3-46ee-de20-cc1919e2173c"
      },
      "execution_count": null,
      "outputs": [
        {
          "output_type": "execute_result",
          "data": {
            "text/plain": [
              "array([[1],\n",
              "       [0],\n",
              "       [0],\n",
              "       [1],\n",
              "       [0],\n",
              "       [0],\n",
              "       [1],\n",
              "       [1],\n",
              "       [1],\n",
              "       [0],\n",
              "       [1],\n",
              "       [1],\n",
              "       [0],\n",
              "       [0],\n",
              "       [0],\n",
              "       [0],\n",
              "       [1],\n",
              "       [0],\n",
              "       [0],\n",
              "       [0],\n",
              "       [1],\n",
              "       [0],\n",
              "       [0],\n",
              "       [0],\n",
              "       [0],\n",
              "       [1],\n",
              "       [0],\n",
              "       [1],\n",
              "       [0],\n",
              "       [0],\n",
              "       [0],\n",
              "       [0],\n",
              "       [0],\n",
              "       [1],\n",
              "       [0],\n",
              "       [1],\n",
              "       [1],\n",
              "       [0],\n",
              "       [1],\n",
              "       [1],\n",
              "       [0],\n",
              "       [0],\n",
              "       [0],\n",
              "       [1],\n",
              "       [1],\n",
              "       [0],\n",
              "       [0],\n",
              "       [0],\n",
              "       [0],\n",
              "       [0],\n",
              "       [1],\n",
              "       [0],\n",
              "       [1],\n",
              "       [0],\n",
              "       [0],\n",
              "       [0],\n",
              "       [0],\n",
              "       [0],\n",
              "       [0],\n",
              "       [0],\n",
              "       [1],\n",
              "       [0],\n",
              "       [0],\n",
              "       [1],\n",
              "       [1],\n",
              "       [1],\n",
              "       [1],\n",
              "       [0],\n",
              "       [0],\n",
              "       [0],\n",
              "       [0],\n",
              "       [0],\n",
              "       [0],\n",
              "       [1],\n",
              "       [1],\n",
              "       [0],\n",
              "       [0],\n",
              "       [1],\n",
              "       [0],\n",
              "       [0],\n",
              "       [0],\n",
              "       [0],\n",
              "       [0],\n",
              "       [0],\n",
              "       [0],\n",
              "       [0],\n",
              "       [0],\n",
              "       [1],\n",
              "       [1],\n",
              "       [0],\n",
              "       [0],\n",
              "       [0],\n",
              "       [0],\n",
              "       [0],\n",
              "       [1],\n",
              "       [0],\n",
              "       [1],\n",
              "       [1],\n",
              "       [1],\n",
              "       [0],\n",
              "       [0],\n",
              "       [0],\n",
              "       [0],\n",
              "       [0],\n",
              "       [1],\n",
              "       [1],\n",
              "       [0],\n",
              "       [1],\n",
              "       [0],\n",
              "       [1],\n",
              "       [0],\n",
              "       [0],\n",
              "       [1],\n",
              "       [1],\n",
              "       [0],\n",
              "       [1],\n",
              "       [0],\n",
              "       [1],\n",
              "       [0],\n",
              "       [1],\n",
              "       [0],\n",
              "       [0],\n",
              "       [0],\n",
              "       [0],\n",
              "       [0],\n",
              "       [0],\n",
              "       [0],\n",
              "       [0],\n",
              "       [0],\n",
              "       [0],\n",
              "       [0],\n",
              "       [0],\n",
              "       [0],\n",
              "       [1],\n",
              "       [1],\n",
              "       [1],\n",
              "       [0],\n",
              "       [0],\n",
              "       [1],\n",
              "       [0],\n",
              "       [0],\n",
              "       [1],\n",
              "       [0],\n",
              "       [0],\n",
              "       [0],\n",
              "       [0],\n",
              "       [0],\n",
              "       [0],\n",
              "       [0],\n",
              "       [0],\n",
              "       [0],\n",
              "       [1],\n",
              "       [0],\n",
              "       [0]], dtype=uint8)"
            ]
          },
          "metadata": {},
          "execution_count": 29
        }
      ]
    },
    {
      "cell_type": "markdown",
      "source": [
        "# **Classification Report**"
      ],
      "metadata": {
        "id": "28vDObgitTh1"
      }
    },
    {
      "cell_type": "code",
      "source": [
        "from sklearn.metrics import classification_report"
      ],
      "metadata": {
        "id": "2_AMLH3YtQdW"
      },
      "execution_count": null,
      "outputs": []
    },
    {
      "cell_type": "code",
      "source": [
        "print(classification_report(y_test,y_pred))"
      ],
      "metadata": {
        "colab": {
          "base_uri": "https://localhost:8080/"
        },
        "id": "03JT4gbrr8ZX",
        "outputId": "2dd86810-19c3-4afd-f452-a89e709594d7"
      },
      "execution_count": null,
      "outputs": [
        {
          "output_type": "stream",
          "name": "stdout",
          "text": [
            "              precision    recall  f1-score   support\n",
            "\n",
            "           0       0.86      0.84      0.85       107\n",
            "           1       0.65      0.68      0.67        47\n",
            "\n",
            "    accuracy                           0.79       154\n",
            "   macro avg       0.76      0.76      0.76       154\n",
            "weighted avg       0.79      0.79      0.79       154\n",
            "\n"
          ]
        }
      ]
    },
    {
      "cell_type": "markdown",
      "source": [
        "**The accuracy of this model is 78%.** "
      ],
      "metadata": {
        "id": "6Ei82HE6tbWt"
      }
    },
    {
      "cell_type": "markdown",
      "source": [
        "# **To solve the diabetes dataset by using Classification algorithm.**"
      ],
      "metadata": {
        "id": "j8m7vWVO8XMi"
      }
    },
    {
      "cell_type": "markdown",
      "source": [
        "# **Classification**"
      ],
      "metadata": {
        "id": "j6tCLr6Qtscv"
      }
    },
    {
      "cell_type": "markdown",
      "source": [
        "To apply various classification algorithms in the diabetes dataset."
      ],
      "metadata": {
        "id": "Uq62_Pk_uBYV"
      }
    },
    {
      "cell_type": "code",
      "source": [
        "import warnings\n",
        "warnings.filterwarnings(\"ignore\")"
      ],
      "metadata": {
        "id": "vIXEsKteulrm"
      },
      "execution_count": null,
      "outputs": []
    },
    {
      "cell_type": "markdown",
      "source": [
        "**To Import Libraries:**"
      ],
      "metadata": {
        "id": "fAu4cliM7Pd6"
      }
    },
    {
      "cell_type": "code",
      "source": [
        "import numpy as np        \n",
        "import pandas as pd     \n",
        "import matplotlib.pyplot as plt "
      ],
      "metadata": {
        "id": "UdVpy-xAupXe"
      },
      "execution_count": null,
      "outputs": []
    },
    {
      "cell_type": "code",
      "source": [
        "# Download the data\n",
        "!wget -O diabetes.csv https://www.dropbox.com/s/sglreynnyx40pb6/diabetes.csv?dl=0"
      ],
      "metadata": {
        "colab": {
          "base_uri": "https://localhost:8080/"
        },
        "id": "AVvqNQU4ucEv",
        "outputId": "9357293e-a169-4768-a5fa-40dc253e4567"
      },
      "execution_count": null,
      "outputs": [
        {
          "output_type": "stream",
          "name": "stdout",
          "text": [
            "--2021-12-20 03:56:45--  https://www.dropbox.com/s/sglreynnyx40pb6/diabetes.csv?dl=0\n",
            "Resolving www.dropbox.com (www.dropbox.com)... 162.125.5.18, 2620:100:601d:18::a27d:512\n",
            "Connecting to www.dropbox.com (www.dropbox.com)|162.125.5.18|:443... connected.\n",
            "HTTP request sent, awaiting response... 301 Moved Permanently\n",
            "Location: /s/raw/sglreynnyx40pb6/diabetes.csv [following]\n",
            "--2021-12-20 03:56:46--  https://www.dropbox.com/s/raw/sglreynnyx40pb6/diabetes.csv\n",
            "Reusing existing connection to www.dropbox.com:443.\n",
            "HTTP request sent, awaiting response... 302 Found\n",
            "Location: https://ucbed71022bd5ca44d375e927cdd.dl.dropboxusercontent.com/cd/0/inline/BcJKYZWX1n0CTvNl2hUbUPjvm54ZFMBDtoBvQwTC9my6eSeVq49Dfg6bjsjjyrem8mC_K1C1vVPhog0GCUTxppiXF3RjDTU1QyubwuL3y9BBTMoDUlBJHBYU_9zc8YjPBTv5UFe073A_fMNk-2dRKeVR/file# [following]\n",
            "--2021-12-20 03:56:46--  https://ucbed71022bd5ca44d375e927cdd.dl.dropboxusercontent.com/cd/0/inline/BcJKYZWX1n0CTvNl2hUbUPjvm54ZFMBDtoBvQwTC9my6eSeVq49Dfg6bjsjjyrem8mC_K1C1vVPhog0GCUTxppiXF3RjDTU1QyubwuL3y9BBTMoDUlBJHBYU_9zc8YjPBTv5UFe073A_fMNk-2dRKeVR/file\n",
            "Resolving ucbed71022bd5ca44d375e927cdd.dl.dropboxusercontent.com (ucbed71022bd5ca44d375e927cdd.dl.dropboxusercontent.com)... 162.125.5.15, 2620:100:601d:15::a27d:50f\n",
            "Connecting to ucbed71022bd5ca44d375e927cdd.dl.dropboxusercontent.com (ucbed71022bd5ca44d375e927cdd.dl.dropboxusercontent.com)|162.125.5.15|:443... connected.\n",
            "HTTP request sent, awaiting response... 200 OK\n",
            "Length: 23873 (23K) [text/plain]\n",
            "Saving to: ‘diabetes.csv’\n",
            "\n",
            "diabetes.csv        100%[===================>]  23.31K  --.-KB/s    in 0.01s   \n",
            "\n",
            "2021-12-20 03:56:46 (1.61 MB/s) - ‘diabetes.csv’ saved [23873/23873]\n",
            "\n"
          ]
        }
      ]
    },
    {
      "cell_type": "code",
      "source": [
        "#importing the dataset\n",
        "\n",
        "dataset_diabetes_pred = pd.read_csv('diabetes.csv')\n",
        "dataset_diabetes_pred"
      ],
      "metadata": {
        "colab": {
          "base_uri": "https://localhost:8080/",
          "height": 423
        },
        "id": "bQEnL3Yqud_n",
        "outputId": "4d6dfa3b-03c9-4e3d-cace-b6cd360747b0"
      },
      "execution_count": null,
      "outputs": [
        {
          "output_type": "execute_result",
          "data": {
            "text/html": [
              "\n",
              "  <div id=\"df-2f8bbf3d-ef35-4b6e-8e45-d43244d9e121\">\n",
              "    <div class=\"colab-df-container\">\n",
              "      <div>\n",
              "<style scoped>\n",
              "    .dataframe tbody tr th:only-of-type {\n",
              "        vertical-align: middle;\n",
              "    }\n",
              "\n",
              "    .dataframe tbody tr th {\n",
              "        vertical-align: top;\n",
              "    }\n",
              "\n",
              "    .dataframe thead th {\n",
              "        text-align: right;\n",
              "    }\n",
              "</style>\n",
              "<table border=\"1\" class=\"dataframe\">\n",
              "  <thead>\n",
              "    <tr style=\"text-align: right;\">\n",
              "      <th></th>\n",
              "      <th>Pregnancies</th>\n",
              "      <th>Glucose</th>\n",
              "      <th>BloodPressure</th>\n",
              "      <th>SkinThickness</th>\n",
              "      <th>Insulin</th>\n",
              "      <th>BMI</th>\n",
              "      <th>DiabetesPedigreeFunction</th>\n",
              "      <th>Age</th>\n",
              "      <th>Outcome</th>\n",
              "    </tr>\n",
              "  </thead>\n",
              "  <tbody>\n",
              "    <tr>\n",
              "      <th>0</th>\n",
              "      <td>6</td>\n",
              "      <td>148</td>\n",
              "      <td>72</td>\n",
              "      <td>35</td>\n",
              "      <td>0</td>\n",
              "      <td>33.6</td>\n",
              "      <td>0.627</td>\n",
              "      <td>50</td>\n",
              "      <td>1</td>\n",
              "    </tr>\n",
              "    <tr>\n",
              "      <th>1</th>\n",
              "      <td>1</td>\n",
              "      <td>85</td>\n",
              "      <td>66</td>\n",
              "      <td>29</td>\n",
              "      <td>0</td>\n",
              "      <td>26.6</td>\n",
              "      <td>0.351</td>\n",
              "      <td>31</td>\n",
              "      <td>0</td>\n",
              "    </tr>\n",
              "    <tr>\n",
              "      <th>2</th>\n",
              "      <td>8</td>\n",
              "      <td>183</td>\n",
              "      <td>64</td>\n",
              "      <td>0</td>\n",
              "      <td>0</td>\n",
              "      <td>23.3</td>\n",
              "      <td>0.672</td>\n",
              "      <td>32</td>\n",
              "      <td>1</td>\n",
              "    </tr>\n",
              "    <tr>\n",
              "      <th>3</th>\n",
              "      <td>1</td>\n",
              "      <td>89</td>\n",
              "      <td>66</td>\n",
              "      <td>23</td>\n",
              "      <td>94</td>\n",
              "      <td>28.1</td>\n",
              "      <td>0.167</td>\n",
              "      <td>21</td>\n",
              "      <td>0</td>\n",
              "    </tr>\n",
              "    <tr>\n",
              "      <th>4</th>\n",
              "      <td>0</td>\n",
              "      <td>137</td>\n",
              "      <td>40</td>\n",
              "      <td>35</td>\n",
              "      <td>168</td>\n",
              "      <td>43.1</td>\n",
              "      <td>2.288</td>\n",
              "      <td>33</td>\n",
              "      <td>1</td>\n",
              "    </tr>\n",
              "    <tr>\n",
              "      <th>...</th>\n",
              "      <td>...</td>\n",
              "      <td>...</td>\n",
              "      <td>...</td>\n",
              "      <td>...</td>\n",
              "      <td>...</td>\n",
              "      <td>...</td>\n",
              "      <td>...</td>\n",
              "      <td>...</td>\n",
              "      <td>...</td>\n",
              "    </tr>\n",
              "    <tr>\n",
              "      <th>763</th>\n",
              "      <td>10</td>\n",
              "      <td>101</td>\n",
              "      <td>76</td>\n",
              "      <td>48</td>\n",
              "      <td>180</td>\n",
              "      <td>32.9</td>\n",
              "      <td>0.171</td>\n",
              "      <td>63</td>\n",
              "      <td>0</td>\n",
              "    </tr>\n",
              "    <tr>\n",
              "      <th>764</th>\n",
              "      <td>2</td>\n",
              "      <td>122</td>\n",
              "      <td>70</td>\n",
              "      <td>27</td>\n",
              "      <td>0</td>\n",
              "      <td>36.8</td>\n",
              "      <td>0.340</td>\n",
              "      <td>27</td>\n",
              "      <td>0</td>\n",
              "    </tr>\n",
              "    <tr>\n",
              "      <th>765</th>\n",
              "      <td>5</td>\n",
              "      <td>121</td>\n",
              "      <td>72</td>\n",
              "      <td>23</td>\n",
              "      <td>112</td>\n",
              "      <td>26.2</td>\n",
              "      <td>0.245</td>\n",
              "      <td>30</td>\n",
              "      <td>0</td>\n",
              "    </tr>\n",
              "    <tr>\n",
              "      <th>766</th>\n",
              "      <td>1</td>\n",
              "      <td>126</td>\n",
              "      <td>60</td>\n",
              "      <td>0</td>\n",
              "      <td>0</td>\n",
              "      <td>30.1</td>\n",
              "      <td>0.349</td>\n",
              "      <td>47</td>\n",
              "      <td>1</td>\n",
              "    </tr>\n",
              "    <tr>\n",
              "      <th>767</th>\n",
              "      <td>1</td>\n",
              "      <td>93</td>\n",
              "      <td>70</td>\n",
              "      <td>31</td>\n",
              "      <td>0</td>\n",
              "      <td>30.4</td>\n",
              "      <td>0.315</td>\n",
              "      <td>23</td>\n",
              "      <td>0</td>\n",
              "    </tr>\n",
              "  </tbody>\n",
              "</table>\n",
              "<p>768 rows × 9 columns</p>\n",
              "</div>\n",
              "      <button class=\"colab-df-convert\" onclick=\"convertToInteractive('df-2f8bbf3d-ef35-4b6e-8e45-d43244d9e121')\"\n",
              "              title=\"Convert this dataframe to an interactive table.\"\n",
              "              style=\"display:none;\">\n",
              "        \n",
              "  <svg xmlns=\"http://www.w3.org/2000/svg\" height=\"24px\"viewBox=\"0 0 24 24\"\n",
              "       width=\"24px\">\n",
              "    <path d=\"M0 0h24v24H0V0z\" fill=\"none\"/>\n",
              "    <path d=\"M18.56 5.44l.94 2.06.94-2.06 2.06-.94-2.06-.94-.94-2.06-.94 2.06-2.06.94zm-11 1L8.5 8.5l.94-2.06 2.06-.94-2.06-.94L8.5 2.5l-.94 2.06-2.06.94zm10 10l.94 2.06.94-2.06 2.06-.94-2.06-.94-.94-2.06-.94 2.06-2.06.94z\"/><path d=\"M17.41 7.96l-1.37-1.37c-.4-.4-.92-.59-1.43-.59-.52 0-1.04.2-1.43.59L10.3 9.45l-7.72 7.72c-.78.78-.78 2.05 0 2.83L4 21.41c.39.39.9.59 1.41.59.51 0 1.02-.2 1.41-.59l7.78-7.78 2.81-2.81c.8-.78.8-2.07 0-2.86zM5.41 20L4 18.59l7.72-7.72 1.47 1.35L5.41 20z\"/>\n",
              "  </svg>\n",
              "      </button>\n",
              "      \n",
              "  <style>\n",
              "    .colab-df-container {\n",
              "      display:flex;\n",
              "      flex-wrap:wrap;\n",
              "      gap: 12px;\n",
              "    }\n",
              "\n",
              "    .colab-df-convert {\n",
              "      background-color: #E8F0FE;\n",
              "      border: none;\n",
              "      border-radius: 50%;\n",
              "      cursor: pointer;\n",
              "      display: none;\n",
              "      fill: #1967D2;\n",
              "      height: 32px;\n",
              "      padding: 0 0 0 0;\n",
              "      width: 32px;\n",
              "    }\n",
              "\n",
              "    .colab-df-convert:hover {\n",
              "      background-color: #E2EBFA;\n",
              "      box-shadow: 0px 1px 2px rgba(60, 64, 67, 0.3), 0px 1px 3px 1px rgba(60, 64, 67, 0.15);\n",
              "      fill: #174EA6;\n",
              "    }\n",
              "\n",
              "    [theme=dark] .colab-df-convert {\n",
              "      background-color: #3B4455;\n",
              "      fill: #D2E3FC;\n",
              "    }\n",
              "\n",
              "    [theme=dark] .colab-df-convert:hover {\n",
              "      background-color: #434B5C;\n",
              "      box-shadow: 0px 1px 3px 1px rgba(0, 0, 0, 0.15);\n",
              "      filter: drop-shadow(0px 1px 2px rgba(0, 0, 0, 0.3));\n",
              "      fill: #FFFFFF;\n",
              "    }\n",
              "  </style>\n",
              "\n",
              "      <script>\n",
              "        const buttonEl =\n",
              "          document.querySelector('#df-2f8bbf3d-ef35-4b6e-8e45-d43244d9e121 button.colab-df-convert');\n",
              "        buttonEl.style.display =\n",
              "          google.colab.kernel.accessAllowed ? 'block' : 'none';\n",
              "\n",
              "        async function convertToInteractive(key) {\n",
              "          const element = document.querySelector('#df-2f8bbf3d-ef35-4b6e-8e45-d43244d9e121');\n",
              "          const dataTable =\n",
              "            await google.colab.kernel.invokeFunction('convertToInteractive',\n",
              "                                                     [key], {});\n",
              "          if (!dataTable) return;\n",
              "\n",
              "          const docLinkHtml = 'Like what you see? Visit the ' +\n",
              "            '<a target=\"_blank\" href=https://colab.research.google.com/notebooks/data_table.ipynb>data table notebook</a>'\n",
              "            + ' to learn more about interactive tables.';\n",
              "          element.innerHTML = '';\n",
              "          dataTable['output_type'] = 'display_data';\n",
              "          await google.colab.output.renderOutput(dataTable, element);\n",
              "          const docLink = document.createElement('div');\n",
              "          docLink.innerHTML = docLinkHtml;\n",
              "          element.appendChild(docLink);\n",
              "        }\n",
              "      </script>\n",
              "    </div>\n",
              "  </div>\n",
              "  "
            ],
            "text/plain": [
              "     Pregnancies  Glucose  ...  Age  Outcome\n",
              "0              6      148  ...   50        1\n",
              "1              1       85  ...   31        0\n",
              "2              8      183  ...   32        1\n",
              "3              1       89  ...   21        0\n",
              "4              0      137  ...   33        1\n",
              "..           ...      ...  ...  ...      ...\n",
              "763           10      101  ...   63        0\n",
              "764            2      122  ...   27        0\n",
              "765            5      121  ...   30        0\n",
              "766            1      126  ...   47        1\n",
              "767            1       93  ...   23        0\n",
              "\n",
              "[768 rows x 9 columns]"
            ]
          },
          "metadata": {},
          "execution_count": 35
        }
      ]
    },
    {
      "cell_type": "code",
      "source": [
        "#To split data into features and target\n",
        "features = dataset_diabetes_pred[['Pregnancies'\t,'Glucose',\t'BloodPressure', 'SkinThickness', 'Insulin', 'BMI', 'DiabetesPedigreeFunction', 'Age']]  # for independent\n",
        "target = dataset_diabetes_pred[['Outcome']]   # for dependent\n",
        "#Feature are those variable which are used for prediction and Target is the variable that we need to predict."
      ],
      "metadata": {
        "id": "fTEOf85Nuj-e"
      },
      "execution_count": null,
      "outputs": []
    },
    {
      "cell_type": "code",
      "source": [
        "features"
      ],
      "metadata": {
        "colab": {
          "base_uri": "https://localhost:8080/",
          "height": 423
        },
        "id": "jr6EvBE-wXo3",
        "outputId": "17e94abb-9b8d-40c1-e5aa-5b68e26aea6d"
      },
      "execution_count": null,
      "outputs": [
        {
          "output_type": "execute_result",
          "data": {
            "text/html": [
              "\n",
              "  <div id=\"df-01bfffec-2a12-4c2d-8d81-6b0e174c7fa4\">\n",
              "    <div class=\"colab-df-container\">\n",
              "      <div>\n",
              "<style scoped>\n",
              "    .dataframe tbody tr th:only-of-type {\n",
              "        vertical-align: middle;\n",
              "    }\n",
              "\n",
              "    .dataframe tbody tr th {\n",
              "        vertical-align: top;\n",
              "    }\n",
              "\n",
              "    .dataframe thead th {\n",
              "        text-align: right;\n",
              "    }\n",
              "</style>\n",
              "<table border=\"1\" class=\"dataframe\">\n",
              "  <thead>\n",
              "    <tr style=\"text-align: right;\">\n",
              "      <th></th>\n",
              "      <th>Pregnancies</th>\n",
              "      <th>Glucose</th>\n",
              "      <th>BloodPressure</th>\n",
              "      <th>SkinThickness</th>\n",
              "      <th>Insulin</th>\n",
              "      <th>BMI</th>\n",
              "      <th>DiabetesPedigreeFunction</th>\n",
              "      <th>Age</th>\n",
              "    </tr>\n",
              "  </thead>\n",
              "  <tbody>\n",
              "    <tr>\n",
              "      <th>0</th>\n",
              "      <td>6</td>\n",
              "      <td>148</td>\n",
              "      <td>72</td>\n",
              "      <td>35</td>\n",
              "      <td>0</td>\n",
              "      <td>33.6</td>\n",
              "      <td>0.627</td>\n",
              "      <td>50</td>\n",
              "    </tr>\n",
              "    <tr>\n",
              "      <th>1</th>\n",
              "      <td>1</td>\n",
              "      <td>85</td>\n",
              "      <td>66</td>\n",
              "      <td>29</td>\n",
              "      <td>0</td>\n",
              "      <td>26.6</td>\n",
              "      <td>0.351</td>\n",
              "      <td>31</td>\n",
              "    </tr>\n",
              "    <tr>\n",
              "      <th>2</th>\n",
              "      <td>8</td>\n",
              "      <td>183</td>\n",
              "      <td>64</td>\n",
              "      <td>0</td>\n",
              "      <td>0</td>\n",
              "      <td>23.3</td>\n",
              "      <td>0.672</td>\n",
              "      <td>32</td>\n",
              "    </tr>\n",
              "    <tr>\n",
              "      <th>3</th>\n",
              "      <td>1</td>\n",
              "      <td>89</td>\n",
              "      <td>66</td>\n",
              "      <td>23</td>\n",
              "      <td>94</td>\n",
              "      <td>28.1</td>\n",
              "      <td>0.167</td>\n",
              "      <td>21</td>\n",
              "    </tr>\n",
              "    <tr>\n",
              "      <th>4</th>\n",
              "      <td>0</td>\n",
              "      <td>137</td>\n",
              "      <td>40</td>\n",
              "      <td>35</td>\n",
              "      <td>168</td>\n",
              "      <td>43.1</td>\n",
              "      <td>2.288</td>\n",
              "      <td>33</td>\n",
              "    </tr>\n",
              "    <tr>\n",
              "      <th>...</th>\n",
              "      <td>...</td>\n",
              "      <td>...</td>\n",
              "      <td>...</td>\n",
              "      <td>...</td>\n",
              "      <td>...</td>\n",
              "      <td>...</td>\n",
              "      <td>...</td>\n",
              "      <td>...</td>\n",
              "    </tr>\n",
              "    <tr>\n",
              "      <th>763</th>\n",
              "      <td>10</td>\n",
              "      <td>101</td>\n",
              "      <td>76</td>\n",
              "      <td>48</td>\n",
              "      <td>180</td>\n",
              "      <td>32.9</td>\n",
              "      <td>0.171</td>\n",
              "      <td>63</td>\n",
              "    </tr>\n",
              "    <tr>\n",
              "      <th>764</th>\n",
              "      <td>2</td>\n",
              "      <td>122</td>\n",
              "      <td>70</td>\n",
              "      <td>27</td>\n",
              "      <td>0</td>\n",
              "      <td>36.8</td>\n",
              "      <td>0.340</td>\n",
              "      <td>27</td>\n",
              "    </tr>\n",
              "    <tr>\n",
              "      <th>765</th>\n",
              "      <td>5</td>\n",
              "      <td>121</td>\n",
              "      <td>72</td>\n",
              "      <td>23</td>\n",
              "      <td>112</td>\n",
              "      <td>26.2</td>\n",
              "      <td>0.245</td>\n",
              "      <td>30</td>\n",
              "    </tr>\n",
              "    <tr>\n",
              "      <th>766</th>\n",
              "      <td>1</td>\n",
              "      <td>126</td>\n",
              "      <td>60</td>\n",
              "      <td>0</td>\n",
              "      <td>0</td>\n",
              "      <td>30.1</td>\n",
              "      <td>0.349</td>\n",
              "      <td>47</td>\n",
              "    </tr>\n",
              "    <tr>\n",
              "      <th>767</th>\n",
              "      <td>1</td>\n",
              "      <td>93</td>\n",
              "      <td>70</td>\n",
              "      <td>31</td>\n",
              "      <td>0</td>\n",
              "      <td>30.4</td>\n",
              "      <td>0.315</td>\n",
              "      <td>23</td>\n",
              "    </tr>\n",
              "  </tbody>\n",
              "</table>\n",
              "<p>768 rows × 8 columns</p>\n",
              "</div>\n",
              "      <button class=\"colab-df-convert\" onclick=\"convertToInteractive('df-01bfffec-2a12-4c2d-8d81-6b0e174c7fa4')\"\n",
              "              title=\"Convert this dataframe to an interactive table.\"\n",
              "              style=\"display:none;\">\n",
              "        \n",
              "  <svg xmlns=\"http://www.w3.org/2000/svg\" height=\"24px\"viewBox=\"0 0 24 24\"\n",
              "       width=\"24px\">\n",
              "    <path d=\"M0 0h24v24H0V0z\" fill=\"none\"/>\n",
              "    <path d=\"M18.56 5.44l.94 2.06.94-2.06 2.06-.94-2.06-.94-.94-2.06-.94 2.06-2.06.94zm-11 1L8.5 8.5l.94-2.06 2.06-.94-2.06-.94L8.5 2.5l-.94 2.06-2.06.94zm10 10l.94 2.06.94-2.06 2.06-.94-2.06-.94-.94-2.06-.94 2.06-2.06.94z\"/><path d=\"M17.41 7.96l-1.37-1.37c-.4-.4-.92-.59-1.43-.59-.52 0-1.04.2-1.43.59L10.3 9.45l-7.72 7.72c-.78.78-.78 2.05 0 2.83L4 21.41c.39.39.9.59 1.41.59.51 0 1.02-.2 1.41-.59l7.78-7.78 2.81-2.81c.8-.78.8-2.07 0-2.86zM5.41 20L4 18.59l7.72-7.72 1.47 1.35L5.41 20z\"/>\n",
              "  </svg>\n",
              "      </button>\n",
              "      \n",
              "  <style>\n",
              "    .colab-df-container {\n",
              "      display:flex;\n",
              "      flex-wrap:wrap;\n",
              "      gap: 12px;\n",
              "    }\n",
              "\n",
              "    .colab-df-convert {\n",
              "      background-color: #E8F0FE;\n",
              "      border: none;\n",
              "      border-radius: 50%;\n",
              "      cursor: pointer;\n",
              "      display: none;\n",
              "      fill: #1967D2;\n",
              "      height: 32px;\n",
              "      padding: 0 0 0 0;\n",
              "      width: 32px;\n",
              "    }\n",
              "\n",
              "    .colab-df-convert:hover {\n",
              "      background-color: #E2EBFA;\n",
              "      box-shadow: 0px 1px 2px rgba(60, 64, 67, 0.3), 0px 1px 3px 1px rgba(60, 64, 67, 0.15);\n",
              "      fill: #174EA6;\n",
              "    }\n",
              "\n",
              "    [theme=dark] .colab-df-convert {\n",
              "      background-color: #3B4455;\n",
              "      fill: #D2E3FC;\n",
              "    }\n",
              "\n",
              "    [theme=dark] .colab-df-convert:hover {\n",
              "      background-color: #434B5C;\n",
              "      box-shadow: 0px 1px 3px 1px rgba(0, 0, 0, 0.15);\n",
              "      filter: drop-shadow(0px 1px 2px rgba(0, 0, 0, 0.3));\n",
              "      fill: #FFFFFF;\n",
              "    }\n",
              "  </style>\n",
              "\n",
              "      <script>\n",
              "        const buttonEl =\n",
              "          document.querySelector('#df-01bfffec-2a12-4c2d-8d81-6b0e174c7fa4 button.colab-df-convert');\n",
              "        buttonEl.style.display =\n",
              "          google.colab.kernel.accessAllowed ? 'block' : 'none';\n",
              "\n",
              "        async function convertToInteractive(key) {\n",
              "          const element = document.querySelector('#df-01bfffec-2a12-4c2d-8d81-6b0e174c7fa4');\n",
              "          const dataTable =\n",
              "            await google.colab.kernel.invokeFunction('convertToInteractive',\n",
              "                                                     [key], {});\n",
              "          if (!dataTable) return;\n",
              "\n",
              "          const docLinkHtml = 'Like what you see? Visit the ' +\n",
              "            '<a target=\"_blank\" href=https://colab.research.google.com/notebooks/data_table.ipynb>data table notebook</a>'\n",
              "            + ' to learn more about interactive tables.';\n",
              "          element.innerHTML = '';\n",
              "          dataTable['output_type'] = 'display_data';\n",
              "          await google.colab.output.renderOutput(dataTable, element);\n",
              "          const docLink = document.createElement('div');\n",
              "          docLink.innerHTML = docLinkHtml;\n",
              "          element.appendChild(docLink);\n",
              "        }\n",
              "      </script>\n",
              "    </div>\n",
              "  </div>\n",
              "  "
            ],
            "text/plain": [
              "     Pregnancies  Glucose  BloodPressure  ...   BMI  DiabetesPedigreeFunction  Age\n",
              "0              6      148             72  ...  33.6                     0.627   50\n",
              "1              1       85             66  ...  26.6                     0.351   31\n",
              "2              8      183             64  ...  23.3                     0.672   32\n",
              "3              1       89             66  ...  28.1                     0.167   21\n",
              "4              0      137             40  ...  43.1                     2.288   33\n",
              "..           ...      ...            ...  ...   ...                       ...  ...\n",
              "763           10      101             76  ...  32.9                     0.171   63\n",
              "764            2      122             70  ...  36.8                     0.340   27\n",
              "765            5      121             72  ...  26.2                     0.245   30\n",
              "766            1      126             60  ...  30.1                     0.349   47\n",
              "767            1       93             70  ...  30.4                     0.315   23\n",
              "\n",
              "[768 rows x 8 columns]"
            ]
          },
          "metadata": {},
          "execution_count": 37
        }
      ]
    },
    {
      "cell_type": "code",
      "source": [
        "target"
      ],
      "metadata": {
        "colab": {
          "base_uri": "https://localhost:8080/",
          "height": 423
        },
        "id": "KXj25kFiwaXv",
        "outputId": "861d16fa-8b66-4502-da9f-c7f2ad7bd87c"
      },
      "execution_count": null,
      "outputs": [
        {
          "output_type": "execute_result",
          "data": {
            "text/html": [
              "\n",
              "  <div id=\"df-d80dbdb6-bdbd-4fb7-baf7-be76e039b4ed\">\n",
              "    <div class=\"colab-df-container\">\n",
              "      <div>\n",
              "<style scoped>\n",
              "    .dataframe tbody tr th:only-of-type {\n",
              "        vertical-align: middle;\n",
              "    }\n",
              "\n",
              "    .dataframe tbody tr th {\n",
              "        vertical-align: top;\n",
              "    }\n",
              "\n",
              "    .dataframe thead th {\n",
              "        text-align: right;\n",
              "    }\n",
              "</style>\n",
              "<table border=\"1\" class=\"dataframe\">\n",
              "  <thead>\n",
              "    <tr style=\"text-align: right;\">\n",
              "      <th></th>\n",
              "      <th>Outcome</th>\n",
              "    </tr>\n",
              "  </thead>\n",
              "  <tbody>\n",
              "    <tr>\n",
              "      <th>0</th>\n",
              "      <td>1</td>\n",
              "    </tr>\n",
              "    <tr>\n",
              "      <th>1</th>\n",
              "      <td>0</td>\n",
              "    </tr>\n",
              "    <tr>\n",
              "      <th>2</th>\n",
              "      <td>1</td>\n",
              "    </tr>\n",
              "    <tr>\n",
              "      <th>3</th>\n",
              "      <td>0</td>\n",
              "    </tr>\n",
              "    <tr>\n",
              "      <th>4</th>\n",
              "      <td>1</td>\n",
              "    </tr>\n",
              "    <tr>\n",
              "      <th>...</th>\n",
              "      <td>...</td>\n",
              "    </tr>\n",
              "    <tr>\n",
              "      <th>763</th>\n",
              "      <td>0</td>\n",
              "    </tr>\n",
              "    <tr>\n",
              "      <th>764</th>\n",
              "      <td>0</td>\n",
              "    </tr>\n",
              "    <tr>\n",
              "      <th>765</th>\n",
              "      <td>0</td>\n",
              "    </tr>\n",
              "    <tr>\n",
              "      <th>766</th>\n",
              "      <td>1</td>\n",
              "    </tr>\n",
              "    <tr>\n",
              "      <th>767</th>\n",
              "      <td>0</td>\n",
              "    </tr>\n",
              "  </tbody>\n",
              "</table>\n",
              "<p>768 rows × 1 columns</p>\n",
              "</div>\n",
              "      <button class=\"colab-df-convert\" onclick=\"convertToInteractive('df-d80dbdb6-bdbd-4fb7-baf7-be76e039b4ed')\"\n",
              "              title=\"Convert this dataframe to an interactive table.\"\n",
              "              style=\"display:none;\">\n",
              "        \n",
              "  <svg xmlns=\"http://www.w3.org/2000/svg\" height=\"24px\"viewBox=\"0 0 24 24\"\n",
              "       width=\"24px\">\n",
              "    <path d=\"M0 0h24v24H0V0z\" fill=\"none\"/>\n",
              "    <path d=\"M18.56 5.44l.94 2.06.94-2.06 2.06-.94-2.06-.94-.94-2.06-.94 2.06-2.06.94zm-11 1L8.5 8.5l.94-2.06 2.06-.94-2.06-.94L8.5 2.5l-.94 2.06-2.06.94zm10 10l.94 2.06.94-2.06 2.06-.94-2.06-.94-.94-2.06-.94 2.06-2.06.94z\"/><path d=\"M17.41 7.96l-1.37-1.37c-.4-.4-.92-.59-1.43-.59-.52 0-1.04.2-1.43.59L10.3 9.45l-7.72 7.72c-.78.78-.78 2.05 0 2.83L4 21.41c.39.39.9.59 1.41.59.51 0 1.02-.2 1.41-.59l7.78-7.78 2.81-2.81c.8-.78.8-2.07 0-2.86zM5.41 20L4 18.59l7.72-7.72 1.47 1.35L5.41 20z\"/>\n",
              "  </svg>\n",
              "      </button>\n",
              "      \n",
              "  <style>\n",
              "    .colab-df-container {\n",
              "      display:flex;\n",
              "      flex-wrap:wrap;\n",
              "      gap: 12px;\n",
              "    }\n",
              "\n",
              "    .colab-df-convert {\n",
              "      background-color: #E8F0FE;\n",
              "      border: none;\n",
              "      border-radius: 50%;\n",
              "      cursor: pointer;\n",
              "      display: none;\n",
              "      fill: #1967D2;\n",
              "      height: 32px;\n",
              "      padding: 0 0 0 0;\n",
              "      width: 32px;\n",
              "    }\n",
              "\n",
              "    .colab-df-convert:hover {\n",
              "      background-color: #E2EBFA;\n",
              "      box-shadow: 0px 1px 2px rgba(60, 64, 67, 0.3), 0px 1px 3px 1px rgba(60, 64, 67, 0.15);\n",
              "      fill: #174EA6;\n",
              "    }\n",
              "\n",
              "    [theme=dark] .colab-df-convert {\n",
              "      background-color: #3B4455;\n",
              "      fill: #D2E3FC;\n",
              "    }\n",
              "\n",
              "    [theme=dark] .colab-df-convert:hover {\n",
              "      background-color: #434B5C;\n",
              "      box-shadow: 0px 1px 3px 1px rgba(0, 0, 0, 0.15);\n",
              "      filter: drop-shadow(0px 1px 2px rgba(0, 0, 0, 0.3));\n",
              "      fill: #FFFFFF;\n",
              "    }\n",
              "  </style>\n",
              "\n",
              "      <script>\n",
              "        const buttonEl =\n",
              "          document.querySelector('#df-d80dbdb6-bdbd-4fb7-baf7-be76e039b4ed button.colab-df-convert');\n",
              "        buttonEl.style.display =\n",
              "          google.colab.kernel.accessAllowed ? 'block' : 'none';\n",
              "\n",
              "        async function convertToInteractive(key) {\n",
              "          const element = document.querySelector('#df-d80dbdb6-bdbd-4fb7-baf7-be76e039b4ed');\n",
              "          const dataTable =\n",
              "            await google.colab.kernel.invokeFunction('convertToInteractive',\n",
              "                                                     [key], {});\n",
              "          if (!dataTable) return;\n",
              "\n",
              "          const docLinkHtml = 'Like what you see? Visit the ' +\n",
              "            '<a target=\"_blank\" href=https://colab.research.google.com/notebooks/data_table.ipynb>data table notebook</a>'\n",
              "            + ' to learn more about interactive tables.';\n",
              "          element.innerHTML = '';\n",
              "          dataTable['output_type'] = 'display_data';\n",
              "          await google.colab.output.renderOutput(dataTable, element);\n",
              "          const docLink = document.createElement('div');\n",
              "          docLink.innerHTML = docLinkHtml;\n",
              "          element.appendChild(docLink);\n",
              "        }\n",
              "      </script>\n",
              "    </div>\n",
              "  </div>\n",
              "  "
            ],
            "text/plain": [
              "     Outcome\n",
              "0          1\n",
              "1          0\n",
              "2          1\n",
              "3          0\n",
              "4          1\n",
              "..       ...\n",
              "763        0\n",
              "764        0\n",
              "765        0\n",
              "766        1\n",
              "767        0\n",
              "\n",
              "[768 rows x 1 columns]"
            ]
          },
          "metadata": {},
          "execution_count": 38
        }
      ]
    },
    {
      "cell_type": "markdown",
      "source": [
        "# **To check if there is any missing data in the dataset**"
      ],
      "metadata": {
        "id": "Kbvk4YqBwuQX"
      }
    },
    {
      "cell_type": "code",
      "source": [
        "#To check missing data in the columns\n",
        "#To check if there is any NaN value in the column\n",
        "pd.isnull(dataset_diabetes_pred.sum)"
      ],
      "metadata": {
        "colab": {
          "base_uri": "https://localhost:8080/"
        },
        "id": "AE_JKCUcwcSQ",
        "outputId": "0fecceb3-0f81-4962-8058-87e72d241792"
      },
      "execution_count": null,
      "outputs": [
        {
          "output_type": "execute_result",
          "data": {
            "text/plain": [
              "False"
            ]
          },
          "metadata": {},
          "execution_count": 39
        }
      ]
    },
    {
      "cell_type": "markdown",
      "source": [
        "# **Splitting the dataset**"
      ],
      "metadata": {
        "id": "6EauMlyrxMNY"
      }
    },
    {
      "cell_type": "code",
      "source": [
        "#Splitting the dataset\n",
        "# Machine learning libraries\n",
        "from sklearn.model_selection import train_test_split"
      ],
      "metadata": {
        "id": "wLCwJUbqw0Qu"
      },
      "execution_count": null,
      "outputs": []
    },
    {
      "cell_type": "code",
      "source": [
        "#Spliting the Dataset into Training Set and Test Set\n",
        "\n",
        "X_train,X_test,y_train,y_test=train_test_split(features,target,test_size = 0.2,random_state = 0)\n",
        "# random_state = 0 is select to get the same result"
      ],
      "metadata": {
        "id": "BFW3Puo1xYMB"
      },
      "execution_count": null,
      "outputs": []
    },
    {
      "cell_type": "code",
      "source": [
        "print(X_train.shape)\n",
        "print(X_test.shape)"
      ],
      "metadata": {
        "colab": {
          "base_uri": "https://localhost:8080/"
        },
        "id": "dNMUJi4BxbCf",
        "outputId": "11db0237-9e5b-461c-cb56-40251f5a8289"
      },
      "execution_count": null,
      "outputs": [
        {
          "output_type": "stream",
          "name": "stdout",
          "text": [
            "(614, 8)\n",
            "(154, 8)\n"
          ]
        }
      ]
    },
    {
      "cell_type": "code",
      "source": [
        "X_train"
      ],
      "metadata": {
        "colab": {
          "base_uri": "https://localhost:8080/",
          "height": 423
        },
        "id": "3Pk9cAR2xdwG",
        "outputId": "8300bd9d-2b7f-4d03-e84a-17d3ebf50470"
      },
      "execution_count": null,
      "outputs": [
        {
          "output_type": "execute_result",
          "data": {
            "text/html": [
              "\n",
              "  <div id=\"df-a12aaad6-5f53-4673-a51f-e801cf77879f\">\n",
              "    <div class=\"colab-df-container\">\n",
              "      <div>\n",
              "<style scoped>\n",
              "    .dataframe tbody tr th:only-of-type {\n",
              "        vertical-align: middle;\n",
              "    }\n",
              "\n",
              "    .dataframe tbody tr th {\n",
              "        vertical-align: top;\n",
              "    }\n",
              "\n",
              "    .dataframe thead th {\n",
              "        text-align: right;\n",
              "    }\n",
              "</style>\n",
              "<table border=\"1\" class=\"dataframe\">\n",
              "  <thead>\n",
              "    <tr style=\"text-align: right;\">\n",
              "      <th></th>\n",
              "      <th>Pregnancies</th>\n",
              "      <th>Glucose</th>\n",
              "      <th>BloodPressure</th>\n",
              "      <th>SkinThickness</th>\n",
              "      <th>Insulin</th>\n",
              "      <th>BMI</th>\n",
              "      <th>DiabetesPedigreeFunction</th>\n",
              "      <th>Age</th>\n",
              "    </tr>\n",
              "  </thead>\n",
              "  <tbody>\n",
              "    <tr>\n",
              "      <th>603</th>\n",
              "      <td>7</td>\n",
              "      <td>150</td>\n",
              "      <td>78</td>\n",
              "      <td>29</td>\n",
              "      <td>126</td>\n",
              "      <td>35.2</td>\n",
              "      <td>0.692</td>\n",
              "      <td>54</td>\n",
              "    </tr>\n",
              "    <tr>\n",
              "      <th>118</th>\n",
              "      <td>4</td>\n",
              "      <td>97</td>\n",
              "      <td>60</td>\n",
              "      <td>23</td>\n",
              "      <td>0</td>\n",
              "      <td>28.2</td>\n",
              "      <td>0.443</td>\n",
              "      <td>22</td>\n",
              "    </tr>\n",
              "    <tr>\n",
              "      <th>247</th>\n",
              "      <td>0</td>\n",
              "      <td>165</td>\n",
              "      <td>90</td>\n",
              "      <td>33</td>\n",
              "      <td>680</td>\n",
              "      <td>52.3</td>\n",
              "      <td>0.427</td>\n",
              "      <td>23</td>\n",
              "    </tr>\n",
              "    <tr>\n",
              "      <th>157</th>\n",
              "      <td>1</td>\n",
              "      <td>109</td>\n",
              "      <td>56</td>\n",
              "      <td>21</td>\n",
              "      <td>135</td>\n",
              "      <td>25.2</td>\n",
              "      <td>0.833</td>\n",
              "      <td>23</td>\n",
              "    </tr>\n",
              "    <tr>\n",
              "      <th>468</th>\n",
              "      <td>8</td>\n",
              "      <td>120</td>\n",
              "      <td>0</td>\n",
              "      <td>0</td>\n",
              "      <td>0</td>\n",
              "      <td>30.0</td>\n",
              "      <td>0.183</td>\n",
              "      <td>38</td>\n",
              "    </tr>\n",
              "    <tr>\n",
              "      <th>...</th>\n",
              "      <td>...</td>\n",
              "      <td>...</td>\n",
              "      <td>...</td>\n",
              "      <td>...</td>\n",
              "      <td>...</td>\n",
              "      <td>...</td>\n",
              "      <td>...</td>\n",
              "      <td>...</td>\n",
              "    </tr>\n",
              "    <tr>\n",
              "      <th>763</th>\n",
              "      <td>10</td>\n",
              "      <td>101</td>\n",
              "      <td>76</td>\n",
              "      <td>48</td>\n",
              "      <td>180</td>\n",
              "      <td>32.9</td>\n",
              "      <td>0.171</td>\n",
              "      <td>63</td>\n",
              "    </tr>\n",
              "    <tr>\n",
              "      <th>192</th>\n",
              "      <td>7</td>\n",
              "      <td>159</td>\n",
              "      <td>66</td>\n",
              "      <td>0</td>\n",
              "      <td>0</td>\n",
              "      <td>30.4</td>\n",
              "      <td>0.383</td>\n",
              "      <td>36</td>\n",
              "    </tr>\n",
              "    <tr>\n",
              "      <th>629</th>\n",
              "      <td>4</td>\n",
              "      <td>94</td>\n",
              "      <td>65</td>\n",
              "      <td>22</td>\n",
              "      <td>0</td>\n",
              "      <td>24.7</td>\n",
              "      <td>0.148</td>\n",
              "      <td>21</td>\n",
              "    </tr>\n",
              "    <tr>\n",
              "      <th>559</th>\n",
              "      <td>11</td>\n",
              "      <td>85</td>\n",
              "      <td>74</td>\n",
              "      <td>0</td>\n",
              "      <td>0</td>\n",
              "      <td>30.1</td>\n",
              "      <td>0.300</td>\n",
              "      <td>35</td>\n",
              "    </tr>\n",
              "    <tr>\n",
              "      <th>684</th>\n",
              "      <td>5</td>\n",
              "      <td>136</td>\n",
              "      <td>82</td>\n",
              "      <td>0</td>\n",
              "      <td>0</td>\n",
              "      <td>0.0</td>\n",
              "      <td>0.640</td>\n",
              "      <td>69</td>\n",
              "    </tr>\n",
              "  </tbody>\n",
              "</table>\n",
              "<p>614 rows × 8 columns</p>\n",
              "</div>\n",
              "      <button class=\"colab-df-convert\" onclick=\"convertToInteractive('df-a12aaad6-5f53-4673-a51f-e801cf77879f')\"\n",
              "              title=\"Convert this dataframe to an interactive table.\"\n",
              "              style=\"display:none;\">\n",
              "        \n",
              "  <svg xmlns=\"http://www.w3.org/2000/svg\" height=\"24px\"viewBox=\"0 0 24 24\"\n",
              "       width=\"24px\">\n",
              "    <path d=\"M0 0h24v24H0V0z\" fill=\"none\"/>\n",
              "    <path d=\"M18.56 5.44l.94 2.06.94-2.06 2.06-.94-2.06-.94-.94-2.06-.94 2.06-2.06.94zm-11 1L8.5 8.5l.94-2.06 2.06-.94-2.06-.94L8.5 2.5l-.94 2.06-2.06.94zm10 10l.94 2.06.94-2.06 2.06-.94-2.06-.94-.94-2.06-.94 2.06-2.06.94z\"/><path d=\"M17.41 7.96l-1.37-1.37c-.4-.4-.92-.59-1.43-.59-.52 0-1.04.2-1.43.59L10.3 9.45l-7.72 7.72c-.78.78-.78 2.05 0 2.83L4 21.41c.39.39.9.59 1.41.59.51 0 1.02-.2 1.41-.59l7.78-7.78 2.81-2.81c.8-.78.8-2.07 0-2.86zM5.41 20L4 18.59l7.72-7.72 1.47 1.35L5.41 20z\"/>\n",
              "  </svg>\n",
              "      </button>\n",
              "      \n",
              "  <style>\n",
              "    .colab-df-container {\n",
              "      display:flex;\n",
              "      flex-wrap:wrap;\n",
              "      gap: 12px;\n",
              "    }\n",
              "\n",
              "    .colab-df-convert {\n",
              "      background-color: #E8F0FE;\n",
              "      border: none;\n",
              "      border-radius: 50%;\n",
              "      cursor: pointer;\n",
              "      display: none;\n",
              "      fill: #1967D2;\n",
              "      height: 32px;\n",
              "      padding: 0 0 0 0;\n",
              "      width: 32px;\n",
              "    }\n",
              "\n",
              "    .colab-df-convert:hover {\n",
              "      background-color: #E2EBFA;\n",
              "      box-shadow: 0px 1px 2px rgba(60, 64, 67, 0.3), 0px 1px 3px 1px rgba(60, 64, 67, 0.15);\n",
              "      fill: #174EA6;\n",
              "    }\n",
              "\n",
              "    [theme=dark] .colab-df-convert {\n",
              "      background-color: #3B4455;\n",
              "      fill: #D2E3FC;\n",
              "    }\n",
              "\n",
              "    [theme=dark] .colab-df-convert:hover {\n",
              "      background-color: #434B5C;\n",
              "      box-shadow: 0px 1px 3px 1px rgba(0, 0, 0, 0.15);\n",
              "      filter: drop-shadow(0px 1px 2px rgba(0, 0, 0, 0.3));\n",
              "      fill: #FFFFFF;\n",
              "    }\n",
              "  </style>\n",
              "\n",
              "      <script>\n",
              "        const buttonEl =\n",
              "          document.querySelector('#df-a12aaad6-5f53-4673-a51f-e801cf77879f button.colab-df-convert');\n",
              "        buttonEl.style.display =\n",
              "          google.colab.kernel.accessAllowed ? 'block' : 'none';\n",
              "\n",
              "        async function convertToInteractive(key) {\n",
              "          const element = document.querySelector('#df-a12aaad6-5f53-4673-a51f-e801cf77879f');\n",
              "          const dataTable =\n",
              "            await google.colab.kernel.invokeFunction('convertToInteractive',\n",
              "                                                     [key], {});\n",
              "          if (!dataTable) return;\n",
              "\n",
              "          const docLinkHtml = 'Like what you see? Visit the ' +\n",
              "            '<a target=\"_blank\" href=https://colab.research.google.com/notebooks/data_table.ipynb>data table notebook</a>'\n",
              "            + ' to learn more about interactive tables.';\n",
              "          element.innerHTML = '';\n",
              "          dataTable['output_type'] = 'display_data';\n",
              "          await google.colab.output.renderOutput(dataTable, element);\n",
              "          const docLink = document.createElement('div');\n",
              "          docLink.innerHTML = docLinkHtml;\n",
              "          element.appendChild(docLink);\n",
              "        }\n",
              "      </script>\n",
              "    </div>\n",
              "  </div>\n",
              "  "
            ],
            "text/plain": [
              "     Pregnancies  Glucose  BloodPressure  ...   BMI  DiabetesPedigreeFunction  Age\n",
              "603            7      150             78  ...  35.2                     0.692   54\n",
              "118            4       97             60  ...  28.2                     0.443   22\n",
              "247            0      165             90  ...  52.3                     0.427   23\n",
              "157            1      109             56  ...  25.2                     0.833   23\n",
              "468            8      120              0  ...  30.0                     0.183   38\n",
              "..           ...      ...            ...  ...   ...                       ...  ...\n",
              "763           10      101             76  ...  32.9                     0.171   63\n",
              "192            7      159             66  ...  30.4                     0.383   36\n",
              "629            4       94             65  ...  24.7                     0.148   21\n",
              "559           11       85             74  ...  30.1                     0.300   35\n",
              "684            5      136             82  ...   0.0                     0.640   69\n",
              "\n",
              "[614 rows x 8 columns]"
            ]
          },
          "metadata": {},
          "execution_count": 43
        }
      ]
    },
    {
      "cell_type": "code",
      "source": [
        "X_test"
      ],
      "metadata": {
        "colab": {
          "base_uri": "https://localhost:8080/",
          "height": 423
        },
        "id": "2qMzzTZfxgvH",
        "outputId": "b16c4ff3-8789-4bd2-885b-7cf3883f2c19"
      },
      "execution_count": null,
      "outputs": [
        {
          "output_type": "execute_result",
          "data": {
            "text/html": [
              "\n",
              "  <div id=\"df-368db199-8bde-4e2c-a1ce-09163c8e3197\">\n",
              "    <div class=\"colab-df-container\">\n",
              "      <div>\n",
              "<style scoped>\n",
              "    .dataframe tbody tr th:only-of-type {\n",
              "        vertical-align: middle;\n",
              "    }\n",
              "\n",
              "    .dataframe tbody tr th {\n",
              "        vertical-align: top;\n",
              "    }\n",
              "\n",
              "    .dataframe thead th {\n",
              "        text-align: right;\n",
              "    }\n",
              "</style>\n",
              "<table border=\"1\" class=\"dataframe\">\n",
              "  <thead>\n",
              "    <tr style=\"text-align: right;\">\n",
              "      <th></th>\n",
              "      <th>Pregnancies</th>\n",
              "      <th>Glucose</th>\n",
              "      <th>BloodPressure</th>\n",
              "      <th>SkinThickness</th>\n",
              "      <th>Insulin</th>\n",
              "      <th>BMI</th>\n",
              "      <th>DiabetesPedigreeFunction</th>\n",
              "      <th>Age</th>\n",
              "    </tr>\n",
              "  </thead>\n",
              "  <tbody>\n",
              "    <tr>\n",
              "      <th>661</th>\n",
              "      <td>1</td>\n",
              "      <td>199</td>\n",
              "      <td>76</td>\n",
              "      <td>43</td>\n",
              "      <td>0</td>\n",
              "      <td>42.9</td>\n",
              "      <td>1.394</td>\n",
              "      <td>22</td>\n",
              "    </tr>\n",
              "    <tr>\n",
              "      <th>122</th>\n",
              "      <td>2</td>\n",
              "      <td>107</td>\n",
              "      <td>74</td>\n",
              "      <td>30</td>\n",
              "      <td>100</td>\n",
              "      <td>33.6</td>\n",
              "      <td>0.404</td>\n",
              "      <td>23</td>\n",
              "    </tr>\n",
              "    <tr>\n",
              "      <th>113</th>\n",
              "      <td>4</td>\n",
              "      <td>76</td>\n",
              "      <td>62</td>\n",
              "      <td>0</td>\n",
              "      <td>0</td>\n",
              "      <td>34.0</td>\n",
              "      <td>0.391</td>\n",
              "      <td>25</td>\n",
              "    </tr>\n",
              "    <tr>\n",
              "      <th>14</th>\n",
              "      <td>5</td>\n",
              "      <td>166</td>\n",
              "      <td>72</td>\n",
              "      <td>19</td>\n",
              "      <td>175</td>\n",
              "      <td>25.8</td>\n",
              "      <td>0.587</td>\n",
              "      <td>51</td>\n",
              "    </tr>\n",
              "    <tr>\n",
              "      <th>529</th>\n",
              "      <td>0</td>\n",
              "      <td>111</td>\n",
              "      <td>65</td>\n",
              "      <td>0</td>\n",
              "      <td>0</td>\n",
              "      <td>24.6</td>\n",
              "      <td>0.660</td>\n",
              "      <td>31</td>\n",
              "    </tr>\n",
              "    <tr>\n",
              "      <th>...</th>\n",
              "      <td>...</td>\n",
              "      <td>...</td>\n",
              "      <td>...</td>\n",
              "      <td>...</td>\n",
              "      <td>...</td>\n",
              "      <td>...</td>\n",
              "      <td>...</td>\n",
              "      <td>...</td>\n",
              "    </tr>\n",
              "    <tr>\n",
              "      <th>476</th>\n",
              "      <td>2</td>\n",
              "      <td>105</td>\n",
              "      <td>80</td>\n",
              "      <td>45</td>\n",
              "      <td>191</td>\n",
              "      <td>33.7</td>\n",
              "      <td>0.711</td>\n",
              "      <td>29</td>\n",
              "    </tr>\n",
              "    <tr>\n",
              "      <th>482</th>\n",
              "      <td>4</td>\n",
              "      <td>85</td>\n",
              "      <td>58</td>\n",
              "      <td>22</td>\n",
              "      <td>49</td>\n",
              "      <td>27.8</td>\n",
              "      <td>0.306</td>\n",
              "      <td>28</td>\n",
              "    </tr>\n",
              "    <tr>\n",
              "      <th>230</th>\n",
              "      <td>4</td>\n",
              "      <td>142</td>\n",
              "      <td>86</td>\n",
              "      <td>0</td>\n",
              "      <td>0</td>\n",
              "      <td>44.0</td>\n",
              "      <td>0.645</td>\n",
              "      <td>22</td>\n",
              "    </tr>\n",
              "    <tr>\n",
              "      <th>527</th>\n",
              "      <td>3</td>\n",
              "      <td>116</td>\n",
              "      <td>74</td>\n",
              "      <td>15</td>\n",
              "      <td>105</td>\n",
              "      <td>26.3</td>\n",
              "      <td>0.107</td>\n",
              "      <td>24</td>\n",
              "    </tr>\n",
              "    <tr>\n",
              "      <th>380</th>\n",
              "      <td>1</td>\n",
              "      <td>107</td>\n",
              "      <td>72</td>\n",
              "      <td>30</td>\n",
              "      <td>82</td>\n",
              "      <td>30.8</td>\n",
              "      <td>0.821</td>\n",
              "      <td>24</td>\n",
              "    </tr>\n",
              "  </tbody>\n",
              "</table>\n",
              "<p>154 rows × 8 columns</p>\n",
              "</div>\n",
              "      <button class=\"colab-df-convert\" onclick=\"convertToInteractive('df-368db199-8bde-4e2c-a1ce-09163c8e3197')\"\n",
              "              title=\"Convert this dataframe to an interactive table.\"\n",
              "              style=\"display:none;\">\n",
              "        \n",
              "  <svg xmlns=\"http://www.w3.org/2000/svg\" height=\"24px\"viewBox=\"0 0 24 24\"\n",
              "       width=\"24px\">\n",
              "    <path d=\"M0 0h24v24H0V0z\" fill=\"none\"/>\n",
              "    <path d=\"M18.56 5.44l.94 2.06.94-2.06 2.06-.94-2.06-.94-.94-2.06-.94 2.06-2.06.94zm-11 1L8.5 8.5l.94-2.06 2.06-.94-2.06-.94L8.5 2.5l-.94 2.06-2.06.94zm10 10l.94 2.06.94-2.06 2.06-.94-2.06-.94-.94-2.06-.94 2.06-2.06.94z\"/><path d=\"M17.41 7.96l-1.37-1.37c-.4-.4-.92-.59-1.43-.59-.52 0-1.04.2-1.43.59L10.3 9.45l-7.72 7.72c-.78.78-.78 2.05 0 2.83L4 21.41c.39.39.9.59 1.41.59.51 0 1.02-.2 1.41-.59l7.78-7.78 2.81-2.81c.8-.78.8-2.07 0-2.86zM5.41 20L4 18.59l7.72-7.72 1.47 1.35L5.41 20z\"/>\n",
              "  </svg>\n",
              "      </button>\n",
              "      \n",
              "  <style>\n",
              "    .colab-df-container {\n",
              "      display:flex;\n",
              "      flex-wrap:wrap;\n",
              "      gap: 12px;\n",
              "    }\n",
              "\n",
              "    .colab-df-convert {\n",
              "      background-color: #E8F0FE;\n",
              "      border: none;\n",
              "      border-radius: 50%;\n",
              "      cursor: pointer;\n",
              "      display: none;\n",
              "      fill: #1967D2;\n",
              "      height: 32px;\n",
              "      padding: 0 0 0 0;\n",
              "      width: 32px;\n",
              "    }\n",
              "\n",
              "    .colab-df-convert:hover {\n",
              "      background-color: #E2EBFA;\n",
              "      box-shadow: 0px 1px 2px rgba(60, 64, 67, 0.3), 0px 1px 3px 1px rgba(60, 64, 67, 0.15);\n",
              "      fill: #174EA6;\n",
              "    }\n",
              "\n",
              "    [theme=dark] .colab-df-convert {\n",
              "      background-color: #3B4455;\n",
              "      fill: #D2E3FC;\n",
              "    }\n",
              "\n",
              "    [theme=dark] .colab-df-convert:hover {\n",
              "      background-color: #434B5C;\n",
              "      box-shadow: 0px 1px 3px 1px rgba(0, 0, 0, 0.15);\n",
              "      filter: drop-shadow(0px 1px 2px rgba(0, 0, 0, 0.3));\n",
              "      fill: #FFFFFF;\n",
              "    }\n",
              "  </style>\n",
              "\n",
              "      <script>\n",
              "        const buttonEl =\n",
              "          document.querySelector('#df-368db199-8bde-4e2c-a1ce-09163c8e3197 button.colab-df-convert');\n",
              "        buttonEl.style.display =\n",
              "          google.colab.kernel.accessAllowed ? 'block' : 'none';\n",
              "\n",
              "        async function convertToInteractive(key) {\n",
              "          const element = document.querySelector('#df-368db199-8bde-4e2c-a1ce-09163c8e3197');\n",
              "          const dataTable =\n",
              "            await google.colab.kernel.invokeFunction('convertToInteractive',\n",
              "                                                     [key], {});\n",
              "          if (!dataTable) return;\n",
              "\n",
              "          const docLinkHtml = 'Like what you see? Visit the ' +\n",
              "            '<a target=\"_blank\" href=https://colab.research.google.com/notebooks/data_table.ipynb>data table notebook</a>'\n",
              "            + ' to learn more about interactive tables.';\n",
              "          element.innerHTML = '';\n",
              "          dataTable['output_type'] = 'display_data';\n",
              "          await google.colab.output.renderOutput(dataTable, element);\n",
              "          const docLink = document.createElement('div');\n",
              "          docLink.innerHTML = docLinkHtml;\n",
              "          element.appendChild(docLink);\n",
              "        }\n",
              "      </script>\n",
              "    </div>\n",
              "  </div>\n",
              "  "
            ],
            "text/plain": [
              "     Pregnancies  Glucose  BloodPressure  ...   BMI  DiabetesPedigreeFunction  Age\n",
              "661            1      199             76  ...  42.9                     1.394   22\n",
              "122            2      107             74  ...  33.6                     0.404   23\n",
              "113            4       76             62  ...  34.0                     0.391   25\n",
              "14             5      166             72  ...  25.8                     0.587   51\n",
              "529            0      111             65  ...  24.6                     0.660   31\n",
              "..           ...      ...            ...  ...   ...                       ...  ...\n",
              "476            2      105             80  ...  33.7                     0.711   29\n",
              "482            4       85             58  ...  27.8                     0.306   28\n",
              "230            4      142             86  ...  44.0                     0.645   22\n",
              "527            3      116             74  ...  26.3                     0.107   24\n",
              "380            1      107             72  ...  30.8                     0.821   24\n",
              "\n",
              "[154 rows x 8 columns]"
            ]
          },
          "metadata": {},
          "execution_count": 44
        }
      ]
    },
    {
      "cell_type": "markdown",
      "source": [
        "# **Feature Scaling**"
      ],
      "metadata": {
        "id": "HWG_UXfJxziX"
      }
    },
    {
      "cell_type": "code",
      "source": [
        "from sklearn.preprocessing import StandardScaler"
      ],
      "metadata": {
        "id": "kvyo2MEuxjgZ"
      },
      "execution_count": null,
      "outputs": []
    },
    {
      "cell_type": "code",
      "source": [
        "#feature Scaling\n",
        "X_sc = StandardScaler()\n",
        "X_train = X_sc.fit_transform(X_train)\n",
        "X_test = X_sc.transform(X_test)"
      ],
      "metadata": {
        "id": "ym6PCAk5x25f"
      },
      "execution_count": null,
      "outputs": []
    },
    {
      "cell_type": "markdown",
      "source": [
        "# **Logistic Regression**"
      ],
      "metadata": {
        "id": "kiOcP8N_x9zn"
      }
    },
    {
      "cell_type": "code",
      "source": [
        "from sklearn.linear_model import LogisticRegression\n",
        "\n",
        "# Fitting Logistic Regression to the training dataset\n",
        "lr = LogisticRegression()\n",
        "\n",
        "lr.fit(X_train,y_train)"
      ],
      "metadata": {
        "colab": {
          "base_uri": "https://localhost:8080/"
        },
        "id": "8E6uzEtkx5w4",
        "outputId": "837def23-be15-477a-d22a-70e4b05b7ce4"
      },
      "execution_count": null,
      "outputs": [
        {
          "output_type": "execute_result",
          "data": {
            "text/plain": [
              "LogisticRegression()"
            ]
          },
          "metadata": {},
          "execution_count": 47
        }
      ]
    },
    {
      "cell_type": "code",
      "source": [
        "# prediction\n",
        "y_pred = lr.predict(X_test)"
      ],
      "metadata": {
        "id": "z8JH80DNyEwH"
      },
      "execution_count": null,
      "outputs": []
    },
    {
      "cell_type": "code",
      "source": [
        "from sklearn.metrics import classification_report,confusion_matrix,accuracy_score,f1_score,precision_score,recall_score"
      ],
      "metadata": {
        "id": "UGONaK5eyHfg"
      },
      "execution_count": null,
      "outputs": []
    },
    {
      "cell_type": "code",
      "source": [
        "# Making confusing matrix (actual,prediction)\n",
        "confusion_matrix(y_test,y_pred)"
      ],
      "metadata": {
        "colab": {
          "base_uri": "https://localhost:8080/"
        },
        "id": "wrDoFG8OyL3J",
        "outputId": "0c541f2e-9387-4f1b-9cc4-3d5af8d0e772"
      },
      "execution_count": null,
      "outputs": [
        {
          "output_type": "execute_result",
          "data": {
            "text/plain": [
              "array([[98,  9],\n",
              "       [18, 29]])"
            ]
          },
          "metadata": {},
          "execution_count": 50
        }
      ]
    },
    {
      "cell_type": "markdown",
      "source": [
        "**From the array, we can tell that there is 127 correct predictions and 27 incorrect predictions.**"
      ],
      "metadata": {
        "id": "c9m_W6UL8s0B"
      }
    },
    {
      "cell_type": "code",
      "source": [
        "# Making confusing matrix\n",
        "# it is used to check the accuracy of the classification\n",
        "print(classification_report(y_test,y_pred,target_names = ['No','Yes']))"
      ],
      "metadata": {
        "colab": {
          "base_uri": "https://localhost:8080/"
        },
        "id": "ExWvakzQyO7o",
        "outputId": "060f54d5-de61-4d02-9fd1-41c99f061436"
      },
      "execution_count": null,
      "outputs": [
        {
          "output_type": "stream",
          "name": "stdout",
          "text": [
            "              precision    recall  f1-score   support\n",
            "\n",
            "          No       0.84      0.92      0.88       107\n",
            "         Yes       0.76      0.62      0.68        47\n",
            "\n",
            "    accuracy                           0.82       154\n",
            "   macro avg       0.80      0.77      0.78       154\n",
            "weighted avg       0.82      0.82      0.82       154\n",
            "\n"
          ]
        }
      ]
    },
    {
      "cell_type": "markdown",
      "source": [
        "**The accuracy is 82%**"
      ],
      "metadata": {
        "id": "mlSk0xSb8-fq"
      }
    },
    {
      "cell_type": "markdown",
      "source": [
        "# **KNN Classifier**"
      ],
      "metadata": {
        "id": "VyjeJONhyYfY"
      }
    },
    {
      "cell_type": "code",
      "source": [
        "from sklearn.neighbors import KNeighborsClassifier\n",
        "\n",
        "# Classifier Model\n",
        "classifier = KNeighborsClassifier(n_neighbors=5, metric = 'minkowski', p=2)\n",
        "classifier.fit(X_train,y_train)\n",
        "# Prediction\n",
        "y_pred = classifier.predict(X_test)"
      ],
      "metadata": {
        "id": "RBASL2gMyUwY"
      },
      "execution_count": null,
      "outputs": []
    },
    {
      "cell_type": "code",
      "source": [
        "# Making confusing matrix\n",
        "print(confusion_matrix(y_test,y_pred))\n",
        "\n",
        "# Making confusing matrix\n",
        "# it is used to check the accuracy of the classification\n",
        "print(classification_report(y_test,y_pred,target_names = ['No','Yes']))"
      ],
      "metadata": {
        "colab": {
          "base_uri": "https://localhost:8080/"
        },
        "id": "S4FFNr0-yfCA",
        "outputId": "68c4fbb6-1c6a-4f8e-ee93-afe91c422da1"
      },
      "execution_count": null,
      "outputs": [
        {
          "output_type": "stream",
          "name": "stdout",
          "text": [
            "[[93 14]\n",
            " [17 30]]\n",
            "              precision    recall  f1-score   support\n",
            "\n",
            "          No       0.85      0.87      0.86       107\n",
            "         Yes       0.68      0.64      0.66        47\n",
            "\n",
            "    accuracy                           0.80       154\n",
            "   macro avg       0.76      0.75      0.76       154\n",
            "weighted avg       0.80      0.80      0.80       154\n",
            "\n"
          ]
        }
      ]
    },
    {
      "cell_type": "markdown",
      "source": [
        "**From the array, we can tell that there is 123 correct predictions and 31 incorrect predictions.**"
      ],
      "metadata": {
        "id": "Z3--UbcE9GsL"
      }
    },
    {
      "cell_type": "markdown",
      "source": [
        "**The accuracy is 80%**"
      ],
      "metadata": {
        "id": "vrw5ARKH9Oh6"
      }
    },
    {
      "cell_type": "markdown",
      "source": [
        "# **Support Vector Machine**"
      ],
      "metadata": {
        "id": "Ek8A7tW4yjLr"
      }
    },
    {
      "cell_type": "code",
      "source": [
        "from sklearn.svm import SVC\n",
        "\n",
        "# Classifier Model\n",
        "classifier = SVC(kernel = 'linear', random_state = 0)\n",
        "classifier.fit(X_train,y_train)\n",
        "# Prediction\n",
        "y_pred = classifier.predict(X_test)"
      ],
      "metadata": {
        "id": "BotmJrvnyqpn"
      },
      "execution_count": null,
      "outputs": []
    },
    {
      "cell_type": "code",
      "source": [
        "# Making confusing matrix\n",
        "print(confusion_matrix(y_test,y_pred))\n",
        "\n",
        "# Making confusing matrix\n",
        "# it is used to check the accuracy of the classification\n",
        "print(classification_report(y_test,y_pred,target_names = ['No','Yes']))"
      ],
      "metadata": {
        "colab": {
          "base_uri": "https://localhost:8080/"
        },
        "id": "cHmwZOG4ytwf",
        "outputId": "73feb32c-82d2-4acf-b53e-6d01be819225"
      },
      "execution_count": null,
      "outputs": [
        {
          "output_type": "stream",
          "name": "stdout",
          "text": [
            "[[98  9]\n",
            " [18 29]]\n",
            "              precision    recall  f1-score   support\n",
            "\n",
            "          No       0.84      0.92      0.88       107\n",
            "         Yes       0.76      0.62      0.68        47\n",
            "\n",
            "    accuracy                           0.82       154\n",
            "   macro avg       0.80      0.77      0.78       154\n",
            "weighted avg       0.82      0.82      0.82       154\n",
            "\n"
          ]
        }
      ]
    },
    {
      "cell_type": "markdown",
      "source": [
        "**From the array, we can tell that there is 127 correct predictions and 27 incorrect predictions.**"
      ],
      "metadata": {
        "id": "uRx14E1D9Z5a"
      }
    },
    {
      "cell_type": "markdown",
      "source": [
        "**The accuracy is 82%**"
      ],
      "metadata": {
        "id": "br2dCvY79jha"
      }
    },
    {
      "cell_type": "markdown",
      "source": [
        "# **Decision Tree Classifier**"
      ],
      "metadata": {
        "id": "FKg8YVAyyw6w"
      }
    },
    {
      "cell_type": "code",
      "source": [
        "from sklearn.tree import DecisionTreeClassifier\n",
        "# Classifier Model\n",
        "classifier = DecisionTreeClassifier(criterion = 'entropy', random_state = 0)\n",
        "classifier.fit(X_train,y_train)\n",
        "# Prediction\n",
        "y_pred = classifier.predict(X_test)"
      ],
      "metadata": {
        "id": "5oVeG2Y3y0vJ"
      },
      "execution_count": null,
      "outputs": []
    },
    {
      "cell_type": "code",
      "source": [
        "# Making confusing matrix\n",
        "print(confusion_matrix(y_test,y_pred))\n",
        "\n",
        "# Making confusing matrix\n",
        "# it is used to check the accuracy of the classification\n",
        "print(classification_report(y_test,y_pred,target_names = ['No','Yes']))"
      ],
      "metadata": {
        "colab": {
          "base_uri": "https://localhost:8080/"
        },
        "id": "FhJaUE5YzCAg",
        "outputId": "30e63ff5-3470-4eb6-9e9e-45f2460097d4"
      },
      "execution_count": null,
      "outputs": [
        {
          "output_type": "stream",
          "name": "stdout",
          "text": [
            "[[79 28]\n",
            " [17 30]]\n",
            "              precision    recall  f1-score   support\n",
            "\n",
            "          No       0.82      0.74      0.78       107\n",
            "         Yes       0.52      0.64      0.57        47\n",
            "\n",
            "    accuracy                           0.71       154\n",
            "   macro avg       0.67      0.69      0.67       154\n",
            "weighted avg       0.73      0.71      0.72       154\n",
            "\n"
          ]
        }
      ]
    },
    {
      "cell_type": "markdown",
      "source": [
        "**From the array, we can tell that there is 107 correct predictions and 45 incorrect predictions.**"
      ],
      "metadata": {
        "id": "KPr81w_b9onp"
      }
    },
    {
      "cell_type": "markdown",
      "source": [
        "**The accuracy is 71%**"
      ],
      "metadata": {
        "id": "IGX2NWEi9wcy"
      }
    },
    {
      "cell_type": "markdown",
      "source": [
        "# **Random Forest**"
      ],
      "metadata": {
        "id": "bYWXtwLGzDl4"
      }
    },
    {
      "cell_type": "code",
      "source": [
        "from sklearn.ensemble import RandomForestClassifier\n",
        "# Classifier Model\n",
        "classifier = RandomForestClassifier(n_estimators=10, criterion ='entropy', random_state = 0)\n",
        "classifier.fit(X_train,y_train)\n",
        "# Prediction\n",
        "y_pred = classifier.predict(X_test)"
      ],
      "metadata": {
        "id": "6PF-1ygezJk4"
      },
      "execution_count": null,
      "outputs": []
    },
    {
      "cell_type": "code",
      "source": [
        "# Making confusing matrix\n",
        "print(confusion_matrix(y_test,y_pred))\n",
        "\n",
        "# Making confusing matrix\n",
        "# it is used to check the accuracy of the classification\n",
        "print(classification_report(y_test,y_pred,target_names = ['No','Yes']))"
      ],
      "metadata": {
        "colab": {
          "base_uri": "https://localhost:8080/"
        },
        "id": "v8yrfdNtzMPo",
        "outputId": "498ae99c-094a-4d84-c2b9-155116453e1c"
      },
      "execution_count": null,
      "outputs": [
        {
          "output_type": "stream",
          "name": "stdout",
          "text": [
            "[[95 12]\n",
            " [20 27]]\n",
            "              precision    recall  f1-score   support\n",
            "\n",
            "          No       0.83      0.89      0.86       107\n",
            "         Yes       0.69      0.57      0.63        47\n",
            "\n",
            "    accuracy                           0.79       154\n",
            "   macro avg       0.76      0.73      0.74       154\n",
            "weighted avg       0.79      0.79      0.79       154\n",
            "\n"
          ]
        }
      ]
    },
    {
      "cell_type": "markdown",
      "source": [
        "**From the array, we can tell that there is 122 correct predictions and 32 incorrect predictions.**"
      ],
      "metadata": {
        "id": "VVyQbOsN92H6"
      }
    },
    {
      "cell_type": "markdown",
      "source": [
        "**The accuracy is 79%**"
      ],
      "metadata": {
        "id": "KK0Xcr_098gy"
      }
    },
    {
      "cell_type": "markdown",
      "source": [
        "# **Naive Bayes**"
      ],
      "metadata": {
        "id": "Rv-dLamCzPi3"
      }
    },
    {
      "cell_type": "code",
      "source": [
        "from sklearn.naive_bayes import GaussianNB\n",
        "\n",
        "# Classifier Model\n",
        "classifier = GaussianNB()\n",
        "classifier.fit(X_train,y_train)\n",
        "# Prediction\n",
        "y_pred = classifier.predict(X_test)"
      ],
      "metadata": {
        "id": "-1umLxCnzR_v"
      },
      "execution_count": null,
      "outputs": []
    },
    {
      "cell_type": "code",
      "source": [
        "# Making confusing matrix\n",
        "print(confusion_matrix(y_test,y_pred))\n",
        "\n",
        "# Making confusing matrix\n",
        "# it is used to check the accuracy of the classification\n",
        "print(classification_report(y_test,y_pred,target_names = ['No','Yes']))"
      ],
      "metadata": {
        "colab": {
          "base_uri": "https://localhost:8080/"
        },
        "id": "BdlWaBgUzUxX",
        "outputId": "9ca04bc4-f7e8-43c4-eac2-d4c6c5b97833"
      },
      "execution_count": null,
      "outputs": [
        {
          "output_type": "stream",
          "name": "stdout",
          "text": [
            "[[93 14]\n",
            " [18 29]]\n",
            "              precision    recall  f1-score   support\n",
            "\n",
            "          No       0.84      0.87      0.85       107\n",
            "         Yes       0.67      0.62      0.64        47\n",
            "\n",
            "    accuracy                           0.79       154\n",
            "   macro avg       0.76      0.74      0.75       154\n",
            "weighted avg       0.79      0.79      0.79       154\n",
            "\n"
          ]
        }
      ]
    },
    {
      "cell_type": "markdown",
      "source": [
        "**From the array, we can tell that there is 107 correct predictions and 32 incorrect predictions.**"
      ],
      "metadata": {
        "id": "oMMoetIJ-B9i"
      }
    },
    {
      "cell_type": "markdown",
      "source": [
        "**The accuracy is 79%**"
      ],
      "metadata": {
        "id": "HhEN_CrJ-JGB"
      }
    },
    {
      "cell_type": "markdown",
      "source": [
        "# **Klib**"
      ],
      "metadata": {
        "id": "UL2biuDNzagH"
      }
    },
    {
      "cell_type": "code",
      "source": [
        "! pip install klib"
      ],
      "metadata": {
        "colab": {
          "base_uri": "https://localhost:8080/"
        },
        "id": "h6YefDdDzZxP",
        "outputId": "3a9da239-7147-4a58-db66-73e074f10833"
      },
      "execution_count": null,
      "outputs": [
        {
          "output_type": "stream",
          "name": "stdout",
          "text": [
            "Collecting klib\n",
            "  Downloading klib-0.2.2-py3-none-any.whl (28 kB)\n",
            "Requirement already satisfied: scikit-learn>=0.23.1 in /usr/local/lib/python3.7/dist-packages (from klib) (1.0.1)\n",
            "Requirement already satisfied: numpy>=1.16.3 in /usr/local/lib/python3.7/dist-packages (from klib) (1.19.5)\n",
            "Requirement already satisfied: seaborn>=0.11.1 in /usr/local/lib/python3.7/dist-packages (from klib) (0.11.2)\n",
            "Requirement already satisfied: scipy>=1.1.0 in /usr/local/lib/python3.7/dist-packages (from klib) (1.4.1)\n",
            "Requirement already satisfied: pandas>=1.1.2 in /usr/local/lib/python3.7/dist-packages (from klib) (1.1.5)\n",
            "Requirement already satisfied: matplotlib>=3.0.3 in /usr/local/lib/python3.7/dist-packages (from klib) (3.2.2)\n",
            "Requirement already satisfied: pyparsing!=2.0.4,!=2.1.2,!=2.1.6,>=2.0.1 in /usr/local/lib/python3.7/dist-packages (from matplotlib>=3.0.3->klib) (3.0.6)\n",
            "Requirement already satisfied: kiwisolver>=1.0.1 in /usr/local/lib/python3.7/dist-packages (from matplotlib>=3.0.3->klib) (1.3.2)\n",
            "Requirement already satisfied: python-dateutil>=2.1 in /usr/local/lib/python3.7/dist-packages (from matplotlib>=3.0.3->klib) (2.8.2)\n",
            "Requirement already satisfied: cycler>=0.10 in /usr/local/lib/python3.7/dist-packages (from matplotlib>=3.0.3->klib) (0.11.0)\n",
            "Requirement already satisfied: pytz>=2017.2 in /usr/local/lib/python3.7/dist-packages (from pandas>=1.1.2->klib) (2018.9)\n",
            "Requirement already satisfied: six>=1.5 in /usr/local/lib/python3.7/dist-packages (from python-dateutil>=2.1->matplotlib>=3.0.3->klib) (1.15.0)\n",
            "Requirement already satisfied: joblib>=0.11 in /usr/local/lib/python3.7/dist-packages (from scikit-learn>=0.23.1->klib) (1.1.0)\n",
            "Requirement already satisfied: threadpoolctl>=2.0.0 in /usr/local/lib/python3.7/dist-packages (from scikit-learn>=0.23.1->klib) (3.0.0)\n",
            "Installing collected packages: klib\n",
            "Successfully installed klib-0.2.2\n"
          ]
        }
      ]
    },
    {
      "cell_type": "code",
      "source": [
        "import klib"
      ],
      "metadata": {
        "id": "K7TRwlE7zhq_"
      },
      "execution_count": null,
      "outputs": []
    },
    {
      "cell_type": "code",
      "source": [
        "klib.corr_mat(dataset_diabetes_pred) # returns a color-encoded correlation matrix"
      ],
      "metadata": {
        "colab": {
          "base_uri": "https://localhost:8080/",
          "height": 332
        },
        "id": "RBNjLtLyzmhA",
        "outputId": "289e51d5-67aa-4231-f617-0a8b93452fe3"
      },
      "execution_count": null,
      "outputs": [
        {
          "output_type": "execute_result",
          "data": {
            "text/html": [
              "<style  type=\"text/css\" >\n",
              "#T_e155d308_6148_11ec_93bc_0242ac1c0002row0_col0,#T_e155d308_6148_11ec_93bc_0242ac1c0002row0_col1,#T_e155d308_6148_11ec_93bc_0242ac1c0002row0_col2,#T_e155d308_6148_11ec_93bc_0242ac1c0002row0_col5,#T_e155d308_6148_11ec_93bc_0242ac1c0002row0_col7,#T_e155d308_6148_11ec_93bc_0242ac1c0002row0_col8,#T_e155d308_6148_11ec_93bc_0242ac1c0002row1_col0,#T_e155d308_6148_11ec_93bc_0242ac1c0002row1_col1,#T_e155d308_6148_11ec_93bc_0242ac1c0002row1_col2,#T_e155d308_6148_11ec_93bc_0242ac1c0002row1_col3,#T_e155d308_6148_11ec_93bc_0242ac1c0002row1_col4,#T_e155d308_6148_11ec_93bc_0242ac1c0002row1_col5,#T_e155d308_6148_11ec_93bc_0242ac1c0002row1_col6,#T_e155d308_6148_11ec_93bc_0242ac1c0002row1_col7,#T_e155d308_6148_11ec_93bc_0242ac1c0002row1_col8,#T_e155d308_6148_11ec_93bc_0242ac1c0002row2_col0,#T_e155d308_6148_11ec_93bc_0242ac1c0002row2_col1,#T_e155d308_6148_11ec_93bc_0242ac1c0002row2_col2,#T_e155d308_6148_11ec_93bc_0242ac1c0002row2_col3,#T_e155d308_6148_11ec_93bc_0242ac1c0002row2_col4,#T_e155d308_6148_11ec_93bc_0242ac1c0002row2_col5,#T_e155d308_6148_11ec_93bc_0242ac1c0002row2_col6,#T_e155d308_6148_11ec_93bc_0242ac1c0002row2_col7,#T_e155d308_6148_11ec_93bc_0242ac1c0002row2_col8,#T_e155d308_6148_11ec_93bc_0242ac1c0002row3_col1,#T_e155d308_6148_11ec_93bc_0242ac1c0002row3_col2,#T_e155d308_6148_11ec_93bc_0242ac1c0002row3_col3,#T_e155d308_6148_11ec_93bc_0242ac1c0002row3_col4,#T_e155d308_6148_11ec_93bc_0242ac1c0002row3_col5,#T_e155d308_6148_11ec_93bc_0242ac1c0002row3_col6,#T_e155d308_6148_11ec_93bc_0242ac1c0002row3_col8,#T_e155d308_6148_11ec_93bc_0242ac1c0002row4_col1,#T_e155d308_6148_11ec_93bc_0242ac1c0002row4_col2,#T_e155d308_6148_11ec_93bc_0242ac1c0002row4_col3,#T_e155d308_6148_11ec_93bc_0242ac1c0002row4_col4,#T_e155d308_6148_11ec_93bc_0242ac1c0002row4_col5,#T_e155d308_6148_11ec_93bc_0242ac1c0002row4_col6,#T_e155d308_6148_11ec_93bc_0242ac1c0002row4_col8,#T_e155d308_6148_11ec_93bc_0242ac1c0002row5_col0,#T_e155d308_6148_11ec_93bc_0242ac1c0002row5_col1,#T_e155d308_6148_11ec_93bc_0242ac1c0002row5_col2,#T_e155d308_6148_11ec_93bc_0242ac1c0002row5_col3,#T_e155d308_6148_11ec_93bc_0242ac1c0002row5_col4,#T_e155d308_6148_11ec_93bc_0242ac1c0002row5_col5,#T_e155d308_6148_11ec_93bc_0242ac1c0002row5_col6,#T_e155d308_6148_11ec_93bc_0242ac1c0002row5_col7,#T_e155d308_6148_11ec_93bc_0242ac1c0002row5_col8,#T_e155d308_6148_11ec_93bc_0242ac1c0002row6_col1,#T_e155d308_6148_11ec_93bc_0242ac1c0002row6_col2,#T_e155d308_6148_11ec_93bc_0242ac1c0002row6_col3,#T_e155d308_6148_11ec_93bc_0242ac1c0002row6_col4,#T_e155d308_6148_11ec_93bc_0242ac1c0002row6_col5,#T_e155d308_6148_11ec_93bc_0242ac1c0002row6_col6,#T_e155d308_6148_11ec_93bc_0242ac1c0002row6_col7,#T_e155d308_6148_11ec_93bc_0242ac1c0002row6_col8,#T_e155d308_6148_11ec_93bc_0242ac1c0002row7_col0,#T_e155d308_6148_11ec_93bc_0242ac1c0002row7_col1,#T_e155d308_6148_11ec_93bc_0242ac1c0002row7_col2,#T_e155d308_6148_11ec_93bc_0242ac1c0002row7_col5,#T_e155d308_6148_11ec_93bc_0242ac1c0002row7_col6,#T_e155d308_6148_11ec_93bc_0242ac1c0002row7_col7,#T_e155d308_6148_11ec_93bc_0242ac1c0002row7_col8,#T_e155d308_6148_11ec_93bc_0242ac1c0002row8_col0,#T_e155d308_6148_11ec_93bc_0242ac1c0002row8_col1,#T_e155d308_6148_11ec_93bc_0242ac1c0002row8_col2,#T_e155d308_6148_11ec_93bc_0242ac1c0002row8_col3,#T_e155d308_6148_11ec_93bc_0242ac1c0002row8_col4,#T_e155d308_6148_11ec_93bc_0242ac1c0002row8_col5,#T_e155d308_6148_11ec_93bc_0242ac1c0002row8_col6,#T_e155d308_6148_11ec_93bc_0242ac1c0002row8_col7,#T_e155d308_6148_11ec_93bc_0242ac1c0002row8_col8{\n",
              "            color:  None;\n",
              "        }#T_e155d308_6148_11ec_93bc_0242ac1c0002row0_col3,#T_e155d308_6148_11ec_93bc_0242ac1c0002row0_col4,#T_e155d308_6148_11ec_93bc_0242ac1c0002row0_col6,#T_e155d308_6148_11ec_93bc_0242ac1c0002row3_col0,#T_e155d308_6148_11ec_93bc_0242ac1c0002row3_col7,#T_e155d308_6148_11ec_93bc_0242ac1c0002row4_col0,#T_e155d308_6148_11ec_93bc_0242ac1c0002row4_col7,#T_e155d308_6148_11ec_93bc_0242ac1c0002row6_col0,#T_e155d308_6148_11ec_93bc_0242ac1c0002row7_col3,#T_e155d308_6148_11ec_93bc_0242ac1c0002row7_col4{\n",
              "            color:  #FF3344;\n",
              "        }</style><table id=\"T_e155d308_6148_11ec_93bc_0242ac1c0002\" class=\"dataframe\"><thead>    <tr>        <th class=\"blank level0\" ></th>        <th class=\"col_heading level0 col0\" >Pregnancies</th>        <th class=\"col_heading level0 col1\" >Glucose</th>        <th class=\"col_heading level0 col2\" >BloodPressure</th>        <th class=\"col_heading level0 col3\" >SkinThickness</th>        <th class=\"col_heading level0 col4\" >Insulin</th>        <th class=\"col_heading level0 col5\" >BMI</th>        <th class=\"col_heading level0 col6\" >DiabetesPedigreeFunction</th>        <th class=\"col_heading level0 col7\" >Age</th>        <th class=\"col_heading level0 col8\" >Outcome</th>    </tr></thead><tbody>\n",
              "                <tr>\n",
              "                        <th id=\"T_e155d308_6148_11ec_93bc_0242ac1c0002level0_row0\" class=\"row_heading level0 row0\" >Pregnancies</th>\n",
              "                        <td id=\"T_e155d308_6148_11ec_93bc_0242ac1c0002row0_col0\" class=\"data row0 col0\" >1.00</td>\n",
              "                        <td id=\"T_e155d308_6148_11ec_93bc_0242ac1c0002row0_col1\" class=\"data row0 col1\" >0.13</td>\n",
              "                        <td id=\"T_e155d308_6148_11ec_93bc_0242ac1c0002row0_col2\" class=\"data row0 col2\" >0.14</td>\n",
              "                        <td id=\"T_e155d308_6148_11ec_93bc_0242ac1c0002row0_col3\" class=\"data row0 col3\" >-0.08</td>\n",
              "                        <td id=\"T_e155d308_6148_11ec_93bc_0242ac1c0002row0_col4\" class=\"data row0 col4\" >-0.07</td>\n",
              "                        <td id=\"T_e155d308_6148_11ec_93bc_0242ac1c0002row0_col5\" class=\"data row0 col5\" >0.02</td>\n",
              "                        <td id=\"T_e155d308_6148_11ec_93bc_0242ac1c0002row0_col6\" class=\"data row0 col6\" >-0.03</td>\n",
              "                        <td id=\"T_e155d308_6148_11ec_93bc_0242ac1c0002row0_col7\" class=\"data row0 col7\" >0.54</td>\n",
              "                        <td id=\"T_e155d308_6148_11ec_93bc_0242ac1c0002row0_col8\" class=\"data row0 col8\" >0.22</td>\n",
              "            </tr>\n",
              "            <tr>\n",
              "                        <th id=\"T_e155d308_6148_11ec_93bc_0242ac1c0002level0_row1\" class=\"row_heading level0 row1\" >Glucose</th>\n",
              "                        <td id=\"T_e155d308_6148_11ec_93bc_0242ac1c0002row1_col0\" class=\"data row1 col0\" >0.13</td>\n",
              "                        <td id=\"T_e155d308_6148_11ec_93bc_0242ac1c0002row1_col1\" class=\"data row1 col1\" >1.00</td>\n",
              "                        <td id=\"T_e155d308_6148_11ec_93bc_0242ac1c0002row1_col2\" class=\"data row1 col2\" >0.15</td>\n",
              "                        <td id=\"T_e155d308_6148_11ec_93bc_0242ac1c0002row1_col3\" class=\"data row1 col3\" >0.06</td>\n",
              "                        <td id=\"T_e155d308_6148_11ec_93bc_0242ac1c0002row1_col4\" class=\"data row1 col4\" >0.33</td>\n",
              "                        <td id=\"T_e155d308_6148_11ec_93bc_0242ac1c0002row1_col5\" class=\"data row1 col5\" >0.22</td>\n",
              "                        <td id=\"T_e155d308_6148_11ec_93bc_0242ac1c0002row1_col6\" class=\"data row1 col6\" >0.14</td>\n",
              "                        <td id=\"T_e155d308_6148_11ec_93bc_0242ac1c0002row1_col7\" class=\"data row1 col7\" >0.26</td>\n",
              "                        <td id=\"T_e155d308_6148_11ec_93bc_0242ac1c0002row1_col8\" class=\"data row1 col8\" >0.47</td>\n",
              "            </tr>\n",
              "            <tr>\n",
              "                        <th id=\"T_e155d308_6148_11ec_93bc_0242ac1c0002level0_row2\" class=\"row_heading level0 row2\" >BloodPressure</th>\n",
              "                        <td id=\"T_e155d308_6148_11ec_93bc_0242ac1c0002row2_col0\" class=\"data row2 col0\" >0.14</td>\n",
              "                        <td id=\"T_e155d308_6148_11ec_93bc_0242ac1c0002row2_col1\" class=\"data row2 col1\" >0.15</td>\n",
              "                        <td id=\"T_e155d308_6148_11ec_93bc_0242ac1c0002row2_col2\" class=\"data row2 col2\" >1.00</td>\n",
              "                        <td id=\"T_e155d308_6148_11ec_93bc_0242ac1c0002row2_col3\" class=\"data row2 col3\" >0.21</td>\n",
              "                        <td id=\"T_e155d308_6148_11ec_93bc_0242ac1c0002row2_col4\" class=\"data row2 col4\" >0.09</td>\n",
              "                        <td id=\"T_e155d308_6148_11ec_93bc_0242ac1c0002row2_col5\" class=\"data row2 col5\" >0.28</td>\n",
              "                        <td id=\"T_e155d308_6148_11ec_93bc_0242ac1c0002row2_col6\" class=\"data row2 col6\" >0.04</td>\n",
              "                        <td id=\"T_e155d308_6148_11ec_93bc_0242ac1c0002row2_col7\" class=\"data row2 col7\" >0.24</td>\n",
              "                        <td id=\"T_e155d308_6148_11ec_93bc_0242ac1c0002row2_col8\" class=\"data row2 col8\" >0.07</td>\n",
              "            </tr>\n",
              "            <tr>\n",
              "                        <th id=\"T_e155d308_6148_11ec_93bc_0242ac1c0002level0_row3\" class=\"row_heading level0 row3\" >SkinThickness</th>\n",
              "                        <td id=\"T_e155d308_6148_11ec_93bc_0242ac1c0002row3_col0\" class=\"data row3 col0\" >-0.08</td>\n",
              "                        <td id=\"T_e155d308_6148_11ec_93bc_0242ac1c0002row3_col1\" class=\"data row3 col1\" >0.06</td>\n",
              "                        <td id=\"T_e155d308_6148_11ec_93bc_0242ac1c0002row3_col2\" class=\"data row3 col2\" >0.21</td>\n",
              "                        <td id=\"T_e155d308_6148_11ec_93bc_0242ac1c0002row3_col3\" class=\"data row3 col3\" >1.00</td>\n",
              "                        <td id=\"T_e155d308_6148_11ec_93bc_0242ac1c0002row3_col4\" class=\"data row3 col4\" >0.44</td>\n",
              "                        <td id=\"T_e155d308_6148_11ec_93bc_0242ac1c0002row3_col5\" class=\"data row3 col5\" >0.39</td>\n",
              "                        <td id=\"T_e155d308_6148_11ec_93bc_0242ac1c0002row3_col6\" class=\"data row3 col6\" >0.18</td>\n",
              "                        <td id=\"T_e155d308_6148_11ec_93bc_0242ac1c0002row3_col7\" class=\"data row3 col7\" >-0.11</td>\n",
              "                        <td id=\"T_e155d308_6148_11ec_93bc_0242ac1c0002row3_col8\" class=\"data row3 col8\" >0.07</td>\n",
              "            </tr>\n",
              "            <tr>\n",
              "                        <th id=\"T_e155d308_6148_11ec_93bc_0242ac1c0002level0_row4\" class=\"row_heading level0 row4\" >Insulin</th>\n",
              "                        <td id=\"T_e155d308_6148_11ec_93bc_0242ac1c0002row4_col0\" class=\"data row4 col0\" >-0.07</td>\n",
              "                        <td id=\"T_e155d308_6148_11ec_93bc_0242ac1c0002row4_col1\" class=\"data row4 col1\" >0.33</td>\n",
              "                        <td id=\"T_e155d308_6148_11ec_93bc_0242ac1c0002row4_col2\" class=\"data row4 col2\" >0.09</td>\n",
              "                        <td id=\"T_e155d308_6148_11ec_93bc_0242ac1c0002row4_col3\" class=\"data row4 col3\" >0.44</td>\n",
              "                        <td id=\"T_e155d308_6148_11ec_93bc_0242ac1c0002row4_col4\" class=\"data row4 col4\" >1.00</td>\n",
              "                        <td id=\"T_e155d308_6148_11ec_93bc_0242ac1c0002row4_col5\" class=\"data row4 col5\" >0.20</td>\n",
              "                        <td id=\"T_e155d308_6148_11ec_93bc_0242ac1c0002row4_col6\" class=\"data row4 col6\" >0.19</td>\n",
              "                        <td id=\"T_e155d308_6148_11ec_93bc_0242ac1c0002row4_col7\" class=\"data row4 col7\" >-0.04</td>\n",
              "                        <td id=\"T_e155d308_6148_11ec_93bc_0242ac1c0002row4_col8\" class=\"data row4 col8\" >0.13</td>\n",
              "            </tr>\n",
              "            <tr>\n",
              "                        <th id=\"T_e155d308_6148_11ec_93bc_0242ac1c0002level0_row5\" class=\"row_heading level0 row5\" >BMI</th>\n",
              "                        <td id=\"T_e155d308_6148_11ec_93bc_0242ac1c0002row5_col0\" class=\"data row5 col0\" >0.02</td>\n",
              "                        <td id=\"T_e155d308_6148_11ec_93bc_0242ac1c0002row5_col1\" class=\"data row5 col1\" >0.22</td>\n",
              "                        <td id=\"T_e155d308_6148_11ec_93bc_0242ac1c0002row5_col2\" class=\"data row5 col2\" >0.28</td>\n",
              "                        <td id=\"T_e155d308_6148_11ec_93bc_0242ac1c0002row5_col3\" class=\"data row5 col3\" >0.39</td>\n",
              "                        <td id=\"T_e155d308_6148_11ec_93bc_0242ac1c0002row5_col4\" class=\"data row5 col4\" >0.20</td>\n",
              "                        <td id=\"T_e155d308_6148_11ec_93bc_0242ac1c0002row5_col5\" class=\"data row5 col5\" >1.00</td>\n",
              "                        <td id=\"T_e155d308_6148_11ec_93bc_0242ac1c0002row5_col6\" class=\"data row5 col6\" >0.14</td>\n",
              "                        <td id=\"T_e155d308_6148_11ec_93bc_0242ac1c0002row5_col7\" class=\"data row5 col7\" >0.04</td>\n",
              "                        <td id=\"T_e155d308_6148_11ec_93bc_0242ac1c0002row5_col8\" class=\"data row5 col8\" >0.29</td>\n",
              "            </tr>\n",
              "            <tr>\n",
              "                        <th id=\"T_e155d308_6148_11ec_93bc_0242ac1c0002level0_row6\" class=\"row_heading level0 row6\" >DiabetesPedigreeFunction</th>\n",
              "                        <td id=\"T_e155d308_6148_11ec_93bc_0242ac1c0002row6_col0\" class=\"data row6 col0\" >-0.03</td>\n",
              "                        <td id=\"T_e155d308_6148_11ec_93bc_0242ac1c0002row6_col1\" class=\"data row6 col1\" >0.14</td>\n",
              "                        <td id=\"T_e155d308_6148_11ec_93bc_0242ac1c0002row6_col2\" class=\"data row6 col2\" >0.04</td>\n",
              "                        <td id=\"T_e155d308_6148_11ec_93bc_0242ac1c0002row6_col3\" class=\"data row6 col3\" >0.18</td>\n",
              "                        <td id=\"T_e155d308_6148_11ec_93bc_0242ac1c0002row6_col4\" class=\"data row6 col4\" >0.19</td>\n",
              "                        <td id=\"T_e155d308_6148_11ec_93bc_0242ac1c0002row6_col5\" class=\"data row6 col5\" >0.14</td>\n",
              "                        <td id=\"T_e155d308_6148_11ec_93bc_0242ac1c0002row6_col6\" class=\"data row6 col6\" >1.00</td>\n",
              "                        <td id=\"T_e155d308_6148_11ec_93bc_0242ac1c0002row6_col7\" class=\"data row6 col7\" >0.03</td>\n",
              "                        <td id=\"T_e155d308_6148_11ec_93bc_0242ac1c0002row6_col8\" class=\"data row6 col8\" >0.17</td>\n",
              "            </tr>\n",
              "            <tr>\n",
              "                        <th id=\"T_e155d308_6148_11ec_93bc_0242ac1c0002level0_row7\" class=\"row_heading level0 row7\" >Age</th>\n",
              "                        <td id=\"T_e155d308_6148_11ec_93bc_0242ac1c0002row7_col0\" class=\"data row7 col0\" >0.54</td>\n",
              "                        <td id=\"T_e155d308_6148_11ec_93bc_0242ac1c0002row7_col1\" class=\"data row7 col1\" >0.26</td>\n",
              "                        <td id=\"T_e155d308_6148_11ec_93bc_0242ac1c0002row7_col2\" class=\"data row7 col2\" >0.24</td>\n",
              "                        <td id=\"T_e155d308_6148_11ec_93bc_0242ac1c0002row7_col3\" class=\"data row7 col3\" >-0.11</td>\n",
              "                        <td id=\"T_e155d308_6148_11ec_93bc_0242ac1c0002row7_col4\" class=\"data row7 col4\" >-0.04</td>\n",
              "                        <td id=\"T_e155d308_6148_11ec_93bc_0242ac1c0002row7_col5\" class=\"data row7 col5\" >0.04</td>\n",
              "                        <td id=\"T_e155d308_6148_11ec_93bc_0242ac1c0002row7_col6\" class=\"data row7 col6\" >0.03</td>\n",
              "                        <td id=\"T_e155d308_6148_11ec_93bc_0242ac1c0002row7_col7\" class=\"data row7 col7\" >1.00</td>\n",
              "                        <td id=\"T_e155d308_6148_11ec_93bc_0242ac1c0002row7_col8\" class=\"data row7 col8\" >0.24</td>\n",
              "            </tr>\n",
              "            <tr>\n",
              "                        <th id=\"T_e155d308_6148_11ec_93bc_0242ac1c0002level0_row8\" class=\"row_heading level0 row8\" >Outcome</th>\n",
              "                        <td id=\"T_e155d308_6148_11ec_93bc_0242ac1c0002row8_col0\" class=\"data row8 col0\" >0.22</td>\n",
              "                        <td id=\"T_e155d308_6148_11ec_93bc_0242ac1c0002row8_col1\" class=\"data row8 col1\" >0.47</td>\n",
              "                        <td id=\"T_e155d308_6148_11ec_93bc_0242ac1c0002row8_col2\" class=\"data row8 col2\" >0.07</td>\n",
              "                        <td id=\"T_e155d308_6148_11ec_93bc_0242ac1c0002row8_col3\" class=\"data row8 col3\" >0.07</td>\n",
              "                        <td id=\"T_e155d308_6148_11ec_93bc_0242ac1c0002row8_col4\" class=\"data row8 col4\" >0.13</td>\n",
              "                        <td id=\"T_e155d308_6148_11ec_93bc_0242ac1c0002row8_col5\" class=\"data row8 col5\" >0.29</td>\n",
              "                        <td id=\"T_e155d308_6148_11ec_93bc_0242ac1c0002row8_col6\" class=\"data row8 col6\" >0.17</td>\n",
              "                        <td id=\"T_e155d308_6148_11ec_93bc_0242ac1c0002row8_col7\" class=\"data row8 col7\" >0.24</td>\n",
              "                        <td id=\"T_e155d308_6148_11ec_93bc_0242ac1c0002row8_col8\" class=\"data row8 col8\" >1.00</td>\n",
              "            </tr>\n",
              "    </tbody></table>"
            ],
            "text/plain": [
              "<pandas.io.formats.style.Styler at 0x7f7d8b833b50>"
            ]
          },
          "metadata": {},
          "execution_count": 64
        }
      ]
    },
    {
      "cell_type": "code",
      "source": [
        "klib.corr_plot(dataset_diabetes_pred)"
      ],
      "metadata": {
        "colab": {
          "base_uri": "https://localhost:8080/",
          "height": 749
        },
        "id": "Qx3VL32QzrIw",
        "outputId": "6b528a47-5451-4002-a024-520fa6cfafde"
      },
      "execution_count": null,
      "outputs": [
        {
          "output_type": "execute_result",
          "data": {
            "text/plain": [
              "<matplotlib.axes._subplots.AxesSubplot at 0x7f7d94588ad0>"
            ]
          },
          "metadata": {},
          "execution_count": 65
        },
        {
          "output_type": "display_data",
          "data": {
            "image/png": "[encoded data removed]",
            "text/plain": [
              "<Figure size 864x720 with 2 Axes>"
            ]
          },
          "metadata": {
            "needs_background": "light"
          }
        }
      ]
    }
  ]
}