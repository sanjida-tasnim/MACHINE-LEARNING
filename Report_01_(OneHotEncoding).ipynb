{
  "nbformat": 4,
  "nbformat_minor": 0,
  "metadata": {
    "colab": {
      "name": "Report-01_(OneHotEncoding).ipynb",
      "provenance": [],
      "collapsed_sections": [],
      "authorship_tag": "ABX9TyPOWdWfNQj+6j26sFtl3B0g",
      "include_colab_link": true
    },
    "kernelspec": {
      "name": "python3",
      "display_name": "Python 3"
    },
    "language_info": {
      "name": "python"
    }
  },
  "cells": [
    {
      "cell_type": "markdown",
      "metadata": {
        "id": "view-in-github",
        "colab_type": "text"
      },
      "source": [
        "<a href=\"https://colab.research.google.com/github/sanjida-tasnim/MACHINE-LEARNING/blob/main/Report_01_(OneHotEncoding).ipynb\" target=\"_parent\"><img src=\"https://colab.research.google.com/assets/colab-badge.svg\" alt=\"Open In Colab\"/></a>"
      ]
    },
    {
      "cell_type": "markdown",
      "source": [
        "**Course no:** ETE 456\n",
        "\n",
        "**course name:** Neural and Fuzzy systems in communications sessional\n",
        "\n",
        "**Submitted to:** Eftekhar Hossain\n",
        "\n",
        "**Submitted by:**\n",
        "\n",
        "**name:** Mahabub-e-sanjida tasnim\n",
        "\n",
        "**ID:** 1608009\n",
        "\n",
        "**Level:** 4\n",
        "\n",
        "**Term:** 2"
      ],
      "metadata": {
        "id": "T4LH5wNT1tNd"
      }
    },
    {
      "cell_type": "markdown",
      "source": [
        "# **Dataset (Medical Cost Personal Datasets)**\n",
        "**Columns**:\n",
        "\n",
        "age: age of primary beneficiary\n",
        "\n",
        "sex: insurance contractor gender, female, male\n",
        "\n",
        "bmi: Body mass index, providing an understanding of body, weights that are relatively high or low relative to height, objective index of body weight (kg / m ^ 2) using the ratio of height to weight, ideally 18.5 to 24.9\n",
        "\n",
        "children: Number of children covered by health insurance / Number of dependents\n",
        "\n",
        "smoker: Smoking\n",
        "\n",
        "region: the beneficiary's residential area in the US, northeast, southeast, southwest, northwest.\n",
        "\n",
        "charges: Individual medical costs billed by health insurance\n"
      ],
      "metadata": {
        "id": "Yd2l6xE8104s"
      }
    },
    {
      "cell_type": "markdown",
      "source": [
        "**Task** : To accurately predict insurance cost from the Dataset."
      ],
      "metadata": {
        "id": "xrv0nPRc15RM"
      }
    },
    {
      "cell_type": "markdown",
      "source": [
        "**Objectives:**\n",
        "\n",
        "1.To apply various regression algorithms on the Medical cost personal dataset."
      ],
      "metadata": {
        "id": "McIW_FEt1_Db"
      }
    },
    {
      "cell_type": "code",
      "metadata": {
        "id": "CjiDMoGOEJwx"
      },
      "source": [
        "import warnings\n",
        "warnings.filterwarnings(\"ignore\")"
      ],
      "execution_count": null,
      "outputs": []
    },
    {
      "cell_type": "code",
      "metadata": {
        "id": "UmHutVqIEeyl"
      },
      "source": [
        "#To import libraries \n",
        "import numpy as np          # used for mathmatical functions\n",
        "import matplotlib.pyplot as plt       #used for ploting\n",
        "import pandas as pd           # used for importing & managing the database"
      ],
      "execution_count": null,
      "outputs": []
    },
    {
      "cell_type": "code",
      "metadata": {
        "colab": {
          "base_uri": "https://localhost:8080/"
        },
        "id": "jyk5RC6PEiWW",
        "outputId": "e057a729-e09b-43d1-a063-e89bab655366"
      },
      "source": [
        "# to download the data\n",
        "!wget -O insurance.csv https://www.dropbox.com/s/mwgqgjbmfw0xa5p/insurance.csv?dl=0"
      ],
      "execution_count": null,
      "outputs": [
        {
          "output_type": "stream",
          "name": "stdout",
          "text": [
            "--2021-11-27 12:27:07--  https://www.dropbox.com/s/mwgqgjbmfw0xa5p/insurance.csv?dl=0\n",
            "Resolving www.dropbox.com (www.dropbox.com)... 162.125.65.18, 2620:100:6021:18::a27d:4112\n",
            "Connecting to www.dropbox.com (www.dropbox.com)|162.125.65.18|:443... connected.\n",
            "HTTP request sent, awaiting response... 301 Moved Permanently\n",
            "Location: /s/raw/mwgqgjbmfw0xa5p/insurance.csv [following]\n",
            "--2021-11-27 12:27:07--  https://www.dropbox.com/s/raw/mwgqgjbmfw0xa5p/insurance.csv\n",
            "Reusing existing connection to www.dropbox.com:443.\n",
            "HTTP request sent, awaiting response... 302 Found\n",
            "Location: https://ucdc149209b0fcebeb70d5f0fa1d.dl.dropboxusercontent.com/cd/0/inline/BaxFWyZYpkE6evZ4vODA00QgDDJGUmsnZnSagPiWrNV2cEhWz2UrEL4H7As9PAKvazN5V9OweLZYxcz2qwQ-AAs5VrugIxZNuHZmL8BLeB0qMrRV9fHkgmL-qJWA_lbdqkGlYcs0lkqGUgKj2bIyuvO7/file# [following]\n",
            "--2021-11-27 12:27:07--  https://ucdc149209b0fcebeb70d5f0fa1d.dl.dropboxusercontent.com/cd/0/inline/BaxFWyZYpkE6evZ4vODA00QgDDJGUmsnZnSagPiWrNV2cEhWz2UrEL4H7As9PAKvazN5V9OweLZYxcz2qwQ-AAs5VrugIxZNuHZmL8BLeB0qMrRV9fHkgmL-qJWA_lbdqkGlYcs0lkqGUgKj2bIyuvO7/file\n",
            "Resolving ucdc149209b0fcebeb70d5f0fa1d.dl.dropboxusercontent.com (ucdc149209b0fcebeb70d5f0fa1d.dl.dropboxusercontent.com)... 162.125.65.15, 2620:100:6021:15::a27d:410f\n",
            "Connecting to ucdc149209b0fcebeb70d5f0fa1d.dl.dropboxusercontent.com (ucdc149209b0fcebeb70d5f0fa1d.dl.dropboxusercontent.com)|162.125.65.15|:443... connected.\n",
            "HTTP request sent, awaiting response... 200 OK\n",
            "Length: 55628 (54K) [text/plain]\n",
            "Saving to: ‘insurance.csv’\n",
            "\n",
            "insurance.csv       100%[===================>]  54.32K  --.-KB/s    in 0.1s    \n",
            "\n",
            "2021-11-27 12:27:08 (444 KB/s) - ‘insurance.csv’ saved [55628/55628]\n",
            "\n"
          ]
        }
      ]
    },
    {
      "cell_type": "code",
      "metadata": {
        "colab": {
          "base_uri": "https://localhost:8080/",
          "height": 423
        },
        "id": "jgVH0l_KEujV",
        "outputId": "37933585-29fc-43a6-e4a0-a7f9ef44b10b"
      },
      "source": [
        "#importing the dataset \n",
        "insurance_cost_dataset = pd.read_csv('insurance.csv')\n",
        "insurance_cost_dataset"
      ],
      "execution_count": null,
      "outputs": [
        {
          "output_type": "execute_result",
          "data": {
            "text/html": [
              "<div>\n",
              "<style scoped>\n",
              "    .dataframe tbody tr th:only-of-type {\n",
              "        vertical-align: middle;\n",
              "    }\n",
              "\n",
              "    .dataframe tbody tr th {\n",
              "        vertical-align: top;\n",
              "    }\n",
              "\n",
              "    .dataframe thead th {\n",
              "        text-align: right;\n",
              "    }\n",
              "</style>\n",
              "<table border=\"1\" class=\"dataframe\">\n",
              "  <thead>\n",
              "    <tr style=\"text-align: right;\">\n",
              "      <th></th>\n",
              "      <th>age</th>\n",
              "      <th>sex</th>\n",
              "      <th>bmi</th>\n",
              "      <th>children</th>\n",
              "      <th>smoker</th>\n",
              "      <th>region</th>\n",
              "      <th>charges</th>\n",
              "    </tr>\n",
              "  </thead>\n",
              "  <tbody>\n",
              "    <tr>\n",
              "      <th>0</th>\n",
              "      <td>19</td>\n",
              "      <td>female</td>\n",
              "      <td>27.900</td>\n",
              "      <td>0</td>\n",
              "      <td>yes</td>\n",
              "      <td>southwest</td>\n",
              "      <td>16884.92400</td>\n",
              "    </tr>\n",
              "    <tr>\n",
              "      <th>1</th>\n",
              "      <td>18</td>\n",
              "      <td>male</td>\n",
              "      <td>33.770</td>\n",
              "      <td>1</td>\n",
              "      <td>no</td>\n",
              "      <td>southeast</td>\n",
              "      <td>1725.55230</td>\n",
              "    </tr>\n",
              "    <tr>\n",
              "      <th>2</th>\n",
              "      <td>28</td>\n",
              "      <td>male</td>\n",
              "      <td>33.000</td>\n",
              "      <td>3</td>\n",
              "      <td>no</td>\n",
              "      <td>southeast</td>\n",
              "      <td>4449.46200</td>\n",
              "    </tr>\n",
              "    <tr>\n",
              "      <th>3</th>\n",
              "      <td>33</td>\n",
              "      <td>male</td>\n",
              "      <td>22.705</td>\n",
              "      <td>0</td>\n",
              "      <td>no</td>\n",
              "      <td>northwest</td>\n",
              "      <td>21984.47061</td>\n",
              "    </tr>\n",
              "    <tr>\n",
              "      <th>4</th>\n",
              "      <td>32</td>\n",
              "      <td>male</td>\n",
              "      <td>28.880</td>\n",
              "      <td>0</td>\n",
              "      <td>no</td>\n",
              "      <td>northwest</td>\n",
              "      <td>3866.85520</td>\n",
              "    </tr>\n",
              "    <tr>\n",
              "      <th>...</th>\n",
              "      <td>...</td>\n",
              "      <td>...</td>\n",
              "      <td>...</td>\n",
              "      <td>...</td>\n",
              "      <td>...</td>\n",
              "      <td>...</td>\n",
              "      <td>...</td>\n",
              "    </tr>\n",
              "    <tr>\n",
              "      <th>1333</th>\n",
              "      <td>50</td>\n",
              "      <td>male</td>\n",
              "      <td>30.970</td>\n",
              "      <td>3</td>\n",
              "      <td>no</td>\n",
              "      <td>northwest</td>\n",
              "      <td>10600.54830</td>\n",
              "    </tr>\n",
              "    <tr>\n",
              "      <th>1334</th>\n",
              "      <td>18</td>\n",
              "      <td>female</td>\n",
              "      <td>31.920</td>\n",
              "      <td>0</td>\n",
              "      <td>no</td>\n",
              "      <td>northeast</td>\n",
              "      <td>2205.98080</td>\n",
              "    </tr>\n",
              "    <tr>\n",
              "      <th>1335</th>\n",
              "      <td>18</td>\n",
              "      <td>female</td>\n",
              "      <td>36.850</td>\n",
              "      <td>0</td>\n",
              "      <td>no</td>\n",
              "      <td>southeast</td>\n",
              "      <td>1629.83350</td>\n",
              "    </tr>\n",
              "    <tr>\n",
              "      <th>1336</th>\n",
              "      <td>21</td>\n",
              "      <td>female</td>\n",
              "      <td>25.800</td>\n",
              "      <td>0</td>\n",
              "      <td>no</td>\n",
              "      <td>southwest</td>\n",
              "      <td>2007.94500</td>\n",
              "    </tr>\n",
              "    <tr>\n",
              "      <th>1337</th>\n",
              "      <td>61</td>\n",
              "      <td>female</td>\n",
              "      <td>29.070</td>\n",
              "      <td>0</td>\n",
              "      <td>yes</td>\n",
              "      <td>northwest</td>\n",
              "      <td>29141.36030</td>\n",
              "    </tr>\n",
              "  </tbody>\n",
              "</table>\n",
              "<p>1338 rows × 7 columns</p>\n",
              "</div>"
            ],
            "text/plain": [
              "      age     sex     bmi  children smoker     region      charges\n",
              "0      19  female  27.900         0    yes  southwest  16884.92400\n",
              "1      18    male  33.770         1     no  southeast   1725.55230\n",
              "2      28    male  33.000         3     no  southeast   4449.46200\n",
              "3      33    male  22.705         0     no  northwest  21984.47061\n",
              "4      32    male  28.880         0     no  northwest   3866.85520\n",
              "...   ...     ...     ...       ...    ...        ...          ...\n",
              "1333   50    male  30.970         3     no  northwest  10600.54830\n",
              "1334   18  female  31.920         0     no  northeast   2205.98080\n",
              "1335   18  female  36.850         0     no  southeast   1629.83350\n",
              "1336   21  female  25.800         0     no  southwest   2007.94500\n",
              "1337   61  female  29.070         0    yes  northwest  29141.36030\n",
              "\n",
              "[1338 rows x 7 columns]"
            ]
          },
          "metadata": {},
          "execution_count": 4
        }
      ]
    },
    {
      "cell_type": "code",
      "metadata": {
        "id": "5iLI3eQDFEml"
      },
      "source": [
        "#to split data into features and target\n",
        "features = insurance_cost_dataset[['age'\t,'sex',\t'bmi', 'children', 'smoker', 'region']]  # for independent\n",
        "target = insurance_cost_dataset[['charges']]   # for dependent"
      ],
      "execution_count": null,
      "outputs": []
    },
    {
      "cell_type": "code",
      "metadata": {
        "colab": {
          "base_uri": "https://localhost:8080/",
          "height": 423
        },
        "id": "XPyoEXTVFGNl",
        "outputId": "e50546e4-e09e-4316-e214-a9057ded5ff4"
      },
      "source": [
        "#to show feature datas\n",
        "features"
      ],
      "execution_count": null,
      "outputs": [
        {
          "output_type": "execute_result",
          "data": {
            "text/html": [
              "<div>\n",
              "<style scoped>\n",
              "    .dataframe tbody tr th:only-of-type {\n",
              "        vertical-align: middle;\n",
              "    }\n",
              "\n",
              "    .dataframe tbody tr th {\n",
              "        vertical-align: top;\n",
              "    }\n",
              "\n",
              "    .dataframe thead th {\n",
              "        text-align: right;\n",
              "    }\n",
              "</style>\n",
              "<table border=\"1\" class=\"dataframe\">\n",
              "  <thead>\n",
              "    <tr style=\"text-align: right;\">\n",
              "      <th></th>\n",
              "      <th>age</th>\n",
              "      <th>sex</th>\n",
              "      <th>bmi</th>\n",
              "      <th>children</th>\n",
              "      <th>smoker</th>\n",
              "      <th>region</th>\n",
              "    </tr>\n",
              "  </thead>\n",
              "  <tbody>\n",
              "    <tr>\n",
              "      <th>0</th>\n",
              "      <td>19</td>\n",
              "      <td>female</td>\n",
              "      <td>27.900</td>\n",
              "      <td>0</td>\n",
              "      <td>yes</td>\n",
              "      <td>southwest</td>\n",
              "    </tr>\n",
              "    <tr>\n",
              "      <th>1</th>\n",
              "      <td>18</td>\n",
              "      <td>male</td>\n",
              "      <td>33.770</td>\n",
              "      <td>1</td>\n",
              "      <td>no</td>\n",
              "      <td>southeast</td>\n",
              "    </tr>\n",
              "    <tr>\n",
              "      <th>2</th>\n",
              "      <td>28</td>\n",
              "      <td>male</td>\n",
              "      <td>33.000</td>\n",
              "      <td>3</td>\n",
              "      <td>no</td>\n",
              "      <td>southeast</td>\n",
              "    </tr>\n",
              "    <tr>\n",
              "      <th>3</th>\n",
              "      <td>33</td>\n",
              "      <td>male</td>\n",
              "      <td>22.705</td>\n",
              "      <td>0</td>\n",
              "      <td>no</td>\n",
              "      <td>northwest</td>\n",
              "    </tr>\n",
              "    <tr>\n",
              "      <th>4</th>\n",
              "      <td>32</td>\n",
              "      <td>male</td>\n",
              "      <td>28.880</td>\n",
              "      <td>0</td>\n",
              "      <td>no</td>\n",
              "      <td>northwest</td>\n",
              "    </tr>\n",
              "    <tr>\n",
              "      <th>...</th>\n",
              "      <td>...</td>\n",
              "      <td>...</td>\n",
              "      <td>...</td>\n",
              "      <td>...</td>\n",
              "      <td>...</td>\n",
              "      <td>...</td>\n",
              "    </tr>\n",
              "    <tr>\n",
              "      <th>1333</th>\n",
              "      <td>50</td>\n",
              "      <td>male</td>\n",
              "      <td>30.970</td>\n",
              "      <td>3</td>\n",
              "      <td>no</td>\n",
              "      <td>northwest</td>\n",
              "    </tr>\n",
              "    <tr>\n",
              "      <th>1334</th>\n",
              "      <td>18</td>\n",
              "      <td>female</td>\n",
              "      <td>31.920</td>\n",
              "      <td>0</td>\n",
              "      <td>no</td>\n",
              "      <td>northeast</td>\n",
              "    </tr>\n",
              "    <tr>\n",
              "      <th>1335</th>\n",
              "      <td>18</td>\n",
              "      <td>female</td>\n",
              "      <td>36.850</td>\n",
              "      <td>0</td>\n",
              "      <td>no</td>\n",
              "      <td>southeast</td>\n",
              "    </tr>\n",
              "    <tr>\n",
              "      <th>1336</th>\n",
              "      <td>21</td>\n",
              "      <td>female</td>\n",
              "      <td>25.800</td>\n",
              "      <td>0</td>\n",
              "      <td>no</td>\n",
              "      <td>southwest</td>\n",
              "    </tr>\n",
              "    <tr>\n",
              "      <th>1337</th>\n",
              "      <td>61</td>\n",
              "      <td>female</td>\n",
              "      <td>29.070</td>\n",
              "      <td>0</td>\n",
              "      <td>yes</td>\n",
              "      <td>northwest</td>\n",
              "    </tr>\n",
              "  </tbody>\n",
              "</table>\n",
              "<p>1338 rows × 6 columns</p>\n",
              "</div>"
            ],
            "text/plain": [
              "      age     sex     bmi  children smoker     region\n",
              "0      19  female  27.900         0    yes  southwest\n",
              "1      18    male  33.770         1     no  southeast\n",
              "2      28    male  33.000         3     no  southeast\n",
              "3      33    male  22.705         0     no  northwest\n",
              "4      32    male  28.880         0     no  northwest\n",
              "...   ...     ...     ...       ...    ...        ...\n",
              "1333   50    male  30.970         3     no  northwest\n",
              "1334   18  female  31.920         0     no  northeast\n",
              "1335   18  female  36.850         0     no  southeast\n",
              "1336   21  female  25.800         0     no  southwest\n",
              "1337   61  female  29.070         0    yes  northwest\n",
              "\n",
              "[1338 rows x 6 columns]"
            ]
          },
          "metadata": {},
          "execution_count": 6
        }
      ]
    },
    {
      "cell_type": "code",
      "metadata": {
        "colab": {
          "base_uri": "https://localhost:8080/",
          "height": 423
        },
        "id": "2WtNIoHnFOC1",
        "outputId": "7b0d27b8-b160-4762-e115-7fb9efc14c19"
      },
      "source": [
        "#to show target data\n",
        "target"
      ],
      "execution_count": null,
      "outputs": [
        {
          "output_type": "execute_result",
          "data": {
            "text/html": [
              "<div>\n",
              "<style scoped>\n",
              "    .dataframe tbody tr th:only-of-type {\n",
              "        vertical-align: middle;\n",
              "    }\n",
              "\n",
              "    .dataframe tbody tr th {\n",
              "        vertical-align: top;\n",
              "    }\n",
              "\n",
              "    .dataframe thead th {\n",
              "        text-align: right;\n",
              "    }\n",
              "</style>\n",
              "<table border=\"1\" class=\"dataframe\">\n",
              "  <thead>\n",
              "    <tr style=\"text-align: right;\">\n",
              "      <th></th>\n",
              "      <th>charges</th>\n",
              "    </tr>\n",
              "  </thead>\n",
              "  <tbody>\n",
              "    <tr>\n",
              "      <th>0</th>\n",
              "      <td>16884.92400</td>\n",
              "    </tr>\n",
              "    <tr>\n",
              "      <th>1</th>\n",
              "      <td>1725.55230</td>\n",
              "    </tr>\n",
              "    <tr>\n",
              "      <th>2</th>\n",
              "      <td>4449.46200</td>\n",
              "    </tr>\n",
              "    <tr>\n",
              "      <th>3</th>\n",
              "      <td>21984.47061</td>\n",
              "    </tr>\n",
              "    <tr>\n",
              "      <th>4</th>\n",
              "      <td>3866.85520</td>\n",
              "    </tr>\n",
              "    <tr>\n",
              "      <th>...</th>\n",
              "      <td>...</td>\n",
              "    </tr>\n",
              "    <tr>\n",
              "      <th>1333</th>\n",
              "      <td>10600.54830</td>\n",
              "    </tr>\n",
              "    <tr>\n",
              "      <th>1334</th>\n",
              "      <td>2205.98080</td>\n",
              "    </tr>\n",
              "    <tr>\n",
              "      <th>1335</th>\n",
              "      <td>1629.83350</td>\n",
              "    </tr>\n",
              "    <tr>\n",
              "      <th>1336</th>\n",
              "      <td>2007.94500</td>\n",
              "    </tr>\n",
              "    <tr>\n",
              "      <th>1337</th>\n",
              "      <td>29141.36030</td>\n",
              "    </tr>\n",
              "  </tbody>\n",
              "</table>\n",
              "<p>1338 rows × 1 columns</p>\n",
              "</div>"
            ],
            "text/plain": [
              "          charges\n",
              "0     16884.92400\n",
              "1      1725.55230\n",
              "2      4449.46200\n",
              "3     21984.47061\n",
              "4      3866.85520\n",
              "...           ...\n",
              "1333  10600.54830\n",
              "1334   2205.98080\n",
              "1335   1629.83350\n",
              "1336   2007.94500\n",
              "1337  29141.36030\n",
              "\n",
              "[1338 rows x 1 columns]"
            ]
          },
          "metadata": {},
          "execution_count": 7
        }
      ]
    },
    {
      "cell_type": "code",
      "metadata": {
        "id": "SKSXklf3FS8_"
      },
      "source": [
        "#There is no missing data in the columns, which we observed during Label Encoding"
      ],
      "execution_count": null,
      "outputs": []
    },
    {
      "cell_type": "markdown",
      "source": [
        "# **OneHotEncoding:**"
      ],
      "metadata": {
        "id": "UgdcRDy9C8kI"
      }
    },
    {
      "cell_type": "markdown",
      "metadata": {
        "id": "p-dAiAecMHFd"
      },
      "source": [
        "**OneHotEncoding:** One hot encoding is one method of converting data to prepare it for an algorithm and get a better prediction. With one-hot, we convert each categorical value into a new categorical column and assign a binary value of 1 or 0 to those columns. Each integer value is represented as a binary vector. All the values are zero, and the index is marked with a 1."
      ]
    },
    {
      "cell_type": "code",
      "metadata": {
        "id": "yqTBiJZxFfn1"
      },
      "source": [
        "#OneHotEncoding\n",
        "#to import OneHotEncoder From Library\n",
        "from sklearn.preprocessing import OneHotEncoder"
      ],
      "execution_count": null,
      "outputs": []
    },
    {
      "cell_type": "code",
      "metadata": {
        "id": "yMb6jjDTGGi1"
      },
      "source": [
        "encoder=OneHotEncoder(sparse=False) #sparse Will return sparse matrix if set True else will return an array.\n",
        "encoded_labels = pd.DataFrame (encoder.fit_transform(features[['sex', 'smoker', 'region']])) #only sex , smoker and region has categorical data "
      ],
      "execution_count": null,
      "outputs": []
    },
    {
      "cell_type": "code",
      "metadata": {
        "id": "4s56yGhkGfhU"
      },
      "source": [
        "encoded_labels.columns = encoder.get_feature_names(['sex', 'smoker', 'region'])\n",
        "insurance_cost_dataset= pd.concat([features, encoded_labels ], axis=1) #concat is used to add new columns in dataset"
      ],
      "execution_count": null,
      "outputs": []
    },
    {
      "cell_type": "code",
      "metadata": {
        "colab": {
          "base_uri": "https://localhost:8080/",
          "height": 443
        },
        "id": "NL6oO84vGjeu",
        "outputId": "c2e761bb-3a9f-4421-abea-69677347b391"
      },
      "source": [
        "insurance_cost_dataset"
      ],
      "execution_count": null,
      "outputs": [
        {
          "output_type": "execute_result",
          "data": {
            "text/html": [
              "<div>\n",
              "<style scoped>\n",
              "    .dataframe tbody tr th:only-of-type {\n",
              "        vertical-align: middle;\n",
              "    }\n",
              "\n",
              "    .dataframe tbody tr th {\n",
              "        vertical-align: top;\n",
              "    }\n",
              "\n",
              "    .dataframe thead th {\n",
              "        text-align: right;\n",
              "    }\n",
              "</style>\n",
              "<table border=\"1\" class=\"dataframe\">\n",
              "  <thead>\n",
              "    <tr style=\"text-align: right;\">\n",
              "      <th></th>\n",
              "      <th>age</th>\n",
              "      <th>sex</th>\n",
              "      <th>bmi</th>\n",
              "      <th>children</th>\n",
              "      <th>smoker</th>\n",
              "      <th>region</th>\n",
              "      <th>sex_female</th>\n",
              "      <th>sex_male</th>\n",
              "      <th>smoker_no</th>\n",
              "      <th>smoker_yes</th>\n",
              "      <th>region_northeast</th>\n",
              "      <th>region_northwest</th>\n",
              "      <th>region_southeast</th>\n",
              "      <th>region_southwest</th>\n",
              "    </tr>\n",
              "  </thead>\n",
              "  <tbody>\n",
              "    <tr>\n",
              "      <th>0</th>\n",
              "      <td>19</td>\n",
              "      <td>female</td>\n",
              "      <td>27.900</td>\n",
              "      <td>0</td>\n",
              "      <td>yes</td>\n",
              "      <td>southwest</td>\n",
              "      <td>1.0</td>\n",
              "      <td>0.0</td>\n",
              "      <td>0.0</td>\n",
              "      <td>1.0</td>\n",
              "      <td>0.0</td>\n",
              "      <td>0.0</td>\n",
              "      <td>0.0</td>\n",
              "      <td>1.0</td>\n",
              "    </tr>\n",
              "    <tr>\n",
              "      <th>1</th>\n",
              "      <td>18</td>\n",
              "      <td>male</td>\n",
              "      <td>33.770</td>\n",
              "      <td>1</td>\n",
              "      <td>no</td>\n",
              "      <td>southeast</td>\n",
              "      <td>0.0</td>\n",
              "      <td>1.0</td>\n",
              "      <td>1.0</td>\n",
              "      <td>0.0</td>\n",
              "      <td>0.0</td>\n",
              "      <td>0.0</td>\n",
              "      <td>1.0</td>\n",
              "      <td>0.0</td>\n",
              "    </tr>\n",
              "    <tr>\n",
              "      <th>2</th>\n",
              "      <td>28</td>\n",
              "      <td>male</td>\n",
              "      <td>33.000</td>\n",
              "      <td>3</td>\n",
              "      <td>no</td>\n",
              "      <td>southeast</td>\n",
              "      <td>0.0</td>\n",
              "      <td>1.0</td>\n",
              "      <td>1.0</td>\n",
              "      <td>0.0</td>\n",
              "      <td>0.0</td>\n",
              "      <td>0.0</td>\n",
              "      <td>1.0</td>\n",
              "      <td>0.0</td>\n",
              "    </tr>\n",
              "    <tr>\n",
              "      <th>3</th>\n",
              "      <td>33</td>\n",
              "      <td>male</td>\n",
              "      <td>22.705</td>\n",
              "      <td>0</td>\n",
              "      <td>no</td>\n",
              "      <td>northwest</td>\n",
              "      <td>0.0</td>\n",
              "      <td>1.0</td>\n",
              "      <td>1.0</td>\n",
              "      <td>0.0</td>\n",
              "      <td>0.0</td>\n",
              "      <td>1.0</td>\n",
              "      <td>0.0</td>\n",
              "      <td>0.0</td>\n",
              "    </tr>\n",
              "    <tr>\n",
              "      <th>4</th>\n",
              "      <td>32</td>\n",
              "      <td>male</td>\n",
              "      <td>28.880</td>\n",
              "      <td>0</td>\n",
              "      <td>no</td>\n",
              "      <td>northwest</td>\n",
              "      <td>0.0</td>\n",
              "      <td>1.0</td>\n",
              "      <td>1.0</td>\n",
              "      <td>0.0</td>\n",
              "      <td>0.0</td>\n",
              "      <td>1.0</td>\n",
              "      <td>0.0</td>\n",
              "      <td>0.0</td>\n",
              "    </tr>\n",
              "    <tr>\n",
              "      <th>...</th>\n",
              "      <td>...</td>\n",
              "      <td>...</td>\n",
              "      <td>...</td>\n",
              "      <td>...</td>\n",
              "      <td>...</td>\n",
              "      <td>...</td>\n",
              "      <td>...</td>\n",
              "      <td>...</td>\n",
              "      <td>...</td>\n",
              "      <td>...</td>\n",
              "      <td>...</td>\n",
              "      <td>...</td>\n",
              "      <td>...</td>\n",
              "      <td>...</td>\n",
              "    </tr>\n",
              "    <tr>\n",
              "      <th>1333</th>\n",
              "      <td>50</td>\n",
              "      <td>male</td>\n",
              "      <td>30.970</td>\n",
              "      <td>3</td>\n",
              "      <td>no</td>\n",
              "      <td>northwest</td>\n",
              "      <td>0.0</td>\n",
              "      <td>1.0</td>\n",
              "      <td>1.0</td>\n",
              "      <td>0.0</td>\n",
              "      <td>0.0</td>\n",
              "      <td>1.0</td>\n",
              "      <td>0.0</td>\n",
              "      <td>0.0</td>\n",
              "    </tr>\n",
              "    <tr>\n",
              "      <th>1334</th>\n",
              "      <td>18</td>\n",
              "      <td>female</td>\n",
              "      <td>31.920</td>\n",
              "      <td>0</td>\n",
              "      <td>no</td>\n",
              "      <td>northeast</td>\n",
              "      <td>1.0</td>\n",
              "      <td>0.0</td>\n",
              "      <td>1.0</td>\n",
              "      <td>0.0</td>\n",
              "      <td>1.0</td>\n",
              "      <td>0.0</td>\n",
              "      <td>0.0</td>\n",
              "      <td>0.0</td>\n",
              "    </tr>\n",
              "    <tr>\n",
              "      <th>1335</th>\n",
              "      <td>18</td>\n",
              "      <td>female</td>\n",
              "      <td>36.850</td>\n",
              "      <td>0</td>\n",
              "      <td>no</td>\n",
              "      <td>southeast</td>\n",
              "      <td>1.0</td>\n",
              "      <td>0.0</td>\n",
              "      <td>1.0</td>\n",
              "      <td>0.0</td>\n",
              "      <td>0.0</td>\n",
              "      <td>0.0</td>\n",
              "      <td>1.0</td>\n",
              "      <td>0.0</td>\n",
              "    </tr>\n",
              "    <tr>\n",
              "      <th>1336</th>\n",
              "      <td>21</td>\n",
              "      <td>female</td>\n",
              "      <td>25.800</td>\n",
              "      <td>0</td>\n",
              "      <td>no</td>\n",
              "      <td>southwest</td>\n",
              "      <td>1.0</td>\n",
              "      <td>0.0</td>\n",
              "      <td>1.0</td>\n",
              "      <td>0.0</td>\n",
              "      <td>0.0</td>\n",
              "      <td>0.0</td>\n",
              "      <td>0.0</td>\n",
              "      <td>1.0</td>\n",
              "    </tr>\n",
              "    <tr>\n",
              "      <th>1337</th>\n",
              "      <td>61</td>\n",
              "      <td>female</td>\n",
              "      <td>29.070</td>\n",
              "      <td>0</td>\n",
              "      <td>yes</td>\n",
              "      <td>northwest</td>\n",
              "      <td>1.0</td>\n",
              "      <td>0.0</td>\n",
              "      <td>0.0</td>\n",
              "      <td>1.0</td>\n",
              "      <td>0.0</td>\n",
              "      <td>1.0</td>\n",
              "      <td>0.0</td>\n",
              "      <td>0.0</td>\n",
              "    </tr>\n",
              "  </tbody>\n",
              "</table>\n",
              "<p>1338 rows × 14 columns</p>\n",
              "</div>"
            ],
            "text/plain": [
              "      age     sex     bmi  ...  region_northwest region_southeast region_southwest\n",
              "0      19  female  27.900  ...               0.0              0.0              1.0\n",
              "1      18    male  33.770  ...               0.0              1.0              0.0\n",
              "2      28    male  33.000  ...               0.0              1.0              0.0\n",
              "3      33    male  22.705  ...               1.0              0.0              0.0\n",
              "4      32    male  28.880  ...               1.0              0.0              0.0\n",
              "...   ...     ...     ...  ...               ...              ...              ...\n",
              "1333   50    male  30.970  ...               1.0              0.0              0.0\n",
              "1334   18  female  31.920  ...               0.0              0.0              0.0\n",
              "1335   18  female  36.850  ...               0.0              1.0              0.0\n",
              "1336   21  female  25.800  ...               0.0              0.0              1.0\n",
              "1337   61  female  29.070  ...               1.0              0.0              0.0\n",
              "\n",
              "[1338 rows x 14 columns]"
            ]
          },
          "metadata": {},
          "execution_count": 12
        }
      ]
    },
    {
      "cell_type": "code",
      "metadata": {
        "colab": {
          "base_uri": "https://localhost:8080/"
        },
        "id": "0uPiYY9pHEOd",
        "outputId": "4264ea87-efc9-4475-8bb5-a7831f0dacf5"
      },
      "source": [
        "insurance_cost_dataset.columns #To show the columns after concat"
      ],
      "execution_count": null,
      "outputs": [
        {
          "output_type": "execute_result",
          "data": {
            "text/plain": [
              "Index(['age', 'sex', 'bmi', 'children', 'smoker', 'region', 'sex_female',\n",
              "       'sex_male', 'smoker_no', 'smoker_yes', 'region_northeast',\n",
              "       'region_northwest', 'region_southeast', 'region_southwest'],\n",
              "      dtype='object')"
            ]
          },
          "metadata": {},
          "execution_count": 13
        }
      ]
    },
    {
      "cell_type": "code",
      "metadata": {
        "id": "ACdToth0HT-c"
      },
      "source": [
        "new_features = insurance_cost_dataset[['age', 'bmi', 'children',\n",
        "       'sex_female', 'sex_male', 'smoker_no', 'smoker_yes', 'region_northeast', 'region_northwest', 'region_southeast', 'region_southwest']]"
      ],
      "execution_count": null,
      "outputs": []
    },
    {
      "cell_type": "markdown",
      "source": [
        "# **Splitting The Dataset**"
      ],
      "metadata": {
        "id": "LRInL42YC2Xo"
      }
    },
    {
      "cell_type": "code",
      "metadata": {
        "id": "i-w_bamcHkmF"
      },
      "source": [
        "#Splitting the dataset\n",
        "from sklearn.model_selection import train_test_split"
      ],
      "execution_count": null,
      "outputs": []
    },
    {
      "cell_type": "code",
      "metadata": {
        "id": "ocqdpk19Hq_U"
      },
      "source": [
        "#Spliting the Dataset into Training Set and Test Set\n",
        "X_train,X_test,y_train,y_test=train_test_split(new_features,target,test_size = 0.2,random_state = 0)"
      ],
      "execution_count": null,
      "outputs": []
    },
    {
      "cell_type": "code",
      "metadata": {
        "colab": {
          "base_uri": "https://localhost:8080/"
        },
        "id": "mVF_sC0oH0D8",
        "outputId": "8ce9c702-a027-4046-f1da-52e26f306e43"
      },
      "source": [
        "print(X_train.shape)\n",
        "print(X_test.shape)"
      ],
      "execution_count": null,
      "outputs": [
        {
          "output_type": "stream",
          "name": "stdout",
          "text": [
            "(1070, 11)\n",
            "(268, 11)\n"
          ]
        }
      ]
    },
    {
      "cell_type": "code",
      "metadata": {
        "colab": {
          "base_uri": "https://localhost:8080/",
          "height": 423
        },
        "id": "YHBLxE56H4pN",
        "outputId": "c8430afe-fb0f-4e52-be09-084f34053a91"
      },
      "source": [
        "X_train"
      ],
      "execution_count": null,
      "outputs": [
        {
          "output_type": "execute_result",
          "data": {
            "text/html": [
              "<div>\n",
              "<style scoped>\n",
              "    .dataframe tbody tr th:only-of-type {\n",
              "        vertical-align: middle;\n",
              "    }\n",
              "\n",
              "    .dataframe tbody tr th {\n",
              "        vertical-align: top;\n",
              "    }\n",
              "\n",
              "    .dataframe thead th {\n",
              "        text-align: right;\n",
              "    }\n",
              "</style>\n",
              "<table border=\"1\" class=\"dataframe\">\n",
              "  <thead>\n",
              "    <tr style=\"text-align: right;\">\n",
              "      <th></th>\n",
              "      <th>age</th>\n",
              "      <th>bmi</th>\n",
              "      <th>children</th>\n",
              "      <th>sex_female</th>\n",
              "      <th>sex_male</th>\n",
              "      <th>smoker_no</th>\n",
              "      <th>smoker_yes</th>\n",
              "      <th>region_northeast</th>\n",
              "      <th>region_northwest</th>\n",
              "      <th>region_southeast</th>\n",
              "      <th>region_southwest</th>\n",
              "    </tr>\n",
              "  </thead>\n",
              "  <tbody>\n",
              "    <tr>\n",
              "      <th>621</th>\n",
              "      <td>37</td>\n",
              "      <td>34.100</td>\n",
              "      <td>4</td>\n",
              "      <td>0.0</td>\n",
              "      <td>1.0</td>\n",
              "      <td>0.0</td>\n",
              "      <td>1.0</td>\n",
              "      <td>0.0</td>\n",
              "      <td>0.0</td>\n",
              "      <td>0.0</td>\n",
              "      <td>1.0</td>\n",
              "    </tr>\n",
              "    <tr>\n",
              "      <th>194</th>\n",
              "      <td>18</td>\n",
              "      <td>34.430</td>\n",
              "      <td>0</td>\n",
              "      <td>0.0</td>\n",
              "      <td>1.0</td>\n",
              "      <td>1.0</td>\n",
              "      <td>0.0</td>\n",
              "      <td>0.0</td>\n",
              "      <td>0.0</td>\n",
              "      <td>1.0</td>\n",
              "      <td>0.0</td>\n",
              "    </tr>\n",
              "    <tr>\n",
              "      <th>240</th>\n",
              "      <td>23</td>\n",
              "      <td>36.670</td>\n",
              "      <td>2</td>\n",
              "      <td>1.0</td>\n",
              "      <td>0.0</td>\n",
              "      <td>0.0</td>\n",
              "      <td>1.0</td>\n",
              "      <td>1.0</td>\n",
              "      <td>0.0</td>\n",
              "      <td>0.0</td>\n",
              "      <td>0.0</td>\n",
              "    </tr>\n",
              "    <tr>\n",
              "      <th>1168</th>\n",
              "      <td>32</td>\n",
              "      <td>35.200</td>\n",
              "      <td>2</td>\n",
              "      <td>0.0</td>\n",
              "      <td>1.0</td>\n",
              "      <td>1.0</td>\n",
              "      <td>0.0</td>\n",
              "      <td>0.0</td>\n",
              "      <td>0.0</td>\n",
              "      <td>0.0</td>\n",
              "      <td>1.0</td>\n",
              "    </tr>\n",
              "    <tr>\n",
              "      <th>1192</th>\n",
              "      <td>58</td>\n",
              "      <td>32.395</td>\n",
              "      <td>1</td>\n",
              "      <td>1.0</td>\n",
              "      <td>0.0</td>\n",
              "      <td>1.0</td>\n",
              "      <td>0.0</td>\n",
              "      <td>1.0</td>\n",
              "      <td>0.0</td>\n",
              "      <td>0.0</td>\n",
              "      <td>0.0</td>\n",
              "    </tr>\n",
              "    <tr>\n",
              "      <th>...</th>\n",
              "      <td>...</td>\n",
              "      <td>...</td>\n",
              "      <td>...</td>\n",
              "      <td>...</td>\n",
              "      <td>...</td>\n",
              "      <td>...</td>\n",
              "      <td>...</td>\n",
              "      <td>...</td>\n",
              "      <td>...</td>\n",
              "      <td>...</td>\n",
              "      <td>...</td>\n",
              "    </tr>\n",
              "    <tr>\n",
              "      <th>763</th>\n",
              "      <td>27</td>\n",
              "      <td>26.030</td>\n",
              "      <td>0</td>\n",
              "      <td>0.0</td>\n",
              "      <td>1.0</td>\n",
              "      <td>1.0</td>\n",
              "      <td>0.0</td>\n",
              "      <td>1.0</td>\n",
              "      <td>0.0</td>\n",
              "      <td>0.0</td>\n",
              "      <td>0.0</td>\n",
              "    </tr>\n",
              "    <tr>\n",
              "      <th>835</th>\n",
              "      <td>42</td>\n",
              "      <td>35.970</td>\n",
              "      <td>2</td>\n",
              "      <td>0.0</td>\n",
              "      <td>1.0</td>\n",
              "      <td>1.0</td>\n",
              "      <td>0.0</td>\n",
              "      <td>0.0</td>\n",
              "      <td>0.0</td>\n",
              "      <td>1.0</td>\n",
              "      <td>0.0</td>\n",
              "    </tr>\n",
              "    <tr>\n",
              "      <th>1216</th>\n",
              "      <td>40</td>\n",
              "      <td>25.080</td>\n",
              "      <td>0</td>\n",
              "      <td>0.0</td>\n",
              "      <td>1.0</td>\n",
              "      <td>1.0</td>\n",
              "      <td>0.0</td>\n",
              "      <td>0.0</td>\n",
              "      <td>0.0</td>\n",
              "      <td>1.0</td>\n",
              "      <td>0.0</td>\n",
              "    </tr>\n",
              "    <tr>\n",
              "      <th>559</th>\n",
              "      <td>19</td>\n",
              "      <td>35.530</td>\n",
              "      <td>0</td>\n",
              "      <td>0.0</td>\n",
              "      <td>1.0</td>\n",
              "      <td>1.0</td>\n",
              "      <td>0.0</td>\n",
              "      <td>0.0</td>\n",
              "      <td>1.0</td>\n",
              "      <td>0.0</td>\n",
              "      <td>0.0</td>\n",
              "    </tr>\n",
              "    <tr>\n",
              "      <th>684</th>\n",
              "      <td>33</td>\n",
              "      <td>18.500</td>\n",
              "      <td>1</td>\n",
              "      <td>1.0</td>\n",
              "      <td>0.0</td>\n",
              "      <td>1.0</td>\n",
              "      <td>0.0</td>\n",
              "      <td>0.0</td>\n",
              "      <td>0.0</td>\n",
              "      <td>0.0</td>\n",
              "      <td>1.0</td>\n",
              "    </tr>\n",
              "  </tbody>\n",
              "</table>\n",
              "<p>1070 rows × 11 columns</p>\n",
              "</div>"
            ],
            "text/plain": [
              "      age     bmi  ...  region_southeast  region_southwest\n",
              "621    37  34.100  ...               0.0               1.0\n",
              "194    18  34.430  ...               1.0               0.0\n",
              "240    23  36.670  ...               0.0               0.0\n",
              "1168   32  35.200  ...               0.0               1.0\n",
              "1192   58  32.395  ...               0.0               0.0\n",
              "...   ...     ...  ...               ...               ...\n",
              "763    27  26.030  ...               0.0               0.0\n",
              "835    42  35.970  ...               1.0               0.0\n",
              "1216   40  25.080  ...               1.0               0.0\n",
              "559    19  35.530  ...               0.0               0.0\n",
              "684    33  18.500  ...               0.0               1.0\n",
              "\n",
              "[1070 rows x 11 columns]"
            ]
          },
          "metadata": {},
          "execution_count": 18
        }
      ]
    },
    {
      "cell_type": "code",
      "metadata": {
        "id": "tdJiSlYyH9tN"
      },
      "source": [
        "#Applying various regression algorithms on the insurance dataset.\n",
        "#Train The Model"
      ],
      "execution_count": null,
      "outputs": []
    },
    {
      "cell_type": "code",
      "metadata": {
        "id": "oYXmDs8vIQQc",
        "colab": {
          "base_uri": "https://localhost:8080/"
        },
        "outputId": "222405ce-df2e-46e5-c90e-ad80912b4fad"
      },
      "source": [
        "#Linear Regression\n",
        "# Fitting Multiple Linear Regression Model to Training Set\n",
        "from sklearn.linear_model import LinearRegression\n",
        "\n",
        "regressor = LinearRegression()\n",
        "regressor.fit(X_train,y_train)\n"
      ],
      "execution_count": null,
      "outputs": [
        {
          "output_type": "execute_result",
          "data": {
            "text/plain": [
              "LinearRegression()"
            ]
          },
          "metadata": {},
          "execution_count": 39
        }
      ]
    },
    {
      "cell_type": "code",
      "metadata": {
        "id": "xlNYgcprdg2x"
      },
      "source": [
        "# Predicting the Test Set Results\n",
        "y_pred = regressor.predict(X_test)"
      ],
      "execution_count": null,
      "outputs": []
    },
    {
      "cell_type": "code",
      "metadata": {
        "colab": {
          "base_uri": "https://localhost:8080/",
          "height": 423
        },
        "id": "A8OJDpLVITj8",
        "outputId": "f165128c-a4b7-45e2-8395-80e12a2639a4"
      },
      "source": [
        "y_test"
      ],
      "execution_count": null,
      "outputs": [
        {
          "output_type": "execute_result",
          "data": {
            "text/html": [
              "<div>\n",
              "<style scoped>\n",
              "    .dataframe tbody tr th:only-of-type {\n",
              "        vertical-align: middle;\n",
              "    }\n",
              "\n",
              "    .dataframe tbody tr th {\n",
              "        vertical-align: top;\n",
              "    }\n",
              "\n",
              "    .dataframe thead th {\n",
              "        text-align: right;\n",
              "    }\n",
              "</style>\n",
              "<table border=\"1\" class=\"dataframe\">\n",
              "  <thead>\n",
              "    <tr style=\"text-align: right;\">\n",
              "      <th></th>\n",
              "      <th>charges</th>\n",
              "    </tr>\n",
              "  </thead>\n",
              "  <tbody>\n",
              "    <tr>\n",
              "      <th>578</th>\n",
              "      <td>9724.53000</td>\n",
              "    </tr>\n",
              "    <tr>\n",
              "      <th>610</th>\n",
              "      <td>8547.69130</td>\n",
              "    </tr>\n",
              "    <tr>\n",
              "      <th>569</th>\n",
              "      <td>45702.02235</td>\n",
              "    </tr>\n",
              "    <tr>\n",
              "      <th>1034</th>\n",
              "      <td>12950.07120</td>\n",
              "    </tr>\n",
              "    <tr>\n",
              "      <th>198</th>\n",
              "      <td>9644.25250</td>\n",
              "    </tr>\n",
              "    <tr>\n",
              "      <th>...</th>\n",
              "      <td>...</td>\n",
              "    </tr>\n",
              "    <tr>\n",
              "      <th>1084</th>\n",
              "      <td>15019.76005</td>\n",
              "    </tr>\n",
              "    <tr>\n",
              "      <th>726</th>\n",
              "      <td>6664.68595</td>\n",
              "    </tr>\n",
              "    <tr>\n",
              "      <th>1132</th>\n",
              "      <td>20709.02034</td>\n",
              "    </tr>\n",
              "    <tr>\n",
              "      <th>725</th>\n",
              "      <td>40932.42950</td>\n",
              "    </tr>\n",
              "    <tr>\n",
              "      <th>963</th>\n",
              "      <td>9500.57305</td>\n",
              "    </tr>\n",
              "  </tbody>\n",
              "</table>\n",
              "<p>268 rows × 1 columns</p>\n",
              "</div>"
            ],
            "text/plain": [
              "          charges\n",
              "578    9724.53000\n",
              "610    8547.69130\n",
              "569   45702.02235\n",
              "1034  12950.07120\n",
              "198    9644.25250\n",
              "...           ...\n",
              "1084  15019.76005\n",
              "726    6664.68595\n",
              "1132  20709.02034\n",
              "725   40932.42950\n",
              "963    9500.57305\n",
              "\n",
              "[268 rows x 1 columns]"
            ]
          },
          "metadata": {},
          "execution_count": 21
        }
      ]
    },
    {
      "cell_type": "code",
      "metadata": {
        "colab": {
          "base_uri": "https://localhost:8080/",
          "height": 423
        },
        "id": "RmLVaaGWIYQ0",
        "outputId": "fce7bfc6-2a11-46e2-8948-664f07847beb"
      },
      "source": [
        "X_test"
      ],
      "execution_count": null,
      "outputs": [
        {
          "output_type": "execute_result",
          "data": {
            "text/html": [
              "<div>\n",
              "<style scoped>\n",
              "    .dataframe tbody tr th:only-of-type {\n",
              "        vertical-align: middle;\n",
              "    }\n",
              "\n",
              "    .dataframe tbody tr th {\n",
              "        vertical-align: top;\n",
              "    }\n",
              "\n",
              "    .dataframe thead th {\n",
              "        text-align: right;\n",
              "    }\n",
              "</style>\n",
              "<table border=\"1\" class=\"dataframe\">\n",
              "  <thead>\n",
              "    <tr style=\"text-align: right;\">\n",
              "      <th></th>\n",
              "      <th>age</th>\n",
              "      <th>bmi</th>\n",
              "      <th>children</th>\n",
              "      <th>sex_female</th>\n",
              "      <th>sex_male</th>\n",
              "      <th>smoker_no</th>\n",
              "      <th>smoker_yes</th>\n",
              "      <th>region_northeast</th>\n",
              "      <th>region_northwest</th>\n",
              "      <th>region_southeast</th>\n",
              "      <th>region_southwest</th>\n",
              "    </tr>\n",
              "  </thead>\n",
              "  <tbody>\n",
              "    <tr>\n",
              "      <th>578</th>\n",
              "      <td>52</td>\n",
              "      <td>30.200</td>\n",
              "      <td>1</td>\n",
              "      <td>0.0</td>\n",
              "      <td>1.0</td>\n",
              "      <td>1.0</td>\n",
              "      <td>0.0</td>\n",
              "      <td>0.0</td>\n",
              "      <td>0.0</td>\n",
              "      <td>0.0</td>\n",
              "      <td>1.0</td>\n",
              "    </tr>\n",
              "    <tr>\n",
              "      <th>610</th>\n",
              "      <td>47</td>\n",
              "      <td>29.370</td>\n",
              "      <td>1</td>\n",
              "      <td>1.0</td>\n",
              "      <td>0.0</td>\n",
              "      <td>1.0</td>\n",
              "      <td>0.0</td>\n",
              "      <td>0.0</td>\n",
              "      <td>0.0</td>\n",
              "      <td>1.0</td>\n",
              "      <td>0.0</td>\n",
              "    </tr>\n",
              "    <tr>\n",
              "      <th>569</th>\n",
              "      <td>48</td>\n",
              "      <td>40.565</td>\n",
              "      <td>2</td>\n",
              "      <td>0.0</td>\n",
              "      <td>1.0</td>\n",
              "      <td>0.0</td>\n",
              "      <td>1.0</td>\n",
              "      <td>0.0</td>\n",
              "      <td>1.0</td>\n",
              "      <td>0.0</td>\n",
              "      <td>0.0</td>\n",
              "    </tr>\n",
              "    <tr>\n",
              "      <th>1034</th>\n",
              "      <td>61</td>\n",
              "      <td>38.380</td>\n",
              "      <td>0</td>\n",
              "      <td>0.0</td>\n",
              "      <td>1.0</td>\n",
              "      <td>1.0</td>\n",
              "      <td>0.0</td>\n",
              "      <td>0.0</td>\n",
              "      <td>1.0</td>\n",
              "      <td>0.0</td>\n",
              "      <td>0.0</td>\n",
              "    </tr>\n",
              "    <tr>\n",
              "      <th>198</th>\n",
              "      <td>51</td>\n",
              "      <td>18.050</td>\n",
              "      <td>0</td>\n",
              "      <td>1.0</td>\n",
              "      <td>0.0</td>\n",
              "      <td>1.0</td>\n",
              "      <td>0.0</td>\n",
              "      <td>0.0</td>\n",
              "      <td>1.0</td>\n",
              "      <td>0.0</td>\n",
              "      <td>0.0</td>\n",
              "    </tr>\n",
              "    <tr>\n",
              "      <th>...</th>\n",
              "      <td>...</td>\n",
              "      <td>...</td>\n",
              "      <td>...</td>\n",
              "      <td>...</td>\n",
              "      <td>...</td>\n",
              "      <td>...</td>\n",
              "      <td>...</td>\n",
              "      <td>...</td>\n",
              "      <td>...</td>\n",
              "      <td>...</td>\n",
              "      <td>...</td>\n",
              "    </tr>\n",
              "    <tr>\n",
              "      <th>1084</th>\n",
              "      <td>62</td>\n",
              "      <td>30.495</td>\n",
              "      <td>2</td>\n",
              "      <td>1.0</td>\n",
              "      <td>0.0</td>\n",
              "      <td>1.0</td>\n",
              "      <td>0.0</td>\n",
              "      <td>0.0</td>\n",
              "      <td>1.0</td>\n",
              "      <td>0.0</td>\n",
              "      <td>0.0</td>\n",
              "    </tr>\n",
              "    <tr>\n",
              "      <th>726</th>\n",
              "      <td>41</td>\n",
              "      <td>28.405</td>\n",
              "      <td>1</td>\n",
              "      <td>0.0</td>\n",
              "      <td>1.0</td>\n",
              "      <td>1.0</td>\n",
              "      <td>0.0</td>\n",
              "      <td>0.0</td>\n",
              "      <td>1.0</td>\n",
              "      <td>0.0</td>\n",
              "      <td>0.0</td>\n",
              "    </tr>\n",
              "    <tr>\n",
              "      <th>1132</th>\n",
              "      <td>57</td>\n",
              "      <td>40.280</td>\n",
              "      <td>0</td>\n",
              "      <td>0.0</td>\n",
              "      <td>1.0</td>\n",
              "      <td>1.0</td>\n",
              "      <td>0.0</td>\n",
              "      <td>1.0</td>\n",
              "      <td>0.0</td>\n",
              "      <td>0.0</td>\n",
              "      <td>0.0</td>\n",
              "    </tr>\n",
              "    <tr>\n",
              "      <th>725</th>\n",
              "      <td>30</td>\n",
              "      <td>39.050</td>\n",
              "      <td>3</td>\n",
              "      <td>1.0</td>\n",
              "      <td>0.0</td>\n",
              "      <td>0.0</td>\n",
              "      <td>1.0</td>\n",
              "      <td>0.0</td>\n",
              "      <td>0.0</td>\n",
              "      <td>1.0</td>\n",
              "      <td>0.0</td>\n",
              "    </tr>\n",
              "    <tr>\n",
              "      <th>963</th>\n",
              "      <td>46</td>\n",
              "      <td>24.795</td>\n",
              "      <td>3</td>\n",
              "      <td>0.0</td>\n",
              "      <td>1.0</td>\n",
              "      <td>1.0</td>\n",
              "      <td>0.0</td>\n",
              "      <td>1.0</td>\n",
              "      <td>0.0</td>\n",
              "      <td>0.0</td>\n",
              "      <td>0.0</td>\n",
              "    </tr>\n",
              "  </tbody>\n",
              "</table>\n",
              "<p>268 rows × 11 columns</p>\n",
              "</div>"
            ],
            "text/plain": [
              "      age     bmi  ...  region_southeast  region_southwest\n",
              "578    52  30.200  ...               0.0               1.0\n",
              "610    47  29.370  ...               1.0               0.0\n",
              "569    48  40.565  ...               0.0               0.0\n",
              "1034   61  38.380  ...               0.0               0.0\n",
              "198    51  18.050  ...               0.0               0.0\n",
              "...   ...     ...  ...               ...               ...\n",
              "1084   62  30.495  ...               0.0               0.0\n",
              "726    41  28.405  ...               0.0               0.0\n",
              "1132   57  40.280  ...               0.0               0.0\n",
              "725    30  39.050  ...               1.0               0.0\n",
              "963    46  24.795  ...               0.0               0.0\n",
              "\n",
              "[268 rows x 11 columns]"
            ]
          },
          "metadata": {},
          "execution_count": 22
        }
      ]
    },
    {
      "cell_type": "code",
      "metadata": {
        "colab": {
          "base_uri": "https://localhost:8080/"
        },
        "id": "2FHjMlrPIeOU",
        "outputId": "d8c3a2e3-ed5e-4a91-de96-5ec8b84a0440"
      },
      "source": [
        "y_pred"
      ],
      "execution_count": null,
      "outputs": [
        {
          "output_type": "execute_result",
          "data": {
            "text/plain": [
              "array([[1.11699271e+04],\n",
              "       [9.48670909e+03],\n",
              "       [3.81811231e+04],\n",
              "       [1.62663133e+04],\n",
              "       [6.91464801e+03],\n",
              "       [3.96348488e+03],\n",
              "       [1.57939691e+03],\n",
              "       [1.43852566e+04],\n",
              "       [9.01257970e+03],\n",
              "       [7.50846068e+03],\n",
              "       [4.49176728e+03],\n",
              "       [1.02795839e+04],\n",
              "       [8.80129751e+03],\n",
              "       [3.79802013e+03],\n",
              "       [2.79262010e+04],\n",
              "       [1.07151158e+04],\n",
              "       [1.12889756e+04],\n",
              "       [6.10501768e+03],\n",
              "       [8.24104117e+03],\n",
              "       [2.71445089e+04],\n",
              "       [3.36440910e+04],\n",
              "       [1.43551043e+04],\n",
              "       [1.17372043e+04],\n",
              "       [3.21374335e+04],\n",
              "       [4.17005913e+03],\n",
              "       [9.25496051e+03],\n",
              "       [1.08433751e+03],\n",
              "       [9.80417085e+03],\n",
              "       [3.77104596e+03],\n",
              "       [1.04318587e+04],\n",
              "       [9.00931722e+03],\n",
              "       [4.00749509e+04],\n",
              "       [1.56889543e+04],\n",
              "       [1.38794545e+04],\n",
              "       [2.47597127e+04],\n",
              "       [5.16638285e+03],\n",
              "       [1.26109277e+04],\n",
              "       [3.07691018e+04],\n",
              "       [3.35498325e+04],\n",
              "       [3.67154946e+03],\n",
              "       [3.97568613e+03],\n",
              "       [3.98729942e+03],\n",
              "       [3.05285774e+04],\n",
              "       [3.95053023e+04],\n",
              "       [2.78105036e+04],\n",
              "       [5.09258923e+03],\n",
              "       [1.06042481e+04],\n",
              "       [7.82952256e+03],\n",
              "       [3.59255553e+03],\n",
              "       [1.02128745e+04],\n",
              "       [5.72038147e+03],\n",
              "       [3.42627499e+03],\n",
              "       [3.30210242e+04],\n",
              "       [3.84738218e+04],\n",
              "       [1.60534782e+04],\n",
              "       [7.16491905e+03],\n",
              "       [5.73919977e+03],\n",
              "       [9.45413291e+03],\n",
              "       [8.91062701e+03],\n",
              "       [1.17258857e+04],\n",
              "       [1.85695629e+03],\n",
              "       [3.89143605e+04],\n",
              "       [1.48996730e+04],\n",
              "       [1.18049582e+04],\n",
              "       [1.40504025e+04],\n",
              "       [1.40561445e+04],\n",
              "       [2.58313858e+04],\n",
              "       [3.22305543e+04],\n",
              "       [8.14404366e+02],\n",
              "       [1.01648424e+04],\n",
              "       [1.23598596e+04],\n",
              "       [1.15278235e+04],\n",
              "       [2.52453261e+04],\n",
              "       [1.56220088e+04],\n",
              "       [1.12086899e+04],\n",
              "       [1.26497320e+04],\n",
              "       [6.55670777e+03],\n",
              "       [9.59052489e+03],\n",
              "       [3.01863021e+04],\n",
              "       [3.91076220e+04],\n",
              "       [1.20498440e+04],\n",
              "       [3.72942684e+04],\n",
              "       [4.26550696e+03],\n",
              "       [9.39402362e+03],\n",
              "       [3.48527716e+04],\n",
              "       [2.88476976e+04],\n",
              "       [8.68792419e+03],\n",
              "       [4.92922782e+03],\n",
              "       [1.20387310e+04],\n",
              "       [3.04700336e+04],\n",
              "       [1.00804115e+04],\n",
              "       [1.13933297e+04],\n",
              "       [8.39810225e+03],\n",
              "       [8.89883547e+03],\n",
              "       [8.43179031e+03],\n",
              "       [7.32351973e+03],\n",
              "       [3.60240264e+04],\n",
              "       [3.31822505e+04],\n",
              "       [7.66151070e+03],\n",
              "       [1.51410434e+04],\n",
              "       [4.01724462e+03],\n",
              "       [8.82872049e+03],\n",
              "       [6.32285473e+03],\n",
              "       [3.15486188e+04],\n",
              "       [3.29786059e+04],\n",
              "       [1.97482884e+03],\n",
              "       [9.02652020e+03],\n",
              "       [6.69683477e+03],\n",
              "       [1.45844352e+04],\n",
              "       [3.72411416e+04],\n",
              "       [1.01354727e+04],\n",
              "       [1.05842948e+04],\n",
              "       [1.02289339e+04],\n",
              "       [2.69881891e+04],\n",
              "       [3.99001531e+04],\n",
              "       [8.46273248e+03],\n",
              "       [2.96616055e+02],\n",
              "       [9.01614987e+03],\n",
              "       [1.52639740e+04],\n",
              "       [9.52664600e+03],\n",
              "       [3.51526354e+04],\n",
              "       [7.26409791e+03],\n",
              "       [1.69845335e+04],\n",
              "       [9.65329622e+03],\n",
              "       [8.24868725e+03],\n",
              "       [2.94113601e+03],\n",
              "       [3.29148059e+04],\n",
              "       [3.14835586e+04],\n",
              "       [3.96264776e+04],\n",
              "       [5.60762983e+03],\n",
              "       [9.31034135e+03],\n",
              "       [3.59216725e+03],\n",
              "       [7.64687550e+03],\n",
              "       [8.62747451e+03],\n",
              "       [3.17338367e+04],\n",
              "       [2.99730030e+04],\n",
              "       [2.97817459e+04],\n",
              "       [8.72605750e+03],\n",
              "       [3.24335307e+04],\n",
              "       [3.36029421e+03],\n",
              "       [3.70973675e+03],\n",
              "       [1.11375495e+04],\n",
              "       [1.31502938e+04],\n",
              "       [1.28674710e+04],\n",
              "       [5.44883743e+03],\n",
              "       [1.55800620e+04],\n",
              "       [1.49332492e+04],\n",
              "       [2.40834350e+03],\n",
              "       [2.55105191e+01],\n",
              "       [1.08468131e+04],\n",
              "       [7.40948170e+03],\n",
              "       [3.18522280e+04],\n",
              "       [1.23836972e+04],\n",
              "       [2.33566633e+03],\n",
              "       [6.47818023e+03],\n",
              "       [7.85862923e+03],\n",
              "       [4.44708534e+03],\n",
              "       [2.11393087e+03],\n",
              "       [1.13548234e+04],\n",
              "       [1.25406264e+04],\n",
              "       [7.26445489e+03],\n",
              "       [1.63876100e+04],\n",
              "       [1.18151028e+04],\n",
              "       [1.41078734e+04],\n",
              "       [3.18429940e+03],\n",
              "       [7.29134465e+03],\n",
              "       [2.31256976e+04],\n",
              "       [7.59255833e+03],\n",
              "       [5.49044860e+03],\n",
              "       [5.20329589e+03],\n",
              "       [6.75891084e+03],\n",
              "       [5.19817369e+03],\n",
              "       [1.00037544e+04],\n",
              "       [5.37962241e+03],\n",
              "       [5.73483115e+03],\n",
              "       [6.64184520e+03],\n",
              "       [3.69809973e+03],\n",
              "       [5.56834710e+03],\n",
              "       [3.80623106e+04],\n",
              "       [1.50010025e+03],\n",
              "       [1.26381400e+04],\n",
              "       [8.96683074e+03],\n",
              "       [1.37833538e+04],\n",
              "       [5.40160572e+03],\n",
              "       [5.18838626e+03],\n",
              "       [3.64594383e+04],\n",
              "       [4.39797382e+03],\n",
              "       [2.04401666e+03],\n",
              "       [1.52236399e+04],\n",
              "       [1.26797512e+04],\n",
              "       [3.51385215e+04],\n",
              "       [4.78068826e+03],\n",
              "       [5.68154275e+03],\n",
              "       [3.12300371e+04],\n",
              "       [6.20751775e+03],\n",
              "       [2.15116663e+03],\n",
              "       [8.43897221e+03],\n",
              "       [1.00468638e+04],\n",
              "       [8.00237197e+03],\n",
              "       [5.80481228e+03],\n",
              "       [1.31602625e+04],\n",
              "       [3.84674533e+04],\n",
              "       [1.37503227e+04],\n",
              "       [2.88764140e+04],\n",
              "       [6.78756483e+03],\n",
              "       [3.55308164e+04],\n",
              "       [3.76682638e+03],\n",
              "       [1.18919418e+04],\n",
              "       [9.05961188e+03],\n",
              "       [6.25955354e+03],\n",
              "       [1.13624630e+04],\n",
              "       [1.45614575e+04],\n",
              "       [5.16699954e+03],\n",
              "       [4.46624724e+03],\n",
              "       [7.90887368e+03],\n",
              "       [1.34485587e+03],\n",
              "       [7.85618662e+03],\n",
              "       [4.41748996e+03],\n",
              "       [1.28875526e+04],\n",
              "       [4.24146225e+03],\n",
              "       [1.01131120e+04],\n",
              "       [7.19651081e+03],\n",
              "       [9.29692707e+03],\n",
              "       [2.39780639e+03],\n",
              "       [1.32449759e+04],\n",
              "       [1.68678325e+04],\n",
              "       [1.49416610e+04],\n",
              "       [1.05908697e+04],\n",
              "       [5.29006788e+03],\n",
              "       [2.23337923e+03],\n",
              "       [1.93571212e+03],\n",
              "       [1.35089298e+04],\n",
              "       [1.40528682e+04],\n",
              "       [5.01861017e+03],\n",
              "       [3.75949429e+03],\n",
              "       [9.48805737e+03],\n",
              "       [9.97840316e+03],\n",
              "       [2.82869768e+04],\n",
              "       [7.64934971e+03],\n",
              "       [1.04709900e+04],\n",
              "       [6.32317041e+03],\n",
              "       [2.98547629e+04],\n",
              "       [1.11497389e+04],\n",
              "       [7.50699533e+03],\n",
              "       [1.02337020e+04],\n",
              "       [1.22479679e+04],\n",
              "       [3.00735612e+03],\n",
              "       [1.08754195e+04],\n",
              "       [1.54095549e+03],\n",
              "       [7.03804311e+03],\n",
              "       [2.84462147e+04],\n",
              "       [3.86899494e+04],\n",
              "       [6.36993923e+03],\n",
              "       [8.19218360e+03],\n",
              "       [2.53689093e+03],\n",
              "       [4.46856827e+02],\n",
              "       [1.05698935e+04],\n",
              "       [4.20548633e+03],\n",
              "       [4.95501030e+03],\n",
              "       [2.34316816e+03],\n",
              "       [6.80728001e+03],\n",
              "       [3.34095038e+04],\n",
              "       [3.82467605e+04],\n",
              "       [1.47602310e+04],\n",
              "       [8.27798435e+03],\n",
              "       [1.61499734e+04],\n",
              "       [3.29047581e+04],\n",
              "       [9.46761406e+03]])"
            ]
          },
          "metadata": {},
          "execution_count": 23
        }
      ]
    },
    {
      "cell_type": "code",
      "metadata": {
        "colab": {
          "base_uri": "https://localhost:8080/"
        },
        "id": "D1pXCoEoduuL",
        "outputId": "3ad4847f-b993-4dd5-cf2f-7b02647f7a0e"
      },
      "source": [
        "#Evaluation matrices\n",
        "#Evaluation matrices are used to measure the quality of the model\n",
        "#R-Squared Error\n",
        "from sklearn.metrics import r2_score\n",
        "r2_score(y_test, y_pred)"
      ],
      "execution_count": null,
      "outputs": [
        {
          "output_type": "execute_result",
          "data": {
            "text/plain": [
              "0.7999876970680433"
            ]
          },
          "metadata": {},
          "execution_count": 41
        }
      ]
    },
    {
      "cell_type": "code",
      "metadata": {
        "colab": {
          "base_uri": "https://localhost:8080/"
        },
        "id": "msKUaJEMdxzq",
        "outputId": "948b331a-2c0c-48fd-bba0-4a078da493d9"
      },
      "source": [
        "#Mean Absolute Error (MAE)\n",
        "from sklearn.metrics import mean_absolute_error\n",
        "mean_absolute_error(y_test, y_pred)"
      ],
      "execution_count": null,
      "outputs": [
        {
          "output_type": "execute_result",
          "data": {
            "text/plain": [
              "3933.272649405239"
            ]
          },
          "metadata": {},
          "execution_count": 42
        }
      ]
    },
    {
      "cell_type": "code",
      "metadata": {
        "colab": {
          "base_uri": "https://localhost:8080/"
        },
        "id": "uAY9EpmLd2Kq",
        "outputId": "a3589e5a-b399-480c-f6a8-0b378e14178c"
      },
      "source": [
        "#Mean Squared Error (MSE)\n",
        "from sklearn.metrics import mean_squared_error\n",
        "mean_squared_error(y_test, y_pred)"
      ],
      "execution_count": null,
      "outputs": [
        {
          "output_type": "execute_result",
          "data": {
            "text/plain": [
              "31827950.229523838"
            ]
          },
          "metadata": {},
          "execution_count": 43
        }
      ]
    },
    {
      "cell_type": "markdown",
      "source": [
        "# **Feature Scaling**"
      ],
      "metadata": {
        "id": "Bmz-lPfiCt2X"
      }
    },
    {
      "cell_type": "code",
      "metadata": {
        "id": "iJtLZq-cJEuF"
      },
      "source": [
        "#feature Scaling\n",
        "from sklearn.preprocessing import StandardScaler\n",
        "X_sc = StandardScaler()\n",
        "y_sc = StandardScaler()\n",
        "X_train_new = X_sc.fit_transform(X_train[['age', 'bmi', 'children',\n",
        "       'sex_female', 'sex_male', 'smoker_no', 'smoker_yes', 'region_northeast', 'region_northwest', 'region_southeast', 'region_southwest']])\n",
        "X_test_new = X_sc.transform(X_test[['age', 'bmi', 'children',\n",
        "       'sex_female', 'sex_male', 'smoker_no', 'smoker_yes', 'region_northeast', 'region_northwest', 'region_southeast', 'region_southwest']])\n",
        "y_train_new = y_sc.fit_transform(y_train[['charges']])\n",
        "y_test_new = y_sc.transform(y_test[['charges']])"
      ],
      "execution_count": null,
      "outputs": []
    },
    {
      "cell_type": "markdown",
      "source": [
        "# **Support Vector Regression:**"
      ],
      "metadata": {
        "id": "MLbNCnS_Cnff"
      }
    },
    {
      "cell_type": "code",
      "metadata": {
        "colab": {
          "base_uri": "https://localhost:8080/"
        },
        "id": "c4s12aMtJKAE",
        "outputId": "60f02016-4ddd-4365-a01b-8979c7a3271e"
      },
      "source": [
        "# Support Vector Regression\n",
        "# Fitting SVR to the dataset\n",
        "from sklearn.svm import SVR \n",
        "\n",
        "regressor = SVR(kernel = 'linear')\n",
        "regressor.fit(X_train_new,y_train_new)"
      ],
      "execution_count": null,
      "outputs": [
        {
          "output_type": "execute_result",
          "data": {
            "text/plain": [
              "SVR(kernel='linear')"
            ]
          },
          "metadata": {},
          "execution_count": 44
        }
      ]
    },
    {
      "cell_type": "code",
      "metadata": {
        "id": "mwuACBbPJN8E"
      },
      "source": [
        "y_pred = regressor.predict(X_test_new)"
      ],
      "execution_count": null,
      "outputs": []
    },
    {
      "cell_type": "code",
      "metadata": {
        "colab": {
          "base_uri": "https://localhost:8080/"
        },
        "id": "IyftKhuTJUqM",
        "outputId": "84e12d78-706b-47d5-e793-522cba066f6b"
      },
      "source": [
        "#R-Squared Error\n",
        "r2_score(y_test_new, y_pred)"
      ],
      "execution_count": null,
      "outputs": [
        {
          "output_type": "execute_result",
          "data": {
            "text/plain": [
              "0.7680518079585446"
            ]
          },
          "metadata": {},
          "execution_count": 46
        }
      ]
    },
    {
      "cell_type": "code",
      "metadata": {
        "colab": {
          "base_uri": "https://localhost:8080/"
        },
        "id": "_cAmgGUyflAp",
        "outputId": "2966daa3-4f9b-457a-a442-479d9d52e037"
      },
      "source": [
        "#Mean Absolute Error (MAE)\n",
        "mean_absolute_error(y_test, y_pred)"
      ],
      "execution_count": null,
      "outputs": [
        {
          "output_type": "execute_result",
          "data": {
            "text/plain": [
              "13546.836660369856"
            ]
          },
          "metadata": {},
          "execution_count": 47
        }
      ]
    },
    {
      "cell_type": "code",
      "metadata": {
        "colab": {
          "base_uri": "https://localhost:8080/"
        },
        "id": "7PzeOfKKgYfi",
        "outputId": "d31f3d9d-83fe-4e25-e6e1-1350784ab36b"
      },
      "source": [
        "#Mean Squared Error (MSE)\n",
        "mean_squared_error(y_test, y_pred)"
      ],
      "execution_count": null,
      "outputs": [
        {
          "output_type": "execute_result",
          "data": {
            "text/plain": [
              "342622763.1570357"
            ]
          },
          "metadata": {},
          "execution_count": 49
        }
      ]
    },
    {
      "cell_type": "markdown",
      "source": [
        "# **Decision Tree Regression:**"
      ],
      "metadata": {
        "id": "-wfjyS1VChr4"
      }
    },
    {
      "cell_type": "code",
      "metadata": {
        "colab": {
          "base_uri": "https://localhost:8080/"
        },
        "id": "I7UAXJmKJWLU",
        "outputId": "074e8d9c-a94f-4832-950e-a5719c8eb0af"
      },
      "source": [
        "# Decision Tree Regression\n",
        "# Fitting the decision tree regression with the dataset\n",
        "from sklearn.tree import DecisionTreeRegressor\n",
        "\n",
        "\n",
        "regressor = DecisionTreeRegressor(random_state = 0)\n",
        "regressor.fit(X_train_new,y_train_new)"
      ],
      "execution_count": null,
      "outputs": [
        {
          "output_type": "execute_result",
          "data": {
            "text/plain": [
              "DecisionTreeRegressor(random_state=0)"
            ]
          },
          "metadata": {},
          "execution_count": 35
        }
      ]
    },
    {
      "cell_type": "code",
      "metadata": {
        "id": "AdKLMyK-JbU0"
      },
      "source": [
        "y_pred = regressor.predict(X_test_new)"
      ],
      "execution_count": null,
      "outputs": []
    },
    {
      "cell_type": "code",
      "metadata": {
        "colab": {
          "base_uri": "https://localhost:8080/"
        },
        "id": "dKDV2khxggDZ",
        "outputId": "b297c66b-5439-4a24-bfa9-d4d6d09561de"
      },
      "source": [
        "#R-Squared Error\n",
        "r2_score(y_test_new, y_pred)"
      ],
      "execution_count": null,
      "outputs": [
        {
          "output_type": "execute_result",
          "data": {
            "text/plain": [
              "0.7680518079585446"
            ]
          },
          "metadata": {},
          "execution_count": 51
        }
      ]
    },
    {
      "cell_type": "code",
      "metadata": {
        "colab": {
          "base_uri": "https://localhost:8080/"
        },
        "id": "mN5xia3kgmfp",
        "outputId": "621d375a-d652-4380-8db1-7c77245b0d09"
      },
      "source": [
        "#Mean Absolute Error (MAE)\n",
        "mean_absolute_error(y_test, y_pred)"
      ],
      "execution_count": null,
      "outputs": [
        {
          "output_type": "execute_result",
          "data": {
            "text/plain": [
              "13546.836660369856"
            ]
          },
          "metadata": {},
          "execution_count": 52
        }
      ]
    },
    {
      "cell_type": "code",
      "metadata": {
        "colab": {
          "base_uri": "https://localhost:8080/"
        },
        "id": "Y9VMo0Togp5q",
        "outputId": "3563795a-952f-4c52-8802-887d8e140237"
      },
      "source": [
        "#Mean Squared Error (MSE)\n",
        "mean_squared_error(y_test, y_pred)"
      ],
      "execution_count": null,
      "outputs": [
        {
          "output_type": "execute_result",
          "data": {
            "text/plain": [
              "342622763.1570357"
            ]
          },
          "metadata": {},
          "execution_count": 53
        }
      ]
    },
    {
      "cell_type": "markdown",
      "source": [
        "# **Random Forest Regression:**"
      ],
      "metadata": {
        "id": "zG7Il4gnCaqo"
      }
    },
    {
      "cell_type": "code",
      "metadata": {
        "colab": {
          "base_uri": "https://localhost:8080/"
        },
        "id": "jzH1nVY9Jf7O",
        "outputId": "0c377cec-357c-47a2-90c9-edac6dc310df"
      },
      "source": [
        "# Random Forest Regression\n",
        "# Fitting the Random Forest Regression with the dataset\n",
        "from sklearn.ensemble import RandomForestRegressor\n",
        "\n",
        "regressor = RandomForestRegressor(n_estimators = 10,random_state = 0) # n estiamator is the number of decision trees\n",
        "regressor.fit(X_train_new,y_train_new)"
      ],
      "execution_count": null,
      "outputs": [
        {
          "output_type": "execute_result",
          "data": {
            "text/plain": [
              "RandomForestRegressor(n_estimators=10, random_state=0)"
            ]
          },
          "metadata": {},
          "execution_count": 54
        }
      ]
    },
    {
      "cell_type": "code",
      "metadata": {
        "id": "SsmiI2J0JmF0"
      },
      "source": [
        "y_pred = regressor.predict(X_test_new)"
      ],
      "execution_count": null,
      "outputs": []
    },
    {
      "cell_type": "code",
      "metadata": {
        "colab": {
          "base_uri": "https://localhost:8080/"
        },
        "id": "nuXklUNSg1SZ",
        "outputId": "d276391c-dfb0-473a-8ee4-af2acc09832a"
      },
      "source": [
        "#R-Squared Error\n",
        "r2_score(y_test_new, y_pred)"
      ],
      "execution_count": null,
      "outputs": [
        {
          "output_type": "execute_result",
          "data": {
            "text/plain": [
              "0.86495270343583"
            ]
          },
          "metadata": {},
          "execution_count": 56
        }
      ]
    },
    {
      "cell_type": "code",
      "metadata": {
        "colab": {
          "base_uri": "https://localhost:8080/"
        },
        "id": "OibbLFB5g4hB",
        "outputId": "7024d54f-b6c9-4dc6-9360-145875cdae20"
      },
      "source": [
        "#Mean Absolute Error (MAE)\n",
        "mean_absolute_error(y_test, y_pred)"
      ],
      "execution_count": null,
      "outputs": [
        {
          "output_type": "execute_result",
          "data": {
            "text/plain": [
              "13546.762986789023"
            ]
          },
          "metadata": {},
          "execution_count": 57
        }
      ]
    },
    {
      "cell_type": "code",
      "metadata": {
        "colab": {
          "base_uri": "https://localhost:8080/"
        },
        "id": "lx3q16nDg8HZ",
        "outputId": "111d3ff5-1d36-43b4-9996-c2142a1c68c6"
      },
      "source": [
        "#Mean Squared Error (MSE)\n",
        "mean_squared_error(y_test, y_pred)"
      ],
      "execution_count": null,
      "outputs": [
        {
          "output_type": "execute_result",
          "data": {
            "text/plain": [
              "342620743.28124964"
            ]
          },
          "metadata": {},
          "execution_count": 58
        }
      ]
    }
  ]
}